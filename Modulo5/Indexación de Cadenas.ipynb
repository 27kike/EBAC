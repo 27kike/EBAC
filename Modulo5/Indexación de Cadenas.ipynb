{
 "cells": [
  {
   "cell_type": "markdown",
   "id": "f7e190ed",
   "metadata": {},
   "source": [
    "# Indexación de Cadenas\n",
    "- ¿Qué es un indice?\n",
    "- ¿Por qué es necesario?\n",
    "\n",
    "- Indexación significa acceder a los elemento\n",
    "- Para acceder a los elementos podemos usar corchetes \"[]\"\n",
    "- El indice o el número que pongamos se refiere a la posición dentro de la lista ordenada\n",
    "- La indexación puede usarse para extraer elementos individuales de una estructura de datos\n",
    "- En Python, la indexación inicia desde la posición 0 como primer elemento\n",
    "- En python existen dos tipos de elementos:\n",
    "    - Positivos: Comienzan desde 0, inician de izquierda a derecha\n",
    "    - Negativos: Comienzan desde -1, inician desde derecha a izquierda"
   ]
  },
  {
   "cell_type": "markdown",
   "id": "b8716c4a",
   "metadata": {},
   "source": [
    "# Segmentación de cadenas"
   ]
  },
  {
   "cell_type": "code",
   "execution_count": 9,
   "id": "5365dbb8",
   "metadata": {},
   "outputs": [
    {
     "name": "stdout",
     "output_type": "stream",
     "text": [
      "Curso de backend de python\n",
      "C\n",
      "Curso\n",
      "Curso\n",
      "Curso de backend de python\n",
      "de\n",
      "de backend de python\n"
     ]
    }
   ],
   "source": [
    "#Indice positivos\n",
    "string = 'Curso de backend de python'\n",
    "print(string)\n",
    "print(string[0])\n",
    "print(string[0:5])\n",
    "print(string[:5])\n",
    "print(string[:])\n",
    "print(string[6:8])\n",
    "print(string[6:])"
   ]
  },
  {
   "cell_type": "code",
   "execution_count": 10,
   "id": "91e79c5f",
   "metadata": {},
   "outputs": [
    {
     "ename": "IndexError",
     "evalue": "string index out of range",
     "output_type": "error",
     "traceback": [
      "\u001b[0;31m---------------------------------------------------------------------------\u001b[0m",
      "\u001b[0;31mIndexError\u001b[0m                                Traceback (most recent call last)",
      "Cell \u001b[0;32mIn[10], line 3\u001b[0m\n\u001b[1;32m      1\u001b[0m \u001b[38;5;66;03m#Error\u001b[39;00m\n\u001b[1;32m      2\u001b[0m string \u001b[38;5;241m=\u001b[39m \u001b[38;5;124m'\u001b[39m\u001b[38;5;124mCurso de backend de python\u001b[39m\u001b[38;5;124m'\u001b[39m\n\u001b[0;32m----> 3\u001b[0m \u001b[38;5;28mprint\u001b[39m(string[\u001b[38;5;241m99\u001b[39m])\n",
      "\u001b[0;31mIndexError\u001b[0m: string index out of range"
     ]
    }
   ],
   "source": [
    "#Error\n",
    "string = 'Curso de backend de python'\n",
    "print(string[99])"
   ]
  },
  {
   "cell_type": "code",
   "execution_count": 13,
   "id": "b924e38d",
   "metadata": {},
   "outputs": [
    {
     "name": "stdout",
     "output_type": "stream",
     "text": [
      "n\n",
      "ython\n",
      "python\n"
     ]
    }
   ],
   "source": [
    "#Indices negativos\n",
    "string = 'Curso de backend de python'\n",
    "print(string[-1])\n",
    "print(string[-5:])\n",
    "print(string[-6:])"
   ]
  },
  {
   "cell_type": "markdown",
   "id": "69dfb60a",
   "metadata": {},
   "source": [
    "# Concatenación de Cadenas"
   ]
  },
  {
   "cell_type": "code",
   "execution_count": 16,
   "id": "cc067134",
   "metadata": {},
   "outputs": [
    {
     "name": "stdout",
     "output_type": "stream",
     "text": [
      "Curso\n",
      "Backend Python\n",
      "Curso Backend Python\n",
      "Curso Backend Python\n"
     ]
    }
   ],
   "source": [
    "string1 = 'Curso'\n",
    "string2 = 'Backend Python'\n",
    "print(string1)\n",
    "print(string2)\n",
    "print(string1 +\" \"+ string2)\n",
    "print(\"{} {}\".format(string1,string2))"
   ]
  },
  {
   "cell_type": "code",
   "execution_count": 19,
   "id": "b3b70ab6",
   "metadata": {},
   "outputs": [
    {
     "name": "stdout",
     "output_type": "stream",
     "text": [
      "1020\n",
      "1020\n",
      "30\n"
     ]
    }
   ],
   "source": [
    "x='10'\n",
    "y='20'\n",
    "print(x+y)\n",
    "print(eval(x+y))\n",
    "print(eval(\"{}+{}\".format(x,y)))"
   ]
  },
  {
   "cell_type": "markdown",
   "id": "7879eec2",
   "metadata": {},
   "source": [
    "## Multiplicación de cadenas"
   ]
  },
  {
   "cell_type": "code",
   "execution_count": 21,
   "id": "46fa1a40",
   "metadata": {},
   "outputs": [
    {
     "name": "stdout",
     "output_type": "stream",
     "text": [
      "Cargando...\n",
      "Cargando...\n",
      "Cargando...\n",
      "Cargando...\n",
      "Cargando...\n",
      "\n"
     ]
    }
   ],
   "source": [
    "string='Cargando...\\n'\n",
    "print(string*5)"
   ]
  },
  {
   "cell_type": "code",
   "execution_count": 22,
   "id": "e69e737e",
   "metadata": {},
   "outputs": [
    {
     "name": "stdout",
     "output_type": "stream",
     "text": [
      "\n"
     ]
    }
   ],
   "source": [
    "string='Cargando...\\n'\n",
    "print(string*0)"
   ]
  },
  {
   "cell_type": "code",
   "execution_count": 24,
   "id": "e714940b",
   "metadata": {},
   "outputs": [
    {
     "name": "stdout",
     "output_type": "stream",
     "text": [
      "\n"
     ]
    }
   ],
   "source": [
    "string='Cargando...\\n'\n",
    "print(string*-1)"
   ]
  },
  {
   "cell_type": "code",
   "execution_count": 25,
   "id": "89189164",
   "metadata": {},
   "outputs": [
    {
     "ename": "TypeError",
     "evalue": "can't multiply sequence by non-int of type 'float'",
     "output_type": "error",
     "traceback": [
      "\u001b[0;31m---------------------------------------------------------------------------\u001b[0m",
      "\u001b[0;31mTypeError\u001b[0m                                 Traceback (most recent call last)",
      "Cell \u001b[0;32mIn[25], line 3\u001b[0m\n\u001b[1;32m      1\u001b[0m \u001b[38;5;66;03m#Error\u001b[39;00m\n\u001b[1;32m      2\u001b[0m string\u001b[38;5;241m=\u001b[39m\u001b[38;5;124m'\u001b[39m\u001b[38;5;124mCargando...\u001b[39m\u001b[38;5;130;01m\\n\u001b[39;00m\u001b[38;5;124m'\u001b[39m\n\u001b[0;32m----> 3\u001b[0m \u001b[38;5;28mprint\u001b[39m(string\u001b[38;5;241m*\u001b[39m\u001b[38;5;241m5.2\u001b[39m)\n",
      "\u001b[0;31mTypeError\u001b[0m: can't multiply sequence by non-int of type 'float'"
     ]
    }
   ],
   "source": [
    "#Error\n",
    "string='Cargando...\\n'\n",
    "print(string*5.2)"
   ]
  },
  {
   "cell_type": "markdown",
   "id": "75f90e12",
   "metadata": {},
   "source": [
    "# Comparación de Cadenas"
   ]
  },
  {
   "cell_type": "code",
   "execution_count": 26,
   "id": "e6a3fb44",
   "metadata": {},
   "outputs": [
    {
     "name": "stdout",
     "output_type": "stream",
     "text": [
      "False\n"
     ]
    }
   ],
   "source": [
    "x='Hector'\n",
    "y='hector'\n",
    "print(x==y)"
   ]
  },
  {
   "cell_type": "code",
   "execution_count": 27,
   "id": "ca585b97",
   "metadata": {},
   "outputs": [
    {
     "name": "stdout",
     "output_type": "stream",
     "text": [
      "True\n"
     ]
    }
   ],
   "source": [
    "x='Hector'\n",
    "y='hector'\n",
    "print(x!=y)"
   ]
  },
  {
   "cell_type": "code",
   "execution_count": 29,
   "id": "de6b2d1c",
   "metadata": {},
   "outputs": [
    {
     "name": "stdout",
     "output_type": "stream",
     "text": [
      "True\n"
     ]
    }
   ],
   "source": [
    "x='Hector'\n",
    "y='Hector'\n",
    "print(x==y)"
   ]
  },
  {
   "cell_type": "markdown",
   "id": "de57253c",
   "metadata": {},
   "source": [
    "# Funciones de Cadenas"
   ]
  },
  {
   "cell_type": "markdown",
   "id": "e06c18fa",
   "metadata": {},
   "source": [
    "### Split\n",
    "- Divide la cadena basandose en el separador especificado"
   ]
  },
  {
   "cell_type": "code",
   "execution_count": 31,
   "id": "0abcd4d2",
   "metadata": {},
   "outputs": [
    {
     "name": "stdout",
     "output_type": "stream",
     "text": [
      "['El', 'curso', 'de', 'Backend', 'con', 'python', 'hecho', 'por', 'ebac', 'te', 'lleva', 'de', 'la', 'mano']\n"
     ]
    }
   ],
   "source": [
    "x = 'El curso de Backend con python hecho por ebac te lleva de la mano'\n",
    "result = x.split(' ')\n",
    "print(result)"
   ]
  },
  {
   "cell_type": "code",
   "execution_count": 32,
   "id": "38a20821",
   "metadata": {},
   "outputs": [
    {
     "name": "stdout",
     "output_type": "stream",
     "text": [
      "usuario\n",
      "correo.com\n"
     ]
    }
   ],
   "source": [
    "x = 'usuario@correo.com'\n",
    "usuario,dominio=x.split(\"@\")\n",
    "print(usuario)\n",
    "print(dominio)"
   ]
  },
  {
   "cell_type": "code",
   "execution_count": 33,
   "id": "419613c6",
   "metadata": {},
   "outputs": [
    {
     "name": "stdout",
     "output_type": "stream",
     "text": [
      "---------------------------\n",
      "Fecha: 22/10/2023\n",
      "Log Level: Error\n",
      "Mensaje: Este es un mensaje de error\n",
      "---------------------------\n",
      "---------------------------\n",
      "Fecha: 01/09/2022\n",
      "Log Level: Advertencia\n",
      "Mensaje: Este es un mensaje de advertencia\n",
      "---------------------------\n",
      "---------------------------\n",
      "Fecha: 21/10/21\n",
      "Log Level: Info\n",
      "Mensaje: Este es un mensaje de información\n",
      "---------------------------\n"
     ]
    }
   ],
   "source": [
    "string = \"\"\"22/10/2023|Error|Este es un mensaje de error\n",
    "01/09/2022|Advertencia|Este es un mensaje de advertencia\n",
    "21/10/21|Info|Este es un mensaje de información\"\"\"\n",
    "\n",
    "logs=string.split(\"\\n\")\n",
    "for log in logs:\n",
    "    date,log_level,message = log.split(\"|\")\n",
    "    print('---------------------------')\n",
    "    print('Fecha: {}'.format(date))\n",
    "    print('Log Level: {}'.format(log_level))\n",
    "    print('Mensaje: {}'.format(message))\n",
    "    print('---------------------------')"
   ]
  },
  {
   "cell_type": "markdown",
   "id": "e1497764",
   "metadata": {},
   "source": [
    "### Index/find\n",
    "- Busca la primera posición de la subcadena solicitada en la cadena deseada"
   ]
  },
  {
   "cell_type": "code",
   "execution_count": 38,
   "id": "72f19769",
   "metadata": {},
   "outputs": [
    {
     "name": "stdout",
     "output_type": "stream",
     "text": [
      "12\n",
      "-1\n"
     ]
    }
   ],
   "source": [
    "x = 'El curso de Backend con python hecho por ebac te lleva de la mano'\n",
    "print(x.index('Backend'))\n",
    "print(x.find('backend'))"
   ]
  },
  {
   "cell_type": "markdown",
   "id": "2718c709",
   "metadata": {},
   "source": [
    "### Count\n",
    "- Cuenta el número de apariciones de la subcadena en la cadena completa"
   ]
  },
  {
   "cell_type": "code",
   "execution_count": 40,
   "id": "d80b5439",
   "metadata": {},
   "outputs": [
    {
     "name": "stdout",
     "output_type": "stream",
     "text": [
      "1\n",
      "7\n"
     ]
    }
   ],
   "source": [
    "print(x.count('E'))\n",
    "print(x.count('e'))"
   ]
  },
  {
   "cell_type": "markdown",
   "id": "5cf51fea",
   "metadata": {},
   "source": [
    "### len\n",
    "- Cuenta cuantos caracteres tiene la cadena de texto"
   ]
  },
  {
   "cell_type": "code",
   "execution_count": 41,
   "id": "78eb02e9",
   "metadata": {},
   "outputs": [
    {
     "name": "stdout",
     "output_type": "stream",
     "text": [
      "65\n"
     ]
    }
   ],
   "source": [
    "print(len(x))"
   ]
  },
  {
   "cell_type": "markdown",
   "id": "fc0bb8f5",
   "metadata": {},
   "source": [
    "### strip\n",
    "- Remueve espacios"
   ]
  },
  {
   "cell_type": "code",
   "execution_count": 51,
   "id": "655d63f0",
   "metadata": {},
   "outputs": [
    {
     "name": "stdout",
     "output_type": "stream",
     "text": [
      "[          \t\tBackend Python.\n",
      "\n",
      "\n",
      "         ]\n",
      "[Backend Python.]\n",
      "[          \t\tBackend Python.\n",
      "\n",
      "\n",
      "         ]\n"
     ]
    }
   ],
   "source": [
    "x = '          \\t\\tBackend Python.\\n\\n\\n         '\n",
    "print('[{}]'.format(x))\n",
    "print('[{}]'.format(x.strip()))\n",
    "print('[{}]'.format(x.strip(\"n\")))"
   ]
  },
  {
   "cell_type": "code",
   "execution_count": 54,
   "id": "f5812365",
   "metadata": {},
   "outputs": [
    {
     "name": "stdout",
     "output_type": "stream",
     "text": [
      "[Backend Python]\n",
      "[Backend Pytho]\n"
     ]
    }
   ],
   "source": [
    "x = 'Backend Python'\n",
    "print('[{}]'.format(x))\n",
    "print('[{}]'.format(x.strip(\"n\")))"
   ]
  },
  {
   "cell_type": "markdown",
   "id": "ec68f600",
   "metadata": {},
   "source": [
    "### isdecimal/isnumeric/isdigit\n",
    "- Analiza si la cadena contiene solamente números"
   ]
  },
  {
   "cell_type": "code",
   "execution_count": 56,
   "id": "11b96ea0",
   "metadata": {},
   "outputs": [
    {
     "name": "stdout",
     "output_type": "stream",
     "text": [
      "True\n",
      "True\n",
      "True\n"
     ]
    }
   ],
   "source": [
    "x='94357848930580439'\n",
    "print(x.isdecimal())\n",
    "print(x.isnumeric())\n",
    "print(x.isdigit())"
   ]
  },
  {
   "cell_type": "code",
   "execution_count": 57,
   "id": "3a476dd8",
   "metadata": {},
   "outputs": [
    {
     "name": "stdout",
     "output_type": "stream",
     "text": [
      "False\n",
      "False\n",
      "False\n"
     ]
    }
   ],
   "source": [
    "x='943.57848930580439'\n",
    "print(x.isdecimal())\n",
    "print(x.isnumeric())\n",
    "print(x.isdigit())"
   ]
  },
  {
   "cell_type": "code",
   "execution_count": 58,
   "id": "225194a7",
   "metadata": {},
   "outputs": [
    {
     "name": "stdout",
     "output_type": "stream",
     "text": [
      "False\n",
      "False\n",
      "False\n"
     ]
    }
   ],
   "source": [
    "x='94357848tes930580439'\n",
    "print(x.isdecimal())\n",
    "print(x.isnumeric())\n",
    "print(x.isdigit())"
   ]
  },
  {
   "cell_type": "markdown",
   "id": "3330a5c4",
   "metadata": {},
   "source": [
    "### isalnum\n",
    "- Analiza si todos los caracteres son alfanuméricos (letras/números)"
   ]
  },
  {
   "cell_type": "code",
   "execution_count": 60,
   "id": "3dc086a0",
   "metadata": {},
   "outputs": [
    {
     "name": "stdout",
     "output_type": "stream",
     "text": [
      "True\n"
     ]
    }
   ],
   "source": [
    "x='94357848tes930580439'\n",
    "print(x.isalnum())"
   ]
  },
  {
   "cell_type": "code",
   "execution_count": 61,
   "id": "e03faf80",
   "metadata": {},
   "outputs": [
    {
     "name": "stdout",
     "output_type": "stream",
     "text": [
      "False\n"
     ]
    }
   ],
   "source": [
    "x='94357848.930580439'\n",
    "print(x.isalnum())"
   ]
  },
  {
   "cell_type": "code",
   "execution_count": 62,
   "id": "f50522e5",
   "metadata": {},
   "outputs": [
    {
     "name": "stdout",
     "output_type": "stream",
     "text": [
      "False\n"
     ]
    }
   ],
   "source": [
    " x='94357848 930580439'\n",
    "print(x.isalnum())"
   ]
  },
  {
   "cell_type": "markdown",
   "id": "e2070ee7",
   "metadata": {},
   "source": [
    "### isupper\n",
    "- Analiza si todas las letras son mayúsculas"
   ]
  },
  {
   "cell_type": "code",
   "execution_count": 63,
   "id": "6e535518",
   "metadata": {},
   "outputs": [
    {
     "name": "stdout",
     "output_type": "stream",
     "text": [
      "False\n"
     ]
    }
   ],
   "source": [
    "x='test'\n",
    "print(x.isupper())"
   ]
  },
  {
   "cell_type": "code",
   "execution_count": 64,
   "id": "4ac80c9d",
   "metadata": {},
   "outputs": [
    {
     "name": "stdout",
     "output_type": "stream",
     "text": [
      "True\n"
     ]
    }
   ],
   "source": [
    "x='TEST'\n",
    "print(x.isupper())"
   ]
  },
  {
   "cell_type": "code",
   "execution_count": 65,
   "id": "8b836864",
   "metadata": {},
   "outputs": [
    {
     "name": "stdout",
     "output_type": "stream",
     "text": [
      "False\n"
     ]
    }
   ],
   "source": [
    "x='Test'\n",
    "print(x.isupper())"
   ]
  },
  {
   "cell_type": "code",
   "execution_count": 66,
   "id": "214f34d2",
   "metadata": {},
   "outputs": [
    {
     "name": "stdout",
     "output_type": "stream",
     "text": [
      "True\n"
     ]
    }
   ],
   "source": [
    "x='TEST04'\n",
    "print(x.isupper())"
   ]
  },
  {
   "cell_type": "markdown",
   "id": "72c775ab",
   "metadata": {},
   "source": [
    "### islower\n",
    "- Analiza si todas las letras son minúsculas"
   ]
  },
  {
   "cell_type": "code",
   "execution_count": 67,
   "id": "df468b8f",
   "metadata": {},
   "outputs": [
    {
     "name": "stdout",
     "output_type": "stream",
     "text": [
      "True\n"
     ]
    }
   ],
   "source": [
    "x='test'\n",
    "print(x.islower())"
   ]
  },
  {
   "cell_type": "code",
   "execution_count": 70,
   "id": "4c805447",
   "metadata": {},
   "outputs": [
    {
     "name": "stdout",
     "output_type": "stream",
     "text": [
      "False\n"
     ]
    }
   ],
   "source": [
    "x='Test'\n",
    "print(x.islower())"
   ]
  },
  {
   "cell_type": "code",
   "execution_count": 71,
   "id": "565c4a1f",
   "metadata": {},
   "outputs": [
    {
     "name": "stdout",
     "output_type": "stream",
     "text": [
      "True\n"
     ]
    }
   ],
   "source": [
    "x='test1234'\n",
    "print(x.islower())"
   ]
  },
  {
   "cell_type": "code",
   "execution_count": 72,
   "id": "bc96d313",
   "metadata": {},
   "outputs": [
    {
     "name": "stdout",
     "output_type": "stream",
     "text": [
      "False\n"
     ]
    }
   ],
   "source": [
    "x='TEST390'\n",
    "print(x.islower())"
   ]
  },
  {
   "cell_type": "markdown",
   "id": "8d41c247",
   "metadata": {},
   "source": [
    "### join\n",
    "- Crea una cadena de una lista, usando un separador especifico"
   ]
  },
  {
   "cell_type": "code",
   "execution_count": 74,
   "id": "2ad4e97e",
   "metadata": {},
   "outputs": [
    {
     "name": "stdout",
     "output_type": "stream",
     "text": [
      "90|23|34|234\n"
     ]
    }
   ],
   "source": [
    "num=[\"90\",\"23\",\"34\",\"234\"]\n",
    "separador = '|'\n",
    "print(separador.join(num))"
   ]
  },
  {
   "cell_type": "markdown",
   "id": "8b961969",
   "metadata": {},
   "source": [
    "### capitalize\n",
    "- Hace mayúscula la primer letra"
   ]
  },
  {
   "cell_type": "code",
   "execution_count": 77,
   "id": "5721c317",
   "metadata": {},
   "outputs": [
    {
     "name": "stdout",
     "output_type": "stream",
     "text": [
      "Hector\n"
     ]
    }
   ],
   "source": [
    "x='hector'\n",
    "print(x.capitalize())"
   ]
  },
  {
   "cell_type": "markdown",
   "id": "973c5f5d",
   "metadata": {},
   "source": [
    "### format\n",
    "- Formatea el texto según se le pasen los valores"
   ]
  },
  {
   "cell_type": "code",
   "execution_count": 78,
   "id": "c7010641",
   "metadata": {},
   "outputs": [
    {
     "name": "stdout",
     "output_type": "stream",
     "text": [
      "El valor es: 33\n"
     ]
    }
   ],
   "source": [
    "print('El valor es: {}'.format(\"33\"))"
   ]
  },
  {
   "cell_type": "code",
   "execution_count": 80,
   "id": "82a06cbf",
   "metadata": {},
   "outputs": [
    {
     "name": "stdout",
     "output_type": "stream",
     "text": [
      "Hoy es: 22 de oct del 2023\n"
     ]
    }
   ],
   "source": [
    "print('Hoy es: {0} de {1} del {2}'.format(\"22\",\"oct\",\"2023\"))"
   ]
  },
  {
   "cell_type": "markdown",
   "id": "e5508e0b",
   "metadata": {},
   "source": [
    "### Center\n",
    "- Centra el texto dada cierta longitud"
   ]
  },
  {
   "cell_type": "code",
   "execution_count": 82,
   "id": "ba80cf1f",
   "metadata": {},
   "outputs": [
    {
     "name": "stdout",
     "output_type": "stream",
     "text": [
      "[ Probando funciones ]\n",
      "[      Probando funciones      ]\n",
      "[           Probando funciones           ]\n",
      "[                Probando funciones                ]\n"
     ]
    }
   ],
   "source": [
    "x = 'Probando funciones'\n",
    "print('[{}]'.format(x.center(20)))\n",
    "print('[{}]'.format(x.center(30)))\n",
    "print('[{}]'.format(x.center(40)))\n",
    "print('[{}]'.format(x.center(50)))"
   ]
  },
  {
   "cell_type": "markdown",
   "id": "ba129dca",
   "metadata": {},
   "source": [
    "### endswith\n",
    "- Evalúa si la cadena termina con el caracter o palabra solicitada"
   ]
  },
  {
   "cell_type": "code",
   "execution_count": 83,
   "id": "cee6d76e",
   "metadata": {},
   "outputs": [
    {
     "name": "stdout",
     "output_type": "stream",
     "text": [
      "True\n"
     ]
    }
   ],
   "source": [
    "x = 'Probando funciones'\n",
    "print(x.endswith('s'))"
   ]
  },
  {
   "cell_type": "code",
   "execution_count": 84,
   "id": "797bf6d9",
   "metadata": {},
   "outputs": [
    {
     "name": "stdout",
     "output_type": "stream",
     "text": [
      "False\n"
     ]
    }
   ],
   "source": [
    "x = 'Probando funciones'\n",
    "print(x.endswith('Probando'))"
   ]
  },
  {
   "cell_type": "markdown",
   "id": "6a9904e4",
   "metadata": {},
   "source": [
    "### swapcase\n",
    "- Invierte mayúsculas y minúsculas"
   ]
  },
  {
   "cell_type": "code",
   "execution_count": 86,
   "id": "463a414d",
   "metadata": {},
   "outputs": [
    {
     "name": "stdout",
     "output_type": "stream",
     "text": [
      "probando FUNCIONES\n"
     ]
    }
   ],
   "source": [
    "x='PROBANDO funciones'\n",
    "print(x.swapcase())"
   ]
  },
  {
   "cell_type": "markdown",
   "id": "ce545455",
   "metadata": {},
   "source": [
    " ### replace\n",
    " - Remplaza una cadena por otra cadena"
   ]
  },
  {
   "cell_type": "code",
   "execution_count": 87,
   "id": "a60bb707",
   "metadata": {},
   "outputs": [
    {
     "name": "stdout",
     "output_type": "stream",
     "text": [
      "Usando Funciones\n"
     ]
    }
   ],
   "source": [
    "x = 'Probando Funciones'\n",
    "print(x.replace('Probando','Usando'))"
   ]
  },
  {
   "cell_type": "code",
   "execution_count": 88,
   "id": "7608387e",
   "metadata": {},
   "outputs": [
    {
     "name": "stdout",
     "output_type": "stream",
     "text": [
      "ProbandoUsandoFunciones\n"
     ]
    }
   ],
   "source": [
    "x = 'Probando Funciones'\n",
    "print(x.replace(' ','Usando'))"
   ]
  },
  {
   "cell_type": "code",
   "execution_count": 89,
   "id": "86a014bc",
   "metadata": {},
   "outputs": [
    {
     "name": "stdout",
     "output_type": "stream",
     "text": [
      "Probando\n",
      "Funciones\n"
     ]
    }
   ],
   "source": [
    "x = 'Probando Funciones'\n",
    "print(x.replace(' ','\\n'))"
   ]
  },
  {
   "cell_type": "code",
   "execution_count": 90,
   "id": "92c95233",
   "metadata": {},
   "outputs": [
    {
     "name": "stdout",
     "output_type": "stream",
     "text": [
      "Probando-Funciones\n"
     ]
    }
   ],
   "source": [
    "x = 'Probando Funciones'\n",
    "print(x.replace(' ','-'))"
   ]
  },
  {
   "cell_type": "markdown",
   "id": "00f58f68",
   "metadata": {},
   "source": [
    "### Formateo de cadenas y datetime"
   ]
  },
  {
   "cell_type": "code",
   "execution_count": 91,
   "id": "4ce65601",
   "metadata": {},
   "outputs": [
    {
     "name": "stdout",
     "output_type": "stream",
     "text": [
      "2023-10-22 21:53:57.362449\n"
     ]
    }
   ],
   "source": [
    "from datetime import datetime\n",
    "now = datetime.now()\n",
    "print(now)"
   ]
  },
  {
   "cell_type": "code",
   "execution_count": 93,
   "id": "eea69589",
   "metadata": {},
   "outputs": [
    {
     "name": "stdout",
     "output_type": "stream",
     "text": [
      "2023\n",
      "10\n",
      "22\n",
      "21:53:57\n"
     ]
    }
   ],
   "source": [
    "year = now.strftime('%Y')\n",
    "month = now.strftime('%m')\n",
    "day = now.strftime('%d')\n",
    "time = now.strftime('%H:%M:%S')\n",
    "print(year)\n",
    "print(month)\n",
    "print(day)\n",
    "print(time)"
   ]
  },
  {
   "cell_type": "markdown",
   "id": "297dea44",
   "metadata": {},
   "source": [
    "### reverse\n",
    "- Invertir una cadena"
   ]
  },
  {
   "cell_type": "code",
   "execution_count": 94,
   "id": "f46653dd",
   "metadata": {},
   "outputs": [
    {
     "name": "stdout",
     "output_type": "stream",
     "text": [
      "senoicnuf odnaborP\n"
     ]
    }
   ],
   "source": [
    "x = 'Probando funciones'\n",
    "print(x[::-1])"
   ]
  },
  {
   "cell_type": "code",
   "execution_count": null,
   "id": "1078ea9c",
   "metadata": {},
   "outputs": [],
   "source": []
  }
 ],
 "metadata": {
  "kernelspec": {
   "display_name": "Python 3 (ipykernel)",
   "language": "python",
   "name": "python3"
  },
  "language_info": {
   "codemirror_mode": {
    "name": "ipython",
    "version": 3
   },
   "file_extension": ".py",
   "mimetype": "text/x-python",
   "name": "python",
   "nbconvert_exporter": "python",
   "pygments_lexer": "ipython3",
   "version": "3.11.4"
  }
 },
 "nbformat": 4,
 "nbformat_minor": 5
}
