{
 "cells": [
  {
   "cell_type": "code",
   "execution_count": 14,
   "id": "b4fb35ec",
   "metadata": {},
   "outputs": [
    {
     "name": "stdout",
     "output_type": "stream",
     "text": [
      "El texto: \" Este es un producto muy bueno, excelente, maravilloso \" obtuvo los siguientes resultados:\n",
      "Puntaje: 3\n",
      "Resultado: Positivo\n"
     ]
    }
   ],
   "source": [
    "positive_words = [\"bueno\", \"excelente\", \"maravilloso\"] \n",
    "negative_words = [\"defectuoso\", \"malo\", \"horrible\"]\n",
    "my_string = \"\"\" Este es un producto muy bueno, excelente, maravilloso \"\"\"\n",
    "score = 0\n",
    "result = ''\n",
    "\n",
    "for word in my_string.strip().replace(\",\",\"\").split(\" \"):\n",
    "    if word in positive_words:\n",
    "        score+=1\n",
    "    elif word in negative_words:\n",
    "        score-=1\n",
    "\n",
    "if score > 0:\n",
    "    result = 'Positivo'\n",
    "elif score < 0:\n",
    "    result = 'Negativo'\n",
    "else:\n",
    "    result = 'Neutral'\n",
    "\n",
    "print('El texto: \"{}\" obtuvo los siguientes resultados:\\nPuntaje: {}\\nResultado: {}'.format(my_string,score,result))"
   ]
  },
  {
   "cell_type": "code",
   "execution_count": null,
   "id": "d7009e85",
   "metadata": {},
   "outputs": [],
   "source": []
  }
 ],
 "metadata": {
  "kernelspec": {
   "display_name": "Python 3 (ipykernel)",
   "language": "python",
   "name": "python3"
  },
  "language_info": {
   "codemirror_mode": {
    "name": "ipython",
    "version": 3
   },
   "file_extension": ".py",
   "mimetype": "text/x-python",
   "name": "python",
   "nbconvert_exporter": "python",
   "pygments_lexer": "ipython3",
   "version": "3.11.4"
  }
 },
 "nbformat": 4,
 "nbformat_minor": 5
}
