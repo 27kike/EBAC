{
 "cells": [
  {
   "cell_type": "code",
   "execution_count": null,
   "id": "19f77372-e35b-41fe-b270-3f021194a907",
   "metadata": {},
   "outputs": [],
   "source": [
    "python manage.py startapp products"
   ]
  },
  {
   "cell_type": "markdown",
   "id": "9512785e-d587-4ecc-a356-1a257cd0b01b",
   "metadata": {},
   "source": [
    "## products/views.py"
   ]
  },
  {
   "cell_type": "code",
   "execution_count": null,
   "id": "90001ff8-1f53-482d-9f16-c4b2012fc514",
   "metadata": {},
   "outputs": [],
   "source": [
    "from django.shortcuts import render\n",
    "from django.views.generic import View, ListView\n",
    "from django.decorators.http import require_http_methods\n",
    "from .models import Product\n",
    "from .models import User\n",
    "\n",
    "# Create your views here.\n",
    "def product_list_view(request):\n",
    "    if request.method == 'POST':\n",
    "        print(request.POST)\n",
    "    print(request.method == 'POST')\n",
    "    return render(request,'template',{})\n",
    "\n",
    "class ProductHomeView(View):\n",
    "    def get(self, *args,**kwargs):\n",
    "        return render(request,'template',{})\n",
    "    \n",
    "    def post(self,*args,**kwargs):\n",
    "        print(request.POST)\n",
    "        return render(request,'template',{})\n",
    "    \n",
    "\n",
    "class ProductListView(ListView):\n",
    "    qs = Product.objects.all()\n",
    "productListView = ProductListView.as_view()\n",
    "\n",
    "class UserListView(ListView):\n",
    "    qs = User.objects.all()\n",
    "userListView = UserListView.as_view()"
   ]
  },
  {
   "cell_type": "markdown",
   "id": "a038c4ee-15a6-4f61-b6b6-1c385321dd67",
   "metadata": {},
   "source": [
    "## TemplateViews\n",
    "\n",
    "- Se utiliza cuando la página será estatica y no tendrá dinamismo o no sufrira cambios de manera recurrente\n",
    "- No es necesario definirla en las vistas, ya que ahí sólo va la lógica\n",
    "- Se definen directamente en los urls"
   ]
  },
  {
   "cell_type": "markdown",
   "id": "865a6df1-534d-454d-910e-16994257cbbf",
   "metadata": {},
   "source": [
    "## products/templates/products/aboute.html"
   ]
  },
  {
   "cell_type": "code",
   "execution_count": null,
   "id": "523adf70-9cc1-4801-97c2-df4943d3eff2",
   "metadata": {},
   "outputs": [],
   "source": [
    "<h1>Acerca del Ecommerce</h1>"
   ]
  },
  {
   "cell_type": "markdown",
   "id": "a03f04a2-29ba-4be8-8dca-c97224976702",
   "metadata": {},
   "source": [
    "## products/templates/products/team.html"
   ]
  },
  {
   "cell_type": "code",
   "execution_count": null,
   "id": "3cbb4e8a-5caf-4b70-b8f2-1d8aa3c5396e",
   "metadata": {},
   "outputs": [],
   "source": [
    "<p>El equipo detras del ecommerce</p>"
   ]
  },
  {
   "cell_type": "markdown",
   "id": "a3651a62-aa55-41a6-90e8-f5d0184c12a6",
   "metadata": {},
   "source": [
    "## products/views.py"
   ]
  },
  {
   "cell_type": "code",
   "execution_count": null,
   "id": "b1c05836-22fb-4197-868a-557628d984d2",
   "metadata": {},
   "outputs": [],
   "source": [
    "from django.shortcuts import render\n",
    "from django.views.generic import View, TemplateView\n",
    "#from django.decorators.http import require_http_methods\n",
    "\n",
    "# Create your views here.\n",
    "\n",
    "# def about_us_view(request):\n",
    "#     return render(request, \"aboute.html\", {})\n",
    "\n",
    "# class AbouteUsView(View):\n",
    "#     def get(self, request):\n",
    "#         return render(request, \"aboute.html\", {})\n",
    "\n",
    "# class AbouteUsView(TemplateView):\n",
    "#     template_name = \"aboute.html\""
   ]
  },
  {
   "cell_type": "markdown",
   "id": "21c18f40-50c8-4042-a133-176e484d2100",
   "metadata": {},
   "source": [
    "## products/urls.py"
   ]
  },
  {
   "cell_type": "code",
   "execution_count": null,
   "id": "d5c21386-b4f9-4dfd-b7c8-a8641ae85f5a",
   "metadata": {},
   "outputs": [],
   "source": [
    "from django.contrib import admin\n",
    "from django.urls import path\n",
    "from django.views.generic import TemplateView\n",
    "\n",
    "urlpatterns = [\n",
    "    path(\"admin/\",admin.site.urls),\n",
    "    path(\"about/\", TemplateView.as_view(template_name = 'products/aboute.html')),\n",
    "    path(\"team/\",TemplateView.as_view(template_name='products/team.html'))\n",
    "]"
   ]
  },
  {
   "cell_type": "markdown",
   "id": "211aeb4d-0f13-4434-bd32-89e3f78fe414",
   "metadata": {},
   "source": [
    "## config/urls.py"
   ]
  },
  {
   "cell_type": "code",
   "execution_count": null,
   "id": "97be7a45-6f49-468a-8ff6-6f391b51a84b",
   "metadata": {},
   "outputs": [],
   "source": [
    "\"\"\"\n",
    "URL configuration for hello project.\n",
    "\n",
    "The `urlpatterns` list routes URLs to views. For more information please see:\n",
    "    https://docs.djangoproject.com/en/5.0/topics/http/urls/\n",
    "Examples:\n",
    "Function views\n",
    "    1. Add an import:  from my_app import views\n",
    "    2. Add a URL to urlpatterns:  path('', views.home, name='home')\n",
    "Class-based views\n",
    "    1. Add an import:  from other_app.views import Home\n",
    "    2. Add a URL to urlpatterns:  path('', Home.as_view(), name='home')\n",
    "Including another URLconf\n",
    "    1. Import the include() function: from django.urls import include, path\n",
    "    2. Add a URL to urlpatterns:  path('blog/', include('blog.urls'))\n",
    "\"\"\"\n",
    "from django.contrib import admin\n",
    "from django.urls import include\n",
    "from django.urls import path\n",
    "\n",
    "urlpatterns = [\n",
    "    path(\"up/\", include(\"up.urls\")),\n",
    "    path(\"\", include(\"pages.urls\")),\n",
    "    path(\"ecommerce/\", include(\"ecommerce.urls\")),\n",
    "    path(\"products/\",include(\"products.urls\")), #<----------\n",
    "    path(\"admin/\", admin.site.urls),\n",
    "    path(\"__debug__/\", include(\"debug_toolbar.urls\")),\n",
    "]"
   ]
  },
  {
   "cell_type": "markdown",
   "id": "59188761-1c09-4417-81c2-23b50ec7a1a0",
   "metadata": {},
   "source": [
    "## config/settings.py"
   ]
  },
  {
   "cell_type": "code",
   "execution_count": null,
   "id": "9f752908-644e-4f4b-8267-9c91427fdd23",
   "metadata": {},
   "outputs": [],
   "source": [
    "INSTALLED_APPS = [\n",
    "    \"pages.apps.PagesConfig\",\n",
    "    \"ecommerce.apps.EcommerceConfig\",\n",
    "    \"products.apps.ProductsConfig\", #<---------------\n",
    "    \"base.apps.BaseConfig\",\n",
    "    \"debug_toolbar\",\n",
    "    \"django.contrib.admin\",\n",
    "    \"django.contrib.auth\",\n",
    "    \"django.contrib.contenttypes\",\n",
    "    \"django.contrib.sessions\",\n",
    "    \"django.contrib.messages\",\n",
    "    \"django.contrib.staticfiles\",\n",
    "]"
   ]
  },
  {
   "cell_type": "markdown",
   "id": "f6bfb139-a16e-4bbc-ad99-925e517de934",
   "metadata": {},
   "source": [
    "## RedirectView\n",
    "- También se puede agregar directamente en las urls"
   ]
  },
  {
   "cell_type": "code",
   "execution_count": null,
   "id": "982ec45c-e7c8-4e8e-aa3b-63afc04e2f05",
   "metadata": {},
   "outputs": [],
   "source": [
    "from django.shortcuts import render\n",
    "from django.views.generic import View, TemplateView, RedirectView\n",
    "#from django.decorators.http import require_http_methods\n",
    "\n",
    "# Create your views here.\n",
    "# class aboutViewRedirect(RedirectView):\n",
    "#     url = 'products/about/'"
   ]
  },
  {
   "cell_type": "code",
   "execution_count": null,
   "id": "79f14f05-5764-4683-8b2b-defbc209b618",
   "metadata": {},
   "outputs": [],
   "source": [
    "from django.contrib import admin\n",
    "from django.urls import path\n",
    "from django.views.generic import TemplateView,RedirectView\n",
    "from products import views\n",
    "\n",
    "urlpatterns = [\n",
    "    path(\"admin/\",admin.site.urls),\n",
    "    path(\"about-us/\",RedirectView.as_view(url = '/products/about')), #<----\n",
    "    path(\"about/\", TemplateView.as_view(template_name = 'products/aboute.html')),\n",
    "    path(\"team/\",TemplateView.as_view(template_name='products/team.html'))\n",
    "]"
   ]
  },
  {
   "cell_type": "markdown",
   "id": "5e6328bb-fed4-432c-b1c5-9492c35c18d0",
   "metadata": {},
   "source": [
    "## ListView y DetailView"
   ]
  },
  {
   "cell_type": "markdown",
   "id": "aff01f5e-9cc0-46e5-a6f4-388a9fecef05",
   "metadata": {},
   "source": [
    "## products/models.py"
   ]
  },
  {
   "cell_type": "code",
   "execution_count": null,
   "id": "9c1048a8-ee3b-4f4f-8dd5-dfc2e85fddf1",
   "metadata": {},
   "outputs": [],
   "source": [
    "from django.db import models\n",
    "\n",
    "# Create your models here.\n",
    "class Product(models.Model):\n",
    "    title = models.CharField(max_length=120)\n",
    "    slug = models.SlugField(unique = True)"
   ]
  },
  {
   "cell_type": "markdown",
   "id": "abc20b1d-ba4e-4454-9191-f13598c353ab",
   "metadata": {},
   "source": [
    "## products/views.py"
   ]
  },
  {
   "cell_type": "code",
   "execution_count": null,
   "id": "28b85f01-7341-4810-87dd-61a6e17e86a6",
   "metadata": {},
   "outputs": [],
   "source": [
    "from django.shortcuts import render\n",
    "from django.views.generic import View, ListView, DetailView\n",
    "from .models import Product\n",
    "# Create your views here.\n",
    "class ProductList(ListView):\n",
    "    #app_label = products (Nombre de la app)\n",
    "    #model = Product (Nombre del modelo a listar)\n",
    "    #view_name = list (Nombre de lo que hara la clase)\n",
    "    #template_name = app_label/model_view_name\n",
    "    #tempalte_name = products/product_list.html\n",
    "    model = Product\n",
    "class ProductDetail(DetailView):\n",
    "    model = Product"
   ]
  },
  {
   "cell_type": "markdown",
   "id": "27fd7027-4a87-475c-97b4-6b04775bd106",
   "metadata": {},
   "source": [
    "## products/urls.py"
   ]
  },
  {
   "cell_type": "code",
   "execution_count": null,
   "id": "1842ced9-f9e8-48d0-8dcb-479c02598057",
   "metadata": {},
   "outputs": [],
   "source": [
    "from django.contrib import admin\n",
    "from django.urls import path\n",
    "from django.views.generic import TemplateView,RedirectView\n",
    "from products.views import ProductList, ProductDetail\n",
    "\n",
    "urlpatterns = [\n",
    "    path(\"admin/\",admin.site.urls),\n",
    "    path(\"about-us/\",RedirectView.as_view(url = '/products/about')), #<----\n",
    "    path(\"about/\", TemplateView.as_view(template_name = 'products/aboute.html')),\n",
    "    path(\"team/\",TemplateView.as_view(template_name='products/team.html')),\n",
    "    path(\"product/\",ProductList.as_view(template_name='products/product_list.html')),\n",
    "    path(\"product/<int:pk>/\",ProductDetail.as_view(template_name='products/product_detail.html')),\n",
    "]"
   ]
  },
  {
   "cell_type": "markdown",
   "id": "0679039d-e35f-4cb6-ab7c-020eb89177c4",
   "metadata": {},
   "source": [
    "## Obtener data del contexto"
   ]
  },
  {
   "cell_type": "markdown",
   "id": "449c60d7-af7d-4678-9348-6b628f7c785b",
   "metadata": {},
   "source": [
    "## products/views.py"
   ]
  },
  {
   "cell_type": "code",
   "execution_count": null,
   "id": "23c3fac3-e8ca-40e8-bef6-a4b576410d32",
   "metadata": {},
   "outputs": [],
   "source": [
    "from typing import Any\n",
    "from django.shortcuts import render\n",
    "from django.views.generic import View, ListView, DetailView\n",
    "from .models import Product\n",
    "# Create your views here.\n",
    "class ProductList(ListView):\n",
    "    #app_label = products (Nombre de la app)\n",
    "    #model = Product (Nombre del modelo a listar)\n",
    "    #view_name = list (Nombre de lo que hara la clase)\n",
    "    #template_name = app_label/model_view_name\n",
    "    #tempalte_name = products/product_list.html\n",
    "    model = Product\n",
    "    def get_context_data(self, **kwargs):\n",
    "        context = super().get_context_data(**kwargs)\n",
    "        print(context)\n",
    "        context['title'] = 'El mejor ecommerce'\n",
    "        return context\n",
    "class ProductDetail(DetailView):\n",
    "    model = Product"
   ]
  },
  {
   "cell_type": "markdown",
   "id": "0a841bee-a4a8-4536-bd96-4ba10e55c75e",
   "metadata": {},
   "source": [
    "## Modelo proxy"
   ]
  },
  {
   "cell_type": "markdown",
   "id": "9780c643-8474-426e-a02e-4d4fcbd1cc7b",
   "metadata": {},
   "source": [
    "## products/models.py"
   ]
  },
  {
   "cell_type": "code",
   "execution_count": null,
   "id": "82d01395-fbc0-4419-8f6e-f38298699b5e",
   "metadata": {},
   "outputs": [],
   "source": [
    "from django.db import models\n",
    "\n",
    "# Create your models here.\n",
    "class Product(models.Model):\n",
    "    title = models.CharField(max_length=120)\n",
    "    slug = models.SlugField(unique = True)\n",
    "class ProductDigital(Product):\n",
    "    class Meta:\n",
    "        proxy = True"
   ]
  },
  {
   "cell_type": "markdown",
   "id": "c0a280d0-e770-4b8e-bcb2-f7f8756e7b50",
   "metadata": {},
   "source": [
    "## products/views.py"
   ]
  },
  {
   "cell_type": "code",
   "execution_count": null,
   "id": "0236459c-49d0-4d2b-af17-1021d74b4a9e",
   "metadata": {},
   "outputs": [],
   "source": [
    "from typing import Any\n",
    "from django.shortcuts import render\n",
    "from django.views.generic import View, ListView, DetailView\n",
    "from .models import Product, ProductDigital\n",
    "# Create your views here.\n",
    "class ProductList(ListView):\n",
    "    #app_label = products (Nombre de la app)\n",
    "    #model = Product (Nombre del modelo a listar)\n",
    "    #view_name = list (Nombre de lo que hara la clase)\n",
    "    #template_name = app_label/model_view_name\n",
    "    #tempalte_name = products/product_list.html\n",
    "    model = Product\n",
    "    def get_context_data(self, **kwargs):\n",
    "        context = super().get_context_data(**kwargs)\n",
    "        print(context)\n",
    "        context['title'] = 'El mejor ecommerce'\n",
    "        return context\n",
    "class ProductDigitalList(ListView):\n",
    "    model = ProductDigital\n",
    "    template_name = 'products/product_list.html'\n",
    "    def get_context_data(self, **kwargs):\n",
    "        context = super().get_context_data(**kwargs)\n",
    "        print(context)\n",
    "        context['title'] = 'El mejor ecommerce DIGITAL'\n",
    "        return context\n",
    "\n",
    "class ProductDetail(DetailView):\n",
    "    model = Product"
   ]
  },
  {
   "cell_type": "markdown",
   "id": "debb5d45-1f9b-4a23-b12b-1e6ef6e3b8a6",
   "metadata": {},
   "source": [
    "## products/urls.py"
   ]
  },
  {
   "cell_type": "code",
   "execution_count": null,
   "id": "f8938b72-a78e-40f3-8c12-02be9248eae1",
   "metadata": {},
   "outputs": [],
   "source": [
    "from django.contrib import admin\n",
    "from django.urls import path\n",
    "from django.views.generic import TemplateView,RedirectView\n",
    "from products.views import ProductList, ProductDetail, ProductDigitalList\n",
    "\n",
    "urlpatterns = [\n",
    "    path(\"admin/\",admin.site.urls),\n",
    "    path(\"about-us/\",RedirectView.as_view(url = '/products/about')), #<----\n",
    "    path(\"about/\", TemplateView.as_view(template_name = 'products/aboute.html')),\n",
    "    path(\"team/\",TemplateView.as_view(template_name='products/team.html')),\n",
    "    path(\"product/\",ProductList.as_view()),\n",
    "    path(\"digital/\",ProductDigitalList.as_view()),\n",
    "    path(\"product/<int:pk>/\",ProductDetail.as_view(template_name='products/product_detail.html')),\n",
    "]"
   ]
  },
  {
   "cell_type": "markdown",
   "id": "004c09f2-2424-4b48-b438-26d1847457a5",
   "metadata": {},
   "source": [
    "## Creando mixin"
   ]
  },
  {
   "cell_type": "markdown",
   "id": "7d230cb4-9a56-49a4-94bc-7e2bc23d4c39",
   "metadata": {},
   "source": [
    "## products/mixins.py"
   ]
  },
  {
   "cell_type": "code",
   "execution_count": null,
   "id": "c6061c9b-0a2a-4038-a4ca-83c250cca079",
   "metadata": {},
   "outputs": [],
   "source": [
    "class TemplateTitleMixin(object):\n",
    "    title = None\n",
    "    def get_context_data(self, *args, **kwargs):\n",
    "        context = super().get_context_data(*args,**kwargs)\n",
    "        context['title'] = self.get_title()\n",
    "        return context\n",
    "    def get_title(self):\n",
    "        return self.title"
   ]
  },
  {
   "cell_type": "markdown",
   "id": "d080650f-a156-4fd1-813f-159a67ec8f32",
   "metadata": {},
   "source": [
    "## products/views.py"
   ]
  },
  {
   "cell_type": "code",
   "execution_count": null,
   "id": "03b9a7ff-b69c-4987-9f38-93e52efb7b60",
   "metadata": {},
   "outputs": [],
   "source": [
    "from typing import Any\n",
    "from django.shortcuts import render\n",
    "from django.views.generic import View, ListView, DetailView\n",
    "from .models import Product, ProductDigital\n",
    "from .mixins import TemplateTitleMixin\n",
    "# Create your views here.\n",
    "class ProductList(TemplateTitleMixin,ListView):\n",
    "    model = Product\n",
    "    title = 'Productos físicos'\n",
    "class ProductDigitalList(TemplateTitleMixin,ListView):\n",
    "    model = ProductDigital\n",
    "    template_name = 'products/product_list.html'\n",
    "    title = 'Productos Digitales'\n",
    "\n",
    "class ProductDetail(DetailView):\n",
    "    model = Product"
   ]
  },
  {
   "cell_type": "markdown",
   "id": "99b1cc73-622e-480f-a24e-18eb83e38521",
   "metadata": {},
   "source": [
    "## products/templates/products_list.html"
   ]
  },
  {
   "cell_type": "code",
   "execution_count": null,
   "id": "3d94c695-39a6-4d24-9fb7-f99fb1e383b8",
   "metadata": {},
   "outputs": [],
   "source": [
    "{% if title %}\n",
    "<h1>{{title}}</h1>\n",
    "{% endif %}\n",
    "<ul>\n",
    "{% for object in object_list %}\n",
    "    <li>\n",
    "        Producto: {{object.title}} - Slug: {{object.slug}}\n",
    "    </li>\n",
    "{% endfor %}\n",
    "</ul>"
   ]
  },
  {
   "cell_type": "markdown",
   "id": "1287a7c6-056f-4375-b1af-9dafd470995c",
   "metadata": {},
   "source": [
    "## RedirectView basada en la instancia del Modelo"
   ]
  },
  {
   "cell_type": "markdown",
   "id": "a1fcc532-cee1-4bad-83ad-fdf4fc7f1ec2",
   "metadata": {},
   "source": [
    "## products/views.py"
   ]
  },
  {
   "cell_type": "code",
   "execution_count": null,
   "id": "88be85fc-8eae-48e5-9209-8c7c37716d5b",
   "metadata": {},
   "outputs": [],
   "source": [
    "from typing import Any\n",
    "from django.shortcuts import render, get_object_or_404\n",
    "from django.views.generic import View, ListView, DetailView, RedirectView\n",
    "from .models import Product, ProductDigital\n",
    "from .mixins import TemplateTitleMixin\n",
    "# Create your views here.\n",
    "class ProductList(TemplateTitleMixin,ListView):\n",
    "    #app_label = products (Nombre de la app)\n",
    "    #model = Product (Nombre del modelo a listar)\n",
    "    #view_name = list (Nombre de lo que hara la clase)\n",
    "    #template_name = app_label/model_view_name\n",
    "    #tempalte_name = products/product_list.html\n",
    "    model = Product\n",
    "    title = 'Productos físicos'\n",
    "\n",
    "class ProductDigitalList(TemplateTitleMixin,ListView):\n",
    "    model = ProductDigital\n",
    "    template_name = 'products/product_list.html'\n",
    "    title = 'Productos Digitales'\n",
    "\n",
    "class RedirectProductIDView(RedirectView):\n",
    "    def get_redirect_url(self, *args, **kwargs):\n",
    "        url_param = self.kwargs\n",
    "        pk = url_param.get(\"pk\")\n",
    "        obj = get_object_or_404(Product, pk = pk)\n",
    "        slug = obj.slug\n",
    "        return \"/products/product/{}\".format(slug)\n",
    "\n",
    "class RedirectProductView(RedirectView):\n",
    "    def get_redirect_url(self, *args, **kwargs):\n",
    "        url_param = self.kwargs\n",
    "        slug = url_param.get(\"slug\")\n",
    "        return \"/products/product/{}\".format(slug)\n",
    "\n",
    "class ProductDetail(DetailView):\n",
    "    model = Product"
   ]
  },
  {
   "cell_type": "markdown",
   "id": "e4e7ec81-b6ff-4e81-aad3-b0edf98e89a3",
   "metadata": {},
   "source": [
    "## products/urls.py"
   ]
  },
  {
   "cell_type": "code",
   "execution_count": null,
   "id": "91981961-17ba-4f63-bc00-55f5dd01ecd9",
   "metadata": {},
   "outputs": [],
   "source": [
    "from django.contrib import admin\n",
    "from django.urls import path\n",
    "from django.views.generic import TemplateView,RedirectView\n",
    "from products.views import ProductList, ProductDetail, ProductDigitalList, RedirectProductIDView, RedirectProductView\n",
    "\n",
    "urlpatterns = [\n",
    "    path(\"admin/\",admin.site.urls),\n",
    "    path(\"about-us/\",RedirectView.as_view(url = '/products/about')), #<----\n",
    "    path(\"about/\", TemplateView.as_view(template_name = 'products/aboute.html')),\n",
    "    path(\"team/\",TemplateView.as_view(template_name='products/team.html')),\n",
    "    path(\"product/\",ProductList.as_view()),\n",
    "    path(\"digital/\",ProductDigitalList.as_view()),\n",
    "    path(\"product/<int:pk>/\",ProductDetail.as_view()),\n",
    "    path(\"product/<slug:slug>/\",ProductDetail.as_view()),\n",
    "    path(\"p/<int:pk>/\",RedirectProductIDView.as_view()),\n",
    "    path(\"p/<slug:slug>/\",RedirectProductView.as_view()),\n",
    "]"
   ]
  },
  {
   "cell_type": "markdown",
   "id": "6ae6b368-9fa3-400f-8fb0-27bc1feab553",
   "metadata": {},
   "source": [
    "## Mixins para proteger vistas"
   ]
  },
  {
   "cell_type": "markdown",
   "id": "b9510bcd-717e-4ecb-97be-724ee511fa4d",
   "metadata": {},
   "source": [
    "## src/products/views.py"
   ]
  },
  {
   "cell_type": "code",
   "execution_count": null,
   "id": "9edc780a-d49f-417a-babe-e16e97c23b90",
   "metadata": {},
   "outputs": [],
   "source": [
    "from typing import Any\n",
    "from django.shortcuts import render, get_object_or_404\n",
    "from django.views.generic import View, ListView, DetailView, RedirectView\n",
    "from .models import Product, ProductDigital\n",
    "from .mixins import TemplateTitleMixin\n",
    "from django.contrib.auth.mixins import LoginRequiredMixin #<--------\n",
    "# Create your views here.\n",
    "class ProductList(TemplateTitleMixin,ListView):\n",
    "    #app_label = products (Nombre de la app)\n",
    "    #model = Product (Nombre del modelo a listar)\n",
    "    #view_name = list (Nombre de lo que hara la clase)\n",
    "    #template_name = app_label/model_view_name\n",
    "    #tempalte_name = products/product_list.html\n",
    "    model = Product\n",
    "    title = 'Productos físicos'\n",
    "\n",
    "class ProductDigitalList(TemplateTitleMixin,ListView):\n",
    "    model = ProductDigital\n",
    "    template_name = 'products/product_list.html'\n",
    "    title = 'Productos Digitales'\n",
    "\n",
    "class RedirectProductIDView(RedirectView):\n",
    "    def get_redirect_url(self, *args, **kwargs):\n",
    "        url_param = self.kwargs\n",
    "        pk = url_param.get(\"pk\")\n",
    "        obj = get_object_or_404(Product, pk = pk)\n",
    "        slug = obj.slug\n",
    "        return \"/products/product/{}\".format(slug)\n",
    "\n",
    "class RedirectProductView(RedirectView):\n",
    "    def get_redirect_url(self, *args, **kwargs):\n",
    "        url_param = self.kwargs\n",
    "        slug = url_param.get(\"slug\")\n",
    "        return \"/products/product/{}\".format(slug)\n",
    "\n",
    "class ProductDetail(DetailView):\n",
    "    model = Product\n",
    "\n",
    "class ProtectedProductDetailView(LoginRequiredMixin,DetailView):#<---------\n",
    "    model = Product"
   ]
  },
  {
   "cell_type": "markdown",
   "id": "bef18a7f-6c68-446a-a0a4-4d9252fab996",
   "metadata": {},
   "source": [
    "## src/products/urls.py"
   ]
  },
  {
   "cell_type": "code",
   "execution_count": null,
   "id": "eab45746-0537-481a-abb4-20086f845847",
   "metadata": {},
   "outputs": [],
   "source": [
    "from django.contrib import admin\n",
    "from django.urls import path\n",
    "from django.views.generic import TemplateView,RedirectView\n",
    "from products.views import ProductList, ProductDetail, ProductDigitalList, RedirectProductIDView, RedirectProductView,ProtectedProductDetailView\n",
    "\n",
    "urlpatterns = [\n",
    "    path(\"admin/\",admin.site.urls),\n",
    "    path(\"about-us/\",RedirectView.as_view(url = '/products/about')), #<----\n",
    "    path(\"about/\", TemplateView.as_view(template_name = 'products/aboute.html')),\n",
    "    path(\"team/\",TemplateView.as_view(template_name='products/team.html')),\n",
    "    path(\"product/\",ProductList.as_view()),\n",
    "    path(\"digital/\",ProductDigitalList.as_view()),\n",
    "    path(\"product/<int:pk>/\",ProductDetail.as_view()),\n",
    "    path(\"product/<slug:slug>/\",ProductDetail.as_view()),\n",
    "    path(\"my-products/<slug:slug>/\",ProtectedProductDetailView.as_view()), #<----\n",
    "    path(\"p/<int:pk>/\",RedirectProductIDView.as_view()),\n",
    "    path(\"p/<slug:slug>/\",RedirectProductView.as_view()),\n",
    "]"
   ]
  },
  {
   "cell_type": "markdown",
   "id": "317e78f3-ce73-4a40-98db-f5de31b413f3",
   "metadata": {},
   "source": [
    "# ModelForms"
   ]
  },
  {
   "cell_type": "markdown",
   "id": "72e6bdab-01d0-4f28-ab83-84fc6a2e8f97",
   "metadata": {},
   "source": [
    "## src/products/models.py"
   ]
  },
  {
   "cell_type": "code",
   "execution_count": null,
   "id": "11b59837-9523-42b8-ba5b-6990598ae7fc",
   "metadata": {},
   "outputs": [],
   "source": [
    "from django.db import models\n",
    "from django.conf import settings #<-----\n",
    "\n",
    "User = settings.AUTH_USER_MODEL #<-----\n",
    "\n",
    "# Create your models here.\n",
    "class Product(models.Model):\n",
    "    user = models.ForeignKey(User, blank = True, null = True, on_delete=models.SET_NULL)#<---------\n",
    "    title = models.CharField(max_length=120)\n",
    "    slug = models.SlugField(unique = True)\n",
    "class ProductDigital(Product):\n",
    "    class Meta:\n",
    "        proxy = True"
   ]
  },
  {
   "cell_type": "markdown",
   "id": "6063737d-cb56-4a2a-b1af-a274819862e9",
   "metadata": {},
   "source": [
    "## src/products/forms.py"
   ]
  },
  {
   "cell_type": "code",
   "execution_count": null,
   "id": "b0a270a3-fed5-4b39-924e-991c4ce9ac53",
   "metadata": {},
   "outputs": [],
   "source": [
    "from django import forms\n",
    "from .models import Product\n",
    "\n",
    "class ProductModelForms(forms.ModelForm):\n",
    "    class Meta:\n",
    "        model = Product\n",
    "        fields = [\n",
    "            \"title\",\n",
    "            \"slug\"\n",
    "        ]"
   ]
  },
  {
   "cell_type": "markdown",
   "id": "736fd83b-af31-4e3a-bdd4-8e893db7f76a",
   "metadata": {},
   "source": [
    "## createview"
   ]
  },
  {
   "cell_type": "markdown",
   "id": "fc90ca16-6d66-4a5a-9ceb-87cca2357d09",
   "metadata": {},
   "source": [
    "## src/products/views.py"
   ]
  },
  {
   "cell_type": "code",
   "execution_count": null,
   "id": "5f76560e-b9b9-4ad0-8691-3a3b36cfe5b9",
   "metadata": {},
   "outputs": [],
   "source": [
    "from typing import Any\n",
    "from django.forms.models import BaseModelForm\n",
    "from django.http import HttpResponse\n",
    "from django.shortcuts import render, get_object_or_404\n",
    "from django.views.generic import (\n",
    "    View,\n",
    "    ListView,\n",
    "    DetailView,\n",
    "    RedirectView,\n",
    "    CreateView #<--\n",
    ")\n",
    "from .models import Product, ProductDigital\n",
    "from .mixins import TemplateTitleMixin\n",
    "from django.contrib.auth.mixins import LoginRequiredMixin\n",
    "from .forms import ProductModelForms #<----\n",
    "# Create your views here.\n",
    "class ProtectedProductCV(LoginRequiredMixin,CreateView):\n",
    "    form_class = ProductModelForms\n",
    "    template_name = 'forms.html'\n",
    "    def form_valid(self, form):\n",
    "        form.instance.user = self.request.user\n",
    "        return super().form_valid(form)"
   ]
  },
  {
   "cell_type": "markdown",
   "id": "0ab7a165-5436-4f67-b9a1-4b7a39634690",
   "metadata": {},
   "source": [
    "## src/products/models.py"
   ]
  },
  {
   "cell_type": "code",
   "execution_count": null,
   "id": "c436ad1f-67ac-42be-b053-fac708254a90",
   "metadata": {},
   "outputs": [],
   "source": [
    "from django.db import models\n",
    "from django.conf import settings\n",
    "\n",
    "User = settings.AUTH_USER_MODEL\n",
    "\n",
    "# Create your models here.\n",
    "class Product(models.Model):\n",
    "    user = models.ForeignKey(User, blank = True, null = True, on_delete=models.SET_NULL)\n",
    "    title = models.CharField(max_length=120)\n",
    "    slug = models.SlugField(unique = True)\n",
    "    def get_absolute_url(self):\n",
    "        return \"/products/product/{}\".format(self.slug) #<-------\n",
    "\n",
    "class ProductDigital(Product):\n",
    "    class Meta:\n",
    "        proxy = True"
   ]
  },
  {
   "cell_type": "markdown",
   "id": "02172614-f3e6-4771-b264-74a97fdbbd43",
   "metadata": {},
   "source": [
    "## src/products/urls.py"
   ]
  },
  {
   "cell_type": "code",
   "execution_count": null,
   "id": "db31ea71-7ff1-4ce9-82f4-b4eb816801a1",
   "metadata": {},
   "outputs": [],
   "source": [
    "from django.contrib import admin\n",
    "from django.urls import path\n",
    "from django.views.generic import TemplateView,RedirectView\n",
    "from products.views import (\n",
    "    ProductList, \n",
    "    ProductDetail, \n",
    "    ProductDigitalList, \n",
    "    RedirectProductIDView, \n",
    "    RedirectProductView,\n",
    "    ProtectedProductDetailView,\n",
    "    ProtectedProductCV)\n",
    "\n",
    "urlpatterns = [\n",
    "    path(\"admin/\",admin.site.urls),\n",
    "    path(\"about-us/\",RedirectView.as_view(url = '/products/about')),\n",
    "    path(\"about/\", TemplateView.as_view(template_name = 'products/aboute.html')),\n",
    "    path(\"team/\",TemplateView.as_view(template_name='products/team.html')),\n",
    "    path(\"product/\",ProductList.as_view()),\n",
    "    path(\"digital/\",ProductDigitalList.as_view()),\n",
    "    path(\"product/<int:pk>/\",ProductDetail.as_view()),\n",
    "    path(\"product/<slug:slug>/\",ProductDetail.as_view()),\n",
    "    #path(\"my-products/<slug:slug>/\",ProtectedProductDetailView.as_view()),\n",
    "    path(\"p/<int:pk>/\",RedirectProductIDView.as_view()),\n",
    "    path(\"p/<slug:slug>/\",RedirectProductView.as_view()),\n",
    "    path(\"my-products/create/\",ProtectedProductCV.as_view()),#<------\n",
    "]"
   ]
  },
  {
   "cell_type": "markdown",
   "id": "024017ac-b2cd-4a21-a8ef-7e29faa760d1",
   "metadata": {},
   "source": [
    "## src/templates/forms.html"
   ]
  },
  {
   "cell_type": "code",
   "execution_count": null,
   "id": "57b5fd28-1940-48aa-8fba-3991352c7ed4",
   "metadata": {},
   "outputs": [],
   "source": [
    "<form method='POST' action='.'>\n",
    "    {% csrf_token %}\n",
    "    {{form.as_p}}\n",
    "    <input type='submit' value='Guardar'>\n",
    "</form>"
   ]
  }
 ],
 "metadata": {
  "kernelspec": {
   "display_name": "Python 3 (ipykernel)",
   "language": "python",
   "name": "python3"
  },
  "language_info": {
   "codemirror_mode": {
    "name": "ipython",
    "version": 3
   },
   "file_extension": ".py",
   "mimetype": "text/x-python",
   "name": "python",
   "nbconvert_exporter": "python",
   "pygments_lexer": "ipython3",
   "version": "3.12.1"
  }
 },
 "nbformat": 4,
 "nbformat_minor": 5
}
