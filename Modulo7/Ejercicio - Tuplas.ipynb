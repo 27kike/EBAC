{
 "cells": [
  {
   "cell_type": "code",
   "execution_count": 7,
   "id": "2100bc38",
   "metadata": {},
   "outputs": [
    {
     "name": "stdout",
     "output_type": "stream",
     "text": [
      "Lista de Reproducción\n",
      "\n",
      "¿Qué tipo de música te gustaria buscar?\n",
      "clasica\n",
      "('Melodía Para liberar tensión y estrés', 'Clasica')\n",
      "('Música Buena', 'Clasica')\n",
      "('Melodía para escuchar en la Playa', 'Clasica')\n",
      "('Pensando en ti', 'Clasica')\n",
      "('Disco De los 90', 'Clasica')\n",
      "('Los Cinco Burros Cargados', 'Los Armadillos de la Sierra')\n",
      "('Clásica', 'Musica Ambiental')\n",
      "('A Pesar Del Tiempo', 'Salsa Clásica')\n",
      "('CLASICO', 'RazR')\n",
      "('Motivación para trabajar', 'Clasica')\n",
      "('En Barranquilla Me Quedo', 'Salsa Clásica')\n",
      "('Tu Me Vuelves Loco', 'Salsa Clásica')\n",
      "('Música Clásica', 'Radio Musica Clasica & Classical New Age Piano Music')\n",
      "('La Chica De Pelo Marrón', 'Salsa Clásica')\n",
      "('Insanciable', 'Salsa Clásica')\n",
      "('Clásico', 'Dbwoy')\n",
      "('Pedro Navajas', 'Salsa Clásica')\n",
      "('Todo me sale mal', 'El Tri')\n",
      "('Clásico', 'Predilecto')\n",
      "('Cuando tú no estás', 'El Tri')\n",
      "('Classic', 'MKTO')\n",
      "('Clásico', 'Afaz Natural')\n",
      "('Classic', 'Mael Bigand')\n",
      "('Classic', 'Adrian Gurvitz')\n",
      "('Clásico', 'Orlando Netti')\n"
     ]
    }
   ],
   "source": [
    "import requests\n",
    "\n",
    "print(\"Lista de Reproducción\\n\")\n",
    "print(\"¿Qué tipo de música te gustaria buscar?\")  \n",
    "genero = input() \n",
    "url = \"https://deezerdevs-deezer.p.rapidapi.com/search\" \n",
    "querystring = {\"q\":genero} \n",
    "headers = {    \"X-RapidAPI-Key\": \"3ed98f551fmshe4e6260228c4eadp13db17jsn8c893e1194da\",\n",
    "               \"X-RapidAPI-Host\": \"deezerdevs-deezer.p.rapidapi.com\" } \n",
    "response = requests.request(\"GET\", url, headers=headers, params=querystring).json() \n",
    "for element in response['data']:\n",
    "    tupla = (element['title'], element['artist']['name'])\n",
    "    print(tupla)"
   ]
  },
  {
   "cell_type": "code",
   "execution_count": null,
   "id": "126014ce",
   "metadata": {},
   "outputs": [],
   "source": []
  }
 ],
 "metadata": {
  "kernelspec": {
   "display_name": "Python 3 (ipykernel)",
   "language": "python",
   "name": "python3"
  },
  "language_info": {
   "codemirror_mode": {
    "name": "ipython",
    "version": 3
   },
   "file_extension": ".py",
   "mimetype": "text/x-python",
   "name": "python",
   "nbconvert_exporter": "python",
   "pygments_lexer": "ipython3",
   "version": "3.11.4"
  }
 },
 "nbformat": 4,
 "nbformat_minor": 5
}
