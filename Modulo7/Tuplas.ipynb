{
 "cells": [
  {
   "cell_type": "markdown",
   "id": "e842bebf",
   "metadata": {},
   "source": [
    "### Diferentes formas de crear tuplas"
   ]
  },
  {
   "cell_type": "code",
   "execution_count": 3,
   "id": "b551d679",
   "metadata": {},
   "outputs": [
    {
     "name": "stdout",
     "output_type": "stream",
     "text": [
      "<class 'tuple'>\n",
      "('Carlos', 'Test', 90, 10.2)\n"
     ]
    }
   ],
   "source": [
    "miTupla = 'Carlos','Test',90,10.2\n",
    "print(type(miTupla))\n",
    "print(miTupla)"
   ]
  },
  {
   "cell_type": "code",
   "execution_count": 4,
   "id": "3a03229b",
   "metadata": {},
   "outputs": [
    {
     "name": "stdout",
     "output_type": "stream",
     "text": [
      "<class 'tuple'>\n",
      "('Carlos', 'Test', 90, 10.2)\n"
     ]
    }
   ],
   "source": [
    "miTupla = ('Carlos','Test',90,10.2)\n",
    "print(type(miTupla))\n",
    "print(miTupla)"
   ]
  },
  {
   "cell_type": "code",
   "execution_count": 5,
   "id": "9449b5bd",
   "metadata": {},
   "outputs": [
    {
     "name": "stdout",
     "output_type": "stream",
     "text": [
      "<class 'tuple'>\n",
      "(1, 2, 3, 4, 5, 6, 7)\n"
     ]
    }
   ],
   "source": [
    "miLista = [1,2,3,4,5,6,7]\n",
    "miTupla = tuple(miLista)\n",
    "print(type(miTupla))\n",
    "print(miTupla)"
   ]
  },
  {
   "cell_type": "markdown",
   "id": "960fce57",
   "metadata": {},
   "source": [
    "## Método sort en tuplas"
   ]
  },
  {
   "cell_type": "code",
   "execution_count": 6,
   "id": "a4a468a4",
   "metadata": {},
   "outputs": [
    {
     "name": "stdout",
     "output_type": "stream",
     "text": [
      "(1, 4, 2, 0, 8, 10, -5)\n",
      "[-5, 0, 1, 2, 4, 8, 10]\n",
      "(-5, 0, 1, 2, 4, 8, 10)\n"
     ]
    }
   ],
   "source": [
    "miTupla = 1,4,2,0,8,10,-5\n",
    "miTuplaOrdenada = sorted(miTupla)\n",
    "miTupla2 = tuple(sorted(miTupla))\n",
    "\n",
    "print(miTupla)\n",
    "print(miTuplaOrdenada)\n",
    "print(miTupla2)"
   ]
  },
  {
   "cell_type": "markdown",
   "id": "c4747d63",
   "metadata": {},
   "source": [
    "## Método all en tuplas\n",
    "\n",
    "- Comprueba que todos los valores sean mayores a cero, no exista una cadena vacia, none o False"
   ]
  },
  {
   "cell_type": "code",
   "execution_count": 9,
   "id": "b6750ce5",
   "metadata": {},
   "outputs": [
    {
     "name": "stdout",
     "output_type": "stream",
     "text": [
      "True\n"
     ]
    }
   ],
   "source": [
    "miTupla = 1,2,3,4,5\n",
    "print(all(miTupla))"
   ]
  },
  {
   "cell_type": "code",
   "execution_count": 11,
   "id": "c1fa329a",
   "metadata": {},
   "outputs": [
    {
     "name": "stdout",
     "output_type": "stream",
     "text": [
      "False\n"
     ]
    }
   ],
   "source": [
    "miTupla = 1,2,3,4,0\n",
    "print(all(miTupla))"
   ]
  },
  {
   "cell_type": "code",
   "execution_count": 12,
   "id": "2d61c1c7",
   "metadata": {},
   "outputs": [
    {
     "name": "stdout",
     "output_type": "stream",
     "text": [
      "False\n"
     ]
    }
   ],
   "source": [
    "miTupla = 1,2,3,4,None\n",
    "print(all(miTupla))"
   ]
  },
  {
   "cell_type": "code",
   "execution_count": 13,
   "id": "4b6adca9",
   "metadata": {},
   "outputs": [
    {
     "name": "stdout",
     "output_type": "stream",
     "text": [
      "False\n"
     ]
    }
   ],
   "source": [
    "miTupla = 1,2,3,4,\"\"\n",
    "print(all(miTupla))"
   ]
  },
  {
   "cell_type": "code",
   "execution_count": 14,
   "id": "94855737",
   "metadata": {},
   "outputs": [
    {
     "name": "stdout",
     "output_type": "stream",
     "text": [
      "True\n"
     ]
    }
   ],
   "source": [
    "miTupla = 1,2,3,4,8.1\n",
    "print(all(miTupla))"
   ]
  },
  {
   "cell_type": "code",
   "execution_count": 15,
   "id": "f6b525a1",
   "metadata": {},
   "outputs": [
    {
     "name": "stdout",
     "output_type": "stream",
     "text": [
      "True\n"
     ]
    }
   ],
   "source": [
    "miTupla = 1,2,3,4,True\n",
    "print(all(miTupla))"
   ]
  },
  {
   "cell_type": "markdown",
   "id": "04af952e",
   "metadata": {},
   "source": [
    "## Método any en tupla\n",
    "- Busca al menos un valor positivo para retornar true"
   ]
  },
  {
   "cell_type": "code",
   "execution_count": 16,
   "id": "fbe2c75d",
   "metadata": {},
   "outputs": [
    {
     "name": "stdout",
     "output_type": "stream",
     "text": [
      "True\n"
     ]
    }
   ],
   "source": [
    "miTupla = 0,0,0,0,0,1\n",
    "print(any(miTupla))"
   ]
  },
  {
   "cell_type": "code",
   "execution_count": 20,
   "id": "854b1489",
   "metadata": {},
   "outputs": [
    {
     "name": "stdout",
     "output_type": "stream",
     "text": [
      "False\n"
     ]
    }
   ],
   "source": [
    "miTupla = 0,0,0,0\n",
    "print(any(miTupla))"
   ]
  },
  {
   "cell_type": "code",
   "execution_count": 21,
   "id": "9c0d0af0",
   "metadata": {},
   "outputs": [
    {
     "name": "stdout",
     "output_type": "stream",
     "text": [
      "True\n"
     ]
    }
   ],
   "source": [
    "miTupla = False,False,True\n",
    "print(any(miTupla))"
   ]
  },
  {
   "cell_type": "code",
   "execution_count": 22,
   "id": "144fce86",
   "metadata": {},
   "outputs": [
    {
     "name": "stdout",
     "output_type": "stream",
     "text": [
      "False\n"
     ]
    }
   ],
   "source": [
    "miTupla = False,False\n",
    "print(any(miTupla))"
   ]
  },
  {
   "cell_type": "code",
   "execution_count": 24,
   "id": "2f069af8",
   "metadata": {},
   "outputs": [
    {
     "name": "stdout",
     "output_type": "stream",
     "text": [
      "True\n"
     ]
    }
   ],
   "source": [
    "miTupla = None,None,1\n",
    "print(any(miTupla))"
   ]
  },
  {
   "cell_type": "markdown",
   "id": "db4fd6e4",
   "metadata": {},
   "source": [
    "## Método len en tuplas"
   ]
  },
  {
   "cell_type": "code",
   "execution_count": 27,
   "id": "cd6728cf",
   "metadata": {},
   "outputs": [
    {
     "name": "stdout",
     "output_type": "stream",
     "text": [
      "<class 'tuple'>\n",
      "(2, 4, 1, 6, 98, 0, -1, -8, 11)\n",
      "9\n"
     ]
    }
   ],
   "source": [
    "miTupla = 2,4,1,6,98,0,-1,-8,11\n",
    "print(type(miTupla))\n",
    "print(miTupla)\n",
    "print(len(miTupla))"
   ]
  },
  {
   "cell_type": "markdown",
   "id": "43502e42",
   "metadata": {},
   "source": [
    " ## Indexación en tuplas"
   ]
  },
  {
   "cell_type": "code",
   "execution_count": 28,
   "id": "579c0c40",
   "metadata": {},
   "outputs": [
    {
     "name": "stdout",
     "output_type": "stream",
     "text": [
      "1\n",
      "6\n",
      "7\n",
      "8\n"
     ]
    }
   ],
   "source": [
    "miTupla = 1,2,3,4,5,6,7,8\n",
    "print(miTupla[0])\n",
    "print(miTupla[5])\n",
    "print(miTupla[-2])\n",
    "print(miTupla[-1])"
   ]
  },
  {
   "cell_type": "markdown",
   "id": "4f02edae",
   "metadata": {},
   "source": [
    "## Conversión de Tuplas"
   ]
  },
  {
   "cell_type": "markdown",
   "id": "ebfc60d2",
   "metadata": {},
   "source": [
    "### Cadena a tupla"
   ]
  },
  {
   "cell_type": "code",
   "execution_count": 30,
   "id": "d82572de",
   "metadata": {},
   "outputs": [
    {
     "name": "stdout",
     "output_type": "stream",
     "text": [
      "Backend con python\n",
      "('B', 'a', 'c', 'k', 'e', 'n', 'd', ' ', 'c', 'o', 'n', ' ', 'p', 'y', 't', 'h', 'o', 'n')\n"
     ]
    }
   ],
   "source": [
    "### Cadena a tupla\n",
    "x = 'Backend con python'\n",
    "miTupla = tuple(x)\n",
    "print(x)\n",
    "print(miTupla)"
   ]
  },
  {
   "cell_type": "markdown",
   "id": "8ead82b5",
   "metadata": {},
   "source": [
    "### Lista a tupla"
   ]
  },
  {
   "cell_type": "code",
   "execution_count": 31,
   "id": "51f2f41a",
   "metadata": {},
   "outputs": [
    {
     "name": "stdout",
     "output_type": "stream",
     "text": [
      "['python', 'js', 'java', 'C', 'C++']\n",
      "('python', 'js', 'java', 'C', 'C++')\n"
     ]
    }
   ],
   "source": [
    "x = ['python','js','java','C','C++']\n",
    "miTupla = tuple(x)\n",
    "print(x)\n",
    "print(miTupla)"
   ]
  },
  {
   "cell_type": "markdown",
   "id": "4dd5f9a6",
   "metadata": {},
   "source": [
    "## Tupla a cadena"
   ]
  },
  {
   "cell_type": "code",
   "execution_count": 32,
   "id": "3c08e2d6",
   "metadata": {},
   "outputs": [
    {
     "name": "stdout",
     "output_type": "stream",
     "text": [
      "Backend con python\n"
     ]
    }
   ],
   "source": [
    "miTupla = ('B', 'a', 'c', 'k', 'e', 'n', 'd', ' ', 'c', 'o', 'n', ' ', 'p', 'y', 't', 'h', 'o', 'n')\n",
    "miCadena = \"\".join(miTupla)\n",
    "print(miCadena)"
   ]
  },
  {
   "cell_type": "markdown",
   "id": "5ecce8ea",
   "metadata": {},
   "source": [
    "## Tupla a lista"
   ]
  },
  {
   "cell_type": "code",
   "execution_count": 33,
   "id": "e98c6ae8",
   "metadata": {},
   "outputs": [
    {
     "name": "stdout",
     "output_type": "stream",
     "text": [
      "['python', 'js', 'java', 'C', 'C++']\n"
     ]
    }
   ],
   "source": [
    "miTupla = 'python','js','java','C','C++'\n",
    "miLista = list(miTupla)\n",
    "print(miLista)"
   ]
  },
  {
   "cell_type": "markdown",
   "id": "69415f92",
   "metadata": {},
   "source": [
    "# Ventajas de Tuplas sobre listas\n",
    "- Tuplas se utilizan para elementos heterogéneos\n",
    "- Listas se utilizan para elementos homogéneos\n",
    "- Las tuplas son inmutables, interar sobre una tuplas es más rápido que en una lista\n",
    "- Las tuplas que contienen elementos inmutables pueden ser usadas como llaves para un diccionario\n",
    "- Si hay datos que no cambian, implementarla como tupla garantiza que se mantendrá protegida a modificaciones"
   ]
  },
  {
   "cell_type": "code",
   "execution_count": null,
   "id": "64e59834",
   "metadata": {},
   "outputs": [],
   "source": []
  }
 ],
 "metadata": {
  "kernelspec": {
   "display_name": "Python 3 (ipykernel)",
   "language": "python",
   "name": "python3"
  },
  "language_info": {
   "codemirror_mode": {
    "name": "ipython",
    "version": 3
   },
   "file_extension": ".py",
   "mimetype": "text/x-python",
   "name": "python",
   "nbconvert_exporter": "python",
   "pygments_lexer": "ipython3",
   "version": "3.11.4"
  }
 },
 "nbformat": 4,
 "nbformat_minor": 5
}
