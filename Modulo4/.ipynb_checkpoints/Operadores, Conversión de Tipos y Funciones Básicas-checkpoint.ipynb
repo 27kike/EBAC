{
 "cells": [
  {
   "cell_type": "markdown",
   "id": "d738733a",
   "metadata": {},
   "source": [
    "# Operadores y Tipos de Operadores\n",
    "¿Qué son los operadores?\n",
    "- Conjunto de símbolos para lenguajes de programación\n",
    "- Pueden decirle al compilador que ejecute ciertas acciones para producir un resultado final\n",
    "- Usados para aplicar operaciones en variables\n",
    "- Clasificados según su tipo (aritméticos, relacionales, de asignación, lógicos, afilación y de identidad)"
   ]
  },
  {
   "cell_type": "markdown",
   "id": "ec78c90e",
   "metadata": {},
   "source": [
    "### Operadores aritméticos\n",
    "- Suma +\n",
    "- Resta -\n",
    "- Producto *\n",
    "- División /\n",
    "- División con redondeo hacia abajo //\n",
    "- Exponente **"
   ]
  },
  {
   "cell_type": "code",
   "execution_count": 8,
   "id": "f738677f",
   "metadata": {},
   "outputs": [
    {
     "name": "stdout",
     "output_type": "stream",
     "text": [
      "La suma es: 170\n"
     ]
    }
   ],
   "source": [
    "#Suma\n",
    "valor1 = 90\n",
    "valor2 = 80\n",
    "print('La suma es: {}'.format(valor1 + valor2))"
   ]
  },
  {
   "cell_type": "code",
   "execution_count": 11,
   "id": "d316e947",
   "metadata": {},
   "outputs": [
    {
     "name": "stdout",
     "output_type": "stream",
     "text": [
      "La suma es: 44\n"
     ]
    }
   ],
   "source": [
    "#Suma\n",
    "valor1 = 12\n",
    "valor2 = 32\n",
    "print('La suma es: {}'.format(valor1 + valor2))"
   ]
  },
  {
   "cell_type": "code",
   "execution_count": 14,
   "id": "3cd64002",
   "metadata": {},
   "outputs": [
    {
     "name": "stdout",
     "output_type": "stream",
     "text": [
      "La resta es: 10\n"
     ]
    }
   ],
   "source": [
    "#Resta\n",
    "valor1 = 90\n",
    "valor2 = 80\n",
    "print('La resta es: {}'.format(valor1 - valor2))"
   ]
  },
  {
   "cell_type": "code",
   "execution_count": 18,
   "id": "8a73380d",
   "metadata": {},
   "outputs": [
    {
     "name": "stdout",
     "output_type": "stream",
     "text": [
      "La resta es: -704\n"
     ]
    }
   ],
   "source": [
    "#Resta\n",
    "valor1 = 34\n",
    "valor2 = 738\n",
    "print('La resta es: {}'.format(valor1 - valor2))"
   ]
  },
  {
   "cell_type": "code",
   "execution_count": 20,
   "id": "0fe76601",
   "metadata": {},
   "outputs": [
    {
     "name": "stdout",
     "output_type": "stream",
     "text": [
      "El producto es: 7200\n"
     ]
    }
   ],
   "source": [
    "#Producto\n",
    "valor1 = 90\n",
    "valor2 = 80\n",
    "print('El producto es: {}'.format(valor1 * valor2))"
   ]
  },
  {
   "cell_type": "code",
   "execution_count": 22,
   "id": "2f990ff2",
   "metadata": {},
   "outputs": [
    {
     "name": "stdout",
     "output_type": "stream",
     "text": [
      "El producto es: 36\n"
     ]
    }
   ],
   "source": [
    "#Producto\n",
    "valor1 = 12\n",
    "valor2 = 3\n",
    "print('El producto es: {}'.format(valor1 * valor2))"
   ]
  },
  {
   "cell_type": "code",
   "execution_count": 23,
   "id": "fcebca93",
   "metadata": {},
   "outputs": [
    {
     "name": "stdout",
     "output_type": "stream",
     "text": [
      "La división es: 1.125\n"
     ]
    }
   ],
   "source": [
    "#División\n",
    "valor1 = 90\n",
    "valor2 = 80\n",
    "print('La división es: {}'.format(valor1 / valor2))"
   ]
  },
  {
   "cell_type": "code",
   "execution_count": 25,
   "id": "9132fe47",
   "metadata": {},
   "outputs": [
    {
     "name": "stdout",
     "output_type": "stream",
     "text": [
      "La suma es: 1\n"
     ]
    }
   ],
   "source": [
    "#División con redondeo para abajo\n",
    "valor1 = 90\n",
    "valor2 = 80\n",
    "print('La suma es: {}'.format(valor1 // valor2))"
   ]
  },
  {
   "cell_type": "code",
   "execution_count": 26,
   "id": "2df3795a",
   "metadata": {},
   "outputs": [
    {
     "name": "stdout",
     "output_type": "stream",
     "text": [
      "La suma es: 125\n"
     ]
    }
   ],
   "source": [
    "#Exponente\n",
    "valor1 = 5\n",
    "valor2 = 3\n",
    "print('La suma es: {}'.format(valor1 ** valor2))"
   ]
  },
  {
   "cell_type": "markdown",
   "id": "43a5c7ce",
   "metadata": {},
   "source": [
    "### Operadores Relacionales\n",
    "- Conocidos como operadores de comparacación\n",
    "- Retornan un bool (True o False)\n",
    "- En python son usados para asignar o comparar valores\n",
    "- True cuando la condición se cumple\n",
    "- False cuando la condición no se cumple\n",
    "\n",
    "### Tipos de Operadores Relacionales\n",
    "- \"==\" igual a\n",
    "- \"!=\" diferente\n",
    "- \">\" mayor a\n",
    "- \">=\" mayor o igual a\n",
    "- \"<\" menor a\n",
    "- \"<=\" menor o igual a"
   ]
  },
  {
   "cell_type": "code",
   "execution_count": 28,
   "id": "910c9f4f",
   "metadata": {},
   "outputs": [
    {
     "name": "stdout",
     "output_type": "stream",
     "text": [
      "Los números son iguales: False\n"
     ]
    }
   ],
   "source": [
    "#Igual a\n",
    "valor1 = 90\n",
    "valor2 = 80\n",
    "print('Los números son iguales: {}'.format(valor1 == valor2))"
   ]
  },
  {
   "cell_type": "code",
   "execution_count": 29,
   "id": "9a098298",
   "metadata": {},
   "outputs": [
    {
     "name": "stdout",
     "output_type": "stream",
     "text": [
      "Los números son iguales: True\n"
     ]
    }
   ],
   "source": [
    "#Igual a\n",
    "valor1 = 90\n",
    "valor2 = 90\n",
    "print('Los números son iguales: {}'.format(valor1 == valor2))"
   ]
  },
  {
   "cell_type": "code",
   "execution_count": 31,
   "id": "898025e4",
   "metadata": {},
   "outputs": [
    {
     "name": "stdout",
     "output_type": "stream",
     "text": [
      "Los números son diferentes: True\n"
     ]
    }
   ],
   "source": [
    "#Diferentes\n",
    "valor1 = 90\n",
    "valor2 = 80\n",
    "print('Los números son diferentes: {}'.format(valor1 != valor2))"
   ]
  },
  {
   "cell_type": "code",
   "execution_count": 32,
   "id": "20365549",
   "metadata": {},
   "outputs": [
    {
     "name": "stdout",
     "output_type": "stream",
     "text": [
      "Los números son iguales: False\n"
     ]
    }
   ],
   "source": [
    "#Diferentes\n",
    "valor1 = 90\n",
    "valor2 = 90\n",
    "print('Los números son iguales: {}'.format(valor1 != valor2))"
   ]
  },
  {
   "cell_type": "code",
   "execution_count": 34,
   "id": "02f5fe00",
   "metadata": {},
   "outputs": [
    {
     "name": "stdout",
     "output_type": "stream",
     "text": [
      "Valor1 es mayor a valor2: True\n"
     ]
    }
   ],
   "source": [
    "#Mayor a\n",
    "valor1 = 90\n",
    "valor2 = 80\n",
    "print('Valor1 es mayor a valor2: {}'.format(valor1 > valor2))"
   ]
  },
  {
   "cell_type": "code",
   "execution_count": 38,
   "id": "ecdc1f57",
   "metadata": {},
   "outputs": [
    {
     "name": "stdout",
     "output_type": "stream",
     "text": [
      "Valor1 es mayor a valor2: False\n"
     ]
    }
   ],
   "source": [
    "#Mayor a\n",
    "valor1 = 90\n",
    "valor2 = 800\n",
    "print('Valor1 es mayor a valor2: {}'.format(valor1 > valor2))"
   ]
  },
  {
   "cell_type": "code",
   "execution_count": 42,
   "id": "c4d4d93f",
   "metadata": {},
   "outputs": [
    {
     "name": "stdout",
     "output_type": "stream",
     "text": [
      "Valor1 es mayor a valor2: True\n"
     ]
    }
   ],
   "source": [
    "#Mayor o igual a\n",
    "valor1 = 90\n",
    "valor2 = 80\n",
    "print('Valor1 es mayor a valor2: {}'.format(valor1 >= valor2))"
   ]
  },
  {
   "cell_type": "code",
   "execution_count": 43,
   "id": "9c2d5941",
   "metadata": {},
   "outputs": [
    {
     "name": "stdout",
     "output_type": "stream",
     "text": [
      "Valor1 es mayor a valor2: True\n"
     ]
    }
   ],
   "source": [
    "#Mayor o igual a\n",
    "valor1 = 90\n",
    "valor2 = 90\n",
    "print('Valor1 es mayor a valor2: {}'.format(valor1 >= valor2))"
   ]
  },
  {
   "cell_type": "code",
   "execution_count": 47,
   "id": "9da3138b",
   "metadata": {},
   "outputs": [
    {
     "name": "stdout",
     "output_type": "stream",
     "text": [
      "Valor1 es mayor a valor2: True\n"
     ]
    }
   ],
   "source": [
    "#Menor o igual a\n",
    "valor1 = 70\n",
    "valor2 = 80\n",
    "print('Valor1 es mayor a valor2: {}'.format(valor1 <= valor2))"
   ]
  },
  {
   "cell_type": "markdown",
   "id": "1c00fad0",
   "metadata": {},
   "source": [
    "# Operadores de Asignación\n",
    "\n",
    "¿Qué son los operadores de asignación?\n",
    "- Son usados para asignar valores a variables\n",
    "- Incluyen al operador de asignación \"=\"\n",
    "\n",
    "## Tipos de operadores de asignación\n",
    "- \"=\": Operador de asignación\n",
    "- \"+=\": Sumar y asignar\n",
    "- \"-=\": Restar y asignar\n",
    "- \"*=\": Producto y asginar\n",
    "- \"/=\": Dividir y asignar\n",
    "- \"//=\": Dividir con redondeo hacia abajo y asignar\n",
    "- \"%=\": Modulo y asignar\n",
    "- \"**=\": Exponnente y asignar"
   ]
  },
  {
   "cell_type": "code",
   "execution_count": 2,
   "id": "72521cdd",
   "metadata": {},
   "outputs": [],
   "source": [
    "#Asignación\n",
    "num1 = 0\n",
    "num2 = 12"
   ]
  },
  {
   "cell_type": "code",
   "execution_count": 4,
   "id": "81022e42",
   "metadata": {},
   "outputs": [
    {
     "name": "stdout",
     "output_type": "stream",
     "text": [
      "Valor de la variable num1 antes de sumar y asingar es: 10\n",
      "Valor de la variable num1 después de sumar y asingar es: 30\n"
     ]
    }
   ],
   "source": [
    "#Sumar y asignar\n",
    "num1 = 10\n",
    "num2 = 20\n",
    "print('Valor de la variable num1 antes de sumar y asingar es: {}'.format(num1))\n",
    "num1+=num2\n",
    "print('Valor de la variable num1 después de sumar y asingar es: {}'.format(num1))"
   ]
  },
  {
   "cell_type": "code",
   "execution_count": 6,
   "id": "3c67b5b8",
   "metadata": {},
   "outputs": [
    {
     "name": "stdout",
     "output_type": "stream",
     "text": [
      "Valor de la variable num1 antes de restar y asingar es: 10\n",
      "Valor de la variable num1 después de restar y asingar es: -10\n"
     ]
    }
   ],
   "source": [
    "#Restar y asignar\n",
    "num1 = 10\n",
    "num2 = 20\n",
    "print('Valor de la variable num1 antes de restar y asingar es: {}'.format(num1))\n",
    "num1-=num2\n",
    "print('Valor de la variable num1 después de restar y asingar es: {}'.format(num1))"
   ]
  },
  {
   "cell_type": "code",
   "execution_count": 7,
   "id": "b0b811e4",
   "metadata": {},
   "outputs": [
    {
     "name": "stdout",
     "output_type": "stream",
     "text": [
      "Valor de la variable num1 antes de producto y asingar es: 10\n",
      "Valor de la variable num1 después de producto y asingar es: 200\n"
     ]
    }
   ],
   "source": [
    "#Producto y asignar\n",
    "num1 = 10\n",
    "num2 = 20\n",
    "print('Valor de la variable num1 antes de producto y asingar es: {}'.format(num1))\n",
    "num1*=num2\n",
    "print('Valor de la variable num1 después de producto y asingar es: {}'.format(num1))"
   ]
  },
  {
   "cell_type": "code",
   "execution_count": 8,
   "id": "7c50b621",
   "metadata": {},
   "outputs": [
    {
     "name": "stdout",
     "output_type": "stream",
     "text": [
      "Valor de la variable num1 antes de dividir y asingar es: 10\n",
      "Valor de la variable num1 después de dividir y asingar es: 0.5\n"
     ]
    }
   ],
   "source": [
    "#Dividir y asignar\n",
    "num1 = 10\n",
    "num2 = 20\n",
    "print('Valor de la variable num1 antes de dividir y asingar es: {}'.format(num1))\n",
    "num1/=num2\n",
    "print('Valor de la variable num1 después de dividir y asingar es: {}'.format(num1))"
   ]
  },
  {
   "cell_type": "code",
   "execution_count": 10,
   "id": "fcc7e12b",
   "metadata": {},
   "outputs": [
    {
     "name": "stdout",
     "output_type": "stream",
     "text": [
      "Valor de la variable num1 antes de dividir con redondeo hacia abajo y asingar es: 10\n",
      "Valor de la variable num1 después de dividir con redondeo hacia abajo y asingar es: 0\n"
     ]
    }
   ],
   "source": [
    "#Dividir con redondeo hacia abajo y asignar\n",
    "num1 = 10\n",
    "num2 = 20\n",
    "print('Valor de la variable num1 antes de dividir con redondeo hacia abajo y asingar es: {}'.format(num1))\n",
    "num1//=num2\n",
    "print('Valor de la variable num1 después de dividir con redondeo hacia abajo y asingar es: {}'.format(num1))"
   ]
  },
  {
   "cell_type": "code",
   "execution_count": 12,
   "id": "d87ae149",
   "metadata": {},
   "outputs": [
    {
     "name": "stdout",
     "output_type": "stream",
     "text": [
      "Valor de la variable num1 antes de potencia y asingar es: 2\n",
      "Valor de la variable num1 después de potencia y asingar es: 32\n"
     ]
    }
   ],
   "source": [
    "#Potencia y asignar\n",
    "num1 = 2\n",
    "num2 = 5\n",
    "print('Valor de la variable num1 antes de potencia y asingar es: {}'.format(num1))\n",
    "num1**=num2\n",
    "print('Valor de la variable num1 después de potencia y asingar es: {}'.format(num1))"
   ]
  },
  {
   "cell_type": "code",
   "execution_count": 14,
   "id": "af37f915",
   "metadata": {},
   "outputs": [
    {
     "name": "stdout",
     "output_type": "stream",
     "text": [
      "Valor de la variable num1 antes de modulo y asingar es: 10\n",
      "Valor de la variable num1 después de modulo y asingar es: 0\n"
     ]
    }
   ],
   "source": [
    "#Modulo y asignar\n",
    "num1 = 10\n",
    "num2 = 2\n",
    "print('Valor de la variable num1 antes de modulo y asingar es: {}'.format(num1))\n",
    "num1%=num2\n",
    "print('Valor de la variable num1 después de modulo y asingar es: {}'.format(num1))"
   ]
  },
  {
   "cell_type": "markdown",
   "id": "e71cf1f4",
   "metadata": {},
   "source": [
    "# Operadores Lógicos\n",
    "\n",
    "¿Qué son los operadores lógicos?\n",
    "- Usados principalmente para declaraciones condicionales\n",
    "- Son indicadores estructurales\n",
    "- Conocidos como conectores lógicos\n",
    "- Existen 3 tipos de operadores lógicos\n",
    "    - AND (y) - Regresa True si ambas si ambas operaciones son verdaderas\n",
    "    - OR (o) - Regresa True si por lo menos una operación es verdadera\n",
    "    - NOT (negación) - Regresa True si es False y al revés"
   ]
  },
  {
   "cell_type": "code",
   "execution_count": 20,
   "id": "79a94e4a",
   "metadata": {},
   "outputs": [
    {
     "name": "stdout",
     "output_type": "stream",
     "text": [
      "El valor es: True\n"
     ]
    }
   ],
   "source": [
    "# AND: Retorna True si ambas operaciones se cumplen\n",
    "num1 = 10\n",
    "num2 = 5\n",
    "#num1 > num2 AND num1 != num2 - True\n",
    "print(\"El valor es:\", num1 > num2 and num1 != num2)"
   ]
  },
  {
   "cell_type": "code",
   "execution_count": 23,
   "id": "0084147b",
   "metadata": {},
   "outputs": [
    {
     "name": "stdout",
     "output_type": "stream",
     "text": [
      "El valor es: False\n"
     ]
    }
   ],
   "source": [
    "# AND: Retorna True si ambas operaciones se cumplen\n",
    "num1 = 10\n",
    "num2 = 5\n",
    "#num1 >= num2 AND num1 == num2 - False\n",
    "print(\"El valor es:\", num1 > num2 and num1 == num2)"
   ]
  },
  {
   "cell_type": "code",
   "execution_count": 24,
   "id": "1e8beb4a",
   "metadata": {},
   "outputs": [
    {
     "name": "stdout",
     "output_type": "stream",
     "text": [
      "El valor es: True\n"
     ]
    }
   ],
   "source": [
    "# OR: Retorna True si por lo menos una  operaciones se cumplen\n",
    "num1 = 10\n",
    "num2 = 5\n",
    "#num1 > num2 or num1 != num2 - True\n",
    "print(\"El valor es:\", num1 > num2 or num1 != num2)"
   ]
  },
  {
   "cell_type": "code",
   "execution_count": 25,
   "id": "a82bf0d7",
   "metadata": {},
   "outputs": [
    {
     "name": "stdout",
     "output_type": "stream",
     "text": [
      "El valor es: True\n"
     ]
    }
   ],
   "source": [
    "# OR: Retorna True si por lo menos una  operaciones se cumplen\n",
    "num1 = 10\n",
    "num2 = 5\n",
    "#num1 < num2 or num1 != num2 - True\n",
    "print(\"El valor es:\", num1 < num2 or num1 != num2)"
   ]
  },
  {
   "cell_type": "code",
   "execution_count": 1,
   "id": "64a30ca8",
   "metadata": {},
   "outputs": [
    {
     "name": "stdout",
     "output_type": "stream",
     "text": [
      "El valor es: False\n"
     ]
    }
   ],
   "source": [
    "# not\n",
    "num1 = 10\n",
    "num2 = 5\n",
    "#not num1 < num2 or num1 != num2 - False\n",
    "print(\"El valor es:\", not(num1 < num2 or num1 != num2))"
   ]
  },
  {
   "cell_type": "markdown",
   "id": "4d990103",
   "metadata": {},
   "source": [
    "# Operadores de afiliación\n",
    "\n",
    "- Son usados para validar los elementos en listas, cadenas y tuplas\n",
    "- Validan si una variable está presente en una secuencia\n",
    "- Regresan un bool como resultado\n",
    "- True si el valor está presente\n",
    "- False si el valor no está presente\n",
    "- Hay dos operadores de afiliación\n",
    "    - IN - Valor dentro de la secuencia\n",
    "    - NOT IN -El valor no está en la secuencia"
   ]
  },
  {
   "cell_type": "code",
   "execution_count": 6,
   "id": "38f42806",
   "metadata": {},
   "outputs": [
    {
     "name": "stdout",
     "output_type": "stream",
     "text": [
      "M in txt True\n"
     ]
    }
   ],
   "source": [
    "# IN\n",
    "txt = 'Me gusta python'\n",
    "print('M in txt', 'M' in txt)"
   ]
  },
  {
   "cell_type": "code",
   "execution_count": 7,
   "id": "439311fb",
   "metadata": {},
   "outputs": [
    {
     "name": "stdout",
     "output_type": "stream",
     "text": [
      "Me in txt True\n"
     ]
    }
   ],
   "source": [
    "# IN\n",
    "txt = 'Me gusta python'\n",
    "print('Me in txt', 'Me' in txt)"
   ]
  },
  {
   "cell_type": "code",
   "execution_count": 8,
   "id": "a9ac68c2",
   "metadata": {},
   "outputs": [
    {
     "name": "stdout",
     "output_type": "stream",
     "text": [
      "B in txt False\n"
     ]
    }
   ],
   "source": [
    "# IN\n",
    "txt = 'Me gusta python'\n",
    "print('B in txt', 'B' in txt)"
   ]
  },
  {
   "cell_type": "code",
   "execution_count": 9,
   "id": "785d9527",
   "metadata": {},
   "outputs": [
    {
     "name": "stdout",
     "output_type": "stream",
     "text": [
      "1 in lista True\n"
     ]
    }
   ],
   "source": [
    "#IN\n",
    "lista = [1,2,3,4,5,6]\n",
    "print('1 in lista', 1 in lista)"
   ]
  },
  {
   "cell_type": "code",
   "execution_count": 10,
   "id": "115a4254",
   "metadata": {},
   "outputs": [
    {
     "name": "stdout",
     "output_type": "stream",
     "text": [
      "1 not in lista False\n"
     ]
    }
   ],
   "source": [
    "#NOT IN\n",
    "lista = [1,2,3,4,5,6]\n",
    "print('1 not in lista', 1 not in lista)"
   ]
  },
  {
   "cell_type": "code",
   "execution_count": 11,
   "id": "4a08dd42",
   "metadata": {},
   "outputs": [
    {
     "name": "stdout",
     "output_type": "stream",
     "text": [
      "6 not in lista False\n"
     ]
    }
   ],
   "source": [
    "lista = {1,2,3,4,5,6,6,4,2,6,1,3}\n",
    "print('6 not in lista', 6 not in lista)"
   ]
  },
  {
   "cell_type": "code",
   "execution_count": 12,
   "id": "14d5644c",
   "metadata": {},
   "outputs": [
    {
     "data": {
      "text/plain": [
       "{1, 2, 3, 4, 5, 6}"
      ]
     },
     "execution_count": 12,
     "metadata": {},
     "output_type": "execute_result"
    }
   ],
   "source": [
    "lista"
   ]
  },
  {
   "cell_type": "code",
   "execution_count": 13,
   "id": "4add36f3",
   "metadata": {},
   "outputs": [
    {
     "name": "stdout",
     "output_type": "stream",
     "text": [
      "55 not in lista True\n"
     ]
    }
   ],
   "source": [
    "lista = {1,2,3,4,5,6,6,4,2,6,1,3}\n",
    "print('55 not in lista', 55 not in lista)"
   ]
  },
  {
   "cell_type": "markdown",
   "id": "a91c634d",
   "metadata": {},
   "source": [
    "# Operadores de identidad\n",
    "- Comparan la ubicación en memoria de dos objetos\n",
    "- Utilizados para validar si los valores comparten el mismo espacio en memoria\n",
    "- Regresan True si lo comparten, y False si no lo comparten\n",
    "- Hay dos operadores de identidad\n",
    "    - IS\n",
    "    - IS NOT"
   ]
  },
  {
   "cell_type": "code",
   "execution_count": 15,
   "id": "d82e5cad",
   "metadata": {},
   "outputs": [
    {
     "name": "stdout",
     "output_type": "stream",
     "text": [
      "99 is 100 False\n"
     ]
    }
   ],
   "source": [
    "# is\n",
    "x = 99\n",
    "y = 100\n",
    "print('99 is 100', x is y)"
   ]
  },
  {
   "cell_type": "code",
   "execution_count": 17,
   "id": "bcd61f7d",
   "metadata": {},
   "outputs": [
    {
     "name": "stdout",
     "output_type": "stream",
     "text": [
      "100 is 100 True\n"
     ]
    }
   ],
   "source": [
    "#is\n",
    "x = 100\n",
    "y = 100\n",
    "print('100 is 100', x is y)"
   ]
  },
  {
   "cell_type": "code",
   "execution_count": 18,
   "id": "a3be6f61",
   "metadata": {},
   "outputs": [
    {
     "name": "stdout",
     "output_type": "stream",
     "text": [
      "x is not y True\n"
     ]
    }
   ],
   "source": [
    "# is not\n",
    "x = 10\n",
    "y = 90\n",
    "print('x is not y', x is not y)"
   ]
  },
  {
   "cell_type": "code",
   "execution_count": 19,
   "id": "7df56d84",
   "metadata": {},
   "outputs": [
    {
     "name": "stdout",
     "output_type": "stream",
     "text": [
      "x is not y False\n"
     ]
    }
   ],
   "source": [
    "# is not\n",
    "x = 90\n",
    "y = 90\n",
    "print('x is not y', x is not y)"
   ]
  },
  {
   "cell_type": "code",
   "execution_count": null,
   "id": "99e77de6",
   "metadata": {},
   "outputs": [],
   "source": []
  }
 ],
 "metadata": {
  "kernelspec": {
   "display_name": "Python 3 (ipykernel)",
   "language": "python",
   "name": "python3"
  },
  "language_info": {
   "codemirror_mode": {
    "name": "ipython",
    "version": 3
   },
   "file_extension": ".py",
   "mimetype": "text/x-python",
   "name": "python",
   "nbconvert_exporter": "python",
   "pygments_lexer": "ipython3",
   "version": "3.11.4"
  }
 },
 "nbformat": 4,
 "nbformat_minor": 5
}
