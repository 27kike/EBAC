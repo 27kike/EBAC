{
 "cells": [
  {
   "cell_type": "markdown",
   "id": "d738733a",
   "metadata": {},
   "source": [
    "# Operadores y Tipos de Operadores\n",
    "¿Qué son los operadores?\n",
    "- Conjunto de símbolos para lenguajes de programación\n",
    "- Pueden decirle al compilador que ejecute ciertas acciones para producir un resultado final\n",
    "- Usados para aplicar operaciones en variables\n",
    "- Clasificados según su tipo (aritméticos, relacionales, de asignación, lógicos, afilación y de identidad)"
   ]
  },
  {
   "cell_type": "markdown",
   "id": "ec78c90e",
   "metadata": {},
   "source": [
    "### Operadores aritméticos\n",
    "- Suma +\n",
    "- Resta -\n",
    "- Producto *\n",
    "- División /\n",
    "- División con redondeo hacia abajo //\n",
    "- Exponente **"
   ]
  },
  {
   "cell_type": "code",
   "execution_count": 8,
   "id": "f738677f",
   "metadata": {},
   "outputs": [
    {
     "name": "stdout",
     "output_type": "stream",
     "text": [
      "La suma es: 170\n"
     ]
    }
   ],
   "source": [
    "#Suma\n",
    "valor1 = 90\n",
    "valor2 = 80\n",
    "print('La suma es: {}'.format(valor1 + valor2))"
   ]
  },
  {
   "cell_type": "code",
   "execution_count": 11,
   "id": "d316e947",
   "metadata": {},
   "outputs": [
    {
     "name": "stdout",
     "output_type": "stream",
     "text": [
      "La suma es: 44\n"
     ]
    }
   ],
   "source": [
    "#Suma\n",
    "valor1 = 12\n",
    "valor2 = 32\n",
    "print('La suma es: {}'.format(valor1 + valor2))"
   ]
  },
  {
   "cell_type": "code",
   "execution_count": 14,
   "id": "3cd64002",
   "metadata": {},
   "outputs": [
    {
     "name": "stdout",
     "output_type": "stream",
     "text": [
      "La resta es: 10\n"
     ]
    }
   ],
   "source": [
    "#Resta\n",
    "valor1 = 90\n",
    "valor2 = 80\n",
    "print('La resta es: {}'.format(valor1 - valor2))"
   ]
  },
  {
   "cell_type": "code",
   "execution_count": 18,
   "id": "8a73380d",
   "metadata": {},
   "outputs": [
    {
     "name": "stdout",
     "output_type": "stream",
     "text": [
      "La resta es: -704\n"
     ]
    }
   ],
   "source": [
    "#Resta\n",
    "valor1 = 34\n",
    "valor2 = 738\n",
    "print('La resta es: {}'.format(valor1 - valor2))"
   ]
  },
  {
   "cell_type": "code",
   "execution_count": 20,
   "id": "0fe76601",
   "metadata": {},
   "outputs": [
    {
     "name": "stdout",
     "output_type": "stream",
     "text": [
      "El producto es: 7200\n"
     ]
    }
   ],
   "source": [
    "#Producto\n",
    "valor1 = 90\n",
    "valor2 = 80\n",
    "print('El producto es: {}'.format(valor1 * valor2))"
   ]
  },
  {
   "cell_type": "code",
   "execution_count": 22,
   "id": "2f990ff2",
   "metadata": {},
   "outputs": [
    {
     "name": "stdout",
     "output_type": "stream",
     "text": [
      "El producto es: 36\n"
     ]
    }
   ],
   "source": [
    "#Producto\n",
    "valor1 = 12\n",
    "valor2 = 3\n",
    "print('El producto es: {}'.format(valor1 * valor2))"
   ]
  },
  {
   "cell_type": "code",
   "execution_count": 23,
   "id": "fcebca93",
   "metadata": {},
   "outputs": [
    {
     "name": "stdout",
     "output_type": "stream",
     "text": [
      "La división es: 1.125\n"
     ]
    }
   ],
   "source": [
    "#División\n",
    "valor1 = 90\n",
    "valor2 = 80\n",
    "print('La división es: {}'.format(valor1 / valor2))"
   ]
  },
  {
   "cell_type": "code",
   "execution_count": 25,
   "id": "9132fe47",
   "metadata": {},
   "outputs": [
    {
     "name": "stdout",
     "output_type": "stream",
     "text": [
      "La suma es: 1\n"
     ]
    }
   ],
   "source": [
    "#División con redondeo para abajo\n",
    "valor1 = 90\n",
    "valor2 = 80\n",
    "print('La suma es: {}'.format(valor1 // valor2))"
   ]
  },
  {
   "cell_type": "code",
   "execution_count": 26,
   "id": "2df3795a",
   "metadata": {},
   "outputs": [
    {
     "name": "stdout",
     "output_type": "stream",
     "text": [
      "La suma es: 125\n"
     ]
    }
   ],
   "source": [
    "#Exponente\n",
    "valor1 = 5\n",
    "valor2 = 3\n",
    "print('La suma es: {}'.format(valor1 ** valor2))"
   ]
  },
  {
   "cell_type": "markdown",
   "id": "43a5c7ce",
   "metadata": {},
   "source": [
    "### Operadores Relacionales\n",
    "- Conocidos como operadores de comparacación\n",
    "- Retornan un bool (True o False)\n",
    "- En python son usados para asignar o comparar valores\n",
    "- True cuando la condición se cumple\n",
    "- False cuando la condición no se cumple\n",
    "\n",
    "### Tipos de Operadores Relacionales\n",
    "- \"==\" igual a\n",
    "- \"!=\" diferente\n",
    "- \">\" mayor a\n",
    "- \">=\" mayor o igual a\n",
    "- \"<\" menor a\n",
    "- \"<=\" menor o igual a"
   ]
  },
  {
   "cell_type": "code",
   "execution_count": 28,
   "id": "910c9f4f",
   "metadata": {},
   "outputs": [
    {
     "name": "stdout",
     "output_type": "stream",
     "text": [
      "Los números son iguales: False\n"
     ]
    }
   ],
   "source": [
    "#Igual a\n",
    "valor1 = 90\n",
    "valor2 = 80\n",
    "print('Los números son iguales: {}'.format(valor1 == valor2))"
   ]
  },
  {
   "cell_type": "code",
   "execution_count": 29,
   "id": "9a098298",
   "metadata": {},
   "outputs": [
    {
     "name": "stdout",
     "output_type": "stream",
     "text": [
      "Los números son iguales: True\n"
     ]
    }
   ],
   "source": [
    "#Igual a\n",
    "valor1 = 90\n",
    "valor2 = 90\n",
    "print('Los números son iguales: {}'.format(valor1 == valor2))"
   ]
  },
  {
   "cell_type": "code",
   "execution_count": 31,
   "id": "898025e4",
   "metadata": {},
   "outputs": [
    {
     "name": "stdout",
     "output_type": "stream",
     "text": [
      "Los números son diferentes: True\n"
     ]
    }
   ],
   "source": [
    "#Diferentes\n",
    "valor1 = 90\n",
    "valor2 = 80\n",
    "print('Los números son diferentes: {}'.format(valor1 != valor2))"
   ]
  },
  {
   "cell_type": "code",
   "execution_count": 32,
   "id": "20365549",
   "metadata": {},
   "outputs": [
    {
     "name": "stdout",
     "output_type": "stream",
     "text": [
      "Los números son iguales: False\n"
     ]
    }
   ],
   "source": [
    "#Diferentes\n",
    "valor1 = 90\n",
    "valor2 = 90\n",
    "print('Los números son iguales: {}'.format(valor1 != valor2))"
   ]
  },
  {
   "cell_type": "code",
   "execution_count": 34,
   "id": "02f5fe00",
   "metadata": {},
   "outputs": [
    {
     "name": "stdout",
     "output_type": "stream",
     "text": [
      "Valor1 es mayor a valor2: True\n"
     ]
    }
   ],
   "source": [
    "#Mayor a\n",
    "valor1 = 90\n",
    "valor2 = 80\n",
    "print('Valor1 es mayor a valor2: {}'.format(valor1 > valor2))"
   ]
  },
  {
   "cell_type": "code",
   "execution_count": 38,
   "id": "ecdc1f57",
   "metadata": {},
   "outputs": [
    {
     "name": "stdout",
     "output_type": "stream",
     "text": [
      "Valor1 es mayor a valor2: False\n"
     ]
    }
   ],
   "source": [
    "#Mayor a\n",
    "valor1 = 90\n",
    "valor2 = 800\n",
    "print('Valor1 es mayor a valor2: {}'.format(valor1 > valor2))"
   ]
  },
  {
   "cell_type": "code",
   "execution_count": 42,
   "id": "c4d4d93f",
   "metadata": {},
   "outputs": [
    {
     "name": "stdout",
     "output_type": "stream",
     "text": [
      "Valor1 es mayor a valor2: True\n"
     ]
    }
   ],
   "source": [
    "#Mayor o igual a\n",
    "valor1 = 90\n",
    "valor2 = 80\n",
    "print('Valor1 es mayor a valor2: {}'.format(valor1 >= valor2))"
   ]
  },
  {
   "cell_type": "code",
   "execution_count": 43,
   "id": "9c2d5941",
   "metadata": {},
   "outputs": [
    {
     "name": "stdout",
     "output_type": "stream",
     "text": [
      "Valor1 es mayor a valor2: True\n"
     ]
    }
   ],
   "source": [
    "#Mayor o igual a\n",
    "valor1 = 90\n",
    "valor2 = 90\n",
    "print('Valor1 es mayor a valor2: {}'.format(valor1 >= valor2))"
   ]
  },
  {
   "cell_type": "code",
   "execution_count": 47,
   "id": "9da3138b",
   "metadata": {},
   "outputs": [
    {
     "name": "stdout",
     "output_type": "stream",
     "text": [
      "Valor1 es mayor a valor2: True\n"
     ]
    }
   ],
   "source": [
    "#Menor o igual a\n",
    "valor1 = 70\n",
    "valor2 = 80\n",
    "print('Valor1 es mayor a valor2: {}'.format(valor1 <= valor2))"
   ]
  },
  {
   "cell_type": "markdown",
   "id": "1c00fad0",
   "metadata": {},
   "source": [
    "# Operadores de Asignación\n",
    "\n",
    "¿Qué son los operadores de asignación?\n",
    "- Son usados para asignar valores a variables\n",
    "- Incluyen al operador de asignación \"=\"\n",
    "\n",
    "## Tipos de operadores de asignación\n",
    "- \"=\": Operador de asignación\n",
    "- \"+=\": Sumar y asignar\n",
    "- \"-=\": Restar y asignar\n",
    "- \"*=\": Producto y asginar\n",
    "- \"/=\": Dividir y asignar\n",
    "- \"//=\": Dividir con redondeo hacia abajo y asignar\n",
    "- \"%=\": Modulo y asignar\n",
    "- \"**=\": Exponnente y asignar"
   ]
  },
  {
   "cell_type": "code",
   "execution_count": 2,
   "id": "72521cdd",
   "metadata": {},
   "outputs": [],
   "source": [
    "#Asignación\n",
    "num1 = 0\n",
    "num2 = 12"
   ]
  },
  {
   "cell_type": "code",
   "execution_count": 4,
   "id": "81022e42",
   "metadata": {},
   "outputs": [
    {
     "name": "stdout",
     "output_type": "stream",
     "text": [
      "Valor de la variable num1 antes de sumar y asingar es: 10\n",
      "Valor de la variable num1 después de sumar y asingar es: 30\n"
     ]
    }
   ],
   "source": [
    "#Sumar y asignar\n",
    "num1 = 10\n",
    "num2 = 20\n",
    "print('Valor de la variable num1 antes de sumar y asingar es: {}'.format(num1))\n",
    "num1+=num2\n",
    "print('Valor de la variable num1 después de sumar y asingar es: {}'.format(num1))"
   ]
  },
  {
   "cell_type": "code",
   "execution_count": 6,
   "id": "3c67b5b8",
   "metadata": {},
   "outputs": [
    {
     "name": "stdout",
     "output_type": "stream",
     "text": [
      "Valor de la variable num1 antes de restar y asingar es: 10\n",
      "Valor de la variable num1 después de restar y asingar es: -10\n"
     ]
    }
   ],
   "source": [
    "#Restar y asignar\n",
    "num1 = 10\n",
    "num2 = 20\n",
    "print('Valor de la variable num1 antes de restar y asingar es: {}'.format(num1))\n",
    "num1-=num2\n",
    "print('Valor de la variable num1 después de restar y asingar es: {}'.format(num1))"
   ]
  },
  {
   "cell_type": "code",
   "execution_count": 7,
   "id": "b0b811e4",
   "metadata": {},
   "outputs": [
    {
     "name": "stdout",
     "output_type": "stream",
     "text": [
      "Valor de la variable num1 antes de producto y asingar es: 10\n",
      "Valor de la variable num1 después de producto y asingar es: 200\n"
     ]
    }
   ],
   "source": [
    "#Producto y asignar\n",
    "num1 = 10\n",
    "num2 = 20\n",
    "print('Valor de la variable num1 antes de producto y asingar es: {}'.format(num1))\n",
    "num1*=num2\n",
    "print('Valor de la variable num1 después de producto y asingar es: {}'.format(num1))"
   ]
  },
  {
   "cell_type": "code",
   "execution_count": 8,
   "id": "7c50b621",
   "metadata": {},
   "outputs": [
    {
     "name": "stdout",
     "output_type": "stream",
     "text": [
      "Valor de la variable num1 antes de dividir y asingar es: 10\n",
      "Valor de la variable num1 después de dividir y asingar es: 0.5\n"
     ]
    }
   ],
   "source": [
    "#Dividir y asignar\n",
    "num1 = 10\n",
    "num2 = 20\n",
    "print('Valor de la variable num1 antes de dividir y asingar es: {}'.format(num1))\n",
    "num1/=num2\n",
    "print('Valor de la variable num1 después de dividir y asingar es: {}'.format(num1))"
   ]
  },
  {
   "cell_type": "code",
   "execution_count": 10,
   "id": "fcc7e12b",
   "metadata": {},
   "outputs": [
    {
     "name": "stdout",
     "output_type": "stream",
     "text": [
      "Valor de la variable num1 antes de dividir con redondeo hacia abajo y asingar es: 10\n",
      "Valor de la variable num1 después de dividir con redondeo hacia abajo y asingar es: 0\n"
     ]
    }
   ],
   "source": [
    "#Dividir con redondeo hacia abajo y asignar\n",
    "num1 = 10\n",
    "num2 = 20\n",
    "print('Valor de la variable num1 antes de dividir con redondeo hacia abajo y asingar es: {}'.format(num1))\n",
    "num1//=num2\n",
    "print('Valor de la variable num1 después de dividir con redondeo hacia abajo y asingar es: {}'.format(num1))"
   ]
  },
  {
   "cell_type": "code",
   "execution_count": 12,
   "id": "d87ae149",
   "metadata": {},
   "outputs": [
    {
     "name": "stdout",
     "output_type": "stream",
     "text": [
      "Valor de la variable num1 antes de potencia y asingar es: 2\n",
      "Valor de la variable num1 después de potencia y asingar es: 32\n"
     ]
    }
   ],
   "source": [
    "#Potencia y asignar\n",
    "num1 = 2\n",
    "num2 = 5\n",
    "print('Valor de la variable num1 antes de potencia y asingar es: {}'.format(num1))\n",
    "num1**=num2\n",
    "print('Valor de la variable num1 después de potencia y asingar es: {}'.format(num1))"
   ]
  },
  {
   "cell_type": "code",
   "execution_count": 14,
   "id": "af37f915",
   "metadata": {},
   "outputs": [
    {
     "name": "stdout",
     "output_type": "stream",
     "text": [
      "Valor de la variable num1 antes de modulo y asingar es: 10\n",
      "Valor de la variable num1 después de modulo y asingar es: 0\n"
     ]
    }
   ],
   "source": [
    "#Modulo y asignar\n",
    "num1 = 10\n",
    "num2 = 2\n",
    "print('Valor de la variable num1 antes de modulo y asingar es: {}'.format(num1))\n",
    "num1%=num2\n",
    "print('Valor de la variable num1 después de modulo y asingar es: {}'.format(num1))"
   ]
  },
  {
   "cell_type": "markdown",
   "id": "e71cf1f4",
   "metadata": {},
   "source": [
    "# Operadores Lógicos\n",
    "\n",
    "¿Qué son los operadores lógicos?\n",
    "- Usados principalmente para declaraciones condicionales\n",
    "- Son indicadores estructurales\n",
    "- Conocidos como conectores lógicos\n",
    "- Existen 3 tipos de operadores lógicos\n",
    "    - AND (y) - Regresa True si ambas si ambas operaciones son verdaderas\n",
    "    - OR (o) - Regresa True si por lo menos una operación es verdadera\n",
    "    - NOT (negación) - Regresa True si es False y al revés"
   ]
  },
  {
   "cell_type": "code",
   "execution_count": 20,
   "id": "79a94e4a",
   "metadata": {},
   "outputs": [
    {
     "name": "stdout",
     "output_type": "stream",
     "text": [
      "El valor es: True\n"
     ]
    }
   ],
   "source": [
    "# AND: Retorna True si ambas operaciones se cumplen\n",
    "num1 = 10\n",
    "num2 = 5\n",
    "#num1 > num2 AND num1 != num2 - True\n",
    "print(\"El valor es:\", num1 > num2 and num1 != num2)"
   ]
  },
  {
   "cell_type": "code",
   "execution_count": 23,
   "id": "0084147b",
   "metadata": {},
   "outputs": [
    {
     "name": "stdout",
     "output_type": "stream",
     "text": [
      "El valor es: False\n"
     ]
    }
   ],
   "source": [
    "# AND: Retorna True si ambas operaciones se cumplen\n",
    "num1 = 10\n",
    "num2 = 5\n",
    "#num1 >= num2 AND num1 == num2 - False\n",
    "print(\"El valor es:\", num1 > num2 and num1 == num2)"
   ]
  },
  {
   "cell_type": "code",
   "execution_count": 24,
   "id": "1e8beb4a",
   "metadata": {},
   "outputs": [
    {
     "name": "stdout",
     "output_type": "stream",
     "text": [
      "El valor es: True\n"
     ]
    }
   ],
   "source": [
    "# OR: Retorna True si por lo menos una  operaciones se cumplen\n",
    "num1 = 10\n",
    "num2 = 5\n",
    "#num1 > num2 or num1 != num2 - True\n",
    "print(\"El valor es:\", num1 > num2 or num1 != num2)"
   ]
  },
  {
   "cell_type": "code",
   "execution_count": 25,
   "id": "a82bf0d7",
   "metadata": {},
   "outputs": [
    {
     "name": "stdout",
     "output_type": "stream",
     "text": [
      "El valor es: True\n"
     ]
    }
   ],
   "source": [
    "# OR: Retorna True si por lo menos una  operaciones se cumplen\n",
    "num1 = 10\n",
    "num2 = 5\n",
    "#num1 < num2 or num1 != num2 - True\n",
    "print(\"El valor es:\", num1 < num2 or num1 != num2)"
   ]
  },
  {
   "cell_type": "code",
   "execution_count": 1,
   "id": "64a30ca8",
   "metadata": {},
   "outputs": [
    {
     "name": "stdout",
     "output_type": "stream",
     "text": [
      "El valor es: False\n"
     ]
    }
   ],
   "source": [
    "# not\n",
    "num1 = 10\n",
    "num2 = 5\n",
    "#not num1 < num2 or num1 != num2 - False\n",
    "print(\"El valor es:\", not(num1 < num2 or num1 != num2))"
   ]
  },
  {
   "cell_type": "markdown",
   "id": "4d990103",
   "metadata": {},
   "source": [
    "# Operadores de afiliación\n",
    "\n",
    "- Son usados para validar los elementos en listas, cadenas y tuplas\n",
    "- Validan si una variable está presente en una secuencia\n",
    "- Regresan un bool como resultado\n",
    "- True si el valor está presente\n",
    "- False si el valor no está presente\n",
    "- Hay dos operadores de afiliación\n",
    "    - IN - Valor dentro de la secuencia\n",
    "    - NOT IN -El valor no está en la secuencia"
   ]
  },
  {
   "cell_type": "code",
   "execution_count": 6,
   "id": "38f42806",
   "metadata": {},
   "outputs": [
    {
     "name": "stdout",
     "output_type": "stream",
     "text": [
      "M in txt True\n"
     ]
    }
   ],
   "source": [
    "# IN\n",
    "txt = 'Me gusta python'\n",
    "print('M in txt', 'M' in txt)"
   ]
  },
  {
   "cell_type": "code",
   "execution_count": 7,
   "id": "439311fb",
   "metadata": {},
   "outputs": [
    {
     "name": "stdout",
     "output_type": "stream",
     "text": [
      "Me in txt True\n"
     ]
    }
   ],
   "source": [
    "# IN\n",
    "txt = 'Me gusta python'\n",
    "print('Me in txt', 'Me' in txt)"
   ]
  },
  {
   "cell_type": "code",
   "execution_count": 8,
   "id": "a9ac68c2",
   "metadata": {},
   "outputs": [
    {
     "name": "stdout",
     "output_type": "stream",
     "text": [
      "B in txt False\n"
     ]
    }
   ],
   "source": [
    "# IN\n",
    "txt = 'Me gusta python'\n",
    "print('B in txt', 'B' in txt)"
   ]
  },
  {
   "cell_type": "code",
   "execution_count": 9,
   "id": "785d9527",
   "metadata": {},
   "outputs": [
    {
     "name": "stdout",
     "output_type": "stream",
     "text": [
      "1 in lista True\n"
     ]
    }
   ],
   "source": [
    "#IN\n",
    "lista = [1,2,3,4,5,6]\n",
    "print('1 in lista', 1 in lista)"
   ]
  },
  {
   "cell_type": "code",
   "execution_count": 10,
   "id": "115a4254",
   "metadata": {},
   "outputs": [
    {
     "name": "stdout",
     "output_type": "stream",
     "text": [
      "1 not in lista False\n"
     ]
    }
   ],
   "source": [
    "#NOT IN\n",
    "lista = [1,2,3,4,5,6]\n",
    "print('1 not in lista', 1 not in lista)"
   ]
  },
  {
   "cell_type": "code",
   "execution_count": 11,
   "id": "4a08dd42",
   "metadata": {},
   "outputs": [
    {
     "name": "stdout",
     "output_type": "stream",
     "text": [
      "6 not in lista False\n"
     ]
    }
   ],
   "source": [
    "lista = {1,2,3,4,5,6,6,4,2,6,1,3}\n",
    "print('6 not in lista', 6 not in lista)"
   ]
  },
  {
   "cell_type": "code",
   "execution_count": 12,
   "id": "14d5644c",
   "metadata": {},
   "outputs": [
    {
     "data": {
      "text/plain": [
       "{1, 2, 3, 4, 5, 6}"
      ]
     },
     "execution_count": 12,
     "metadata": {},
     "output_type": "execute_result"
    }
   ],
   "source": [
    "lista"
   ]
  },
  {
   "cell_type": "code",
   "execution_count": 13,
   "id": "4add36f3",
   "metadata": {},
   "outputs": [
    {
     "name": "stdout",
     "output_type": "stream",
     "text": [
      "55 not in lista True\n"
     ]
    }
   ],
   "source": [
    "lista = {1,2,3,4,5,6,6,4,2,6,1,3}\n",
    "print('55 not in lista', 55 not in lista)"
   ]
  },
  {
   "cell_type": "markdown",
   "id": "a91c634d",
   "metadata": {},
   "source": [
    "# Operadores de identidad\n",
    "- Comparan la ubicación en memoria de dos objetos\n",
    "- Utilizados para validar si los valores comparten el mismo espacio en memoria\n",
    "- Regresan True si lo comparten, y False si no lo comparten\n",
    "- Hay dos operadores de identidad\n",
    "    - IS\n",
    "    - IS NOT"
   ]
  },
  {
   "cell_type": "code",
   "execution_count": 15,
   "id": "d82e5cad",
   "metadata": {},
   "outputs": [
    {
     "name": "stdout",
     "output_type": "stream",
     "text": [
      "99 is 100 False\n"
     ]
    }
   ],
   "source": [
    "# is\n",
    "x = 99\n",
    "y = 100\n",
    "print('99 is 100', x is y)"
   ]
  },
  {
   "cell_type": "code",
   "execution_count": 17,
   "id": "bcd61f7d",
   "metadata": {},
   "outputs": [
    {
     "name": "stdout",
     "output_type": "stream",
     "text": [
      "100 is 100 True\n"
     ]
    }
   ],
   "source": [
    "#is\n",
    "x = 100\n",
    "y = 100\n",
    "print('100 is 100', x is y)"
   ]
  },
  {
   "cell_type": "code",
   "execution_count": 18,
   "id": "a3be6f61",
   "metadata": {},
   "outputs": [
    {
     "name": "stdout",
     "output_type": "stream",
     "text": [
      "x is not y True\n"
     ]
    }
   ],
   "source": [
    "# is not\n",
    "x = 10\n",
    "y = 90\n",
    "print('x is not y', x is not y)"
   ]
  },
  {
   "cell_type": "code",
   "execution_count": 19,
   "id": "7df56d84",
   "metadata": {},
   "outputs": [
    {
     "name": "stdout",
     "output_type": "stream",
     "text": [
      "x is not y False\n"
     ]
    }
   ],
   "source": [
    "# is not\n",
    "x = 90\n",
    "y = 90\n",
    "print('x is not y', x is not y)"
   ]
  },
  {
   "cell_type": "markdown",
   "id": "3ec1c1cb",
   "metadata": {},
   "source": [
    "# Conversión de Tipos\n",
    "- Proceso de conversión de un tipo de dato a otro tipo de dato\n",
    "- Es importante para combinar múltiples fuentes de datos en un formato específico\n",
    "- Hay dos tipos:\n",
    "    - Conversión implícita: Hecha de forma automática\n",
    "    - Conversión explícita"
   ]
  },
  {
   "cell_type": "code",
   "execution_count": 1,
   "id": "bafd2489",
   "metadata": {},
   "outputs": [
    {
     "data": {
      "text/plain": [
       "21.2"
      ]
     },
     "execution_count": 1,
     "metadata": {},
     "output_type": "execute_result"
    }
   ],
   "source": [
    "# Conversión implícita\n",
    "10 + 9 + 2.2"
   ]
  },
  {
   "cell_type": "code",
   "execution_count": 2,
   "id": "3a8f8aad",
   "metadata": {},
   "outputs": [
    {
     "data": {
      "text/plain": [
       "90"
      ]
     },
     "execution_count": 2,
     "metadata": {},
     "output_type": "execute_result"
    }
   ],
   "source": [
    "# Conversión explícita\n",
    "int(90.3)"
   ]
  },
  {
   "cell_type": "code",
   "execution_count": 3,
   "id": "b1135b74",
   "metadata": {},
   "outputs": [
    {
     "data": {
      "text/plain": [
       "3.0"
      ]
     },
     "execution_count": 3,
     "metadata": {},
     "output_type": "execute_result"
    }
   ],
   "source": [
    "float(3)"
   ]
  },
  {
   "cell_type": "code",
   "execution_count": 5,
   "id": "eab08438",
   "metadata": {},
   "outputs": [
    {
     "data": {
      "text/plain": [
       "(8+0j)"
      ]
     },
     "execution_count": 5,
     "metadata": {},
     "output_type": "execute_result"
    }
   ],
   "source": [
    "complex(8)"
   ]
  },
  {
   "cell_type": "markdown",
   "id": "5b1ede40",
   "metadata": {},
   "source": [
    "### Conversión a int"
   ]
  },
  {
   "cell_type": "code",
   "execution_count": 6,
   "id": "2043f220",
   "metadata": {},
   "outputs": [
    {
     "data": {
      "text/plain": [
       "39"
      ]
     },
     "execution_count": 6,
     "metadata": {},
     "output_type": "execute_result"
    }
   ],
   "source": [
    "# String a int\n",
    "int('39')"
   ]
  },
  {
   "cell_type": "code",
   "execution_count": 8,
   "id": "44225160",
   "metadata": {},
   "outputs": [
    {
     "data": {
      "text/plain": [
       "1"
      ]
     },
     "execution_count": 8,
     "metadata": {},
     "output_type": "execute_result"
    }
   ],
   "source": [
    "# Bool a int\n",
    "int(True)"
   ]
  },
  {
   "cell_type": "code",
   "execution_count": 9,
   "id": "fa526eca",
   "metadata": {},
   "outputs": [
    {
     "data": {
      "text/plain": [
       "93"
      ]
     },
     "execution_count": 9,
     "metadata": {},
     "output_type": "execute_result"
    }
   ],
   "source": [
    "# Float a int\n",
    "int(93.2)"
   ]
  },
  {
   "cell_type": "code",
   "execution_count": 10,
   "id": "9e65fe63",
   "metadata": {},
   "outputs": [
    {
     "ename": "TypeError",
     "evalue": "int() argument must be a string, a bytes-like object or a real number, not 'complex'",
     "output_type": "error",
     "traceback": [
      "\u001b[0;31m---------------------------------------------------------------------------\u001b[0m",
      "\u001b[0;31mTypeError\u001b[0m                                 Traceback (most recent call last)",
      "Cell \u001b[0;32mIn[10], line 2\u001b[0m\n\u001b[1;32m      1\u001b[0m \u001b[38;5;66;03m#Error complex a int\u001b[39;00m\n\u001b[0;32m----> 2\u001b[0m \u001b[38;5;28mint\u001b[39m(\u001b[38;5;241m1\u001b[39m\u001b[38;5;241m+\u001b[39m\u001b[38;5;241m4\u001b[39mj)\n",
      "\u001b[0;31mTypeError\u001b[0m: int() argument must be a string, a bytes-like object or a real number, not 'complex'"
     ]
    }
   ],
   "source": [
    "#Error complex a int\n",
    "int(1+4j)"
   ]
  },
  {
   "cell_type": "code",
   "execution_count": 11,
   "id": "724aefb2",
   "metadata": {},
   "outputs": [
    {
     "ename": "ValueError",
     "evalue": "invalid literal for int() with base 10: '92.1'",
     "output_type": "error",
     "traceback": [
      "\u001b[0;31m---------------------------------------------------------------------------\u001b[0m",
      "\u001b[0;31mValueError\u001b[0m                                Traceback (most recent call last)",
      "Cell \u001b[0;32mIn[11], line 2\u001b[0m\n\u001b[1;32m      1\u001b[0m \u001b[38;5;66;03m#Error string decimal a int\u001b[39;00m\n\u001b[0;32m----> 2\u001b[0m \u001b[38;5;28mint\u001b[39m(\u001b[38;5;124m'\u001b[39m\u001b[38;5;124m92.1\u001b[39m\u001b[38;5;124m'\u001b[39m)\n",
      "\u001b[0;31mValueError\u001b[0m: invalid literal for int() with base 10: '92.1'"
     ]
    }
   ],
   "source": [
    "#Error string decimal a int\n",
    "int('92.1')"
   ]
  },
  {
   "cell_type": "markdown",
   "id": "ac9d0b79",
   "metadata": {},
   "source": [
    "### Conversión a float"
   ]
  },
  {
   "cell_type": "code",
   "execution_count": 12,
   "id": "268b65aa",
   "metadata": {},
   "outputs": [
    {
     "data": {
      "text/plain": [
       "90.0"
      ]
     },
     "execution_count": 12,
     "metadata": {},
     "output_type": "execute_result"
    }
   ],
   "source": [
    "#int a float\n",
    "float(90)"
   ]
  },
  {
   "cell_type": "code",
   "execution_count": 13,
   "id": "cb4b8b9b",
   "metadata": {},
   "outputs": [
    {
     "ename": "TypeError",
     "evalue": "float() argument must be a string or a real number, not 'complex'",
     "output_type": "error",
     "traceback": [
      "\u001b[0;31m---------------------------------------------------------------------------\u001b[0m",
      "\u001b[0;31mTypeError\u001b[0m                                 Traceback (most recent call last)",
      "Cell \u001b[0;32mIn[13], line 2\u001b[0m\n\u001b[1;32m      1\u001b[0m \u001b[38;5;66;03m#error complex a float\u001b[39;00m\n\u001b[0;32m----> 2\u001b[0m \u001b[38;5;28mfloat\u001b[39m(\u001b[38;5;241m9\u001b[39m\u001b[38;5;241m+\u001b[39m\u001b[38;5;241m9\u001b[39mj)\n",
      "\u001b[0;31mTypeError\u001b[0m: float() argument must be a string or a real number, not 'complex'"
     ]
    }
   ],
   "source": [
    "#error complex a float\n",
    "float(9+9j)"
   ]
  },
  {
   "cell_type": "code",
   "execution_count": 14,
   "id": "aaa4233d",
   "metadata": {},
   "outputs": [
    {
     "data": {
      "text/plain": [
       "4.4"
      ]
     },
     "execution_count": 14,
     "metadata": {},
     "output_type": "execute_result"
    }
   ],
   "source": [
    "#string a float\n",
    "float('4.4')"
   ]
  },
  {
   "cell_type": "code",
   "execution_count": 18,
   "id": "d42a78cb",
   "metadata": {},
   "outputs": [
    {
     "ename": "ValueError",
     "evalue": "could not convert string to float: '90t'",
     "output_type": "error",
     "traceback": [
      "\u001b[0;31m---------------------------------------------------------------------------\u001b[0m",
      "\u001b[0;31mValueError\u001b[0m                                Traceback (most recent call last)",
      "Cell \u001b[0;32mIn[18], line 2\u001b[0m\n\u001b[1;32m      1\u001b[0m \u001b[38;5;66;03m#error\u001b[39;00m\n\u001b[0;32m----> 2\u001b[0m \u001b[38;5;28mfloat\u001b[39m(\u001b[38;5;124m'\u001b[39m\u001b[38;5;124m90t\u001b[39m\u001b[38;5;124m'\u001b[39m)\n",
      "\u001b[0;31mValueError\u001b[0m: could not convert string to float: '90t'"
     ]
    }
   ],
   "source": [
    "#error\n",
    "float('90t')"
   ]
  },
  {
   "cell_type": "code",
   "execution_count": 19,
   "id": "ceda459a",
   "metadata": {},
   "outputs": [
    {
     "ename": "ValueError",
     "evalue": "could not convert string to float: 'True'",
     "output_type": "error",
     "traceback": [
      "\u001b[0;31m---------------------------------------------------------------------------\u001b[0m",
      "\u001b[0;31mValueError\u001b[0m                                Traceback (most recent call last)",
      "Cell \u001b[0;32mIn[19], line 2\u001b[0m\n\u001b[1;32m      1\u001b[0m \u001b[38;5;66;03m#Error\u001b[39;00m\n\u001b[0;32m----> 2\u001b[0m \u001b[38;5;28mfloat\u001b[39m(\u001b[38;5;124m'\u001b[39m\u001b[38;5;124mTrue\u001b[39m\u001b[38;5;124m'\u001b[39m)\n",
      "\u001b[0;31mValueError\u001b[0m: could not convert string to float: 'True'"
     ]
    }
   ],
   "source": [
    "#Error\n",
    "float('True')"
   ]
  },
  {
   "cell_type": "code",
   "execution_count": 21,
   "id": "9f709986",
   "metadata": {},
   "outputs": [
    {
     "data": {
      "text/plain": [
       "0.0"
      ]
     },
     "execution_count": 21,
     "metadata": {},
     "output_type": "execute_result"
    }
   ],
   "source": [
    "#bool a float\n",
    "float(False)"
   ]
  },
  {
   "cell_type": "markdown",
   "id": "fb168647",
   "metadata": {},
   "source": [
    "### Conversión a Complex"
   ]
  },
  {
   "cell_type": "code",
   "execution_count": 22,
   "id": "f4d5086f",
   "metadata": {},
   "outputs": [
    {
     "data": {
      "text/plain": [
       "(9+0j)"
      ]
     },
     "execution_count": 22,
     "metadata": {},
     "output_type": "execute_result"
    }
   ],
   "source": [
    "#int a complex\n",
    "complex(9)"
   ]
  },
  {
   "cell_type": "code",
   "execution_count": 23,
   "id": "4cddfc46",
   "metadata": {},
   "outputs": [
    {
     "data": {
      "text/plain": [
       "(9.2+0j)"
      ]
     },
     "execution_count": 23,
     "metadata": {},
     "output_type": "execute_result"
    }
   ],
   "source": [
    "#float a complex\n",
    "complex(9.2)"
   ]
  },
  {
   "cell_type": "code",
   "execution_count": 24,
   "id": "5a76fb6d",
   "metadata": {},
   "outputs": [],
   "source": [
    "#bool a complex"
   ]
  },
  {
   "cell_type": "code",
   "execution_count": 25,
   "id": "e3cadd5c",
   "metadata": {},
   "outputs": [
    {
     "data": {
      "text/plain": [
       "0j"
      ]
     },
     "execution_count": 25,
     "metadata": {},
     "output_type": "execute_result"
    }
   ],
   "source": [
    "complex(False)"
   ]
  },
  {
   "cell_type": "code",
   "execution_count": 26,
   "id": "d4900b94",
   "metadata": {},
   "outputs": [
    {
     "data": {
      "text/plain": [
       "(99+0j)"
      ]
     },
     "execution_count": 26,
     "metadata": {},
     "output_type": "execute_result"
    }
   ],
   "source": [
    "#string a complex\n",
    "complex('99')"
   ]
  },
  {
   "cell_type": "code",
   "execution_count": 28,
   "id": "2e779289",
   "metadata": {},
   "outputs": [
    {
     "data": {
      "text/plain": [
       "(0.199+0j)"
      ]
     },
     "execution_count": 28,
     "metadata": {},
     "output_type": "execute_result"
    }
   ],
   "source": [
    "complex('0.199')"
   ]
  },
  {
   "cell_type": "code",
   "execution_count": 30,
   "id": "905ff96c",
   "metadata": {},
   "outputs": [
    {
     "data": {
      "text/plain": [
       "3j"
      ]
     },
     "execution_count": 30,
     "metadata": {},
     "output_type": "execute_result"
    }
   ],
   "source": [
    "complex('3j')"
   ]
  },
  {
   "cell_type": "markdown",
   "id": "d5a9d475",
   "metadata": {},
   "source": [
    "### Conversión bool"
   ]
  },
  {
   "cell_type": "code",
   "execution_count": 31,
   "id": "33069ce8",
   "metadata": {},
   "outputs": [
    {
     "data": {
      "text/plain": [
       "True"
      ]
     },
     "execution_count": 31,
     "metadata": {},
     "output_type": "execute_result"
    }
   ],
   "source": [
    "#int a bool\n",
    "bool(9)"
   ]
  },
  {
   "cell_type": "code",
   "execution_count": 32,
   "id": "76a93447",
   "metadata": {},
   "outputs": [
    {
     "data": {
      "text/plain": [
       "True"
      ]
     },
     "execution_count": 32,
     "metadata": {},
     "output_type": "execute_result"
    }
   ],
   "source": [
    "bool(.2)"
   ]
  },
  {
   "cell_type": "code",
   "execution_count": 33,
   "id": "60f68cd6",
   "metadata": {},
   "outputs": [
    {
     "data": {
      "text/plain": [
       "True"
      ]
     },
     "execution_count": 33,
     "metadata": {},
     "output_type": "execute_result"
    }
   ],
   "source": [
    "#float a bool\n",
    "bool(3.3)"
   ]
  },
  {
   "cell_type": "code",
   "execution_count": 34,
   "id": "a0c701d3",
   "metadata": {},
   "outputs": [
    {
     "data": {
      "text/plain": [
       "False"
      ]
     },
     "execution_count": 34,
     "metadata": {},
     "output_type": "execute_result"
    }
   ],
   "source": [
    "bool(0.0)"
   ]
  },
  {
   "cell_type": "code",
   "execution_count": 35,
   "id": "948ee128",
   "metadata": {},
   "outputs": [
    {
     "data": {
      "text/plain": [
       "True"
      ]
     },
     "execution_count": 35,
     "metadata": {},
     "output_type": "execute_result"
    }
   ],
   "source": [
    "bool(-4.1)"
   ]
  },
  {
   "cell_type": "code",
   "execution_count": 36,
   "id": "d6cdfe75",
   "metadata": {},
   "outputs": [
    {
     "data": {
      "text/plain": [
       "True"
      ]
     },
     "execution_count": 36,
     "metadata": {},
     "output_type": "execute_result"
    }
   ],
   "source": [
    "#Complex a bool\n",
    "bool(1+3j)"
   ]
  },
  {
   "cell_type": "code",
   "execution_count": 37,
   "id": "b44aa7bd",
   "metadata": {},
   "outputs": [
    {
     "data": {
      "text/plain": [
       "True"
      ]
     },
     "execution_count": 37,
     "metadata": {},
     "output_type": "execute_result"
    }
   ],
   "source": [
    "bool(0+3j)"
   ]
  },
  {
   "cell_type": "code",
   "execution_count": 39,
   "id": "1c3a73a0",
   "metadata": {},
   "outputs": [
    {
     "data": {
      "text/plain": [
       "True"
      ]
     },
     "execution_count": 39,
     "metadata": {},
     "output_type": "execute_result"
    }
   ],
   "source": [
    "#string a bool\n",
    "bool('python')"
   ]
  },
  {
   "cell_type": "code",
   "execution_count": 40,
   "id": "b669f6b0",
   "metadata": {},
   "outputs": [
    {
     "data": {
      "text/plain": [
       "True"
      ]
     },
     "execution_count": 40,
     "metadata": {},
     "output_type": "execute_result"
    }
   ],
   "source": [
    "bool(' ')"
   ]
  },
  {
   "cell_type": "code",
   "execution_count": 41,
   "id": "e9e54dcb",
   "metadata": {},
   "outputs": [
    {
     "data": {
      "text/plain": [
       "False"
      ]
     },
     "execution_count": 41,
     "metadata": {},
     "output_type": "execute_result"
    }
   ],
   "source": [
    "bool('')"
   ]
  },
  {
   "cell_type": "code",
   "execution_count": 42,
   "id": "c1670c22",
   "metadata": {},
   "outputs": [
    {
     "data": {
      "text/plain": [
       "True"
      ]
     },
     "execution_count": 42,
     "metadata": {},
     "output_type": "execute_result"
    }
   ],
   "source": [
    "bool('0')"
   ]
  },
  {
   "cell_type": "markdown",
   "id": "ee2ce94a",
   "metadata": {},
   "source": [
    "### Conversión str"
   ]
  },
  {
   "cell_type": "code",
   "execution_count": 43,
   "id": "305149f9",
   "metadata": {},
   "outputs": [
    {
     "data": {
      "text/plain": [
       "'90'"
      ]
     },
     "execution_count": 43,
     "metadata": {},
     "output_type": "execute_result"
    }
   ],
   "source": [
    "#int a str\n",
    "str(90)"
   ]
  },
  {
   "cell_type": "code",
   "execution_count": 45,
   "id": "a566187f",
   "metadata": {},
   "outputs": [
    {
     "data": {
      "text/plain": [
       "'9.9'"
      ]
     },
     "execution_count": 45,
     "metadata": {},
     "output_type": "execute_result"
    }
   ],
   "source": [
    "#float a str\n",
    "str(9.9)"
   ]
  },
  {
   "cell_type": "code",
   "execution_count": 46,
   "id": "bf448bc3",
   "metadata": {},
   "outputs": [
    {
     "data": {
      "text/plain": [
       "'(9+8j)'"
      ]
     },
     "execution_count": 46,
     "metadata": {},
     "output_type": "execute_result"
    }
   ],
   "source": [
    "#complex a str\n",
    "str(9+8j)"
   ]
  },
  {
   "cell_type": "code",
   "execution_count": 48,
   "id": "fcf1f5c9",
   "metadata": {},
   "outputs": [
    {
     "data": {
      "text/plain": [
       "'True'"
      ]
     },
     "execution_count": 48,
     "metadata": {},
     "output_type": "execute_result"
    }
   ],
   "source": [
    "#bool a str\n",
    "str(True)"
   ]
  },
  {
   "cell_type": "markdown",
   "id": "6871558c",
   "metadata": {},
   "source": [
    "# Funciones básicas"
   ]
  },
  {
   "cell_type": "markdown",
   "id": "fab6cd40",
   "metadata": {},
   "source": [
    "### Función trunc() Sólo se queda con la parte entera"
   ]
  },
  {
   "cell_type": "code",
   "execution_count": 49,
   "id": "4f0ba08f",
   "metadata": {},
   "outputs": [
    {
     "name": "stdout",
     "output_type": "stream",
     "text": [
      "N1: 9.5\n",
      "N2: 93.99\n",
      "N3: 9.51\n",
      "N4: 9.0000000000001\n"
     ]
    }
   ],
   "source": [
    "n1 = 9.5\n",
    "n2 = 93.99\n",
    "n3 = 9.51\n",
    "n4 = 9.0000000000001\n",
    "print('N1: {}'.format(n1))\n",
    "print('N2: {}'.format(n2))\n",
    "print('N3: {}'.format(n3))\n",
    "print('N4: {}'.format(n4))"
   ]
  },
  {
   "cell_type": "code",
   "execution_count": 51,
   "id": "d5c548be",
   "metadata": {},
   "outputs": [
    {
     "name": "stdout",
     "output_type": "stream",
     "text": [
      "N1: 9\n",
      "N2: 93\n",
      "N3: 9\n",
      "N4: 9\n"
     ]
    }
   ],
   "source": [
    "from math import trunc\n",
    "n1 = 9.5\n",
    "n2 = 93.99\n",
    "n3 = 9.51\n",
    "n4 = 9.0000000000001\n",
    "print('N1: {}'.format(trunc(n1)))\n",
    "print('N2: {}'.format(trunc(n2)))\n",
    "print('N3: {}'.format(trunc(n3)))\n",
    "print('N4: {}'.format(trunc(n4)))"
   ]
  },
  {
   "cell_type": "markdown",
   "id": "b805a4b4",
   "metadata": {},
   "source": [
    "### round(), ceil(), floor()"
   ]
  },
  {
   "cell_type": "code",
   "execution_count": 53,
   "id": "96a8f3f3",
   "metadata": {},
   "outputs": [
    {
     "name": "stdout",
     "output_type": "stream",
     "text": [
      "N1: 10\n",
      "N2: 94\n",
      "N3: 9\n",
      "N4: 9\n"
     ]
    }
   ],
   "source": [
    "#Decimal mayor o igual a .5, redondea al siguiente número\n",
    "n1 = 9.5\n",
    "n2 = 93.99\n",
    "n3 = 9.41\n",
    "n4 = 9.0000000000001\n",
    "print('N1: {}'.format(round(n1)))\n",
    "print('N2: {}'.format(round(n2)))\n",
    "print('N3: {}'.format(round(n3)))\n",
    "print('N4: {}'.format(round(n4)))"
   ]
  },
  {
   "cell_type": "code",
   "execution_count": 54,
   "id": "e0df9693",
   "metadata": {},
   "outputs": [
    {
     "name": "stdout",
     "output_type": "stream",
     "text": [
      "N1: 10\n",
      "N2: 94\n",
      "N3: 10\n",
      "N4: 10\n"
     ]
    }
   ],
   "source": [
    "#Ceil redondeo hacia arriba\n",
    "from math import ceil\n",
    "n1 = 9.5\n",
    "n2 = 93.99\n",
    "n3 = 9.41\n",
    "n4 = 9.0000000000001\n",
    "print('N1: {}'.format(ceil(n1)))\n",
    "print('N2: {}'.format(ceil(n2)))\n",
    "print('N3: {}'.format(ceil(n3)))\n",
    "print('N4: {}'.format(ceil(n4)))"
   ]
  },
  {
   "cell_type": "code",
   "execution_count": 55,
   "id": "b30562b2",
   "metadata": {},
   "outputs": [
    {
     "name": "stdout",
     "output_type": "stream",
     "text": [
      "N1: 9\n",
      "N2: 93\n",
      "N3: 9\n",
      "N4: 9\n"
     ]
    }
   ],
   "source": [
    "#floor redondeo hacia abajo\n",
    "from math import floor\n",
    "n1 = 9.5\n",
    "n2 = 93.99\n",
    "n3 = 9.41\n",
    "n4 = 9.0000000000001\n",
    "print('N1: {}'.format(floor(n1)))\n",
    "print('N2: {}'.format(floor(n2)))\n",
    "print('N3: {}'.format(floor(n3)))\n",
    "print('N4: {}'.format(floor(n4)))"
   ]
  }
 ],
 "metadata": {
  "kernelspec": {
   "display_name": "Python 3 (ipykernel)",
   "language": "python",
   "name": "python3"
  },
  "language_info": {
   "codemirror_mode": {
    "name": "ipython",
    "version": 3
   },
   "file_extension": ".py",
   "mimetype": "text/x-python",
   "name": "python",
   "nbconvert_exporter": "python",
   "pygments_lexer": "ipython3",
   "version": "3.11.4"
  }
 },
 "nbformat": 4,
 "nbformat_minor": 5
}
