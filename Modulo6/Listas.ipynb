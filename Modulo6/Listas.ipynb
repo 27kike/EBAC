{
 "cells": [
  {
   "cell_type": "markdown",
   "id": "aba1b17b",
   "metadata": {},
   "source": [
    "## Diferentes maneras de crear una lista"
   ]
  },
  {
   "cell_type": "code",
   "execution_count": 2,
   "id": "58262ae2",
   "metadata": {},
   "outputs": [
    {
     "name": "stdout",
     "output_type": "stream",
     "text": [
      "[4, 4, 4, 4, 4]\n"
     ]
    }
   ],
   "source": [
    "my_list = [4]*5\n",
    "print(my_list)"
   ]
  },
  {
   "cell_type": "code",
   "execution_count": 3,
   "id": "f78891ea",
   "metadata": {},
   "outputs": [
    {
     "name": "stdout",
     "output_type": "stream",
     "text": [
      "[1, 2, 3, 4, 5, 6, 7]\n"
     ]
    }
   ],
   "source": [
    "mylist = [1,2,3,4,5,6,7]\n",
    "print(mylist)"
   ]
  },
  {
   "cell_type": "code",
   "execution_count": 5,
   "id": "483c775e",
   "metadata": {},
   "outputs": [
    {
     "name": "stdout",
     "output_type": "stream",
     "text": [
      "[0, 1, 2, 3, 4, 5, 6, 7, 8, 9]\n"
     ]
    }
   ],
   "source": [
    "x = []\n",
    "for num in range(0,10):\n",
    "    x.append(num)\n",
    "print(x)"
   ]
  },
  {
   "cell_type": "code",
   "execution_count": 6,
   "id": "706e8c16",
   "metadata": {},
   "outputs": [
    {
     "name": "stdout",
     "output_type": "stream",
     "text": [
      "[0, 1, 2, 3, 4, 5, 6, 7, 8, 9, 10, 11, 12, 13, 14, 15, 16, 17, 18, 19]\n"
     ]
    }
   ],
   "source": [
    "x = []\n",
    "for num in range(0,20):\n",
    "    x+=[num]\n",
    "print(x)"
   ]
  },
  {
   "cell_type": "code",
   "execution_count": 7,
   "id": "a9d511cc",
   "metadata": {},
   "outputs": [
    {
     "name": "stdout",
     "output_type": "stream",
     "text": [
      "[0, 1, 2, 3, 4, 5, 6, 7, 8, 9, 10, 11, 12, 13, 14, 15, 16, 17, 18, 19, 20, 21, 22, 23, 24, 25, 26, 27, 28, 29]\n"
     ]
    }
   ],
   "source": [
    "x = [ num for num in range(0,30)]\n",
    "print(x)"
   ]
  },
  {
   "cell_type": "markdown",
   "id": "deec2548",
   "metadata": {},
   "source": [
    "## Obteniendo una sublista"
   ]
  },
  {
   "cell_type": "code",
   "execution_count": 8,
   "id": "36b210cb",
   "metadata": {},
   "outputs": [
    {
     "name": "stdout",
     "output_type": "stream",
     "text": [
      "[0, 1, 2, 3, 4, 5, 6, 7, 8, 9, 10]\n"
     ]
    }
   ],
   "source": [
    "y = x[:11]\n",
    "print(y)"
   ]
  },
  {
   "cell_type": "code",
   "execution_count": 10,
   "id": "56faca20",
   "metadata": {},
   "outputs": [
    {
     "name": "stdout",
     "output_type": "stream",
     "text": [
      "[11, 12, 13, 14, 15, 16, 17, 18, 19, 20, 21, 22, 23, 24, 25, 26, 27, 28, 29]\n"
     ]
    }
   ],
   "source": [
    "y = x[11:]\n",
    "print(y)"
   ]
  },
  {
   "cell_type": "code",
   "execution_count": 11,
   "id": "59fcb930",
   "metadata": {},
   "outputs": [
    {
     "name": "stdout",
     "output_type": "stream",
     "text": [
      "[6, 7, 8]\n"
     ]
    }
   ],
   "source": [
    "y = x[6:9]\n",
    "print(y)"
   ]
  },
  {
   "cell_type": "code",
   "execution_count": 15,
   "id": "c441a227",
   "metadata": {},
   "outputs": [
    {
     "name": "stdout",
     "output_type": "stream",
     "text": [
      "[]\n"
     ]
    }
   ],
   "source": [
    "y = x[5:1]\n",
    "print(y)"
   ]
  },
  {
   "cell_type": "code",
   "execution_count": 17,
   "id": "969fe1fb",
   "metadata": {},
   "outputs": [
    {
     "name": "stdout",
     "output_type": "stream",
     "text": [
      "[]\n"
     ]
    }
   ],
   "source": [
    "y = x[900:]\n",
    "print(y)"
   ]
  },
  {
   "cell_type": "markdown",
   "id": "87a8636f",
   "metadata": {},
   "source": [
    "## Creando lista con range y numpy"
   ]
  },
  {
   "cell_type": "code",
   "execution_count": 19,
   "id": "e8345ba3",
   "metadata": {},
   "outputs": [
    {
     "name": "stdout",
     "output_type": "stream",
     "text": [
      "[0, 2, 4, 6, 8, 10, 12, 14, 16, 18, 20, 22, 24, 26, 28, 30, 32, 34, 36, 38, 40, 42, 44, 46, 48, 50, 52, 54, 56, 58, 60, 62, 64, 66, 68, 70, 72, 74, 76, 78, 80, 82, 84, 86, 88, 90, 92, 94, 96, 98, 100]\n"
     ]
    }
   ],
   "source": [
    "x = [*range(0,101,2)]\n",
    "print(x)"
   ]
  },
  {
   "cell_type": "code",
   "execution_count": 20,
   "id": "59acd191",
   "metadata": {},
   "outputs": [
    {
     "name": "stdout",
     "output_type": "stream",
     "text": [
      "[0, 2, 4, 6, 8, 10, 12, 14, 16, 18, 20, 22, 24, 26, 28, 30, 32, 34, 36, 38, 40, 42, 44, 46, 48, 50, 52, 54, 56, 58, 60, 62, 64, 66, 68, 70, 72, 74, 76, 78, 80, 82, 84, 86, 88, 90, 92, 94, 96, 98, 100]\n"
     ]
    }
   ],
   "source": [
    "import numpy as np\n",
    "x = np.arange(0,101,2).tolist()\n",
    "print(x)"
   ]
  },
  {
   "cell_type": "markdown",
   "id": "b357841c",
   "metadata": {},
   "source": [
    "## Lista anidada"
   ]
  },
  {
   "cell_type": "code",
   "execution_count": 23,
   "id": "78b76a35",
   "metadata": {},
   "outputs": [
    {
     "name": "stdout",
     "output_type": "stream",
     "text": [
      "[[1, 3, 5], [2, 4, 6]]\n",
      "[1, 3, 5]\n",
      "3\n"
     ]
    }
   ],
   "source": [
    "x = [[1,3,5],[2,4,6]]\n",
    "print(x)\n",
    "print(x[0])\n",
    "print(x[0][1])"
   ]
  },
  {
   "cell_type": "markdown",
   "id": "ef4b387b",
   "metadata": {},
   "source": [
    "## Ordenar listas"
   ]
  },
  {
   "cell_type": "code",
   "execution_count": 24,
   "id": "567baada",
   "metadata": {},
   "outputs": [
    {
     "name": "stdout",
     "output_type": "stream",
     "text": [
      "[9, 2, 3, 66, 54, 2, 78]\n",
      "[2, 2, 3, 9, 54, 66, 78]\n"
     ]
    }
   ],
   "source": [
    "x = [9,2,3,66,54,2,78]\n",
    "print(x)\n",
    "x.sort()\n",
    "print(x)"
   ]
  },
  {
   "cell_type": "code",
   "execution_count": 25,
   "id": "e0182da9",
   "metadata": {},
   "outputs": [
    {
     "name": "stdout",
     "output_type": "stream",
     "text": [
      "[9, 2, 3, 66, 54, 2, 78]\n",
      "[78, 66, 54, 9, 3, 2, 2]\n"
     ]
    }
   ],
   "source": [
    "x = [9,2,3,66,54,2,78]\n",
    "print(x)\n",
    "x.sort(reverse=True)\n",
    "print(x)"
   ]
  },
  {
   "cell_type": "code",
   "execution_count": 26,
   "id": "023e7cec",
   "metadata": {},
   "outputs": [
    {
     "name": "stdout",
     "output_type": "stream",
     "text": [
      "['caballo', 'ballena', 'perro', 'gato', 'perico']\n",
      "['ballena', 'caballo', 'gato', 'perico', 'perro']\n"
     ]
    }
   ],
   "source": [
    "x = ['caballo','ballena','perro','gato','perico']\n",
    "print(x)\n",
    "x.sort()\n",
    "print(x)"
   ]
  },
  {
   "cell_type": "code",
   "execution_count": 27,
   "id": "4395f2f4",
   "metadata": {},
   "outputs": [
    {
     "name": "stdout",
     "output_type": "stream",
     "text": [
      "['caballo', 'ballena', 'perro', 'gato', 'perico']\n",
      "['perro', 'perico', 'gato', 'caballo', 'ballena']\n"
     ]
    }
   ],
   "source": [
    "x = ['caballo','ballena','perro','gato','perico']\n",
    "print(x)\n",
    "x.sort(reverse=True)\n",
    "print(x)"
   ]
  },
  {
   "cell_type": "markdown",
   "id": "152fd1d7",
   "metadata": {},
   "source": [
    "## Conversión de listas"
   ]
  },
  {
   "cell_type": "markdown",
   "id": "9d58c5e1",
   "metadata": {},
   "source": [
    "### Cadenas a listas"
   ]
  },
  {
   "cell_type": "code",
   "execution_count": 28,
   "id": "11dff28c",
   "metadata": {},
   "outputs": [
    {
     "name": "stdout",
     "output_type": "stream",
     "text": [
      "['Curso', 'de', 'backend', 'con', 'python']\n"
     ]
    }
   ],
   "source": [
    "#Separar palabras\n",
    "x = 'Curso de backend con python'\n",
    "print(x.split())"
   ]
  },
  {
   "cell_type": "code",
   "execution_count": 29,
   "id": "55406fce",
   "metadata": {},
   "outputs": [
    {
     "name": "stdout",
     "output_type": "stream",
     "text": [
      "['C', 'u', 'r', 's', 'o', ' ', 'd', 'e', ' ', 'b', 'a', 'c', 'k', 'e', 'n', 'd', ' ', 'c', 'o', 'n', ' ', 'p', 'y', 't', 'h', 'o', 'n']\n"
     ]
    }
   ],
   "source": [
    "#Separar caracteres\n",
    "x = 'Curso de backend con python'\n",
    "print(list(x))"
   ]
  },
  {
   "cell_type": "code",
   "execution_count": 30,
   "id": "28b41b28",
   "metadata": {},
   "outputs": [
    {
     "name": "stdout",
     "output_type": "stream",
     "text": [
      "[['C'], ['u'], ['r'], ['s'], ['o'], [' '], ['d'], ['e'], [' '], ['b'], ['a'], ['c'], ['k'], ['e'], ['n'], ['d'], [' '], ['c'], ['o'], ['n'], [' '], ['p'], ['y'], ['t'], ['h'], ['o'], ['n']]\n"
     ]
    }
   ],
   "source": [
    "#Lista de listas\n",
    "x = 'Curso de backend con python'\n",
    "print(list(map(list,x)))"
   ]
  },
  {
   "cell_type": "markdown",
   "id": "4a5f9c5e",
   "metadata": {},
   "source": [
    "### Listas a cadenas"
   ]
  },
  {
   "cell_type": "code",
   "execution_count": 36,
   "id": "7da5b4b1",
   "metadata": {},
   "outputs": [
    {
     "name": "stdout",
     "output_type": "stream",
     "text": [
      "Curso de backend con python\n"
     ]
    }
   ],
   "source": [
    "x = ['Curso', 'de', 'backend', 'con', 'python']\n",
    "print(\" \".join(x))"
   ]
  },
  {
   "cell_type": "code",
   "execution_count": 40,
   "id": "60f18ba7",
   "metadata": {},
   "outputs": [
    {
     "name": "stdout",
     "output_type": "stream",
     "text": [
      "Curso de backend con python\n"
     ]
    }
   ],
   "source": [
    "x = ['C', 'u', 'r', 's', 'o', ' ', 'd', 'e', ' ', 'b', 'a', 'c', 'k', 'e', 'n', 'd', ' ', 'c', 'o', 'n', ' ', 'p', 'y', 't', 'h', 'o', 'n']\n",
    "print(\"\".join(x))"
   ]
  },
  {
   "cell_type": "code",
   "execution_count": 44,
   "id": "c79f4802",
   "metadata": {},
   "outputs": [
    {
     "name": "stdout",
     "output_type": "stream",
     "text": [
      "Curso de backend con python\n"
     ]
    }
   ],
   "source": [
    "x = [['C'], ['u'], ['r'], ['s'], ['o'], [' '], ['d'], ['e'], [' '], ['b'], ['a'], ['c'], ['k'], ['e'], ['n'], ['d'], [' '], ['c'], ['o'], ['n'], [' '], ['p'], ['y'], ['t'], ['h'], ['o'], ['n']]\n",
    "print(\"\".join([\"\".join(elemento) for elemento in x]))"
   ]
  },
  {
   "cell_type": "markdown",
   "id": "c309432a",
   "metadata": {},
   "source": [
    "### Valores de entrada a lista"
   ]
  },
  {
   "cell_type": "code",
   "execution_count": 45,
   "id": "a23668b7",
   "metadata": {},
   "outputs": [
    {
     "name": "stdout",
     "output_type": "stream",
     "text": [
      "Ingresa valores separados por un espacio1 2 3 4 5 hola adios\n",
      "1 2 3 4 5 hola adios\n",
      "['1', '2', '3', '4', '5', 'hola', 'adios']\n"
     ]
    }
   ],
   "source": [
    "string = input('Ingresa valores separados por un espacio')\n",
    "myList = string.split()\n",
    "print(string)\n",
    "print(myList)"
   ]
  },
  {
   "cell_type": "markdown",
   "id": "0ca08465",
   "metadata": {},
   "source": [
    "### Manipulación de listas"
   ]
  },
  {
   "cell_type": "markdown",
   "id": "c4d0919a",
   "metadata": {},
   "source": [
    "### append\n",
    "- Agrega elementos al final de la lista"
   ]
  },
  {
   "cell_type": "code",
   "execution_count": 3,
   "id": "bd18b0d7",
   "metadata": {},
   "outputs": [
    {
     "name": "stdout",
     "output_type": "stream",
     "text": [
      "[1, 2, 3, 4, 5]\n"
     ]
    }
   ],
   "source": [
    "x = [1,2,3,4]\n",
    "x.append(5)\n",
    "print(x)"
   ]
  },
  {
   "cell_type": "code",
   "execution_count": 11,
   "id": "05db0e09",
   "metadata": {},
   "outputs": [
    {
     "name": "stdout",
     "output_type": "stream",
     "text": [
      "['caballo', 'ballena', 'perro', 'pez', 'gato']\n"
     ]
    }
   ],
   "source": [
    "x = ['caballo','ballena','perro','pez']\n",
    "x.append('gato')\n",
    "print(x)"
   ]
  },
  {
   "cell_type": "markdown",
   "id": "ae1870cd",
   "metadata": {},
   "source": [
    "### insert\n",
    "- Agrega elementos en el indice deseado\n",
    "- insert(indice,elemento)"
   ]
  },
  {
   "cell_type": "code",
   "execution_count": 12,
   "id": "d7f18aba",
   "metadata": {},
   "outputs": [
    {
     "name": "stdout",
     "output_type": "stream",
     "text": [
      "['caballo', 'ballena', 'perro', 'pez', 'gato']\n",
      "['caballo', 'Leon', 'ballena', 'perro', 'pez', 'gato']\n"
     ]
    }
   ],
   "source": [
    "print(x)\n",
    "x.insert(1,'Leon')\n",
    "print(x)"
   ]
  },
  {
   "cell_type": "markdown",
   "id": "20e5ba44",
   "metadata": {},
   "source": [
    "### clear\n",
    "- Elimina todos los elementos de la lista"
   ]
  },
  {
   "cell_type": "code",
   "execution_count": 13,
   "id": "c1785a17",
   "metadata": {},
   "outputs": [
    {
     "name": "stdout",
     "output_type": "stream",
     "text": [
      "['caballo', 'Leon', 'ballena', 'perro', 'pez', 'gato']\n",
      "[]\n"
     ]
    }
   ],
   "source": [
    "print(x)\n",
    "x.clear()\n",
    "print(x)"
   ]
  },
  {
   "cell_type": "markdown",
   "id": "19217fa1",
   "metadata": {},
   "source": [
    "### count\n",
    "- Retonar en número de veces que aparece un elemento en la lista"
   ]
  },
  {
   "cell_type": "code",
   "execution_count": 14,
   "id": "86e0a6c3",
   "metadata": {},
   "outputs": [
    {
     "name": "stdout",
     "output_type": "stream",
     "text": [
      "El elemento 100 aparece en la lista: 4 veces\n"
     ]
    }
   ],
   "source": [
    "x = [100,894,100,48,100,90,89,100,28,89]\n",
    "print('El elemento {} aparece en la lista: {} veces'.format(100,x.count(100)))"
   ]
  },
  {
   "cell_type": "code",
   "execution_count": 15,
   "id": "9583a2fd",
   "metadata": {},
   "outputs": [
    {
     "name": "stdout",
     "output_type": "stream",
     "text": [
      "El elemento 89 aparece en la lista: 2 veces\n"
     ]
    }
   ],
   "source": [
    "x = [100,894,100,48,100,90,89,100,28,89]\n",
    "print('El elemento {} aparece en la lista: {} veces'.format(89,x.count(89)))"
   ]
  },
  {
   "cell_type": "markdown",
   "id": "69e72932",
   "metadata": {},
   "source": [
    "### copy\n",
    "- Copia una lista, no es lo mismo que asignar"
   ]
  },
  {
   "cell_type": "code",
   "execution_count": 16,
   "id": "5362e452",
   "metadata": {},
   "outputs": [
    {
     "name": "stdout",
     "output_type": "stream",
     "text": [
      "[100, 894, 100, 48, 100, 90, 89, 100, 28, 89]\n",
      "[100, 894, 100, 48, 100, 90, 89, 100, 28, 89]\n"
     ]
    }
   ],
   "source": [
    "copia = x.copy()\n",
    "print(copia)\n",
    "print(x)"
   ]
  },
  {
   "cell_type": "code",
   "execution_count": 17,
   "id": "2b97507a",
   "metadata": {},
   "outputs": [
    {
     "name": "stdout",
     "output_type": "stream",
     "text": [
      "[]\n",
      "[100, 894, 100, 48, 100, 90, 89, 100, 28, 89]\n"
     ]
    }
   ],
   "source": [
    "copia.clear()\n",
    "print(copia)\n",
    "print(x)"
   ]
  },
  {
   "cell_type": "code",
   "execution_count": 20,
   "id": "933652da",
   "metadata": {},
   "outputs": [
    {
     "name": "stdout",
     "output_type": "stream",
     "text": [
      "4496400640\n",
      "4496400640\n"
     ]
    }
   ],
   "source": [
    "# Demostración de que copia y asignación es diferente\n",
    "copia = x\n",
    "print(id(copia))\n",
    "print(id(x))"
   ]
  },
  {
   "cell_type": "code",
   "execution_count": 21,
   "id": "f2beefbf",
   "metadata": {},
   "outputs": [
    {
     "name": "stdout",
     "output_type": "stream",
     "text": [
      "[]\n",
      "[]\n"
     ]
    }
   ],
   "source": [
    "copia.clear()\n",
    "print(copia)\n",
    "print(x)"
   ]
  },
  {
   "cell_type": "markdown",
   "id": "d3e0a4dc",
   "metadata": {},
   "source": [
    "### extend\n",
    "- Combina dos listas"
   ]
  },
  {
   "cell_type": "code",
   "execution_count": 28,
   "id": "782a72ba",
   "metadata": {},
   "outputs": [
    {
     "name": "stdout",
     "output_type": "stream",
     "text": [
      "[1, 2, 3, 4, 5, 6]\n"
     ]
    }
   ],
   "source": [
    "x = [1,2,3]\n",
    "y = [4,5,6]\n",
    "x.extend(y)\n",
    "print(x)"
   ]
  },
  {
   "cell_type": "markdown",
   "id": "7a6b8052",
   "metadata": {},
   "source": [
    "### pop\n",
    "- Elimina el último elemento sino se le pasa un indice"
   ]
  },
  {
   "cell_type": "code",
   "execution_count": 29,
   "id": "7ad6633d",
   "metadata": {},
   "outputs": [
    {
     "name": "stdout",
     "output_type": "stream",
     "text": [
      "[1, 2, 3, 4, 5, 6]\n"
     ]
    }
   ],
   "source": [
    "print(x)"
   ]
  },
  {
   "cell_type": "code",
   "execution_count": 30,
   "id": "739c8031",
   "metadata": {},
   "outputs": [
    {
     "name": "stdout",
     "output_type": "stream",
     "text": [
      "[1, 2, 3, 4, 5]\n"
     ]
    }
   ],
   "source": [
    "x.pop()\n",
    "print(x)"
   ]
  },
  {
   "cell_type": "code",
   "execution_count": 31,
   "id": "d43571e4",
   "metadata": {},
   "outputs": [
    {
     "name": "stdout",
     "output_type": "stream",
     "text": [
      "[1, 2, 4, 5]\n"
     ]
    }
   ],
   "source": [
    "x.pop(2)\n",
    "print(x)"
   ]
  },
  {
   "cell_type": "markdown",
   "id": "bba0d409",
   "metadata": {},
   "source": [
    "### remove\n",
    "- Elimina la primera aparicion del elemento ingresado"
   ]
  },
  {
   "cell_type": "code",
   "execution_count": 34,
   "id": "f60dda0a",
   "metadata": {},
   "outputs": [
    {
     "name": "stdout",
     "output_type": "stream",
     "text": [
      "[100, 34, 100, 284, 90, 100]\n"
     ]
    }
   ],
   "source": [
    "x = [100,90,34,100,284,90,100]\n",
    "x.remove(90)\n",
    "print(x)"
   ]
  },
  {
   "cell_type": "code",
   "execution_count": 35,
   "id": "e3c96fef",
   "metadata": {},
   "outputs": [
    {
     "name": "stdout",
     "output_type": "stream",
     "text": [
      "[34, 100, 284, 90, 100]\n"
     ]
    }
   ],
   "source": [
    "x.remove(100)\n",
    "print(x)"
   ]
  },
  {
   "cell_type": "markdown",
   "id": "664a0865",
   "metadata": {},
   "source": [
    "### reverse\n",
    "- Invierte el orden de los elementos"
   ]
  },
  {
   "cell_type": "code",
   "execution_count": 36,
   "id": "c01b54a2",
   "metadata": {},
   "outputs": [
    {
     "name": "stdout",
     "output_type": "stream",
     "text": [
      "[1, 2, 3, 4, 5, 6, 7, 8, 9]\n",
      "[9, 8, 7, 6, 5, 4, 3, 2, 1]\n"
     ]
    }
   ],
   "source": [
    "x = [1,2,3,4,5,6,7,8,9]\n",
    "print(x)\n",
    "x.reverse()\n",
    "print(x)"
   ]
  },
  {
   "cell_type": "markdown",
   "id": "ea84ada3",
   "metadata": {},
   "source": [
    "### sort\n",
    "- Ordena los elementos de mayor a menor y viceversa"
   ]
  },
  {
   "cell_type": "code",
   "execution_count": 38,
   "id": "ab1960f4",
   "metadata": {},
   "outputs": [
    {
     "name": "stdout",
     "output_type": "stream",
     "text": [
      "[-12, 0, 1, 3, 7, 32, 32, 56, 88]\n",
      "[88, 56, 32, 32, 7, 3, 1, 0, -12]\n"
     ]
    }
   ],
   "source": [
    "x = [3,7,1,88,32,0,32,56,-12]\n",
    "x.sort()\n",
    "print(x)\n",
    "x.sort(reverse=True)\n",
    "print(x)"
   ]
  },
  {
   "cell_type": "code",
   "execution_count": 64,
   "id": "f5a4923e",
   "metadata": {},
   "outputs": [
    {
     "name": "stdout",
     "output_type": "stream",
     "text": [
      "7\n"
     ]
    }
   ],
   "source": [
    "### Obtener un elemento random de una lista\n",
    "import random\n",
    "print(random.choice(x))"
   ]
  },
  {
   "cell_type": "code",
   "execution_count": null,
   "id": "dbe9877c",
   "metadata": {},
   "outputs": [],
   "source": []
  }
 ],
 "metadata": {
  "kernelspec": {
   "display_name": "Python 3 (ipykernel)",
   "language": "python",
   "name": "python3"
  },
  "language_info": {
   "codemirror_mode": {
    "name": "ipython",
    "version": 3
   },
   "file_extension": ".py",
   "mimetype": "text/x-python",
   "name": "python",
   "nbconvert_exporter": "python",
   "pygments_lexer": "ipython3",
   "version": "3.11.4"
  }
 },
 "nbformat": 4,
 "nbformat_minor": 5
}
