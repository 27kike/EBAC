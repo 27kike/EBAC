{
 "cells": [
  {
   "cell_type": "code",
   "execution_count": 5,
   "id": "ccec9dbe",
   "metadata": {},
   "outputs": [],
   "source": [
    "productos = [\n",
    "    [1,'Manazas'],\n",
    "    [2,'Peras'],\n",
    "    [3,'Sandia'],\n",
    "    [4,'Naranjas'],\n",
    "    [5,'Lechuga'],\n",
    "    [6,'Papaya'],\n",
    "    [7,'Granada'],\n",
    "    [8,'Maracuya']\n",
    "]\n",
    "carrito = []\n",
    "def mostrarProductos():\n",
    "    print('ID - PRODUCTO\\n')\n",
    "    for producto in productos:\n",
    "        print('{} - {}'.format(producto[0],producto[1]))\n",
    "\n",
    "def pedirProductos():\n",
    "    producto = int(input('Ingrese el ID del producto que desea agregar al carrito: '))\n",
    "    cantidad = int(input('Ingrese la cantidad que desea: '))\n",
    "    return producto, cantidad\n",
    "\n",
    "def agregarCarrito(id,cantidad):\n",
    "    producto = productos[id-1]\n",
    "    elemento = [producto[0],cantidad]\n",
    "    carrito.append(elemento)\n",
    "\n",
    "def mostrarCarrito():\n",
    "    print('PRODUCTOS DEL CARRITO')\n",
    "    for elemento in carrito:\n",
    "        producto = elemento[0]\n",
    "        if producto == 1:\n",
    "            print('Producto: {} - Cantidad: {}'.format('Manzana',elemento[1]))\n",
    "        elif producto == 2:\n",
    "            print('Producto: {} - Cantidad: {}'.format('Pera',elemento[1]))\n",
    "        elif producto == 3:\n",
    "            print('Producto: {} - Cantidad: {}'.format('Sandia',elemento[1]))\n",
    "        elif producto == 4:\n",
    "            print('Producto: {} - Cantidad: {}'.format('Naranja',elemento[1]))\n",
    "        elif producto == 5:\n",
    "            print('Producto: {} - Cantidad: {}'.format('Lechuga',elemento[1]))\n",
    "        elif producto == 6:\n",
    "            print('Producto: {} - Cantidad: {}'.format('Papaya',elemento[1]))\n",
    "        elif producto == 7:\n",
    "            print('Producto: {} - Cantidad: {}'.format('Granada',elemento[1]))\n",
    "        elif producto == 8:\n",
    "            print('Producto: {} - Cantidad: {}'.format('Maracuya',elemento[1]))"
   ]
  },
  {
   "cell_type": "code",
   "execution_count": 6,
   "id": "dc5bbf9d",
   "metadata": {},
   "outputs": [
    {
     "name": "stdout",
     "output_type": "stream",
     "text": [
      "CARRITO DE COMPRAS\n",
      "\n",
      "ID - PRODUCTO\n",
      "\n",
      "1 - Manazas\n",
      "2 - Peras\n",
      "3 - Sandia\n",
      "4 - Naranjas\n",
      "5 - Lechuga\n",
      "6 - Papaya\n",
      "7 - Granada\n",
      "8 - Maracuya\n",
      "¿Quiere ingresar elementos al carrito?(Sí = 1, No = 0)\n",
      "1\n",
      "Ingrese el ID del producto que desea agregar al carrito: 1\n",
      "Ingrese la cantidad que desea: 8\n",
      "¿Quiere ingresar elementos al carrito?(Sí = 1, No = 0)\n",
      "1\n",
      "Ingrese el ID del producto que desea agregar al carrito: 2\n",
      "Ingrese la cantidad que desea: 7\n",
      "¿Quiere ingresar elementos al carrito?(Sí = 1, No = 0)\n",
      "1\n",
      "Ingrese el ID del producto que desea agregar al carrito: 3\n",
      "Ingrese la cantidad que desea: 6\n",
      "¿Quiere ingresar elementos al carrito?(Sí = 1, No = 0)\n",
      "1\n",
      "Ingrese el ID del producto que desea agregar al carrito: 4\n",
      "Ingrese la cantidad que desea: 5\n",
      "¿Quiere ingresar elementos al carrito?(Sí = 1, No = 0)\n",
      "0\n",
      "PRODUCTOS DEL CARRITO\n",
      "Producto: Manzana - Cantidad: 8\n",
      "Producto: Pera - Cantidad: 7\n",
      "Producto: Sandia - Cantidad: 6\n",
      "Producto: Naranja - Cantidad: 5\n"
     ]
    }
   ],
   "source": [
    "print('CARRITO DE COMPRAS\\n')\n",
    "mostrarProductos()\n",
    "while True:\n",
    "    opcion = int(input('¿Quiere ingresar elementos al carrito?(Sí = 1, No = 0)\\n'))\n",
    "    if opcion == 1:\n",
    "        producto,cantidad = pedirProductos()\n",
    "        agregarCarrito(producto,cantidad)\n",
    "    else:\n",
    "        break\n",
    "mostrarCarrito()"
   ]
  },
  {
   "cell_type": "code",
   "execution_count": null,
   "id": "1fdfb213",
   "metadata": {},
   "outputs": [],
   "source": []
  }
 ],
 "metadata": {
  "kernelspec": {
   "display_name": "Python 3 (ipykernel)",
   "language": "python",
   "name": "python3"
  },
  "language_info": {
   "codemirror_mode": {
    "name": "ipython",
    "version": 3
   },
   "file_extension": ".py",
   "mimetype": "text/x-python",
   "name": "python",
   "nbconvert_exporter": "python",
   "pygments_lexer": "ipython3",
   "version": "3.11.4"
  }
 },
 "nbformat": 4,
 "nbformat_minor": 5
}
