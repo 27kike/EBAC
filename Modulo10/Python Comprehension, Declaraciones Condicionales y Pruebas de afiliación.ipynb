{
 "cells": [
  {
   "cell_type": "markdown",
   "id": "18b9eb87",
   "metadata": {},
   "source": [
    "## Qué es comprehensión\n",
    "- Nos permite contruir lógica de manera corta y concisa\n",
    "- Es una forma de escribir un bloque de código para generar una secuencia que puede ser una lista, un diccionario, un set o un generador usando otra secuencia\n",
    "- Puede involucrar múltiples pasos de conversión entre los diferentes tipos de secuencia"
   ]
  },
  {
   "cell_type": "markdown",
   "id": "96b5580a",
   "metadata": {},
   "source": [
    "## El propósito de comprehension\n",
    "- Son construcciones que nos permiten crear secuencias de otras secuencias\n",
    "- Trabajan más rápido que un ciclo for equivalente\n",
    "- Se pueden incorporar múltiples ciclos for y condicionales if fácilmente"
   ]
  },
  {
   "cell_type": "markdown",
   "id": "60f364db",
   "metadata": {},
   "source": [
    "## List comprehensions\n",
    "- Son usados para crear nuevas listas de otros interables\n",
    "- Regresan una lista\n",
    "- Consisten en expresiones en medio de corchetes\n",
    "- La expresión es usada por cada elmeneto junto con un ciclo for para interar en cada elmento\n",
    "- Puede contener múltiples list comprehensions anidadas"
   ]
  },
  {
   "cell_type": "code",
   "execution_count": 1,
   "id": "9ee327b2",
   "metadata": {},
   "outputs": [
    {
     "name": "stdout",
     "output_type": "stream",
     "text": [
      "1\n",
      "3\n",
      "5\n",
      "7\n",
      "9\n",
      "11\n",
      "13\n",
      "15\n",
      "17\n",
      "19\n"
     ]
    }
   ],
   "source": [
    "# Número impar\n",
    "\n",
    "for number in range(20):\n",
    "    if number%2==1:\n",
    "        print(number)"
   ]
  },
  {
   "cell_type": "code",
   "execution_count": 3,
   "id": "88e80798",
   "metadata": {},
   "outputs": [
    {
     "name": "stdout",
     "output_type": "stream",
     "text": [
      "[1, 3, 5, 7, 9, 11, 13, 15, 17, 19]\n"
     ]
    }
   ],
   "source": [
    "#List comprehensions\n",
    "\n",
    "impares = [number for number in range(20) if number%2==1]\n",
    "print(impares)"
   ]
  },
  {
   "cell_type": "code",
   "execution_count": 4,
   "id": "6651517f",
   "metadata": {},
   "outputs": [
    {
     "name": "stdout",
     "output_type": "stream",
     "text": [
      "B\n",
      "a\n",
      "c\n",
      "k\n",
      "e\n",
      "n\n",
      "d\n",
      " \n",
      "p\n",
      "y\n",
      "t\n",
      "h\n",
      "o\n",
      "n\n"
     ]
    }
   ],
   "source": [
    "frase = 'Backend python'\n",
    "for letra in frase:\n",
    "    print(letra)"
   ]
  },
  {
   "cell_type": "code",
   "execution_count": 5,
   "id": "9bc73de8",
   "metadata": {},
   "outputs": [
    {
     "name": "stdout",
     "output_type": "stream",
     "text": [
      "['B', 'a', 'c', 'k', 'e', 'n', 'd', ' ', 'p', 'y', 't', 'h', 'o', 'n']\n"
     ]
    }
   ],
   "source": [
    "#List comprehensions\n",
    "frase = 'Backend python'\n",
    "letra = [letras for letras in frase]\n",
    "print(letra)"
   ]
  },
  {
   "cell_type": "markdown",
   "id": "2b60f66e",
   "metadata": {},
   "source": [
    "## Dict Comprehensions\n",
    "- Son prácticamente idénticas a list comprehensions\n",
    "- Operan de la misma forma pero usan dos variables, llave y valor "
   ]
  },
  {
   "cell_type": "code",
   "execution_count": 6,
   "id": "2a9e1180",
   "metadata": {},
   "outputs": [
    {
     "name": "stdout",
     "output_type": "stream",
     "text": [
      "{0: 1, 1: 1, 2: 2, 3: 6, 4: 24, 5: 120}\n"
     ]
    }
   ],
   "source": [
    "import math\n",
    "factoriales = {x:math.factorial(x) for x in range(6)}\n",
    "print(factoriales)"
   ]
  },
  {
   "cell_type": "code",
   "execution_count": 7,
   "id": "14139493",
   "metadata": {},
   "outputs": [
    {
     "name": "stdout",
     "output_type": "stream",
     "text": [
      "{1: 1, 3: 6, 5: 120}\n"
     ]
    }
   ],
   "source": [
    "import math\n",
    "factoriales = {x:math.factorial(x) for x in range(6) if x%2==1}\n",
    "print(factoriales)"
   ]
  },
  {
   "cell_type": "code",
   "execution_count": 8,
   "id": "bbbf567c",
   "metadata": {},
   "outputs": [
    {
     "name": "stdout",
     "output_type": "stream",
     "text": [
      "{0: 1, 2: 2, 4: 24}\n"
     ]
    }
   ],
   "source": [
    "import math\n",
    "factoriales = {x:math.factorial(x) for x in range(6) if x%2==0}\n",
    "print(factoriales)"
   ]
  },
  {
   "cell_type": "markdown",
   "id": "b22836fd",
   "metadata": {},
   "source": [
    "## Declaraciones Condicionales"
   ]
  },
  {
   "cell_type": "markdown",
   "id": "4cae4e09",
   "metadata": {},
   "source": [
    "### Qué son las declaraciones condicionales\n",
    "- Generalmente, controlan el flujo del programa.\n",
    "- Si la condición es verdadera, el programa ejecuta cierta acción\n",
    "- Si la condición es falsa, el programa ejecuta otra acción\n",
    "- Se usan para evaluar si ciertas condiciones son verdaderas o falsas y decidir que bloque de código ejecutar\n",
    "- Tenemos 3 tipos de declaraciones\n",
    "    - if\n",
    "    - if else\n",
    "    - if elif else"
   ]
  },
  {
   "cell_type": "markdown",
   "id": "94880cd9",
   "metadata": {},
   "source": [
    "## IF"
   ]
  },
  {
   "cell_type": "code",
   "execution_count": 3,
   "id": "eae875e0",
   "metadata": {},
   "outputs": [
    {
     "name": "stdout",
     "output_type": "stream",
     "text": [
      "Dentro del bloque if\n",
      "Fin del ejemplo\n"
     ]
    }
   ],
   "source": [
    "num = 3\n",
    "if num > 1:\n",
    "    print('Dentro del bloque if')\n",
    "print('Fin del ejemplo')"
   ]
  },
  {
   "cell_type": "code",
   "execution_count": 4,
   "id": "07f56f2b",
   "metadata": {},
   "outputs": [
    {
     "name": "stdout",
     "output_type": "stream",
     "text": [
      "Fin del ejercicio\n"
     ]
    }
   ],
   "source": [
    "num = 0\n",
    "if num > 1 and num < 10:\n",
    "    print('Dentro del ejemplo')\n",
    "print('Fin del ejercicio')"
   ]
  },
  {
   "cell_type": "markdown",
   "id": "09987a74",
   "metadata": {},
   "source": [
    "## IF ELSE"
   ]
  },
  {
   "cell_type": "code",
   "execution_count": 5,
   "id": "b9b94e0a",
   "metadata": {},
   "outputs": [
    {
     "name": "stdout",
     "output_type": "stream",
     "text": [
      "Desde el bloque else\n",
      "Fin del ejercicio\n"
     ]
    }
   ],
   "source": [
    "num = 0\n",
    "if num > 1 and num < 10:\n",
    "    print('Dentro del ejemplo')\n",
    "else:\n",
    "    print('Desde el bloque else')\n",
    "print('Fin del ejercicio')"
   ]
  },
  {
   "cell_type": "markdown",
   "id": "84bcf613",
   "metadata": {},
   "source": [
    "## IF-ELIF-ELSE"
   ]
  },
  {
   "cell_type": "code",
   "execution_count": 8,
   "id": "20d665c9",
   "metadata": {},
   "outputs": [
    {
     "name": "stdout",
     "output_type": "stream",
     "text": [
      "Dentro del segundo bloque\n"
     ]
    }
   ],
   "source": [
    "num = 11\n",
    "if num > 0 and num < 10:\n",
    "    print('Dentro del primer bloque')\n",
    "elif num == 11:\n",
    "    print('Dentro del segundo bloque')\n",
    "else:\n",
    "    print('Dentro del último bloque')"
   ]
  },
  {
   "cell_type": "markdown",
   "id": "31e79994",
   "metadata": {},
   "source": [
    "## Pruebas de afiliación\n",
    "- Los operadores de afiliación son usados para verificar si un valor está presente o no en una secuencia\n",
    "- Los operadores son \"in\" y \"not in\"\n",
    "- Puedes hacer pruebas de afiliación para todas las estructuras de datos como listas, tuplas, sets y diccionarios\n",
    "- También se pueden hacer pruebas de afiliación para cadenas en python\n",
    "- Los operadores de afiliación se usan para encontrar rápidamente si ciertos valores están disponibles o no"
   ]
  },
  {
   "cell_type": "markdown",
   "id": "860a953d",
   "metadata": {},
   "source": [
    "## Prueba de afiliación para cadenas"
   ]
  },
  {
   "cell_type": "code",
   "execution_count": 2,
   "id": "5d732272",
   "metadata": {},
   "outputs": [
    {
     "name": "stdout",
     "output_type": "stream",
     "text": [
      "True\n"
     ]
    }
   ],
   "source": [
    "texto = 'Backend python'\n",
    "print('a' in texto)"
   ]
  },
  {
   "cell_type": "code",
   "execution_count": 3,
   "id": "212b12b1",
   "metadata": {},
   "outputs": [
    {
     "name": "stdout",
     "output_type": "stream",
     "text": [
      "False\n"
     ]
    }
   ],
   "source": [
    "texto = 'Backend python'\n",
    "print('A' in texto)"
   ]
  },
  {
   "cell_type": "code",
   "execution_count": 5,
   "id": "5d17e4ab",
   "metadata": {},
   "outputs": [
    {
     "name": "stdout",
     "output_type": "stream",
     "text": [
      "True\n"
     ]
    }
   ],
   "source": [
    "texto = 'Backend python'\n",
    "print('A' not in texto)"
   ]
  },
  {
   "cell_type": "code",
   "execution_count": 6,
   "id": "4dc4fa37",
   "metadata": {},
   "outputs": [
    {
     "name": "stdout",
     "output_type": "stream",
     "text": [
      "True\n"
     ]
    }
   ],
   "source": [
    "texto = 'Backend python'\n",
    "print('python' in texto)"
   ]
  },
  {
   "cell_type": "code",
   "execution_count": 8,
   "id": "5705a302",
   "metadata": {},
   "outputs": [
    {
     "name": "stdout",
     "output_type": "stream",
     "text": [
      "False\n"
     ]
    }
   ],
   "source": [
    "texto = 'Backend python'\n",
    "print('Backendpy' in texto)"
   ]
  },
  {
   "cell_type": "markdown",
   "id": "2cd1c991",
   "metadata": {},
   "source": [
    "## Prueba de afiliación con tuplas"
   ]
  },
  {
   "cell_type": "code",
   "execution_count": 9,
   "id": "ee6e3bb9",
   "metadata": {},
   "outputs": [
    {
     "name": "stdout",
     "output_type": "stream",
     "text": [
      "True\n"
     ]
    }
   ],
   "source": [
    "tupla = 'a','b','c','d'\n",
    "print('a' in tupla)"
   ]
  },
  {
   "cell_type": "code",
   "execution_count": 12,
   "id": "b8478a1b",
   "metadata": {},
   "outputs": [
    {
     "name": "stdout",
     "output_type": "stream",
     "text": [
      "True\n",
      "True\n",
      "False\n"
     ]
    }
   ],
   "source": [
    "tupla = 1,2,3,4,5\n",
    "print(5 in tupla)\n",
    "print(6 not in tupla)\n",
    "print(1 not in tupla)"
   ]
  },
  {
   "cell_type": "markdown",
   "id": "af6990b0",
   "metadata": {},
   "source": [
    "## Prueba de afiliación con listas"
   ]
  },
  {
   "cell_type": "code",
   "execution_count": 14,
   "id": "020d3517",
   "metadata": {},
   "outputs": [
    {
     "name": "stdout",
     "output_type": "stream",
     "text": [
      "True\n",
      "True\n",
      "False\n"
     ]
    }
   ],
   "source": [
    "tupla = [1,2,3,4,5]\n",
    "print(5 in tupla)\n",
    "print(6 not in tupla)\n",
    "print(1 not in tupla)"
   ]
  },
  {
   "cell_type": "markdown",
   "id": "7cbad0ed",
   "metadata": {},
   "source": [
    "## Pruebas de afiliación con set"
   ]
  },
  {
   "cell_type": "code",
   "execution_count": 15,
   "id": "151aa916",
   "metadata": {},
   "outputs": [
    {
     "name": "stdout",
     "output_type": "stream",
     "text": [
      "True\n",
      "True\n",
      "False\n"
     ]
    }
   ],
   "source": [
    "conjunto = {1,2,3,4,5}\n",
    "print(5 in conjunto)\n",
    "print(6 not in conjunto)\n",
    "print(1 not in conjunto)"
   ]
  },
  {
   "cell_type": "markdown",
   "id": "444e3264",
   "metadata": {},
   "source": [
    "## Pruebas de afiliación con diccionarios\n",
    "- Valida si está presente en las llaves"
   ]
  },
  {
   "cell_type": "code",
   "execution_count": 18,
   "id": "d724de83",
   "metadata": {},
   "outputs": [
    {
     "name": "stdout",
     "output_type": "stream",
     "text": [
      "True\n",
      "False\n"
     ]
    }
   ],
   "source": [
    "dic = {'a':100,'b':101,'c':56}\n",
    "print('a' in dic)\n",
    "print(56 not in dic.values())"
   ]
  },
  {
   "cell_type": "code",
   "execution_count": null,
   "id": "63ebdfdf",
   "metadata": {},
   "outputs": [],
   "source": []
  }
 ],
 "metadata": {
  "kernelspec": {
   "display_name": "Python 3 (ipykernel)",
   "language": "python",
   "name": "python3"
  },
  "language_info": {
   "codemirror_mode": {
    "name": "ipython",
    "version": 3
   },
   "file_extension": ".py",
   "mimetype": "text/x-python",
   "name": "python",
   "nbconvert_exporter": "python",
   "pygments_lexer": "ipython3",
   "version": "3.11.4"
  }
 },
 "nbformat": 4,
 "nbformat_minor": 5
}
