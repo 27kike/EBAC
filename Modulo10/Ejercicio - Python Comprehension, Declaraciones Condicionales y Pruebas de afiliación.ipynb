{
 "cells": [
  {
   "cell_type": "code",
   "execution_count": 20,
   "id": "f750578b",
   "metadata": {},
   "outputs": [
    {
     "name": "stdout",
     "output_type": "stream",
     "text": [
      "Lista de Reproducción\n",
      "\n",
      "¿Qué tipo de música te gustaria buscar?\n",
      "Metal\n",
      "[{'artista': 'Kerchak', 'cancion': 'Métal'}, {'artista': 'Tenacious D', 'cancion': 'The Metal'}, {'artista': 'Gary Numan', 'cancion': 'Metal'}, {'artista': 'Metal & Cego', 'cancion': 'Melô do Amigo Safado'}, {'artista': 'Metal & Cego', 'cancion': 'Não Seja Besta'}, {'artista': 'Meerjade', 'cancion': 'Metal'}, {'artista': 'Tenacious D', 'cancion': 'The Metal'}, {'artista': 'Metal up your Brass', 'cancion': 'Dream On'}, {'artista': 'FryXx', 'cancion': 'Mental'}, {'artista': 'Judas Priest', 'cancion': 'Metal Gods'}, {'artista': 'Ours Samplus', 'cancion': 'Metal Leaves'}, {'artista': 'Denzel Curry', 'cancion': 'Mental'}, {'artista': 'BABYMETAL', 'cancion': 'METAL KINGDOM'}, {'artista': 'Anvil', 'cancion': 'Metal On Metal'}, {'artista': 'Legiao Urbana', 'cancion': 'Metal Contra As Nuvens'}, {'artista': 'Saamou Skuu', 'cancion': 'Métal froid'}, {'artista': 'Quiet Riot', 'cancion': 'Cum on Feel the Noize'}, {'artista': 'Severina', 'cancion': 'Metak'}, {'artista': 'Quiet Riot', 'cancion': 'Metal Health (Bang Your Head)'}, {'artista': 'Poppy', 'cancion': 'Metal'}, {'artista': 'Blick Bassy', 'cancion': 'Mètam'}, {'artista': 'Daniel May', 'cancion': 'Metal'}, {'artista': 'Landy', 'cancion': 'Mental'}, {'artista': 'Massacration', 'cancion': 'Metal Galera'}, {'artista': 'Accept', 'cancion': 'Metal Heart'}]\n"
     ]
    }
   ],
   "source": [
    "import requests\n",
    "\n",
    "print(\"Lista de Reproducción\\n\")\n",
    "print(\"¿Qué tipo de música te gustaria buscar?\")  \n",
    "genero = input() \n",
    "url = \"https://deezerdevs-deezer.p.rapidapi.com/search\" \n",
    "querystring = {\"q\":genero} \n",
    "headers = {    \"X-RapidAPI-Key\": \"3ed98f551fmshe4e6260228c4eadp13db17jsn8c893e1194da\",\n",
    "               \"X-RapidAPI-Host\": \"deezerdevs-deezer.p.rapidapi.com\" } \n",
    "response = requests.request(\"GET\", url, headers=headers, params=querystring).json()\n",
    "\n",
    "my_list = [{'artista':element['artist']['name'],'cancion':element['title']} for element in response['data']]\n",
    "print(my_list)"
   ]
  },
  {
   "cell_type": "code",
   "execution_count": null,
   "id": "01ec6314",
   "metadata": {},
   "outputs": [],
   "source": []
  }
 ],
 "metadata": {
  "kernelspec": {
   "display_name": "Python 3 (ipykernel)",
   "language": "python",
   "name": "python3"
  },
  "language_info": {
   "codemirror_mode": {
    "name": "ipython",
    "version": 3
   },
   "file_extension": ".py",
   "mimetype": "text/x-python",
   "name": "python",
   "nbconvert_exporter": "python",
   "pygments_lexer": "ipython3",
   "version": "3.11.4"
  }
 },
 "nbformat": 4,
 "nbformat_minor": 5
}
