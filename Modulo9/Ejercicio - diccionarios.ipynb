{
 "cells": [
  {
   "cell_type": "code",
   "execution_count": 2,
   "id": "fca7efed",
   "metadata": {},
   "outputs": [
    {
     "name": "stdout",
     "output_type": "stream",
     "text": [
      "Requirement already satisfied: pokebase in /Users/hector/anaconda3/lib/python3.11/site-packages (1.3.0)\r\n",
      "Requirement already satisfied: requests in /Users/hector/anaconda3/lib/python3.11/site-packages (from pokebase) (2.31.0)\r\n",
      "Requirement already satisfied: charset-normalizer<4,>=2 in /Users/hector/anaconda3/lib/python3.11/site-packages (from requests->pokebase) (2.0.4)\r\n",
      "Requirement already satisfied: idna<4,>=2.5 in /Users/hector/anaconda3/lib/python3.11/site-packages (from requests->pokebase) (3.4)\r\n",
      "Requirement already satisfied: urllib3<3,>=1.21.1 in /Users/hector/anaconda3/lib/python3.11/site-packages (from requests->pokebase) (1.26.16)\r\n",
      "Requirement already satisfied: certifi>=2017.4.17 in /Users/hector/anaconda3/lib/python3.11/site-packages (from requests->pokebase) (2023.7.22)\r\n"
     ]
    }
   ],
   "source": [
    "!pip install pokebase"
   ]
  },
  {
   "cell_type": "code",
   "execution_count": 15,
   "id": "187f39e4",
   "metadata": {},
   "outputs": [
    {
     "name": "stdout",
     "output_type": "stream",
     "text": [
      "Ingresa el nombre de un pokemon\n",
      "\n",
      "pikachu\n",
      "ID:  25\n",
      "Nombre:  pikachu\n",
      "Altura:  4\n",
      "Peso:  60\n"
     ]
    }
   ],
   "source": [
    "import pokebase as pb \n",
    "import requests \n",
    "pokemon_to_search = input(\"Ingresa el nombre de un pokemon\\n\\n\") \n",
    "data = pb.pokemon(pokemon_to_search).__dict__ \n",
    "id_ = data.get('id_') \n",
    "name = data.get('name') \n",
    "height = data.get('height')\n",
    "weight = data.get('weight')\n",
    "print(\"ID: \", id_) \n",
    "print(\"Nombre: \", name) \n",
    "print(\"Altura: \", height) \n",
    "print(\"Peso: \", weight)"
   ]
  }
 ],
 "metadata": {
  "kernelspec": {
   "display_name": "Python 3 (ipykernel)",
   "language": "python",
   "name": "python3"
  },
  "language_info": {
   "codemirror_mode": {
    "name": "ipython",
    "version": 3
   },
   "file_extension": ".py",
   "mimetype": "text/x-python",
   "name": "python",
   "nbconvert_exporter": "python",
   "pygments_lexer": "ipython3",
   "version": "3.11.4"
  }
 },
 "nbformat": 4,
 "nbformat_minor": 5
}
