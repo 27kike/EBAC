{
 "cells": [
  {
   "cell_type": "markdown",
   "id": "ee0c65e2",
   "metadata": {},
   "source": [
    "## Diferentes formas de crear un diccionario"
   ]
  },
  {
   "cell_type": "code",
   "execution_count": 3,
   "id": "156a72e1",
   "metadata": {},
   "outputs": [
    {
     "name": "stdout",
     "output_type": "stream",
     "text": [
      "<class 'dict'>\n",
      "{}\n"
     ]
    }
   ],
   "source": [
    "myDict = {}\n",
    "print(type(myDict))\n",
    "print(myDict)"
   ]
  },
  {
   "cell_type": "code",
   "execution_count": 4,
   "id": "8793dc97",
   "metadata": {},
   "outputs": [
    {
     "name": "stdout",
     "output_type": "stream",
     "text": [
      "<class 'dict'>\n",
      "{}\n"
     ]
    }
   ],
   "source": [
    "myDict = dict()\n",
    "print(type(myDict))\n",
    "print(myDict)"
   ]
  },
  {
   "cell_type": "code",
   "execution_count": 5,
   "id": "c5ddf3f4",
   "metadata": {},
   "outputs": [
    {
     "name": "stdout",
     "output_type": "stream",
     "text": [
      "<class 'dict'>\n",
      "{1: 'Uno', 2: 'Dos', 3: 'Tres', 4: 'Cuatro', 5: 'Cinco'}\n"
     ]
    }
   ],
   "source": [
    "#Datos en el diccionario\n",
    "myDict = {\n",
    "    1:'Uno',\n",
    "    2:'Dos',\n",
    "    3:'Tres',\n",
    "    4:'Cuatro',\n",
    "    5:'Cinco'\n",
    "}\n",
    "print(type(myDict))\n",
    "print(myDict)"
   ]
  },
  {
   "cell_type": "code",
   "execution_count": 7,
   "id": "87f0586b",
   "metadata": {},
   "outputs": [
    {
     "name": "stdout",
     "output_type": "stream",
     "text": [
      "<class 'dict'>\n",
      "{'Uno': 1, 'Dos': 2, 'Tres': 3}\n"
     ]
    }
   ],
   "source": [
    "# Usando naombres de las llaves con valores\n",
    "myDict = dict(Uno=1,Dos=2,Tres=3)\n",
    "print(type(myDict))\n",
    "print(myDict)"
   ]
  },
  {
   "cell_type": "code",
   "execution_count": 9,
   "id": "793c19a5",
   "metadata": {},
   "outputs": [
    {
     "name": "stdout",
     "output_type": "stream",
     "text": [
      "<class 'dict'>\n",
      "{1: 'uno', 2: 'dos', 3: 'tres'}\n"
     ]
    }
   ],
   "source": [
    "# Usando una lista de tuplas\n",
    "myDict = dict([\n",
    "    (1,'uno'),\n",
    "    (2,'dos'),\n",
    "    (3,'tres')\n",
    "])\n",
    "print(type(myDict))\n",
    "print(myDict)"
   ]
  },
  {
   "cell_type": "markdown",
   "id": "66f7ae52",
   "metadata": {},
   "source": [
    "## Método update"
   ]
  },
  {
   "cell_type": "code",
   "execution_count": 10,
   "id": "5c268eb3",
   "metadata": {},
   "outputs": [
    {
     "name": "stdout",
     "output_type": "stream",
     "text": [
      "<class 'dict'>\n",
      "{1: 'Uno', 2: 'Dos', 3: 'Tres', 4: 'Cuatro', 5: 'Cinco'}\n",
      "<class 'dict'>\n",
      "{6: 'Seis', 7: 'Siete', 8: 'Ocho', 9: 'Nueve', 10: 'Diez'}\n"
     ]
    }
   ],
   "source": [
    "myDict = {\n",
    "    1:'Uno',\n",
    "    2:'Dos',\n",
    "    3:'Tres',\n",
    "    4:'Cuatro',\n",
    "    5:'Cinco'\n",
    "}\n",
    "myDict2 = {\n",
    "    6:'Seis',\n",
    "    7:'Siete',\n",
    "    8:'Ocho',\n",
    "    9:'Nueve',\n",
    "    10:'Diez'\n",
    "}\n",
    "print(type(myDict))\n",
    "print(myDict)\n",
    "\n",
    "print(type(myDict2))\n",
    "print(myDict2)"
   ]
  },
  {
   "cell_type": "code",
   "execution_count": 11,
   "id": "dabab354",
   "metadata": {},
   "outputs": [
    {
     "name": "stdout",
     "output_type": "stream",
     "text": [
      "<class 'dict'>\n",
      "{1: 'Uno', 2: 'Dos', 3: 'Tres', 4: 'Cuatro', 5: 'Cinco', 6: 'Seis', 7: 'Siete', 8: 'Ocho', 9: 'Nueve', 10: 'Diez'}\n"
     ]
    }
   ],
   "source": [
    "myDict.update(myDict2)\n",
    "print(type(myDict))\n",
    "print(myDict)"
   ]
  },
  {
   "cell_type": "code",
   "execution_count": 14,
   "id": "04358caf",
   "metadata": {},
   "outputs": [
    {
     "name": "stdout",
     "output_type": "stream",
     "text": [
      "<class 'dict'>\n",
      "{1: 'UNO', 2: 'Dos', 3: 'TRES', 4: 'CUATRO', 5: 'Cinco'}\n"
     ]
    }
   ],
   "source": [
    "myDict = {\n",
    "    1:'Uno',\n",
    "    2:'Dos',\n",
    "    3:'Tres',\n",
    "    4:'Cuatro',\n",
    "    5:'Cinco'\n",
    "}\n",
    "myDict2 = {\n",
    "    1:'UNO',\n",
    "    3:'TRES',\n",
    "    4:'CUATRO'\n",
    "}\n",
    "myDict.update(myDict2)\n",
    "print(type(myDict))\n",
    "print(myDict)"
   ]
  },
  {
   "cell_type": "markdown",
   "id": "9b5adc59",
   "metadata": {},
   "source": [
    "## Copy & Alias"
   ]
  },
  {
   "cell_type": "code",
   "execution_count": 18,
   "id": "1fd9214f",
   "metadata": {},
   "outputs": [
    {
     "name": "stdout",
     "output_type": "stream",
     "text": [
      "{'HP': 11999.0, 'Apple': 24999.0, 'Acer': 15999.99, 'Dell': 10400.0}\n",
      "{'HP': 5000.99, 'Apple': 24999.0, 'Acer': 15999.99, 'Dell': 10400.0}\n",
      "{'HP': 5000.99, 'Apple': 24999.0, 'Acer': 15999.99, 'Dell': 10400.0}\n"
     ]
    }
   ],
   "source": [
    "#Establecer una igualdad modifica la variable original\n",
    "laptops = {\n",
    "    'HP':11999.0,\n",
    "    'Apple':24999.0,\n",
    "    'Acer':15999.99,\n",
    "    'Dell':10400.0\n",
    "}\n",
    "alias = laptops #No es recomendado\n",
    "print(alias)\n",
    "alias['HP'] = 5000.99\n",
    "print(alias)\n",
    "print(laptops)"
   ]
  },
  {
   "cell_type": "code",
   "execution_count": 2,
   "id": "579e2574",
   "metadata": {},
   "outputs": [
    {
     "name": "stdout",
     "output_type": "stream",
     "text": [
      "{'HP': 11999.0, 'Apple': 24999.0, 'Acer': 15999.99, 'Dell': 10400.0}\n",
      "{'HP': 5000.99, 'Apple': 24999.0, 'Acer': 15999.99, 'Dell': 10400.0}\n",
      "{'HP': 11999.0, 'Apple': 24999.0, 'Acer': 15999.99, 'Dell': 10400.0}\n"
     ]
    }
   ],
   "source": [
    "#Al establecer una copia no se afecta el valor original (La mejor forma de hacerlo)\n",
    "laptops = {\n",
    "    'HP':11999.0,\n",
    "    'Apple':24999.0,\n",
    "    'Acer':15999.99,\n",
    "    'Dell':10400.0\n",
    "}\n",
    "copy = laptops.copy() #Siempre es recomendado\n",
    "print(copy)\n",
    "copy['HP'] = 5000.99\n",
    "print(copy)\n",
    "print(laptops)"
   ]
  },
  {
   "cell_type": "markdown",
   "id": "322dbc7f",
   "metadata": {},
   "source": [
    "## Obteniendo las claves (keys) y valores (values) de un diccionario"
   ]
  },
  {
   "cell_type": "markdown",
   "id": "6f9c48fb",
   "metadata": {},
   "source": [
    "## Keys"
   ]
  },
  {
   "cell_type": "code",
   "execution_count": 6,
   "id": "281b16ac",
   "metadata": {},
   "outputs": [
    {
     "name": "stdout",
     "output_type": "stream",
     "text": [
      "dict_keys(['HP', 'Apple', 'Acer', 'Dell'])\n",
      "Para la llave HP es valores es: 11999.0\n",
      "Para la llave Apple es valores es: 24999.0\n",
      "Para la llave Acer es valores es: 15999.99\n",
      "Para la llave Dell es valores es: 10400.0\n"
     ]
    }
   ],
   "source": [
    "laptops = {\n",
    "    'HP':11999.0,\n",
    "    'Apple':24999.0,\n",
    "    'Acer':15999.99,\n",
    "    'Dell':10400.0\n",
    "}\n",
    "\n",
    "print(laptops.keys())\n",
    "\n",
    "for key in laptops.keys():\n",
    "    print(\"Para la llave {} es valores es: {}\".format(key,laptops[key]))"
   ]
  },
  {
   "cell_type": "markdown",
   "id": "064db525",
   "metadata": {},
   "source": [
    "## Values"
   ]
  },
  {
   "cell_type": "code",
   "execution_count": 8,
   "id": "6d0935df",
   "metadata": {},
   "outputs": [
    {
     "name": "stdout",
     "output_type": "stream",
     "text": [
      "dict_values([11999.0, 24999.0, 15999.99, 10400.0])\n"
     ]
    }
   ],
   "source": [
    "print(laptops.values())"
   ]
  },
  {
   "cell_type": "code",
   "execution_count": 9,
   "id": "d01e1b78",
   "metadata": {},
   "outputs": [
    {
     "name": "stdout",
     "output_type": "stream",
     "text": [
      "El valor es: 11999.0\n",
      "El valor es: 24999.0\n",
      "El valor es: 15999.99\n",
      "El valor es: 10400.0\n"
     ]
    }
   ],
   "source": [
    "for value in laptops.values():\n",
    "    print('El valor es: {}'.format(value))"
   ]
  },
  {
   "cell_type": "markdown",
   "id": "0bd22aed",
   "metadata": {},
   "source": [
    "## items"
   ]
  },
  {
   "cell_type": "code",
   "execution_count": 10,
   "id": "d2958bee",
   "metadata": {},
   "outputs": [
    {
     "name": "stdout",
     "output_type": "stream",
     "text": [
      "dict_items([('HP', 11999.0), ('Apple', 24999.0), ('Acer', 15999.99), ('Dell', 10400.0)])\n"
     ]
    }
   ],
   "source": [
    "print(laptops.items())"
   ]
  },
  {
   "cell_type": "code",
   "execution_count": 11,
   "id": "fe7fa0b9",
   "metadata": {},
   "outputs": [
    {
     "name": "stdout",
     "output_type": "stream",
     "text": [
      "Laptop HP tiene un precio de 11999.0 pesos\n",
      "Laptop Apple tiene un precio de 24999.0 pesos\n",
      "Laptop Acer tiene un precio de 15999.99 pesos\n",
      "Laptop Dell tiene un precio de 10400.0 pesos\n"
     ]
    }
   ],
   "source": [
    "for key,value in laptops.items():\n",
    "    print('Laptop {} tiene un precio de {} pesos'.format(key,value))"
   ]
  },
  {
   "cell_type": "markdown",
   "id": "24b6ee1f",
   "metadata": {},
   "source": [
    "## Métodos para manipulación de Diccionarios\n"
   ]
  },
  {
   "cell_type": "markdown",
   "id": "7dfb961c",
   "metadata": {},
   "source": [
    "### Clear\n",
    "Elimina los elementos del diccionario"
   ]
  },
  {
   "cell_type": "code",
   "execution_count": 13,
   "id": "f660dd87",
   "metadata": {},
   "outputs": [
    {
     "name": "stdout",
     "output_type": "stream",
     "text": [
      "{'HP': 11999.0, 'Apple': 24999.0, 'Acer': 15999.99, 'Dell': 10400.0}\n",
      "<class 'dict'>\n",
      "4\n",
      "{}\n",
      "<class 'dict'>\n",
      "0\n"
     ]
    }
   ],
   "source": [
    "laptops = {\n",
    "    'HP':11999.0,\n",
    "    'Apple':24999.0,\n",
    "    'Acer':15999.99,\n",
    "    'Dell':10400.0\n",
    "}\n",
    "\n",
    "print(laptops)\n",
    "print(type(laptops))\n",
    "print(len(laptops))\n",
    "\n",
    "laptops.clear()\n",
    "\n",
    "print(laptops)\n",
    "print(type(laptops))\n",
    "print(len(laptops))"
   ]
  },
  {
   "cell_type": "markdown",
   "id": "63390b6a",
   "metadata": {},
   "source": [
    "### Copy\n",
    "Hacer una copia del diccionario"
   ]
  },
  {
   "cell_type": "code",
   "execution_count": 16,
   "id": "1e4162dd",
   "metadata": {},
   "outputs": [
    {
     "name": "stdout",
     "output_type": "stream",
     "text": [
      "{}\n",
      "<class 'dict'>\n",
      "0\n",
      "{'HP': 11999.0, 'Apple': 24999.0, 'Acer': 15999.99, 'Dell': 10400.0}\n",
      "<class 'dict'>\n",
      "4\n"
     ]
    }
   ],
   "source": [
    "laptops = {\n",
    "    'HP':11999.0,\n",
    "    'Apple':24999.0,\n",
    "    'Acer':15999.99,\n",
    "    'Dell':10400.0\n",
    "}\n",
    "copy = {}\n",
    "\n",
    "copy = laptops.copy()\n",
    "laptops.clear()\n",
    "\n",
    "print(laptops)\n",
    "print(type(laptops))\n",
    "print(len(laptops))\n",
    "\n",
    "print(copy)\n",
    "print(type(copy))\n",
    "print(len(copy))"
   ]
  },
  {
   "cell_type": "markdown",
   "id": "27b47ed3",
   "metadata": {},
   "source": [
    "### fromkeys\n",
    "Construir un nuevo diccionario tomando como referencia las llaves de un diccionario"
   ]
  },
  {
   "cell_type": "code",
   "execution_count": 18,
   "id": "405a772e",
   "metadata": {},
   "outputs": [
    {
     "name": "stdout",
     "output_type": "stream",
     "text": [
      "{'HP': 'Marca laptop', 'Apple': 'Marca laptop', 'Acer': 'Marca laptop', 'Dell': 'Marca laptop'}\n"
     ]
    }
   ],
   "source": [
    "laptops = {\n",
    "    'HP':11999.0,\n",
    "    'Apple':24999.0,\n",
    "    'Acer':15999.99,\n",
    "    'Dell':10400.0\n",
    "}\n",
    "categoria = 'Marca laptop'\n",
    "nuevasLaptops = dict.fromkeys(laptops,categoria)\n",
    "print(nuevasLaptops)"
   ]
  },
  {
   "cell_type": "markdown",
   "id": "397b5b9f",
   "metadata": {},
   "source": [
    "### get\n",
    "Obtener el valor de un diccionario de forma segura y con la opción de configurar un valor por default"
   ]
  },
  {
   "cell_type": "code",
   "execution_count": 19,
   "id": "e14a60c6",
   "metadata": {},
   "outputs": [
    {
     "name": "stdout",
     "output_type": "stream",
     "text": [
      "11999.0\n",
      "11999.0\n"
     ]
    }
   ],
   "source": [
    "laptops = {\n",
    "    'HP':11999.0,\n",
    "    'Apple':24999.0,\n",
    "    'Acer':15999.99,\n",
    "    'Dell':10400.0\n",
    "}\n",
    "print(laptops['HP']) #Forma insegura\n",
    "print(laptops.get('HP')) #Forma segura"
   ]
  },
  {
   "cell_type": "code",
   "execution_count": 20,
   "id": "b5e0ce32",
   "metadata": {},
   "outputs": [
    {
     "ename": "KeyError",
     "evalue": "'ASUS'",
     "output_type": "error",
     "traceback": [
      "\u001b[0;31m---------------------------------------------------------------------------\u001b[0m",
      "\u001b[0;31mKeyError\u001b[0m                                  Traceback (most recent call last)",
      "Cell \u001b[0;32mIn[20], line 1\u001b[0m\n\u001b[0;32m----> 1\u001b[0m \u001b[38;5;28mprint\u001b[39m(laptops[\u001b[38;5;124m'\u001b[39m\u001b[38;5;124mASUS\u001b[39m\u001b[38;5;124m'\u001b[39m])\n",
      "\u001b[0;31mKeyError\u001b[0m: 'ASUS'"
     ]
    }
   ],
   "source": [
    "print(laptops['ASUS']) #Forma insegura ya que detiene el programa si no hay valor"
   ]
  },
  {
   "cell_type": "code",
   "execution_count": 22,
   "id": "d39d3d2f",
   "metadata": {},
   "outputs": [
    {
     "name": "stdout",
     "output_type": "stream",
     "text": [
      "None\n"
     ]
    }
   ],
   "source": [
    "print(laptops.get('ASUS'))#Forma segura ya que no detiene el programa"
   ]
  },
  {
   "cell_type": "code",
   "execution_count": 23,
   "id": "535c7d34",
   "metadata": {},
   "outputs": [
    {
     "name": "stdout",
     "output_type": "stream",
     "text": [
      "No disponible\n"
     ]
    }
   ],
   "source": [
    "#Forma segura de obtener un valor y configurando el valor por default\n",
    "print(laptops.get('ASUS','No disponible'))"
   ]
  },
  {
   "cell_type": "markdown",
   "id": "121dab23",
   "metadata": {},
   "source": [
    "### items\n",
    "Obtener llave y valor de un diccionario de forma simultanea"
   ]
  },
  {
   "cell_type": "code",
   "execution_count": 24,
   "id": "06139a5d",
   "metadata": {},
   "outputs": [
    {
     "name": "stdout",
     "output_type": "stream",
     "text": [
      "HP - 11999.0\n",
      "Apple - 24999.0\n",
      "Acer - 15999.99\n",
      "Dell - 10400.0\n"
     ]
    }
   ],
   "source": [
    "laptops = {\n",
    "    'HP':11999.0,\n",
    "    'Apple':24999.0,\n",
    "    'Acer':15999.99,\n",
    "    'Dell':10400.0\n",
    "}\n",
    "for k,v in laptops.items():\n",
    "    print(\"{} - {}\".format(k,v))"
   ]
  },
  {
   "cell_type": "markdown",
   "id": "3825dbb6",
   "metadata": {},
   "source": [
    "### keys\n",
    "Obtener las llaves de un diccionario"
   ]
  },
  {
   "cell_type": "code",
   "execution_count": 25,
   "id": "7a19f9ad",
   "metadata": {},
   "outputs": [
    {
     "name": "stdout",
     "output_type": "stream",
     "text": [
      "HP\n",
      "Apple\n",
      "Acer\n",
      "Dell\n"
     ]
    }
   ],
   "source": [
    "laptops = {\n",
    "    'HP':11999.0,\n",
    "    'Apple':24999.0,\n",
    "    'Acer':15999.99,\n",
    "    'Dell':10400.0\n",
    "}\n",
    "for k in laptops.keys():\n",
    "    print(\"{}\".format(k))"
   ]
  },
  {
   "cell_type": "markdown",
   "id": "2e8e745c",
   "metadata": {},
   "source": [
    "### values\n",
    "Obtener los valores de un diccionario"
   ]
  },
  {
   "cell_type": "code",
   "execution_count": 26,
   "id": "97ed62ab",
   "metadata": {},
   "outputs": [
    {
     "name": "stdout",
     "output_type": "stream",
     "text": [
      "11999.0\n",
      "24999.0\n",
      "15999.99\n",
      "10400.0\n"
     ]
    }
   ],
   "source": [
    "laptops = {\n",
    "    'HP':11999.0,\n",
    "    'Apple':24999.0,\n",
    "    'Acer':15999.99,\n",
    "    'Dell':10400.0\n",
    "}\n",
    "for v in laptops.values():\n",
    "    print(\"{}\".format(v))"
   ]
  },
  {
   "cell_type": "markdown",
   "id": "fe0b66de",
   "metadata": {},
   "source": [
    "### pop\n",
    "Elimina la llave y valor de un diccionario pasando como argumento la llave"
   ]
  },
  {
   "cell_type": "code",
   "execution_count": 29,
   "id": "a0d1c535",
   "metadata": {},
   "outputs": [
    {
     "name": "stdout",
     "output_type": "stream",
     "text": [
      "{'HP': 11999.0, 'Apple': 24999.0, 'Acer': 15999.99, 'Dell': 10400.0}\n",
      "4\n",
      "{'Apple': 24999.0, 'Acer': 15999.99, 'Dell': 10400.0}\n",
      "3\n"
     ]
    }
   ],
   "source": [
    "laptops = {\n",
    "    'HP':11999.0,\n",
    "    'Apple':24999.0,\n",
    "    'Acer':15999.99,\n",
    "    'Dell':10400.0\n",
    "}\n",
    "print(laptops)\n",
    "print(len(laptops))\n",
    "\n",
    "laptops.pop('HP')\n",
    "\n",
    "print(laptops)\n",
    "print(len(laptops))"
   ]
  },
  {
   "cell_type": "code",
   "execution_count": 30,
   "id": "58caf661",
   "metadata": {},
   "outputs": [
    {
     "ename": "KeyError",
     "evalue": "'ASUS'",
     "output_type": "error",
     "traceback": [
      "\u001b[0;31m---------------------------------------------------------------------------\u001b[0m",
      "\u001b[0;31mKeyError\u001b[0m                                  Traceback (most recent call last)",
      "Cell \u001b[0;32mIn[30], line 1\u001b[0m\n\u001b[0;32m----> 1\u001b[0m laptops\u001b[38;5;241m.\u001b[39mpop(\u001b[38;5;124m'\u001b[39m\u001b[38;5;124mASUS\u001b[39m\u001b[38;5;124m'\u001b[39m)\n",
      "\u001b[0;31mKeyError\u001b[0m: 'ASUS'"
     ]
    }
   ],
   "source": [
    "laptops.pop('ASUS')"
   ]
  },
  {
   "cell_type": "code",
   "execution_count": 31,
   "id": "1c2acbb7",
   "metadata": {},
   "outputs": [
    {
     "name": "stdout",
     "output_type": "stream",
     "text": [
      "Llave no encontrada\n"
     ]
    }
   ],
   "source": [
    "if 'ASUS' in laptops:\n",
    "    laptos.pop('ASUS')\n",
    "else:\n",
    "    print('Llave no encontrada')"
   ]
  },
  {
   "cell_type": "markdown",
   "id": "e7ac00d5",
   "metadata": {},
   "source": [
    "### popitem\n",
    "Elimina el último elemento llave-valor"
   ]
  },
  {
   "cell_type": "code",
   "execution_count": 34,
   "id": "ab72e4b7",
   "metadata": {},
   "outputs": [
    {
     "name": "stdout",
     "output_type": "stream",
     "text": [
      "{'HP': 11999.0, 'Apple': 24999.0, 'Acer': 15999.99, 'Dell': 10400.0}\n",
      "4\n",
      "{'HP': 11999.0, 'Apple': 24999.0, 'Acer': 15999.99}\n",
      "3\n",
      "{'HP': 11999.0, 'Apple': 24999.0}\n",
      "2\n",
      "{'HP': 11999.0}\n",
      "1\n"
     ]
    }
   ],
   "source": [
    "laptops = {\n",
    "    'HP':11999.0,\n",
    "    'Apple':24999.0,\n",
    "    'Acer':15999.99,\n",
    "    'Dell':10400.0\n",
    "}\n",
    "print(laptops)\n",
    "print(len(laptops))\n",
    "\n",
    "laptops.popitem()\n",
    "print(laptops)\n",
    "print(len(laptops))\n",
    "\n",
    "laptops.popitem()\n",
    "print(laptops)\n",
    "print(len(laptops))\n",
    "\n",
    "laptops.popitem()\n",
    "print(laptops)\n",
    "print(len(laptops))"
   ]
  },
  {
   "cell_type": "markdown",
   "id": "a2f9989f",
   "metadata": {},
   "source": [
    "### setdefault\n",
    "Configura un valor por default para cierta llave en caso de que no esté presente en el diccionario\n",
    "\n",
    "Si la llave está presente, no tendrá ningún efecto"
   ]
  },
  {
   "cell_type": "code",
   "execution_count": 36,
   "id": "8dc1cad3",
   "metadata": {},
   "outputs": [],
   "source": [
    "laptops_store_1 = {\n",
    "    'HP':11999.0,\n",
    "    'Apple':24999.0,\n",
    "    'Acer':15999.99,\n",
    "    'Dell':10400.0\n",
    "}\n",
    "laptops_store_2 = {\n",
    "    'Apple':24999.0,\n",
    "    'Acer':15999.99,\n",
    "    'Dell':10400.0\n",
    "}"
   ]
  },
  {
   "cell_type": "code",
   "execution_count": 38,
   "id": "b49671ad",
   "metadata": {},
   "outputs": [
    {
     "name": "stdout",
     "output_type": "stream",
     "text": [
      "11999.0\n",
      "10000\n"
     ]
    }
   ],
   "source": [
    "laptops_store_1.setdefault('HP',10000)\n",
    "laptops_store_2.setdefault('HP',10000)\n",
    "\n",
    "print(laptops_store_1.get('HP'))\n",
    "print(laptops_store_2.get('HP'))"
   ]
  },
  {
   "cell_type": "code",
   "execution_count": null,
   "id": "fd52a09f",
   "metadata": {},
   "outputs": [],
   "source": []
  }
 ],
 "metadata": {
  "kernelspec": {
   "display_name": "Python 3 (ipykernel)",
   "language": "python",
   "name": "python3"
  },
  "language_info": {
   "codemirror_mode": {
    "name": "ipython",
    "version": 3
   },
   "file_extension": ".py",
   "mimetype": "text/x-python",
   "name": "python",
   "nbconvert_exporter": "python",
   "pygments_lexer": "ipython3",
   "version": "3.11.4"
  }
 },
 "nbformat": 4,
 "nbformat_minor": 5
}
