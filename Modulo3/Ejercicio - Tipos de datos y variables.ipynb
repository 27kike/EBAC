{
 "cells": [
  {
   "cell_type": "code",
   "execution_count": 5,
   "id": "4ce1bdf0",
   "metadata": {},
   "outputs": [
    {
     "name": "stdout",
     "output_type": "stream",
     "text": [
      "CALCULADORA:\n",
      "        SUMA (1) - RESTA (2) - PRODUCTO (3) - DIVISIÓN (4)\n",
      "        TAMBIÉN PUEDES HACER ESTE TIPO DE OPERACIÓN CON NÚMEROS\n",
      "        BINARIOS - OCTALES - HEXADECIMALES\n"
     ]
    }
   ],
   "source": [
    "print(\"\"\"CALCULADORA:\n",
    "        SUMA (1) - RESTA (2) - PRODUCTO (3) - DIVISIÓN (4)\n",
    "        TAMBIÉN PUEDES HACER ESTE TIPO DE OPERACIÓN CON NÚMEROS\n",
    "        BINARIOS - OCTALES - HEXADECIMALES\"\"\")"
   ]
  },
  {
   "cell_type": "code",
   "execution_count": 5,
   "id": "212a55d1",
   "metadata": {},
   "outputs": [
    {
     "name": "stdout",
     "output_type": "stream",
     "text": [
      "Ingrese dos valores desesados separados por un espacio: 85 39\n",
      "Ingrese el número de la operación que desea hacer: SUMA (1) - RESTA (2) - PRODUCTO (3) - DIVISIÓN (4)3\n",
      "\n",
      "\n",
      "VALOR 1: 85\n",
      "VALOR 2: 39\n",
      "El resultado del producto es: 3315\n",
      "El resultado del producto en binario es: 0b110011110011\n",
      "El resultado del producto en octal es: 0o6363\n",
      "El resultado del producto en hexadecimal es: 0xcf3\n"
     ]
    }
   ],
   "source": [
    "valor1,valor2 = input('Ingrese dos valores desesados separados por un espacio: ').split(\" \")\n",
    "valor1 = int(valor1)\n",
    "valor2 = int(valor2)\n",
    "operacion = int(input('Ingrese el número de la operación que desea hacer: SUMA (1) - RESTA (2) - PRODUCTO (3) - DIVISIÓN (4)'))\n",
    "if(operacion == 1):\n",
    "    print(\"\\n\\nVALOR 1: {}\\nVALOR 2:{}\".format(valor1,valor2))\n",
    "    resultado = valor1 + valor2\n",
    "    print('El resultado de la suma es: {}'.format(resultado))\n",
    "    print('El resultado de la suma en binario es: {}'.format(bin(resultado)))\n",
    "    print('El resultado de la suma en octal es: {}'.format(oct(resultado)))\n",
    "    print('El resultado de la suma en hexadecimal es: {}'.format(hex(resultado)))\n",
    "elif(operacion == 2):\n",
    "    print(\"\\n\\nVALOR 1: {}\\nVALOR 2: {}\".format(valor1,valor2))\n",
    "    resultado = valor1 - valor2\n",
    "    print('El resultado de la resta es: {}'.format(resultado))\n",
    "    print('El resultado de la resta en binario es: {}'.format(bin(resultado)))\n",
    "    print('El resultado de la resta en octal es: {}'.format(oct(resultado)))\n",
    "    print('El resultado de la resta en hexadecimal es: {}'.format(hex(resultado)))\n",
    "elif(operacion == 3):\n",
    "    print(\"\\n\\nVALOR 1: {}\\nVALOR 2: {}\".format(valor1,valor2))\n",
    "    resultado = valor1 * valor2\n",
    "    print('El resultado del producto es: {}'.format(resultado))\n",
    "    print('El resultado del producto en binario es: {}'.format(bin(resultado)))\n",
    "    print('El resultado del producto en octal es: {}'.format(oct(resultado)))\n",
    "    print('El resultado del producto en hexadecimal es: {}'.format(hex(resultado)))\n",
    "elif(operacion == 4):\n",
    "    print(\"\\n\\nVALOR 1: {}\\nVALOR 2: {}\".format(valor1,valor2))\n",
    "    resultado = valor1 / valor2\n",
    "    print('El resultado de la división es: {}'.format(resultado))\n",
    "    print('El resultado de la división en binario es: {}'.format(bin(int(resultado))))\n",
    "    print('El resultado de la división en octal es: {}'.format(oct(int(resultado))))\n",
    "    print('El resultado de la división en hexadecimal es: {}'.format(hex(int(resultado))))\n",
    "else:\n",
    "    print('Operación no identificada')"
   ]
  },
  {
   "cell_type": "code",
   "execution_count": null,
   "id": "933b08ff",
   "metadata": {},
   "outputs": [],
   "source": []
  }
 ],
 "metadata": {
  "kernelspec": {
   "display_name": "Python 3 (ipykernel)",
   "language": "python",
   "name": "python3"
  },
  "language_info": {
   "codemirror_mode": {
    "name": "ipython",
    "version": 3
   },
   "file_extension": ".py",
   "mimetype": "text/x-python",
   "name": "python",
   "nbconvert_exporter": "python",
   "pygments_lexer": "ipython3",
   "version": "3.11.4"
  }
 },
 "nbformat": 4,
 "nbformat_minor": 5
}
