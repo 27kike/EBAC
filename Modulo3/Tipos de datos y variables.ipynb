{
 "cells": [
  {
   "cell_type": "markdown",
   "id": "6c8c0675",
   "metadata": {},
   "source": [
    "# Panorama\n",
    "\n",
    "int - Enteros/Integers\n",
    "\n",
    "float - Números con decimales\n",
    "\n",
    "complex - Números con una parte real y una imaginaria\n",
    "\n",
    "bool - True/False\n",
    "\n",
    "str - Cadenas de texto"
   ]
  },
  {
   "cell_type": "markdown",
   "id": "eda7ce6a",
   "metadata": {},
   "source": [
    "# Enteros int/integers"
   ]
  },
  {
   "cell_type": "code",
   "execution_count": 1,
   "id": "af80198c",
   "metadata": {},
   "outputs": [
    {
     "name": "stdout",
     "output_type": "stream",
     "text": [
      "El número en mi variable my_integer es: 11\n",
      "El tipo de dato de mi variable my_integer es: <class 'int'>\n"
     ]
    }
   ],
   "source": [
    "my_integer = 11\n",
    "print('El número en mi variable my_integer es: {}'.format(my_integer))\n",
    "print('El tipo de dato de mi variable my_integer es: {}'.format(type(my_integer)))"
   ]
  },
  {
   "cell_type": "code",
   "execution_count": 3,
   "id": "0f43c470",
   "metadata": {},
   "outputs": [
    {
     "name": "stdout",
     "output_type": "stream",
     "text": [
      "El número en mi variable my_integer es: 110\n",
      "El tipo de dato de mi variable my_integer es: <class 'int'>\n"
     ]
    }
   ],
   "source": [
    "#Error de syntaxis\n",
    "my_integer = 110\n",
    "print('El número en mi variable my_integer es: {}'.format(my_integer))\n",
    "print('El tipo de dato de mi variable my_integer es: {}'.format(type(my_integer)))"
   ]
  },
  {
   "cell_type": "code",
   "execution_count": 5,
   "id": "42302f9d",
   "metadata": {},
   "outputs": [
    {
     "name": "stdout",
     "output_type": "stream",
     "text": [
      "El número en mi variable my_integer es: 2023\n",
      "El tipo de dato de mi variable my_integer es: <class 'int'>\n"
     ]
    }
   ],
   "source": [
    "my_integer = 2023\n",
    "print('El número en mi variable my_integer es: {}'.format(my_integer))\n",
    "print('El tipo de dato de mi variable my_integer es: {}'.format(type(my_integer)))"
   ]
  },
  {
   "cell_type": "code",
   "execution_count": 6,
   "id": "ae88bdc2",
   "metadata": {},
   "outputs": [
    {
     "name": "stdout",
     "output_type": "stream",
     "text": [
      "El número en mi variable my_integer es: 11092\n",
      "El tipo de dato de mi variable my_integer es: <class 'int'>\n"
     ]
    }
   ],
   "source": [
    "my_integer = 11092\n",
    "print('El número en mi variable my_integer es: {}'.format(my_integer))\n",
    "print('El tipo de dato de mi variable my_integer es: {}'.format(type(my_integer)))"
   ]
  },
  {
   "cell_type": "code",
   "execution_count": 7,
   "id": "c2a4740a",
   "metadata": {},
   "outputs": [
    {
     "ename": "SyntaxError",
     "evalue": "invalid decimal literal (979084806.py, line 2)",
     "output_type": "error",
     "traceback": [
      "\u001b[0;36m  Cell \u001b[0;32mIn[7], line 2\u001b[0;36m\u001b[0m\n\u001b[0;31m    my_integer = 11v\u001b[0m\n\u001b[0m                  ^\u001b[0m\n\u001b[0;31mSyntaxError\u001b[0m\u001b[0;31m:\u001b[0m invalid decimal literal\n"
     ]
    }
   ],
   "source": [
    "#Error\n",
    "my_integer = 11v\n",
    "print('El número en mi variable my_integer es: {}'.format(my_integer))\n",
    "print('El tipo de dato de mi variable my_integer es: {}'.format(type(my_integer)))"
   ]
  },
  {
   "cell_type": "markdown",
   "id": "17218664",
   "metadata": {},
   "source": [
    "# float - Números con decimales\n",
    "\n"
   ]
  },
  {
   "cell_type": "code",
   "execution_count": 8,
   "id": "5a442cb6",
   "metadata": {},
   "outputs": [
    {
     "name": "stdout",
     "output_type": "stream",
     "text": [
      "El número el mi variable my_float es: 11.0\n",
      "El tipo de dato de mi variable my_float es: <class 'float'>\n"
     ]
    }
   ],
   "source": [
    "my_float = 11.0\n",
    "print('El número el mi variable my_float es: {}'.format(my_float))\n",
    "print('El tipo de dato de mi variable my_float es: {}'.format(type(my_float)))"
   ]
  },
  {
   "cell_type": "code",
   "execution_count": 9,
   "id": "015707f8",
   "metadata": {},
   "outputs": [
    {
     "name": "stdout",
     "output_type": "stream",
     "text": [
      "El número el mi variable my_float es: 112.0\n",
      "El tipo de dato de mi variable my_float es: <class 'float'>\n"
     ]
    }
   ],
   "source": [
    "my_float = 112.0\n",
    "print('El número el mi variable my_float es: {}'.format(my_float))\n",
    "print('El tipo de dato de mi variable my_float es: {}'.format(type(my_float)))"
   ]
  },
  {
   "cell_type": "code",
   "execution_count": 10,
   "id": "003cf452",
   "metadata": {},
   "outputs": [
    {
     "name": "stdout",
     "output_type": "stream",
     "text": [
      "El número el mi variable my_float es: 11231.0\n",
      "El tipo de dato de mi variable my_float es: <class 'float'>\n"
     ]
    }
   ],
   "source": [
    "my_float = 11231.0\n",
    "print('El número el mi variable my_float es: {}'.format(my_float))\n",
    "print('El tipo de dato de mi variable my_float es: {}'.format(type(my_float)))"
   ]
  },
  {
   "cell_type": "code",
   "execution_count": 12,
   "id": "e193008e",
   "metadata": {},
   "outputs": [
    {
     "name": "stdout",
     "output_type": "stream",
     "text": [
      "El número el mi variable my_float es: 1.1\n",
      "El tipo de dato de mi variable my_float es: <class 'float'>\n"
     ]
    }
   ],
   "source": [
    "#Con notación cientifica\n",
    "my_float = 1.1e0\n",
    "print('El número el mi variable my_float es: {}'.format(my_float))\n",
    "print('El tipo de dato de mi variable my_float es: {}'.format(type(my_float)))"
   ]
  },
  {
   "cell_type": "code",
   "execution_count": 13,
   "id": "0ee290e6",
   "metadata": {},
   "outputs": [
    {
     "name": "stdout",
     "output_type": "stream",
     "text": [
      "El número el mi variable my_float es: 11.0\n",
      "El tipo de dato de mi variable my_float es: <class 'float'>\n"
     ]
    }
   ],
   "source": [
    "my_float = 1.1e1\n",
    "print('El número el mi variable my_float es: {}'.format(my_float))\n",
    "print('El tipo de dato de mi variable my_float es: {}'.format(type(my_float)))"
   ]
  },
  {
   "cell_type": "code",
   "execution_count": 14,
   "id": "ec6b225e",
   "metadata": {},
   "outputs": [
    {
     "name": "stdout",
     "output_type": "stream",
     "text": [
      "El número el mi variable my_float es: 110.0\n",
      "El tipo de dato de mi variable my_float es: <class 'float'>\n"
     ]
    }
   ],
   "source": [
    "my_float = 1.1e2\n",
    "print('El número el mi variable my_float es: {}'.format(my_float))\n",
    "print('El tipo de dato de mi variable my_float es: {}'.format(type(my_float)))"
   ]
  },
  {
   "cell_type": "code",
   "execution_count": 15,
   "id": "6535cf37",
   "metadata": {},
   "outputs": [
    {
     "ename": "SyntaxError",
     "evalue": "invalid decimal literal (2108016052.py, line 2)",
     "output_type": "error",
     "traceback": [
      "\u001b[0;36m  Cell \u001b[0;32mIn[15], line 2\u001b[0;36m\u001b[0m\n\u001b[0;31m    my_float = 1.1.9a\u001b[0m\n\u001b[0m                   ^\u001b[0m\n\u001b[0;31mSyntaxError\u001b[0m\u001b[0;31m:\u001b[0m invalid decimal literal\n"
     ]
    }
   ],
   "source": [
    "#Error\n",
    "my_float = 1.1.9a\n",
    "print('El número el mi variable my_float es: {}'.format(my_float))\n",
    "print('El tipo de dato de mi variable my_float es: {}'.format(type(my_float)))"
   ]
  },
  {
   "cell_type": "markdown",
   "id": "e0d1f6ae",
   "metadata": {},
   "source": [
    "# complex - Números con una parte real y una imaginaria\n",
    "\n",
    "complex = x + yj\n",
    "\n",
    "x = Parte real\n",
    "\n",
    "y = Parte imaginaria"
   ]
  },
  {
   "cell_type": "code",
   "execution_count": 16,
   "id": "33602cba",
   "metadata": {},
   "outputs": [
    {
     "name": "stdout",
     "output_type": "stream",
     "text": [
      "El número el mi variable my_complex es: (5+6j)\n",
      "El tipo de dato de mi variable my_complex es: <class 'complex'>\n"
     ]
    }
   ],
   "source": [
    "my_complex = 5 + 6j\n",
    "print('El número el mi variable my_complex es: {}'.format(my_complex))\n",
    "print('El tipo de dato de mi variable my_complex es: {}'.format(type(my_complex)))"
   ]
  },
  {
   "cell_type": "code",
   "execution_count": 17,
   "id": "7f9db42c",
   "metadata": {},
   "outputs": [
    {
     "name": "stdout",
     "output_type": "stream",
     "text": [
      "El número el mi variable my_complex es: (5-9j)\n",
      "El tipo de dato de mi variable my_complex es: <class 'complex'>\n"
     ]
    }
   ],
   "source": [
    "my_complex = 5 - 9j\n",
    "print('El número el mi variable my_complex es: {}'.format(my_complex))\n",
    "print('El tipo de dato de mi variable my_complex es: {}'.format(type(my_complex)))"
   ]
  },
  {
   "cell_type": "markdown",
   "id": "aaea47d1",
   "metadata": {},
   "source": [
    "# bool - True/False"
   ]
  },
  {
   "cell_type": "code",
   "execution_count": 18,
   "id": "813520d7",
   "metadata": {},
   "outputs": [
    {
     "name": "stdout",
     "output_type": "stream",
     "text": [
      "El número el mi variable my_bool es: True\n",
      "El tipo de dato de mi variable my_bool es: <class 'bool'>\n"
     ]
    }
   ],
   "source": [
    "my_bool = True\n",
    "print('El número el mi variable my_bool es: {}'.format(my_bool))\n",
    "print('El tipo de dato de mi variable my_bool es: {}'.format(type(my_bool)))"
   ]
  },
  {
   "cell_type": "code",
   "execution_count": 20,
   "id": "acd5d122",
   "metadata": {},
   "outputs": [
    {
     "name": "stdout",
     "output_type": "stream",
     "text": [
      "El número el mi variable my_bool es: False\n",
      "El tipo de dato de mi variable my_bool es: <class 'bool'>\n"
     ]
    }
   ],
   "source": [
    "my_bool = False\n",
    "print('El número el mi variable my_bool es: {}'.format(my_bool))\n",
    "print('El tipo de dato de mi variable my_bool es: {}'.format(type(my_bool)))"
   ]
  },
  {
   "cell_type": "code",
   "execution_count": 21,
   "id": "9c99db22",
   "metadata": {},
   "outputs": [],
   "source": [
    "#También se puede interpretar como True = 1 y False = 0"
   ]
  },
  {
   "cell_type": "code",
   "execution_count": 22,
   "id": "0839f928",
   "metadata": {},
   "outputs": [
    {
     "name": "stdout",
     "output_type": "stream",
     "text": [
      "2\n"
     ]
    }
   ],
   "source": [
    "print(True+True)"
   ]
  },
  {
   "cell_type": "code",
   "execution_count": 23,
   "id": "45c00223",
   "metadata": {},
   "outputs": [
    {
     "name": "stdout",
     "output_type": "stream",
     "text": [
      "2\n"
     ]
    }
   ],
   "source": [
    "print(False+True+True+False)"
   ]
  },
  {
   "cell_type": "code",
   "execution_count": 24,
   "id": "77e68152",
   "metadata": {},
   "outputs": [
    {
     "name": "stdout",
     "output_type": "stream",
     "text": [
      "0\n"
     ]
    }
   ],
   "source": [
    "print(False+False)"
   ]
  },
  {
   "cell_type": "markdown",
   "id": "003fcb29",
   "metadata": {},
   "source": [
    "# str - Cadenas de texto"
   ]
  },
  {
   "cell_type": "code",
   "execution_count": 25,
   "id": "bd7a7953",
   "metadata": {},
   "outputs": [
    {
     "name": "stdout",
     "output_type": "stream",
     "text": [
      "El número el mi variable my_string es: Aprendiendo Python\n",
      "El tipo de dato de mi variable my_string es: <class 'str'>\n"
     ]
    }
   ],
   "source": [
    "my_string = \"Aprendiendo Python\"\n",
    "print('El número el mi variable my_string es: {}'.format(my_string))\n",
    "print('El tipo de dato de mi variable my_string es: {}'.format(type(my_string)))"
   ]
  },
  {
   "cell_type": "code",
   "execution_count": 26,
   "id": "64d8cbe8",
   "metadata": {},
   "outputs": [
    {
     "name": "stdout",
     "output_type": "stream",
     "text": [
      "El número el mi variable my_string es: Curso de Ebac\n",
      "El tipo de dato de mi variable my_string es: <class 'str'>\n"
     ]
    }
   ],
   "source": [
    "my_string = \"Curso de Ebac\"\n",
    "print('El número el mi variable my_string es: {}'.format(my_string))\n",
    "print('El tipo de dato de mi variable my_string es: {}'.format(type(my_string)))"
   ]
  },
  {
   "cell_type": "code",
   "execution_count": 27,
   "id": "527e240e",
   "metadata": {},
   "outputs": [
    {
     "name": "stdout",
     "output_type": "stream",
     "text": [
      "El número el mi variable my_string es: \n",
      "Te imaginas todo lo que puedes hacer con texto?\n",
      "\n",
      "La imaginación es tu limite paps\n",
      "\n",
      "Se pueden hacer muchas cosas\n",
      "\n",
      "\n",
      "El tipo de dato de mi variable my_string es: <class 'str'>\n"
     ]
    }
   ],
   "source": [
    "my_string = \"\"\"\n",
    "Te imaginas todo lo que puedes hacer con texto?\\n\n",
    "La imaginación es tu limite paps\\n\n",
    "Se pueden hacer muchas cosas\\n\n",
    "\"\"\"\n",
    "print('El número el mi variable my_string es: {}'.format(my_string))\n",
    "print('El tipo de dato de mi variable my_string es: {}'.format(type(my_string)))"
   ]
  },
  {
   "cell_type": "markdown",
   "id": "e9f1f46f",
   "metadata": {},
   "source": [
    "# Variables\n",
    "\n",
    "## ¿Qué son las variables?\n",
    "\n",
    "- Son un espacio temporal en la memoria que tienen un nombre especifico\n",
    "- No hay necesidad de declarar el tipo de dato explicitamente\n",
    "- Son de tipado dinamico, es decir que el tipo de dato se va asignando mientras corre el programa\n",
    "- No se necesitan crear variables, sólo asignar el nombre al valor usando el operador de asignación\n",
    "\n",
    "## Tipos de variables\n",
    "\n",
    "- Variables globales: Son las que se utilizaran en todo el programa\n",
    "- Variables locales: Aquellas que sólo se utilizaran en un bloque especifico"
   ]
  },
  {
   "cell_type": "markdown",
   "id": "ec81d532",
   "metadata": {},
   "source": [
    "# Variables Globales\n",
    "\n",
    "- Se declaran fuera de las funciones\n",
    "- El valor puede ser constante en todo el programa\n",
    "- Cualquier función puede acceder a la variable\n",
    "- Normalmente se utilizan para almacenar valores constantes"
   ]
  },
  {
   "cell_type": "code",
   "execution_count": 35,
   "id": "19af80f5",
   "metadata": {},
   "outputs": [],
   "source": [
    "#Variable global\n",
    "my_global_variable = 50\n",
    "\n",
    "def my_function_1():\n",
    "    # Variable local\n",
    "    my_local_variable = 10\n",
    "    print('my_function_1 tiene una variable local con valor: {}'.format(my_local_variable))\n",
    "    print('my_function_1 tiene acceso a my_global_variable con valor: {}'.format(my_global_variable))\n",
    "\n",
    "def my_function_2():\n",
    "    # Variable local\n",
    "    my_local_variable = 100\n",
    "    print('my_function_2 tiene una variable local con valor: {}'.format(my_local_variable))\n",
    "    print('my_function_2 tiene acceso a my_global_variable con valor: {}'.format(my_global_variable))"
   ]
  },
  {
   "cell_type": "code",
   "execution_count": 36,
   "id": "aee27390",
   "metadata": {},
   "outputs": [
    {
     "name": "stdout",
     "output_type": "stream",
     "text": [
      "my_function_1 tiene una variable local con valor: 10\n",
      "my_function_1 tiene acceso a my_global_variable con valor: 50\n"
     ]
    }
   ],
   "source": [
    "my_function_1()"
   ]
  },
  {
   "cell_type": "code",
   "execution_count": 37,
   "id": "05ecb927",
   "metadata": {},
   "outputs": [
    {
     "name": "stdout",
     "output_type": "stream",
     "text": [
      "my_function_2 tiene una variable local con valor: 100\n",
      "my_function_2 tiene acceso a my_global_variable con valor: 50\n"
     ]
    }
   ],
   "source": [
    "my_function_2()"
   ]
  },
  {
   "cell_type": "code",
   "execution_count": 38,
   "id": "a8e13990",
   "metadata": {},
   "outputs": [],
   "source": [
    "#Preferencia a variable local y a global\n",
    "\n",
    "#Variable global\n",
    "my_variable = 50\n",
    "\n",
    "def my_function_1():\n",
    "    # Variable local\n",
    "    my_variable = 10\n",
    "    print('Imprimiendo my_variable: {}'.format(my_variable))\n",
    "\n",
    "def my_function_2():\n",
    "    # Variable local\n",
    "    my_variable = 100\n",
    "    print('Imprimiendo my_variable: {}'.format(my_variable))\n",
    "    \n",
    "def my_function_3():\n",
    "    # Variable local\n",
    "    print('Imprimiendo my_variable: {}'.format(my_variable))"
   ]
  },
  {
   "cell_type": "code",
   "execution_count": 39,
   "id": "704a3a07",
   "metadata": {},
   "outputs": [
    {
     "name": "stdout",
     "output_type": "stream",
     "text": [
      "Imprimiendo my_variable: 10\n"
     ]
    }
   ],
   "source": [
    "my_function_1()"
   ]
  },
  {
   "cell_type": "code",
   "execution_count": 40,
   "id": "d0f20be5",
   "metadata": {},
   "outputs": [
    {
     "name": "stdout",
     "output_type": "stream",
     "text": [
      "Imprimiendo my_variable: 100\n"
     ]
    }
   ],
   "source": [
    "my_function_2()"
   ]
  },
  {
   "cell_type": "code",
   "execution_count": 41,
   "id": "a41d86ab",
   "metadata": {},
   "outputs": [
    {
     "name": "stdout",
     "output_type": "stream",
     "text": [
      "Imprimiendo my_variable: 50\n"
     ]
    }
   ],
   "source": [
    "my_function_3()"
   ]
  },
  {
   "cell_type": "markdown",
   "id": "3a1e4323",
   "metadata": {},
   "source": [
    "# Variables locales\n",
    "- Podemos usarla dentro de una función\n",
    "- No se pueden usar durante todo el programa\n",
    "- Alcance y visibilidad se limita al interior de la función\n",
    "- Podemos tener restricción al acceder a una variable local desde otra función"
   ]
  },
  {
   "cell_type": "code",
   "execution_count": 5,
   "id": "3fdd1358",
   "metadata": {},
   "outputs": [],
   "source": [
    "#Variable local\n",
    "def my_function_1():\n",
    "    my_local_variable = 10\n",
    "    print('my_function_1 tiene una variable local con valor: {}'.format(my_local_variable))\n",
    "\n",
    "def my_function_2():\n",
    "    my_local_variable = 100\n",
    "    print('my_function_2 tiene una variable local con valor: {}'.format(my_local_variable))\n",
    "    \n",
    "def my_function_3():\n",
    "    print('my_function_3 tiene una variable local con valor: {}'.format(my_local_variable))"
   ]
  },
  {
   "cell_type": "code",
   "execution_count": 3,
   "id": "dea6eff9",
   "metadata": {},
   "outputs": [
    {
     "name": "stdout",
     "output_type": "stream",
     "text": [
      "my_function_1 tiene una variable local con valor: 10\n",
      "my_function_2 tiene una variable local con valor: 100\n"
     ]
    }
   ],
   "source": [
    "my_function_1()\n",
    "my_function_2()"
   ]
  },
  {
   "cell_type": "code",
   "execution_count": 6,
   "id": "2b7fb56f",
   "metadata": {},
   "outputs": [
    {
     "ename": "NameError",
     "evalue": "name 'my_local_variable' is not defined",
     "output_type": "error",
     "traceback": [
      "\u001b[0;31m---------------------------------------------------------------------------\u001b[0m",
      "\u001b[0;31mNameError\u001b[0m                                 Traceback (most recent call last)",
      "Cell \u001b[0;32mIn[6], line 2\u001b[0m\n\u001b[1;32m      1\u001b[0m \u001b[38;5;66;03m#Error\u001b[39;00m\n\u001b[0;32m----> 2\u001b[0m my_function_3()\n",
      "Cell \u001b[0;32mIn[5], line 11\u001b[0m, in \u001b[0;36mmy_function_3\u001b[0;34m()\u001b[0m\n\u001b[1;32m     10\u001b[0m \u001b[38;5;28;01mdef\u001b[39;00m \u001b[38;5;21mmy_function_3\u001b[39m():\n\u001b[0;32m---> 11\u001b[0m     \u001b[38;5;28mprint\u001b[39m(\u001b[38;5;124m'\u001b[39m\u001b[38;5;124mmy_function_3 tiene una variable local con valor: \u001b[39m\u001b[38;5;132;01m{}\u001b[39;00m\u001b[38;5;124m'\u001b[39m\u001b[38;5;241m.\u001b[39mformat(my_local_variable))\n",
      "\u001b[0;31mNameError\u001b[0m: name 'my_local_variable' is not defined"
     ]
    }
   ],
   "source": [
    "#Error\n",
    "my_function_3()"
   ]
  },
  {
   "cell_type": "markdown",
   "id": "f862047f",
   "metadata": {},
   "source": [
    "# Palabra reservada Global"
   ]
  },
  {
   "cell_type": "code",
   "execution_count": 7,
   "id": "7958cd22",
   "metadata": {},
   "outputs": [],
   "source": [
    "#Variable local\n",
    "def my_function_1():\n",
    "    my_local_variable = 10\n",
    "    print('my_function_1 tiene una variable local con valor: {}'.format(my_local_variable))\n",
    "\n",
    "def my_function_2():\n",
    "    #Ahora estas variables son globales y se comportaran como tal\n",
    "    global a,b,c\n",
    "    a = 10\n",
    "    b = 20\n",
    "    c = 30\n",
    "    print('Valor de variable global a: {}'.format(a))\n",
    "    print('Valor de variable global b: {}'.format(b))\n",
    "    print('Valor de variable global c: {}'.format(c))\n",
    "\n",
    "def my_function_3():\n",
    "    print('Valor de variable global a: {} - Está varibale fue definida en my_function_2'.format(a))\n",
    "    print('Valor de variable global b: {} - Está varibale fue definida en my_function_2'.format(b))\n",
    "    print('Valor de variable global c: {} - Está varibale fue definida en my_function_2'.format(c))"
   ]
  },
  {
   "cell_type": "code",
   "execution_count": 8,
   "id": "c19f4015",
   "metadata": {},
   "outputs": [
    {
     "name": "stdout",
     "output_type": "stream",
     "text": [
      "my_function_1 tiene una variable local con valor: 10\n"
     ]
    }
   ],
   "source": [
    "my_function_1()"
   ]
  },
  {
   "cell_type": "code",
   "execution_count": 9,
   "id": "ee6e687a",
   "metadata": {},
   "outputs": [
    {
     "name": "stdout",
     "output_type": "stream",
     "text": [
      "Valor de variable global a: 10\n",
      "Valor de variable global b: 20\n",
      "Valor de variable global c: 30\n"
     ]
    }
   ],
   "source": [
    "my_function_2()"
   ]
  },
  {
   "cell_type": "code",
   "execution_count": 10,
   "id": "0214efb9",
   "metadata": {},
   "outputs": [
    {
     "name": "stdout",
     "output_type": "stream",
     "text": [
      "Valor de variable global a: 10 - Está varibale fue definida en my_function_2\n",
      "Valor de variable global b: 20 - Está varibale fue definida en my_function_2\n",
      "Valor de variable global c: 30 - Está varibale fue definida en my_function_2\n"
     ]
    }
   ],
   "source": [
    "my_function_3()"
   ]
  },
  {
   "cell_type": "markdown",
   "id": "c33dd336",
   "metadata": {},
   "source": [
    "# Tipos de Enteros\n",
    "- Forma Decimal\n",
    "- Forma Binaria\n",
    "- Forma Octal\n",
    "- Forma Hexadecimal"
   ]
  },
  {
   "cell_type": "code",
   "execution_count": 11,
   "id": "a2bd6a2d",
   "metadata": {},
   "outputs": [
    {
     "name": "stdout",
     "output_type": "stream",
     "text": [
      "El valor de la variable decimal es: 90\n"
     ]
    }
   ],
   "source": [
    "decimal = 90\n",
    "print('El valor de la variable decimal es: {}'.format(decimal))"
   ]
  },
  {
   "cell_type": "code",
   "execution_count": 12,
   "id": "dc29a8a7",
   "metadata": {},
   "outputs": [
    {
     "name": "stdout",
     "output_type": "stream",
     "text": [
      "El valor de la variable decimal es: 9384730\n"
     ]
    }
   ],
   "source": [
    "decimal = 9384730\n",
    "print('El valor de la variable decimal es: {}'.format(decimal))"
   ]
  },
  {
   "cell_type": "code",
   "execution_count": 13,
   "id": "d48618bc",
   "metadata": {},
   "outputs": [
    {
     "ename": "SyntaxError",
     "evalue": "invalid decimal literal (1104250548.py, line 2)",
     "output_type": "error",
     "traceback": [
      "\u001b[0;36m  Cell \u001b[0;32mIn[13], line 2\u001b[0;36m\u001b[0m\n\u001b[0;31m    decimal = 9623p\u001b[0m\n\u001b[0m                 ^\u001b[0m\n\u001b[0;31mSyntaxError\u001b[0m\u001b[0;31m:\u001b[0m invalid decimal literal\n"
     ]
    }
   ],
   "source": [
    "#Error\n",
    "decimal = 9623p\n",
    "print('El valor de la variable decimal es: {}'.format(decimal))"
   ]
  },
  {
   "cell_type": "markdown",
   "id": "099dad4a",
   "metadata": {},
   "source": [
    "# Forma Binaria\n",
    "- Código organizado en bytes\n",
    "- Lenguaje Binario\n",
    "- Lenguaje de las máquinas (1 y 0)\n",
    "### Valor base 2\n",
    "- Sólo acepta dos dígitos 0 y 1\n",
    "- Usamos el prefijo '0b' ó '0B'"
   ]
  },
  {
   "cell_type": "code",
   "execution_count": 14,
   "id": "0b5cb363",
   "metadata": {},
   "outputs": [
    {
     "name": "stdout",
     "output_type": "stream",
     "text": [
      "El valor de la variable decimal es: 6\n"
     ]
    }
   ],
   "source": [
    "binario = 0b110\n",
    "print('El valor de la variable decimal es: {}'.format(binario))"
   ]
  },
  {
   "cell_type": "code",
   "execution_count": 16,
   "id": "5ad55ef3",
   "metadata": {},
   "outputs": [
    {
     "name": "stdout",
     "output_type": "stream",
     "text": [
      "El valor de la variable decimal es: 29\n"
     ]
    }
   ],
   "source": [
    "binario = 0B11101\n",
    "print('El valor de la variable decimal es: {}'.format(binario))"
   ]
  },
  {
   "cell_type": "markdown",
   "id": "838a64e4",
   "metadata": {},
   "source": [
    "# Forma Octal\n",
    "### Valor base 8\n",
    "- Sólo acepta dígitos del 0 al 7\n",
    "- Se usa el prefijo '0o' ó '0O'"
   ]
  },
  {
   "cell_type": "code",
   "execution_count": 24,
   "id": "642e1df6",
   "metadata": {},
   "outputs": [
    {
     "name": "stdout",
     "output_type": "stream",
     "text": [
      "El valor de la variable decimal es: 15\n"
     ]
    }
   ],
   "source": [
    "octal = 0o17\n",
    "print('El valor de la variable decimal es: {}'.format(octal))"
   ]
  },
  {
   "cell_type": "code",
   "execution_count": 25,
   "id": "ad9b6208",
   "metadata": {},
   "outputs": [
    {
     "name": "stdout",
     "output_type": "stream",
     "text": [
      "El valor de la variable decimal es: 126\n"
     ]
    }
   ],
   "source": [
    "octal = 0o176\n",
    "print('El valor de la variable decimal es: {}'.format(octal))"
   ]
  },
  {
   "cell_type": "markdown",
   "id": "0c5bb013",
   "metadata": {},
   "source": [
    "# Forma hexadecimal\n",
    "### Valor base 16\n",
    "- Acepta dígitos del 0 al 9\n",
    "- Acepta letras de la \"A\" a la \"F\"\n",
    "- Se usa el prefijo '0x' ó '0X'"
   ]
  },
  {
   "cell_type": "code",
   "execution_count": 27,
   "id": "1c9953c1",
   "metadata": {},
   "outputs": [
    {
     "name": "stdout",
     "output_type": "stream",
     "text": [
      "El valor de la variable decimal es: 374\n"
     ]
    }
   ],
   "source": [
    "hexadecimal = 0x176\n",
    "print('El valor de la variable decimal es: {}'.format(hexadecimal))"
   ]
  },
  {
   "cell_type": "code",
   "execution_count": 28,
   "id": "e8c3aca7",
   "metadata": {},
   "outputs": [
    {
     "name": "stdout",
     "output_type": "stream",
     "text": [
      "El valor de la variable decimal es: 502\n"
     ]
    }
   ],
   "source": [
    "hexadecimal = 0x1f6\n",
    "print('El valor de la variable decimal es: {}'.format(hexadecimal))"
   ]
  },
  {
   "cell_type": "code",
   "execution_count": 31,
   "id": "d1d30f8e",
   "metadata": {},
   "outputs": [
    {
     "name": "stdout",
     "output_type": "stream",
     "text": [
      "El valor de la variable decimal es: 3327\n"
     ]
    }
   ],
   "source": [
    "hexadecimal = 0xcff\n",
    "print('El valor de la variable decimal es: {}'.format(hexadecimal))"
   ]
  },
  {
   "cell_type": "code",
   "execution_count": null,
   "id": "9701fe74",
   "metadata": {},
   "outputs": [],
   "source": []
  }
 ],
 "metadata": {
  "kernelspec": {
   "display_name": "Python 3 (ipykernel)",
   "language": "python",
   "name": "python3"
  },
  "language_info": {
   "codemirror_mode": {
    "name": "ipython",
    "version": 3
   },
   "file_extension": ".py",
   "mimetype": "text/x-python",
   "name": "python",
   "nbconvert_exporter": "python",
   "pygments_lexer": "ipython3",
   "version": "3.11.4"
  }
 },
 "nbformat": 4,
 "nbformat_minor": 5
}
