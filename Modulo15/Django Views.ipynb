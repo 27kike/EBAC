{
 "cells": [
  {
   "cell_type": "markdown",
   "id": "192756bc-95cb-413b-ae87-11dceee77028",
   "metadata": {},
   "source": [
    "# Creando una Vista estatica\n",
    "- Vistas basadas en funciones\n",
    "- Vistas basadas en clase"
   ]
  },
  {
   "cell_type": "markdown",
   "id": "845ddf2a-3f26-4855-a25d-71b8947e1659",
   "metadata": {},
   "source": [
    "## Cómo crear una aplicación en Django\n",
    "\n",
    "python manage.py startapp nombreapp\n",
    "\n",
    "python manga.py starapp ecommerce\n",
    "\n",
    "- funciones se nombran en minúsculas\n",
    "- clases se nombran comenzando con mayúsculas"
   ]
  },
  {
   "cell_type": "markdown",
   "id": "fc1163f1-a175-4e22-bea7-e6541b4e89d6",
   "metadata": {},
   "source": [
    "# ecommerce/views.py"
   ]
  },
  {
   "cell_type": "code",
   "execution_count": null,
   "id": "08562a75-94aa-4765-99f7-645c0bfe6c6d",
   "metadata": {},
   "outputs": [],
   "source": [
    "from django.shortcuts import render\n",
    "from django.http import HttpResponse\n",
    "# Create your views here.\n",
    "\n",
    "def home(request):\n",
    "    html = \"\"\"\n",
    "    <!DOCTYPE html>\n",
    "    <html>\n",
    "        <head>\n",
    "            <title>Ecommerce</title>\n",
    "            <style>\n",
    "                h1 {color:green}\n",
    "            </style>\n",
    "        </head>\n",
    "        <body>\n",
    "            <h1>Hola Mundo</h1>\n",
    "        </body>\n",
    "    </html>\n",
    "\"\"\"\n",
    "    return HttpResponse(html)"
   ]
  },
  {
   "cell_type": "markdown",
   "id": "860ed07b-42fd-4797-889c-c9ddc8d1db48",
   "metadata": {},
   "source": [
    "# ecommerce/urls.py"
   ]
  },
  {
   "cell_type": "code",
   "execution_count": null,
   "id": "4c086a6a-4136-4433-839a-1208cbcdef39",
   "metadata": {},
   "outputs": [],
   "source": [
    "from django.urls import path\n",
    "\n",
    "from ecommerce import views\n",
    "\n",
    "urlpatterns = [\n",
    "    path(\"\", views.home, name=\"home\"),\n",
    "]"
   ]
  },
  {
   "cell_type": "markdown",
   "id": "3d2e2e0e-4a6a-498d-a18e-9a38677a4947",
   "metadata": {},
   "source": [
    "# config/urls.py"
   ]
  },
  {
   "cell_type": "code",
   "execution_count": null,
   "id": "42272604-7e01-41d8-9b2b-52a41b8da979",
   "metadata": {},
   "outputs": [],
   "source": [
    "\"\"\"\n",
    "URL configuration for hello project.\n",
    "\n",
    "The `urlpatterns` list routes URLs to views. For more information please see:\n",
    "    https://docs.djangoproject.com/en/5.0/topics/http/urls/\n",
    "Examples:\n",
    "Function views\n",
    "    1. Add an import:  from my_app import views\n",
    "    2. Add a URL to urlpatterns:  path('', views.home, name='home')\n",
    "Class-based views\n",
    "    1. Add an import:  from other_app.views import Home\n",
    "    2. Add a URL to urlpatterns:  path('', Home.as_view(), name='home')\n",
    "Including another URLconf\n",
    "    1. Import the include() function: from django.urls import include, path\n",
    "    2. Add a URL to urlpatterns:  path('blog/', include('blog.urls'))\n",
    "\"\"\"\n",
    "from django.contrib import admin\n",
    "from django.urls import include\n",
    "from django.urls import path\n",
    "\n",
    "urlpatterns = [\n",
    "    path(\"up/\", include(\"up.urls\")),\n",
    "    path(\"\", include(\"pages.urls\")),\n",
    "    path(\"ecommerce/\", include(\"ecommerce.urls\")), #<---------------------\n",
    "    path(\"admin/\", admin.site.urls),\n",
    "    path(\"__debug__/\", include(\"debug_toolbar.urls\")),\n",
    "]"
   ]
  },
  {
   "cell_type": "markdown",
   "id": "3c714ff1-eae4-4fd6-aa4b-37a93e7d50ee",
   "metadata": {},
   "source": [
    "# Respuesta http y redireccionamiento\n",
    "\n",
    "Middleware - procesos internos entre un request y un response"
   ]
  },
  {
   "cell_type": "code",
   "execution_count": null,
   "id": "5d60f8da-3c21-4d28-8d29-0ab00b21a644",
   "metadata": {},
   "outputs": [],
   "source": [
    "def home(request):\n",
    "    html = \"\"\"\n",
    "    <!DOCTYPE html>\n",
    "    <html>\n",
    "        <head>\n",
    "            <title>Ecommerce</title>\n",
    "            <style>\n",
    "                h1 {color:green}\n",
    "            </style>\n",
    "        </head>\n",
    "        <body>\n",
    "            <h1>Hola Mundo</h1>\n",
    "        </body>\n",
    "    </html>\n",
    "\"\"\"\n",
    "    return HttpResponse(html)\n",
    "# def home(request):\n",
    "#     response = HttpResponse()\n",
    "#     response.write('<p>Página no encontrada</p>')\n",
    "#     response.status_code = 404\n",
    "#     return response\n",
    "\n",
    "def redirect_test(request):\n",
    "    return HttpResponseRedirect(\"/ecommerce/\")"
   ]
  },
  {
   "cell_type": "markdown",
   "id": "fcbd995f-6c37-4054-8060-33c05e2a1758",
   "metadata": {},
   "source": [
    "## CRUD y Vistas"
   ]
  },
  {
   "cell_type": "markdown",
   "id": "0dbc502b-48e1-47a7-a9f3-c542a50a5d53",
   "metadata": {},
   "source": [
    "Forma dinamica de usar las vistas es el CRUD\n",
    "\n",
    "- Crear modelos\n",
    "- Agregarlos a INSTALLED_APPS\n",
    "- Crear y aplicar migraciones\n",
    "- Agregarlos "
   ]
  },
  {
   "cell_type": "markdown",
   "id": "0bda1b64-fa84-4511-8a48-ec31f25153d0",
   "metadata": {},
   "source": [
    "## ecommerce/models.py"
   ]
  },
  {
   "cell_type": "code",
   "execution_count": null,
   "id": "aa578b02-aec6-4d9f-b84f-a8fd9480fb24",
   "metadata": {},
   "outputs": [],
   "source": [
    "class ProductModel(models.Model):\n",
    "    title = models.TextField()\n",
    "    price = models.FloatField()"
   ]
  },
  {
   "cell_type": "markdown",
   "id": "6a107882-324c-464d-a70f-ab2807f71d46",
   "metadata": {},
   "source": [
    "## config/settings.py"
   ]
  },
  {
   "cell_type": "code",
   "execution_count": null,
   "id": "1bde37b2-0bb0-4589-88e4-beb8e3e371b8",
   "metadata": {},
   "outputs": [],
   "source": [
    "INSTALLED_APPS = [\n",
    "    \"pages.apps.PagesConfig\",\n",
    "    \"ecommerce.apps.EcommerceConfig\",\n",
    "    \"debug_toolbar\",\n",
    "    \"django.contrib.admin\",\n",
    "    \"django.contrib.auth\",\n",
    "    \"django.contrib.contenttypes\",\n",
    "    \"django.contrib.sessions\",\n",
    "    \"django.contrib.messages\",\n",
    "    \"django.contrib.staticfiles\",\n",
    "]"
   ]
  },
  {
   "cell_type": "markdown",
   "id": "9d6c9d98-cbde-4a43-85b0-51f064026a78",
   "metadata": {},
   "source": [
    "## Como crear las migraciones"
   ]
  },
  {
   "cell_type": "markdown",
   "id": "6aef8802-88e4-46a9-b010-3e78039a5924",
   "metadata": {},
   "source": [
    "- python manage.py makemigrations\n",
    "- python manage.py migrate"
   ]
  },
  {
   "cell_type": "markdown",
   "id": "64c865a7-1448-4d04-8c8b-b0c2cbeded37",
   "metadata": {},
   "source": [
    "## Como registrar un modelo en admin"
   ]
  },
  {
   "cell_type": "code",
   "execution_count": null,
   "id": "810ee376-683c-4933-9dd6-d90d03f182e7",
   "metadata": {},
   "outputs": [],
   "source": [
    "from django.contrib import admin\n",
    "from .models import ProductModel\n",
    "# Register your models here.\n",
    "admin.site.register(ProductModel)"
   ]
  },
  {
   "cell_type": "markdown",
   "id": "7a3a4966-3677-45ae-ae03-db5a3257aff0",
   "metadata": {},
   "source": [
    "## Crear un super usuario para la base de datos\n",
    "- python manage.py createsuperuser"
   ]
  },
  {
   "cell_type": "markdown",
   "id": "5b004938-fafa-4fbd-a87a-89a4437102e5",
   "metadata": {},
   "source": [
    "## Tipos básicos de vistas\n",
    "\n",
    "- List view: Donde ves todos los usuarios creados\n",
    "- Create view: Donde puedes insertar datos para crear usuarios\n",
    "- Retrive y Update: Si le doy clic a un usuario y lo modifico\n",
    "- Deleted view: Botón rojo para eliminar"
   ]
  },
  {
   "cell_type": "markdown",
   "id": "1ab518c6-41d0-4890-85cb-955e874e5b3c",
   "metadata": {},
   "source": [
    "## ecommerce/views.py"
   ]
  },
  {
   "cell_type": "code",
   "execution_count": null,
   "id": "30ac2d81-e5fc-4702-8d20-94761c7de0fa",
   "metadata": {},
   "outputs": [],
   "source": [
    "from django.shortcuts import render\n",
    "from django.http import HttpResponse,HttpResponseRedirect\n",
    "from .models import ProductModel\n",
    "# Create your views here.\n",
    "\n",
    "def product_model_list_view(request):\n",
    "    queryset = ProductModel.objects.all()\n",
    "    print(queryset)\n",
    "    return HttpResponse(\"Un ecommerce personalizado\")"
   ]
  },
  {
   "cell_type": "markdown",
   "id": "b14d2548-890a-4225-847f-d70fa33d397f",
   "metadata": {},
   "source": [
    "## Usando templates"
   ]
  },
  {
   "cell_type": "markdown",
   "id": "00bdf155-8928-4a6a-8581-1280ee8c39d9",
   "metadata": {},
   "source": [
    "## ecommerce/views.py"
   ]
  },
  {
   "cell_type": "code",
   "execution_count": null,
   "id": "035babac-434d-45f3-978e-b8e8b791b00a",
   "metadata": {},
   "outputs": [],
   "source": [
    "from django.shortcuts import render\n",
    "from django.http import HttpResponse,HttpResponseRedirect\n",
    "from .models import ProductModel\n",
    "# Create your views here.\n",
    "\n",
    "def product_model_list_view(request):\n",
    "    queryset = ProductModel.objects.all()\n",
    "    print(queryset)\n",
    "    template = \"ecommerce/list-view.html\"\n",
    "    context = {}\n",
    "    return render(request, template, context)"
   ]
  },
  {
   "cell_type": "markdown",
   "id": "7d7bbb37-2155-4e3f-be3d-32d57dc72228",
   "metadata": {},
   "source": [
    "# templates/ecommerce/list-view.html"
   ]
  },
  {
   "cell_type": "code",
   "execution_count": null,
   "id": "66acdd01-97f7-4e82-8fc9-f5be28011dff",
   "metadata": {},
   "outputs": [],
   "source": [
    "<h1>\n",
    "    Vista de listado\n",
    "</h1>"
   ]
  },
  {
   "cell_type": "markdown",
   "id": "1f3e719a-9a6f-465e-972f-6ab597803ae7",
   "metadata": {},
   "source": [
    "# Usando el contexto"
   ]
  },
  {
   "cell_type": "code",
   "execution_count": null,
   "id": "e48287b7-2e10-4e8f-98ea-008deffd40f9",
   "metadata": {},
   "outputs": [],
   "source": [
    "from django.shortcuts import render\n",
    "from django.http import HttpResponse,HttpResponseRedirect\n",
    "from .models import ProductModel\n",
    "# Create your views here.\n",
    "\n",
    "def product_model_list_view(request):\n",
    "    queryset = ProductModel.objects.all()\n",
    "    print(queryset)\n",
    "    template = \"ecommerce/list-view.html\"\n",
    "    context = {\n",
    "        \"products\":queryset\n",
    "    }\n",
    "    return render(request, template, context)"
   ]
  },
  {
   "cell_type": "markdown",
   "id": "8cf5aeab-33f6-4505-8d77-690902ffbe76",
   "metadata": {},
   "source": [
    "# templates/ecommerce/list-view.html"
   ]
  },
  {
   "cell_type": "code",
   "execution_count": null,
   "id": "cbf23e05-dda6-4bb2-85de-57ca9c775935",
   "metadata": {},
   "outputs": [],
   "source": [
    "<h1>\n",
    "    Vista de listado\n",
    "</h1>\n",
    "\n",
    "{% for product in products %}\n",
    "<li>\n",
    "    {{product.title}} {{product.price}}\n",
    "</li>\n",
    "{% endfor %}"
   ]
  },
  {
   "cell_type": "markdown",
   "id": "8a7c6503-f8d0-4a63-b950-bb173e1e2d3a",
   "metadata": {},
   "source": [
    "# Protegiendo la vista"
   ]
  },
  {
   "cell_type": "code",
   "execution_count": null,
   "id": "67f904e7-9527-4c7e-ab02-081b5de52a6e",
   "metadata": {},
   "outputs": [],
   "source": [
    "from django.shortcuts import render\n",
    "from django.http import HttpResponse,HttpResponseRedirect\n",
    "from .models import ProductModel\n",
    "# Create your views here.\n",
    "\n",
    "def product_model_list_view(request):\n",
    "    queryset = ProductModel.objects.all()\n",
    "    template = \"ecommerce/list-view.html\"\n",
    "    context = {\n",
    "        \"products\":queryset\n",
    "    }\n",
    "    if request.user.is_authenticated:\n",
    "        template = \"ecommerce/list-view.html\"\n",
    "    else:\n",
    "        template = 'ecommerce/list-view-public.html'\n",
    "    return render(request, template, context)"
   ]
  },
  {
   "cell_type": "markdown",
   "id": "25224b40-7fc0-4524-b7bb-c56bf3b6f064",
   "metadata": {},
   "source": [
    "# La mejor forma es usando decoradores"
   ]
  },
  {
   "cell_type": "code",
   "execution_count": null,
   "id": "10394358-90b5-4f23-aa43-48c035d3ba21",
   "metadata": {},
   "outputs": [],
   "source": [
    "from django.contrib.auth.decorators import login_required\n",
    "from django.shortcuts import render\n",
    "from django.http import HttpResponse,HttpResponseRedirect\n",
    "from .models import ProductModel\n",
    "# Create your views here.\n",
    "\n",
    "@login_required(login_url=\"/admin/login\") #En configuración global se pude usar la variable LOGIN_URL con la ruta al login para no pasar el argumento\n",
    "def product_model_list_view(request):\n",
    "    queryset = ProductModel.objects.all()\n",
    "    template = \"ecommerce/list-view.html\"\n",
    "    context = {\n",
    "        \"products\":queryset\n",
    "    }\n",
    "    if request.user.is_authenticated:\n",
    "        template = \"ecommerce/list-view.html\"\n",
    "    else:\n",
    "        template = 'ecommerce/list-view-public.html'\n",
    "    return render(request, template, context)"
   ]
  },
  {
   "cell_type": "markdown",
   "id": "04764137-d7f0-4e8d-bc7b-46e884517d19",
   "metadata": {},
   "source": [
    "# Vista de detalles"
   ]
  },
  {
   "cell_type": "markdown",
   "id": "ce30433d-3444-443b-b1a3-88562752e2e4",
   "metadata": {},
   "source": [
    "## ecommerce/view.py"
   ]
  },
  {
   "cell_type": "code",
   "execution_count": null,
   "id": "e691e61a-5740-436f-8304-b7c4efa0b670",
   "metadata": {},
   "outputs": [],
   "source": [
    "def product_model_detail_view(request,product_id):\n",
    "    instance = get_object_or_404(ProductModel, id=product_id)\n",
    "    context = {\n",
    "        \"product\":instance\n",
    "    }\n",
    "    template = \"ecommerce/detail-view.html\"\n",
    "    return render(request,template,context)"
   ]
  },
  {
   "cell_type": "markdown",
   "id": "fe1ba9cc-797f-4b11-9d4a-4fd14301b58f",
   "metadata": {},
   "source": [
    "## ecommerce/urls.py"
   ]
  },
  {
   "cell_type": "code",
   "execution_count": null,
   "id": "3aa743dc-e6a7-4767-a173-02b67abdc40d",
   "metadata": {},
   "outputs": [],
   "source": [
    "from django.urls import path\n",
    "\n",
    "from ecommerce import views\n",
    "\n",
    "urlpatterns = [\n",
    "    path(\"\", views.product_model_list_view, name=\"home\"),\n",
    "    path(\"<int:product_id>\", views.product_model_detail_view, name=\"detail\"),\n",
    "]"
   ]
  },
  {
   "cell_type": "markdown",
   "id": "064d34bc-1964-49b1-a690-00fe1f78b568",
   "metadata": {},
   "source": [
    "# templates/ecommerce/detail-view.html"
   ]
  },
  {
   "cell_type": "code",
   "execution_count": null,
   "id": "f8b77a5a-b85c-47a4-8618-eb0837d05537",
   "metadata": {},
   "outputs": [],
   "source": [
    "<h1>\n",
    "    {{product.title}}\n",
    "    {{product.price}}\n",
    "</h1>"
   ]
  },
  {
   "cell_type": "markdown",
   "id": "59c240ca-8eed-4198-a52f-cefb11e1737c",
   "metadata": {},
   "source": [
    "## templates/ecommerce/list-view.html"
   ]
  },
  {
   "cell_type": "code",
   "execution_count": null,
   "id": "bebb06d2-9a8f-4dc0-95f8-48f7343385ff",
   "metadata": {},
   "outputs": [],
   "source": [
    "<h1>\n",
    "    Vista de listado\n",
    "</h1>\n",
    "\n",
    "{% for product in products %}\n",
    "<li>\n",
    "    <a href=\"/ecommerce/{{product.id}}\">{{product.title}}</a>\n",
    "</li>\n",
    "{% endfor %}"
   ]
  },
  {
   "cell_type": "markdown",
   "id": "842d9b68-28c8-421c-808d-a0a91f877194",
   "metadata": {},
   "source": [
    "# Vista de creación"
   ]
  },
  {
   "cell_type": "markdown",
   "id": "072a619c-8245-42e6-97ed-4d8ab0247ce2",
   "metadata": {},
   "source": [
    "## ecommerce/create-view.py"
   ]
  },
  {
   "cell_type": "code",
   "execution_count": null,
   "id": "a0ba7dd0-a59e-4e90-bccb-e3034bd86eae",
   "metadata": {},
   "outputs": [],
   "source": [
    "def product_model_create_view(request):\n",
    "    form = ProductModelForm(request.POST or None)\n",
    "    if form.is_valid():\n",
    "        instance = form.save(commit=False)\n",
    "        instance.save()\n",
    "        messages.success(request,\"Producto creado con éxito\")\n",
    "        return HttpResponseRedirect(\"/ecommerce/{product_id}\".format(product_id=instance.id))\n",
    "    context = {\n",
    "        \"form\":form\n",
    "    }\n",
    "    template = \"ecommerce/create-view.html\"\n",
    "    return render(request,template,context)"
   ]
  },
  {
   "cell_type": "markdown",
   "id": "56d078c3-f256-46be-9a91-d6761fdd8f04",
   "metadata": {},
   "source": [
    "## ecommerce/forms.py"
   ]
  },
  {
   "cell_type": "code",
   "execution_count": null,
   "id": "4459e38f-99a4-498b-833f-f06b05a15fd1",
   "metadata": {},
   "outputs": [],
   "source": [
    "from django import forms\n",
    "from .models import ProductModel\n",
    "\n",
    "class ProductModelForm(forms.ModelForm):\n",
    "    class Meta:\n",
    "        model = ProductModel\n",
    "        fields = [\n",
    "            \"title\",\n",
    "            \"price\"\n",
    "        ]"
   ]
  },
  {
   "cell_type": "markdown",
   "id": "bd7dcbbe-b43e-43bc-894f-218e3c57d996",
   "metadata": {},
   "source": [
    "## templates/ecommerce/messages.html"
   ]
  },
  {
   "cell_type": "code",
   "execution_count": null,
   "id": "ec4719e0-c430-4308-b312-932f4003ae31",
   "metadata": {},
   "outputs": [],
   "source": [
    "{% if messages %}\n",
    "<ul class=\"messages\">\n",
    "    {% for message in messages %}\n",
    "    <li{% if message.tags %} class=\"{{ message.tags }}\"{% endif %}>{{ message }}</li>\n",
    "    {% endfor %}\n",
    "</ul>\n",
    "{% endif %}"
   ]
  },
  {
   "cell_type": "markdown",
   "id": "994c38fe-28c6-4519-aa91-2eeada42e08c",
   "metadata": {},
   "source": [
    "## templates/ecommerce/create-view.html"
   ]
  },
  {
   "cell_type": "code",
   "execution_count": null,
   "id": "ae5b058d-9913-4ed7-a3f6-7a45fc017ae6",
   "metadata": {},
   "outputs": [],
   "source": [
    "{%include \"ecommerce/messages.html\"%}\n",
    "<h1>\n",
    "    Creando nuevo producto\n",
    "</h1>\n",
    "<form action=\"\" method=\"post\">\n",
    "    {% csrf_token%}\n",
    "    {{ form.as_p}}\n",
    "    <input type=\"submit\" value=\"Crear\">\n",
    "</form>"
   ]
  },
  {
   "cell_type": "markdown",
   "id": "859b60a0-873b-4330-82ae-edf90a17205d",
   "metadata": {},
   "source": [
    "# Agregar la función {%include \"ecommerce/messages.html\"%} en todos los templates"
   ]
  },
  {
   "cell_type": "markdown",
   "id": "6522087f-04b4-4055-91a4-1c7f386f3159",
   "metadata": {},
   "source": [
    "## ecommerce/urls.py"
   ]
  },
  {
   "cell_type": "code",
   "execution_count": null,
   "id": "4eaae90d-aff4-4745-8fed-0543ae7c85de",
   "metadata": {},
   "outputs": [],
   "source": [
    "from django.urls import path\n",
    "\n",
    "from ecommerce import views\n",
    "\n",
    "urlpatterns = [\n",
    "    path(\"\", views.product_model_list_view, name=\"home\"),\n",
    "    path(\"<int:product_id>\", views.product_model_detail_view, name=\"detail\"),\n",
    "    path(\"create/\", views.product_model_create_view, name=\"create\"),\n",
    "]"
   ]
  },
  {
   "cell_type": "markdown",
   "id": "12f7b491-8aed-4fcf-b2e2-2a6b7efed212",
   "metadata": {},
   "source": [
    "# Vista de actualización"
   ]
  },
  {
   "cell_type": "markdown",
   "id": "f0440b17-d658-44a9-bfa9-d1dd6ace6cbc",
   "metadata": {},
   "source": [
    "## ecommerce/update-view.py"
   ]
  },
  {
   "cell_type": "code",
   "execution_count": null,
   "id": "3713bdbd-8891-414d-8361-33b6a1d99c08",
   "metadata": {},
   "outputs": [],
   "source": [
    "def product_model_create_view(request,product_id=None):\n",
    "    instance = get_object_or_404(ProductModel, id=product_id)\n",
    "    form = ProductModelForm(request.POST or None,instance=instance)\n",
    "    if form.is_valid():\n",
    "        instance = form.save(commit=False)\n",
    "        instance.save()\n",
    "        messages.success(request,\"Producto actualizado con éxito\")\n",
    "        return HttpResponseRedirect(\"/ecommerce/{product_id}\".format(product_id=instance.id))\n",
    "    context = {\n",
    "        \"form\":form\n",
    "    }\n",
    "    template = \"ecommerce/update-view.html\"\n",
    "    return render(request,template,context)\n"
   ]
  },
  {
   "cell_type": "markdown",
   "id": "bd107059-9b2e-4ef5-ab10-d3d55a07613d",
   "metadata": {},
   "source": [
    "## templates/ecommerce/update-view.html"
   ]
  },
  {
   "cell_type": "code",
   "execution_count": null,
   "id": "1f5ca643-b1cd-4cdc-8b51-b7ee27134810",
   "metadata": {},
   "outputs": [],
   "source": [
    "<h1>\n",
    "    Actualización de producto {{form.instance.title}}\n",
    "</h1>\n",
    "{{form.instance.title}}\n",
    "<form action=\"\" method=\"post\">\n",
    "    {% csrf_token%}\n",
    "    {{ form.as_p}}\n",
    "    <input type=\"submit\" value=\"Actualizar\">\n",
    "</form>"
   ]
  },
  {
   "cell_type": "markdown",
   "id": "674bf384-9076-4d7f-b982-1b2044c8ddeb",
   "metadata": {},
   "source": [
    "## ecommerce/urls.py"
   ]
  },
  {
   "cell_type": "code",
   "execution_count": null,
   "id": "8c8addc4-00f7-46c0-b60a-34ab6b561b1d",
   "metadata": {},
   "outputs": [],
   "source": [
    "from django.urls import path\n",
    "\n",
    "from ecommerce import views\n",
    "\n",
    "urlpatterns = [\n",
    "    path(\"\", views.product_model_list_view, name=\"home\"),\n",
    "    path(\"<int:product_id>\", views.product_model_detail_view, name=\"detail\"),\n",
    "    path(\"create/\", views.product_model_create_view, name=\"create\"),\n",
    "    path(\"<int:product_id>/edit/\", views.product_model_update_view, name=\"update\"),\n",
    "]"
   ]
  },
  {
   "cell_type": "markdown",
   "id": "752ed236-6c49-4536-a532-4aab77e0cd0c",
   "metadata": {},
   "source": [
    "# Vista para eliminar"
   ]
  },
  {
   "cell_type": "markdown",
   "id": "57cf4924-9115-47b5-bc39-932ea7274c47",
   "metadata": {},
   "source": [
    "## ecommerce/delete-view.py"
   ]
  },
  {
   "cell_type": "code",
   "execution_count": null,
   "id": "c39f37ba-4abe-4e9a-a59b-0e693c5b374b",
   "metadata": {},
   "outputs": [],
   "source": [
    "def product_model_delete_view(request,product_id):\n",
    "    instance = get_object_or_404(ProductModel, id=product_id)\n",
    "    if request.method == 'POST':\n",
    "        instance.delete()\n",
    "        HttpResponseRedirect(\"/ecommerce/\")\n",
    "        messages.success(request,'Producto eliminado')\n",
    "        return HttpResponseRedirect(\"/ecommerce/\")\n",
    "    context = {\n",
    "        \"product\":instance\n",
    "    }\n",
    "    template = \"ecommerce/delete-view.html\"\n",
    "    return render(request,template,context)"
   ]
  },
  {
   "cell_type": "markdown",
   "id": "6fe7a9be-3076-4c17-a070-254814e9b84c",
   "metadata": {},
   "source": [
    "## templetes/commerce/delete-view.html"
   ]
  },
  {
   "cell_type": "code",
   "execution_count": null,
   "id": "b85ccd33-056f-4c1a-83de-40b238dab24a",
   "metadata": {},
   "outputs": [],
   "source": [
    "{%include \"ecommerce/messages.html\"%}\n",
    "<h1>\n",
    "    Eliminar {{product.title}}\n",
    "</h1>\n",
    "\n",
    "<form action=\"\" method=\"post\">\n",
    "    {% csrf_token%}\n",
    "    ¿Estas seguro que deseas eliminar el producto?\n",
    "    <input type=\"submit\" value=\"Eliminar\">\n",
    "    <a href=\"/ecommerce/{{product.id}}\">Cancelar</a>\n",
    "</form>"
   ]
  },
  {
   "cell_type": "markdown",
   "id": "ac336c00-70cd-400a-84c0-367c183994fa",
   "metadata": {},
   "source": [
    "## ecommerce/urls.py"
   ]
  },
  {
   "cell_type": "code",
   "execution_count": null,
   "id": "de3788dc-7ad2-45fb-8829-2fa7a4e19f2f",
   "metadata": {},
   "outputs": [],
   "source": [
    "from django.urls import path\n",
    "\n",
    "from ecommerce import views\n",
    "\n",
    "urlpatterns = [\n",
    "    path(\"\", views.product_model_list_view, name=\"home\"),\n",
    "    path(\"<int:product_id>\", views.product_model_detail_view, name=\"detail\"),\n",
    "    path(\"create/\", views.product_model_create_view, name=\"create\"),\n",
    "    path(\"<int:product_id>/edit/\", views.product_model_update_view, name=\"update\"),\n",
    "    path(\"<int:product_id>/delete/\", views.product_model_delete_view, name=\"delete\"),\n",
    "]"
   ]
  },
  {
   "cell_type": "markdown",
   "id": "0375d418-8635-43b3-9c38-4adb3fe9d03f",
   "metadata": {},
   "source": [
    "# Agregando un buscador"
   ]
  },
  {
   "cell_type": "markdown",
   "id": "48ce3f38-3508-46e5-9d2e-424a00caed58",
   "metadata": {},
   "source": [
    "## ecommerce/view.py"
   ]
  },
  {
   "cell_type": "code",
   "execution_count": null,
   "id": "87047702-5837-4e73-b3d8-340a028d41c9",
   "metadata": {},
   "outputs": [],
   "source": [
    "def product_model_list_view(request):\n",
    "    query = request.GET.get(\"q\",None)\n",
    "    queryset = ProductModel.objects.all()\n",
    "    if query is not None:\n",
    "        queryset = queryset.filter(\n",
    "            Q(title__icontains=query) |\n",
    "            Q(price__icontains=query)\n",
    "        )\n",
    "    template = \"ecommerce/list-view.html\"\n",
    "    context = {\n",
    "        \"products\":queryset\n",
    "    }\n",
    "    if request.user.is_authenticated:\n",
    "        template = \"ecommerce/list-view.html\"\n",
    "    else:\n",
    "        template = 'ecommerce/list-view-public.html'\n",
    "    return render(request, template, context)"
   ]
  },
  {
   "cell_type": "markdown",
   "id": "248566f8-0cca-443d-9d85-7bac0aff9b94",
   "metadata": {},
   "source": [
    "## templete/ecommerce/search.html"
   ]
  },
  {
   "cell_type": "code",
   "execution_count": null,
   "id": "8afc1ed2-cf06-4268-a6b8-4540a706412f",
   "metadata": {},
   "outputs": [],
   "source": [
    "<form action=\"/ecommerce/\" method=\"get\">\n",
    "    <input type=\"text\" name=\"q\" placeholder=\"Buscar\">\n",
    "</form>"
   ]
  },
  {
   "cell_type": "markdown",
   "id": "bcef7e29-6b65-44bd-b7fb-b4c62ec6b613",
   "metadata": {},
   "source": [
    "## templete/ecommerce/list-view.html"
   ]
  },
  {
   "cell_type": "code",
   "execution_count": null,
   "id": "9d55bf07-a87d-4fcc-a02a-f884f64c65ff",
   "metadata": {},
   "outputs": [],
   "source": [
    "{% include \"ecommerce/search.html\" %}\n",
    "<h1>\n",
    "    Vista de listado\n",
    "</h1>\n",
    "\n",
    "{% for product in products %}\n",
    "<li>\n",
    "    <a href=\"/ecommerce/{{product.id}}\">{{product.title}}</a>\n",
    "</li>\n",
    "{% endfor %}"
   ]
  }
 ],
 "metadata": {
  "kernelspec": {
   "display_name": "Python 3 (ipykernel)",
   "language": "python",
   "name": "python3"
  },
  "language_info": {
   "codemirror_mode": {
    "name": "ipython",
    "version": 3
   },
   "file_extension": ".py",
   "mimetype": "text/x-python",
   "name": "python",
   "nbconvert_exporter": "python",
   "pygments_lexer": "ipython3",
   "version": "3.12.1"
  }
 },
 "nbformat": 4,
 "nbformat_minor": 5
}
