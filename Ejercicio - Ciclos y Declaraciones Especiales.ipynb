{
 "cells": [
  {
   "cell_type": "code",
   "execution_count": 9,
   "id": "73ff6ec7",
   "metadata": {},
   "outputs": [],
   "source": [
    "import time\n",
    "def ascendente(time_sec):\n",
    "    tiempoActual = 0\n",
    "    while tiempoActual <= time_sec:\n",
    "        mins,secs = divmod(tiempoActual,60)\n",
    "        timeformat = '{:02d}:{:02d}'.format(mins,secs)\n",
    "        print(timeformat,end='\\r')\n",
    "        time.sleep(1)\n",
    "        tiempoActual+=1\n",
    "    print(\"stop\")"
   ]
  },
  {
   "cell_type": "code",
   "execution_count": null,
   "id": "82db126f",
   "metadata": {},
   "outputs": [
    {
     "name": "stdout",
     "output_type": "stream",
     "text": [
      "00:54\r"
     ]
    }
   ],
   "source": [
    "ascendente(90)"
   ]
  },
  {
   "cell_type": "code",
   "execution_count": null,
   "id": "5e627a56",
   "metadata": {},
   "outputs": [],
   "source": []
  }
 ],
 "metadata": {
  "kernelspec": {
   "display_name": "Python 3 (ipykernel)",
   "language": "python",
   "name": "python3"
  },
  "language_info": {
   "codemirror_mode": {
    "name": "ipython",
    "version": 3
   },
   "file_extension": ".py",
   "mimetype": "text/x-python",
   "name": "python",
   "nbconvert_exporter": "python",
   "pygments_lexer": "ipython3",
   "version": "3.11.4"
  }
 },
 "nbformat": 4,
 "nbformat_minor": 5
}
