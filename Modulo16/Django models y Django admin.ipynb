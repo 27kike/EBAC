{
 "cells": [
  {
   "cell_type": "markdown",
   "id": "0f9d15a6-eefc-49f6-b7af-2b39e9488893",
   "metadata": {},
   "source": [
    "# Agregar un campo nuevo en models.py\n",
    "- Sólo es cuestión de agregar un nuevo campo y activar el null de dicho campo, después de eso hacer las migraciones\n",
    "- python manage.py makemigrations\n",
    "- python manage.py migrations"
   ]
  },
  {
   "cell_type": "code",
   "execution_count": null,
   "id": "eb1ba757-dd25-4e49-9659-0f87f840d095",
   "metadata": {},
   "outputs": [],
   "source": [
    "from django.db import models\n",
    "\n",
    "# Create your models here.\n",
    "class ProductModel(models.Model):\n",
    "    title = models.TextField()\n",
    "    color = models.TextField()\n",
    "    seller = models.TextField()\n",
    "    description = models.TextField()\n",
    "    short_description = models.TextField(null = True)\n",
    "    price = models.FloatField()"
   ]
  },
  {
   "cell_type": "markdown",
   "id": "76d289cf-b400-4c2b-b6ac-487d8fd002ae",
   "metadata": {},
   "source": [
    "# Eliminar un campo en models.py\n",
    "- Basta con sólo eliminarlo de la clase y hacer las migraciones\n",
    "- python manage.py makemigrations\n",
    "- python manage.py migrations"
   ]
  },
  {
   "cell_type": "code",
   "execution_count": null,
   "id": "b5ac96be-af99-47dc-bc2a-95742842613d",
   "metadata": {},
   "outputs": [],
   "source": [
    "from django.db import models\n",
    "\n",
    "# Create your models here.\n",
    "class ProductModel(models.Model):\n",
    "    title = models.TextField()\n",
    "    color = models.TextField()\n",
    "    seller = models.TextField()\n",
    "    description = models.TextField()\n",
    "    price = models.FloatField()"
   ]
  },
  {
   "cell_type": "markdown",
   "id": "8c674b4a-fc71-4da5-a31d-68db1e566f58",
   "metadata": {},
   "source": [
    "# Borrar migraciones y compresión de migraciones\n",
    "- python manage.py squashmigrations app numapp\n",
    "- python manage.py squashmigrations ecommerce 0004\n",
    "- python manage.py migrate"
   ]
  },
  {
   "cell_type": "markdown",
   "id": "0f91c6e0-04de-4106-b633-ea312b4e8083",
   "metadata": {},
   "source": [
    "# Shell Django\n",
    "- Herramienta util para probar código\n",
    "- Queryset: Una lista de los objetos almacenados dentro de un modelo"
   ]
  },
  {
   "cell_type": "markdown",
   "id": "59ecd0d0-a284-4fb6-b21d-2f63b05395d2",
   "metadata": {},
   "source": [
    "## Obteniendo el qs"
   ]
  },
  {
   "cell_type": "code",
   "execution_count": null,
   "id": "455a97b1-5c0c-4f83-a824-d9b04bbeec16",
   "metadata": {},
   "outputs": [],
   "source": [
    ">>> from ecommerce.models import ProductModel\n",
    ">>> qs = ProductModel.objects.all()\n",
    ">>> qs\n",
    "<QuerySet [<ProductModel: ProductModel object (3)>, <ProductModel: ProductModel object (6)>, <ProductModel: ProductModel object (7)>, <ProductModel: ProductModel object (5)>, <ProductModel: ProductModel object (11)>, <ProductModel: ProductModel object (10)>]>"
   ]
  },
  {
   "cell_type": "markdown",
   "id": "ae2e6592-6fd8-4ebb-9e0e-de8fe6f36938",
   "metadata": {},
   "source": [
    "## Obteniendo un objeto en especifico\n",
    "- Se usa el campo filter y cualquier campo definido en el modelo"
   ]
  },
  {
   "cell_type": "code",
   "execution_count": null,
   "id": "2041aa90-daed-489b-816a-2979a5cbee04",
   "metadata": {},
   "outputs": [],
   "source": [
    ">>> producto = qs.filter(id=5).first()\n",
    ">>> producto.title\n",
    "'Cargador'"
   ]
  },
  {
   "cell_type": "markdown",
   "id": "8a557d0b-19b1-4f79-9e28-1bc4f194885f",
   "metadata": {},
   "source": [
    "## Actualizando"
   ]
  },
  {
   "cell_type": "code",
   "execution_count": null,
   "id": "00aabeb2-7c63-4339-b17b-ab40ece555fa",
   "metadata": {},
   "outputs": [],
   "source": [
    ">>> producto.title = 'Cargador Apple'\n",
    ">>> producto.save()"
   ]
  },
  {
   "cell_type": "markdown",
   "id": "8a4eecb8-1a95-4ec1-9548-b704f1bdcf22",
   "metadata": {},
   "source": [
    "## Guardando"
   ]
  },
  {
   "cell_type": "code",
   "execution_count": null,
   "id": "1ba5a6ee-a6d0-43e7-9155-4e7d36c8cb7f",
   "metadata": {},
   "outputs": [],
   "source": [
    ">>> pn = ProductModel(title = 'Nuevo Producto', seller = 'Amazon', description = 'Producto Nuevo', price = 300)\n",
    ">>> pn.save()"
   ]
  },
  {
   "cell_type": "markdown",
   "id": "90fa4a75-fc60-45b6-8ae0-6321fb3b23b8",
   "metadata": {},
   "source": [
    "## Eliminando"
   ]
  },
  {
   "cell_type": "code",
   "execution_count": null,
   "id": "520abe9f-5d38-4033-be75-4c719804f81a",
   "metadata": {},
   "outputs": [],
   "source": [
    ">>> ProductModel.objects.get(id=12).delete()"
   ]
  },
  {
   "cell_type": "markdown",
   "id": "217ff93c-3980-4f7e-b957-8424cfedfd24",
   "metadata": {},
   "source": [
    "# Validación de modelos"
   ]
  },
  {
   "cell_type": "markdown",
   "id": "dfdadaba-fc40-4b41-b56d-f256bc1d74c8",
   "metadata": {},
   "source": [
    "## ecommerce/validations.py\n",
    "- Crear archivo validations.py dentro de la ruta de nuestra app"
   ]
  },
  {
   "cell_type": "code",
   "execution_count": null,
   "id": "6ba98d6d-a51b-4d9e-bdca-2cc654f9e1f2",
   "metadata": {},
   "outputs": [],
   "source": [
    "from django.core.exceptions import ValidationError\n",
    "\n",
    "palabrasBloqueadas = [\n",
    "    \"malo\",\n",
    "    \"feo\",\n",
    "]\n",
    "\n",
    "def validacion(valor):\n",
    "    palabra = valor.lower()\n",
    "    palabrasUnicas = set(palabra.split())\n",
    "    bloqueado = set(palabrasBloqueadas)\n",
    "    invalido = (palabrasUnicas & bloqueado)\n",
    "    has_error = len(invalido) > 0\n",
    "    if has_error:\n",
    "        error = []\n",
    "        for i in invalido:\n",
    "            msg = \"La palabra: {} no esta permitida\".format(i)\n",
    "            error.append(msg)\n",
    "        raise ValidationError(error)\n",
    "    return valor"
   ]
  },
  {
   "cell_type": "markdown",
   "id": "aeabcc5e-b56c-482e-bce7-0b803f3ea590",
   "metadata": {},
   "source": [
    "## ecommerce/models.py\n",
    "- Importar la validación dentro de nuestros modelos\n",
    "- Modificar la funcion save() dentro de la clase que realiza el modelo"
   ]
  },
  {
   "cell_type": "code",
   "execution_count": null,
   "id": "8654dea1-6c74-4e57-9e74-a41e1957e6d2",
   "metadata": {},
   "outputs": [],
   "source": [
    "from django.db import models\n",
    "from .validators import validacion\n",
    "# Create your models here.\n",
    "class ProductModel(models.Model):\n",
    "    title = models.TextField()\n",
    "    #color = models.TextField()\n",
    "    seller = models.TextField()\n",
    "    description = models.TextField()\n",
    "    price = models.FloatField()\n",
    "\n",
    "    def save(self,*args,**kwargs):\n",
    "        validacion(self.title)\n",
    "        super().save(*args,**kwargs)"
   ]
  },
  {
   "cell_type": "markdown",
   "id": "fd9a5292-8644-4459-90de-8645ebec5abc",
   "metadata": {},
   "source": [
    "# Como agregar opciones a los campos de los modelos"
   ]
  },
  {
   "cell_type": "markdown",
   "id": "1f724a50-c7a9-4a7e-8c63-fd9193c47122",
   "metadata": {},
   "source": [
    "## ecommerce/models.py"
   ]
  },
  {
   "cell_type": "code",
   "execution_count": null,
   "id": "41e54bc9-ff8e-4dae-9ad7-2305d9aab888",
   "metadata": {},
   "outputs": [],
   "source": [
    "from django.db import models\n",
    "from .validators import validacion\n",
    "# Create your models here.\n",
    "\n",
    "#[(valor en db,valor mostrado)]\n",
    "status = [\n",
    "    ('BR','BORRADOR'),\n",
    "    ('PU','PUBLICADO'),\n",
    "    ('PR','PRIVADO'),\n",
    "]\n",
    "class ProductModel(models.Model):\n",
    "    title = models.TextField()\n",
    "    #color = models.TextField()\n",
    "    seller = models.TextField()\n",
    "    description = models.TextField()\n",
    "    price = models.FloatField()\n",
    "    state = models.CharField(max_length = 2, choices = status, default = 'BR')\n",
    "\n",
    "    def save(self,*args,**kwargs):\n",
    "        validacion(self.title)\n",
    "        super().save(*args,**kwargs)\n",
    "    \n",
    "    def is_published(self):\n",
    "        return self.state == 'PU'"
   ]
  },
  {
   "cell_type": "markdown",
   "id": "8d8e0846-226d-4339-85a2-7281b68912a1",
   "metadata": {},
   "source": [
    "- python manage.py makemigrations\n",
    "- python manage.py migrate"
   ]
  },
  {
   "cell_type": "markdown",
   "id": "e4b50582-df96-4758-92e8-e13e8f54bae2",
   "metadata": {},
   "source": [
    "# Como agregar opciones avanzadas a los campos de los modelos"
   ]
  },
  {
   "cell_type": "code",
   "execution_count": null,
   "id": "7701c69c-8dc2-4084-86ed-7d05c32e81f2",
   "metadata": {},
   "outputs": [],
   "source": [
    "from django.db import models\n",
    "from .validators import validacion\n",
    "# Create your models here.\n",
    "\n",
    "class ProductModel(models.Model):\n",
    "    class ProductState(models.TextChoices):\n",
    "        PUBLISHED = 'PU','PUBLICO'\n",
    "        DRAFT = 'BR','BORRADOR'\n",
    "        PRIVATE = 'PR','PRIVADO'\n",
    "    title = models.TextField()\n",
    "    #color = models.TextField()\n",
    "    seller = models.TextField()\n",
    "    description = models.TextField()\n",
    "    price = models.FloatField()\n",
    "    state = models.CharField(max_length = 2, choices = ProductState.choices, default = ProductState.DRAFT)\n",
    "\n",
    "    def save(self,*args,**kwargs):\n",
    "        validacion(self.title)\n",
    "        super().save(*args,**kwargs)\n",
    "    \n",
    "    def is_published(self):\n",
    "        return self.state == self.ProductState.PUBLISHED"
   ]
  },
  {
   "cell_type": "markdown",
   "id": "fe84ff33-e065-49fe-a053-199d4ea70e72",
   "metadata": {},
   "source": [
    "- python manage.py makemigrations\n",
    "- python manage.py migrate"
   ]
  },
  {
   "cell_type": "markdown",
   "id": "f2484953-4393-4a6f-a153-2afbd532238f",
   "metadata": {},
   "source": [
    "# Modelo abstracto como base"
   ]
  },
  {
   "cell_type": "markdown",
   "id": "7bff5889-7205-4998-a73d-b023dc8d1a9f",
   "metadata": {},
   "source": [
    "python manage.py startapp base"
   ]
  },
  {
   "cell_type": "markdown",
   "id": "c40afc70-9acd-4b7c-a374-e5de91dc12ac",
   "metadata": {},
   "source": [
    "## base/models.py"
   ]
  },
  {
   "cell_type": "code",
   "execution_count": null,
   "id": "4d55e1a6-57db-46ab-bd07-d14d2872b2e8",
   "metadata": {},
   "outputs": [],
   "source": [
    "from django.db import models\n",
    "from django.utils import timezone\n",
    "# Create your models here.\n",
    "\n",
    "class BasePublishModel(models.Model):\n",
    "    class BasePublishState(models.TextChoices):\n",
    "        PUBLISHED = 'PU','PUBLICO'\n",
    "        DRAFT = 'BR','BORRADOR'\n",
    "        PRIVATE = 'PR','PRIVADO'\n",
    "\n",
    "    state = models.CharField(max_length = 2, choices = BasePublishState.choices, default = BasePublishState.DRAFT)\n",
    "    timestamp = models.DateTimeField(auto_now_add = True)\n",
    "    updated = models.DateTimeField(auto_now_add = True)\n",
    "    publish_timestamp = models.DateTimeField(auto_now_add = False, auto_now = False , null = True)\n",
    "\n",
    "    class Meta:\n",
    "        abstract = True\n",
    "        ordering = [\"-updated\",\"-timestamp\"]\n",
    "\n",
    "    def save(self,*args,**kwargs):\n",
    "        if self.state_is_published and self.publish_timestamp is None:\n",
    "            self.publish_timestamp = timezone.now()\n",
    "        else:\n",
    "            self.publish_timestamp = None\n",
    "        super().save(*args,**kwargs)\n",
    "    @property\n",
    "    def state_is_published(self):\n",
    "        return self.state == self.BasePublishState.PUBLISHED\n",
    "    def is_published(self):\n",
    "        publish_timestamp = self.publish_timestamp\n",
    "        return self.state_is_published and publish_timestamp < timezone.now()"
   ]
  },
  {
   "cell_type": "markdown",
   "id": "21ca389d-a0bb-4cf5-8947-1f8d0de6df12",
   "metadata": {},
   "source": [
    "## ecommerce/models.py"
   ]
  },
  {
   "cell_type": "code",
   "execution_count": null,
   "id": "25849235-87bb-4f6d-876d-4e2e4408c76c",
   "metadata": {},
   "outputs": [],
   "source": [
    "from django.db import models\n",
    "from .validators import validacion\n",
    "from base.models import BasePublishModel\n",
    "# Create your models here.\n",
    "\n",
    "class ProductModel(BasePublishModel):\n",
    "    title = models.TextField()\n",
    "    #color = models.TextField()\n",
    "    seller = models.TextField()\n",
    "    description = models.TextField()\n",
    "    price = models.FloatField()\n",
    "\n",
    "    def save(self,*args,**kwargs):\n",
    "        validacion(self.title)\n",
    "        super().save(*args,**kwargs)"
   ]
  },
  {
   "cell_type": "markdown",
   "id": "9c7413b6-239d-4326-96a6-394ae650d33b",
   "metadata": {},
   "source": [
    "## settings.py"
   ]
  },
  {
   "cell_type": "code",
   "execution_count": null,
   "id": "38151139-6796-4a7b-ade1-e3d2c9fa2e8f",
   "metadata": {},
   "outputs": [],
   "source": [
    "INSTALLED_APPS = [\n",
    "    \"pages.apps.PagesConfig\",\n",
    "    \"ecommerce.apps.EcommerceConfig\",\n",
    "    \"base.apps.BaseConfig\",\n",
    "    \"debug_toolbar\",\n",
    "    \"django.contrib.admin\",\n",
    "    \"django.contrib.auth\",\n",
    "    \"django.contrib.contenttypes\",\n",
    "    \"django.contrib.sessions\",\n",
    "    \"django.contrib.messages\",\n",
    "    \"django.contrib.staticfiles\",\n",
    "]"
   ]
  },
  {
   "cell_type": "markdown",
   "id": "7bbda336-ea9b-4e3b-85f5-e7fc22747b23",
   "metadata": {},
   "source": [
    "- python manage.py makemigrations\n",
    "- python manage.py migratons"
   ]
  },
  {
   "cell_type": "markdown",
   "id": "36826c92-ac19-4caa-b9d5-d07e2349672e",
   "metadata": {},
   "source": [
    "# Creación a Granel"
   ]
  },
  {
   "cell_type": "code",
   "execution_count": null,
   "id": "3894ef18-28af-4861-909b-a7653b308fed",
   "metadata": {},
   "outputs": [],
   "source": [
    "products_data = []\n",
    "for i in range(1,100):\n",
    "    new_data = {\"title\":'Producto {}'.format(i),\"price\":i*100+99.99}\n",
    "    products_data.append(new_data)\n",
    "print(products_data)"
   ]
  },
  {
   "cell_type": "code",
   "execution_count": null,
   "id": "8351581f-c045-4285-a9ae-90899574355a",
   "metadata": {},
   "outputs": [],
   "source": [
    "from ecommerce.models import ProductModel\n",
    "new_objects = []\n",
    "for product_data in products_data:\n",
    "    new_objects.append(ProductModel(**product_data))"
   ]
  },
  {
   "cell_type": "code",
   "execution_count": null,
   "id": "277a82ac-7503-4f6d-a3f6-fec239672a67",
   "metadata": {},
   "outputs": [],
   "source": [
    "ProductModel.objects.bulk_create(new_objects,ignore_conflicts=True)"
   ]
  },
  {
   "cell_type": "markdown",
   "id": "17477c3e-d090-4cd8-9889-490ffee3fe02",
   "metadata": {},
   "source": [
    "## SlugField y Señales en modelos\n",
    "\n",
    "slug: Se usa para los urls\n",
    "\n",
    "title: escritorio con altura\n",
    "\n",
    "slug: escritorio-con-altura"
   ]
  },
  {
   "cell_type": "markdown",
   "id": "20e3bc13-0295-4e81-befa-6682aa907263",
   "metadata": {},
   "source": [
    "## Señales\n",
    "- pre_save\n",
    "- post_save\n",
    "- pre_delete\n",
    "- post_delete\n",
    "- pre_init\n",
    "- post_init\n",
    "- pre_migrate\n",
    "- post_migrate"
   ]
  },
  {
   "cell_type": "markdown",
   "id": "be3c8d9e-9b64-4648-ae6f-b4c4d305cfad",
   "metadata": {},
   "source": [
    "## ecommerce/models.py"
   ]
  },
  {
   "cell_type": "code",
   "execution_count": null,
   "id": "65714a31-dc15-4c22-b5b6-0cada2434f17",
   "metadata": {},
   "outputs": [],
   "source": [
    "from django.db import models\n",
    "from django.db.models.signals import pre_save\n",
    "from .validators import validacion\n",
    "from base.models import BasePublishModel\n",
    "from django.utils.text import slugify\n",
    "#Create your models here.\n",
    "\n",
    "class ProductModel(BasePublishModel):\n",
    "    title = models.TextField()\n",
    "    #color = models.TextField()\n",
    "    seller = models.TextField()\n",
    "    description = models.TextField()\n",
    "    price = models.FloatField()\n",
    "    slug = models.SlugField(null = True, blank = True, db_index = True)\n",
    "    def save(self,*args,**kwargs):\n",
    "        validacion(self.title)\n",
    "        super().save(*args,**kwargs)\n",
    "    def get_absolute_url(self):\n",
    "        return f\"/product/{self.slug}\"\n",
    "\n",
    "def pre_save_slug(instance,**kwargs):\n",
    "    if instance.slug is None or instance.slug == \"\":\n",
    "        new_slug = slugify(instance.title)\n",
    "        myModel = instance.__class__\n",
    "        qs = myModel.objects.filter(slug__startswith=new_slug).exclude(id=instance.id)\n",
    "        if qs.count() == 0:\n",
    "            instance.slug = new_slug\n",
    "        else:\n",
    "            instance.slug = f\"{new_slug}-{qs.count()}\"\n",
    "\n",
    "pre_save.connect(pre_save_slug,sender=ProductModel)"
   ]
  },
  {
   "cell_type": "markdown",
   "id": "8f332814-588a-4b5c-8898-2d43d2674d6e",
   "metadata": {},
   "source": [
    "python manage.py makemigrations\n",
    "\n",
    "python manage.py migrate"
   ]
  },
  {
   "cell_type": "markdown",
   "id": "5f4a9c70-2d3e-49ec-bb30-798031555136",
   "metadata": {},
   "source": [
    "## Fixures para cargar data"
   ]
  },
  {
   "cell_type": "markdown",
   "id": "d35fcd68-32eb-4ee4-9c92-176dfc0007c3",
   "metadata": {},
   "source": [
    "python manage.py dumpdata ecommerce --indent 4 --format json > ruta"
   ]
  },
  {
   "cell_type": "markdown",
   "id": "efd21393-7e9e-4625-80c9-71738f9ccdc8",
   "metadata": {},
   "source": [
    "pyton manage.py loaddata ruta"
   ]
  },
  {
   "cell_type": "markdown",
   "id": "8049145d-87c8-4b8b-b771-7e826cd88e79",
   "metadata": {},
   "source": [
    "## Llaves Foraneas"
   ]
  },
  {
   "cell_type": "code",
   "execution_count": null,
   "id": "56b9ed2c-ebf0-4232-8a71-c8068ef3f0be",
   "metadata": {},
   "outputs": [],
   "source": [
    "from django.db import models\n",
    "from django.conf import settings\n",
    "from django.db.models.signals import pre_save\n",
    "from .validators import validacion\n",
    "from base.models import BasePublishModel\n",
    "from django.utils.text import slugify\n",
    "#Create your models here.\n",
    "User = settings.AUTH_USER_MODEL\n",
    "class ProductModel(BasePublishModel):\n",
    "    title = models.TextField()\n",
    "    #color = models.TextField()\n",
    "    seller = models.TextField()\n",
    "    description = models.TextField()\n",
    "    price = models.FloatField()\n",
    "    slug = models.SlugField(null = True, blank = True, db_index = True)\n",
    "    user = models.ForeignKey(User,null = True, on_delete=models.SET_NULL)\n",
    "    def save(self,*args,**kwargs):\n",
    "        validacion(self.title)\n",
    "        super().save(*args,**kwargs)\n",
    "    def get_absolute_url(self):\n",
    "        return f\"/product/{self.slug}\"\n",
    "\n",
    "def pre_save_slug(instance,**kwargs):\n",
    "    if instance.slug is None or instance.slug == \"\":\n",
    "        new_slug = slugify(instance.title)\n",
    "        myModel = instance.__class__\n",
    "        qs = myModel.objects.filter(slug__startswith=new_slug).exclude(id=instance.id)\n",
    "        if qs.count() == 0:\n",
    "            instance.slug = new_slug\n",
    "        else:\n",
    "            instance.slug = f\"{new_slug}-{qs.count()}\"\n",
    "\n",
    "pre_save.connect(pre_save_slug,sender=ProductModel)"
   ]
  }
 ],
 "metadata": {
  "kernelspec": {
   "display_name": "Python 3 (ipykernel)",
   "language": "python",
   "name": "python3"
  },
  "language_info": {
   "codemirror_mode": {
    "name": "ipython",
    "version": 3
   },
   "file_extension": ".py",
   "mimetype": "text/x-python",
   "name": "python",
   "nbconvert_exporter": "python",
   "pygments_lexer": "ipython3",
   "version": "3.12.1"
  }
 },
 "nbformat": 4,
 "nbformat_minor": 5
}
