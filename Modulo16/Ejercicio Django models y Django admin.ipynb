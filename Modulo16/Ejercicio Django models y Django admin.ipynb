{
 "cells": [
  {
   "cell_type": "code",
   "execution_count": null,
   "id": "25ca1dbe-b11c-495f-b17f-e54e5edb4dc7",
   "metadata": {},
   "outputs": [],
   "source": [
    "#Generar 500 productos\n",
    "products_data = []\n",
    "for i in range(1,500):\n",
    "    new_data = {\"title\":'Producto {}'.format(i),\"price\":i*100+99.99}\n",
    "products_data.append(new_data)\n",
    "\n",
    "#Crear objetos de tipo ProductModel\n",
    "from ecommerce.models import ProductModel\n",
    "new_objects = []\n",
    "for product_data in products_data:\n",
    "new_objects.append(ProductModel(**product_data))\n",
    "\n",
    "#Hacer bulk\n",
    "ProductModel.objects.bulk_create(new_objects,ignore_conflicts=True)\n",
    "\n",
    "#Hacer dumpdata\n",
    "python manage.py dumpdta --indent 4 --format json > ecommerce/fixture/500productmodel.json\n",
    "\n",
    "#Borrado de información\n",
    "from ecommerce.models import ProductModel\n",
    "ProductModel.objects.all().delete()\n",
    "\n",
    "#Cargar información\n",
    "python manage.py loaddata ecommerce/fixture/500productmodel.json"
   ]
  }
 ],
 "metadata": {
  "kernelspec": {
   "display_name": "Python 3 (ipykernel)",
   "language": "python",
   "name": "python3"
  },
  "language_info": {
   "codemirror_mode": {
    "name": "ipython",
    "version": 3
   },
   "file_extension": ".py",
   "mimetype": "text/x-python",
   "name": "python",
   "nbconvert_exporter": "python",
   "pygments_lexer": "ipython3",
   "version": "3.12.1"
  }
 },
 "nbformat": 4,
 "nbformat_minor": 5
}
