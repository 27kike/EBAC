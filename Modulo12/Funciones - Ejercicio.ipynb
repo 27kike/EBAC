{
 "cells": [
  {
   "cell_type": "code",
   "execution_count": 1,
   "id": "a0637596-a619-4d42-8f21-c2c58a3cfb46",
   "metadata": {},
   "outputs": [],
   "source": [
    "list_items = {\n",
    "    'Camisa':200,\n",
    "    'Gorra':120,\n",
    "    'Monitor':5000,\n",
    "    'Xbox':3500,\n",
    "    'Celular':1200\n",
    "}\n",
    "\n",
    "def get_items( diccionario, precio = 0 ):\n",
    "    items = { c:v for c,v in diccionario.items() if v > precio }\n",
    "    def log(function,*param):\n",
    "        print('Se ejecuto la funcion: {} con argumentos {}\\n'.format(function.__name__,*param))\n",
    "        function(*param)\n",
    "    log(show_items,items)\n",
    "\n",
    "def show_items( diccionario ):\n",
    "    for producto,precio in diccionario.items():\n",
    "        print('Producto: {} -- Precio: {}'.format(producto,precio))"
   ]
  },
  {
   "cell_type": "code",
   "execution_count": 3,
   "id": "3924d47d-54db-4d26-afb9-45203ab3646e",
   "metadata": {},
   "outputs": [
    {
     "name": "stdout",
     "output_type": "stream",
     "text": [
      "Se ejecuto la funcion: show_items con argumentos {'Camisa': 200, 'Gorra': 120, 'Monitor': 5000, 'Xbox': 3500, 'Celular': 1200}\n",
      "\n",
      "Producto: Camisa -- Precio: 200\n",
      "Producto: Gorra -- Precio: 120\n",
      "Producto: Monitor -- Precio: 5000\n",
      "Producto: Xbox -- Precio: 3500\n",
      "Producto: Celular -- Precio: 1200\n"
     ]
    }
   ],
   "source": [
    "get_items(list_items)"
   ]
  },
  {
   "cell_type": "code",
   "execution_count": 4,
   "id": "d1b0908a-2a24-4fca-a3b0-59f136701e51",
   "metadata": {},
   "outputs": [
    {
     "name": "stdout",
     "output_type": "stream",
     "text": [
      "Se ejecuto la funcion: show_items con argumentos {'Monitor': 5000, 'Xbox': 3500}\n",
      "\n",
      "Producto: Monitor -- Precio: 5000\n",
      "Producto: Xbox -- Precio: 3500\n"
     ]
    }
   ],
   "source": [
    "get_items(list_items,3000)"
   ]
  },
  {
   "cell_type": "code",
   "execution_count": 5,
   "id": "108d8d95-dc01-4834-bff7-c83b2bfc85af",
   "metadata": {},
   "outputs": [
    {
     "name": "stdout",
     "output_type": "stream",
     "text": [
      "Se ejecuto la funcion: show_items con argumentos {'Monitor': 5000, 'Xbox': 3500, 'Celular': 1200}\n",
      "\n",
      "Producto: Monitor -- Precio: 5000\n",
      "Producto: Xbox -- Precio: 3500\n",
      "Producto: Celular -- Precio: 1200\n"
     ]
    }
   ],
   "source": [
    "get_items(list_items,1000)"
   ]
  },
  {
   "cell_type": "code",
   "execution_count": 6,
   "id": "028e00b7-4e44-49ed-aa84-12b2266c4258",
   "metadata": {},
   "outputs": [
    {
     "name": "stdout",
     "output_type": "stream",
     "text": [
      "Se ejecuto la funcion: show_items con argumentos {'Monitor': 5000}\n",
      "\n",
      "Producto: Monitor -- Precio: 5000\n"
     ]
    }
   ],
   "source": [
    "get_items(list_items,4000)"
   ]
  },
  {
   "cell_type": "code",
   "execution_count": null,
   "id": "9e543a9c-5ba5-4d6a-8594-64cc920ff3b2",
   "metadata": {},
   "outputs": [],
   "source": []
  }
 ],
 "metadata": {
  "kernelspec": {
   "display_name": "Python 3 (ipykernel)",
   "language": "python",
   "name": "python3"
  },
  "language_info": {
   "codemirror_mode": {
    "name": "ipython",
    "version": 3
   },
   "file_extension": ".py",
   "mimetype": "text/x-python",
   "name": "python",
   "nbconvert_exporter": "python",
   "pygments_lexer": "ipython3",
   "version": "3.12.1"
  }
 },
 "nbformat": 4,
 "nbformat_minor": 5
}
