{
 "cells": [
  {
   "cell_type": "markdown",
   "id": "cd3947c0-172a-4ddc-9ccf-ad67205ac8bd",
   "metadata": {},
   "source": [
    "### Funciones en Python\n",
    "Una funcion en python es:\n",
    "- Es un conjunto de operaciones\n",
    "- Puede ser usada como un molde reutilizable\n",
    "- Puede regresar un valor\n",
    "- Puede ahorrar mucho tiempo\n",
    "- Simplifica la lógica\n",
    "- Acepta parámetros"
   ]
  },
  {
   "cell_type": "code",
   "execution_count": 2,
   "id": "7ec2d320-1410-4a94-8abd-310497939dd7",
   "metadata": {},
   "outputs": [],
   "source": [
    "def miFuncion(parametros):\n",
    "    print('Paso 1')\n",
    "    print('Paso 2')\n",
    "    print('Paso 3')\n",
    "    return \"Completado\""
   ]
  },
  {
   "cell_type": "markdown",
   "id": "134a2e75-a639-46d4-b9f7-ea9c258ed38e",
   "metadata": {},
   "source": [
    "### Parámetro de Funciones\n",
    "- Los parámetros son opcionales\n",
    "- Podemos declarar los parámetros en la definicios de la función\n",
    "- Existen dos tipos de parámetros\n",
    "  - Formales\n",
    "  - Reales"
   ]
  },
  {
   "cell_type": "markdown",
   "id": "649f53d5-c0a3-492b-8604-9facfbe62351",
   "metadata": {},
   "source": [
    "### Parámetros formales\n",
    "- Son los valores usados en la creación/definición de la función\n",
    "### Parámetros reales\n",
    "- Son los valores usados en la llamada de la función"
   ]
  },
  {
   "cell_type": "code",
   "execution_count": 7,
   "id": "3612fbbe-c946-41ff-933f-1a09f1b82b0c",
   "metadata": {},
   "outputs": [],
   "source": [
    "def imprimirValor(numero): #Parámetro formal / parámetro\n",
    "    print('El valor del numero es: {}'.format(numero))"
   ]
  },
  {
   "cell_type": "code",
   "execution_count": 8,
   "id": "bd3a8c88-9e73-46c6-b615-60030da88d61",
   "metadata": {},
   "outputs": [
    {
     "name": "stdout",
     "output_type": "stream",
     "text": [
      "El valor del numero es: 300\n"
     ]
    }
   ],
   "source": [
    "imprimirValor(300) #Parámetro real / argumento"
   ]
  },
  {
   "cell_type": "markdown",
   "id": "123484d7-bf40-4e81-b9a6-74e89796a867",
   "metadata": {},
   "source": [
    "### Invocar funciones"
   ]
  },
  {
   "cell_type": "code",
   "execution_count": 1,
   "id": "50a84b4e-e370-4d1b-8bc0-3568ec1eb193",
   "metadata": {},
   "outputs": [],
   "source": [
    "def plus_ten(number):\n",
    "    return number + 10\n",
    "\n",
    "def minus_ten(number):\n",
    "    return number - 10\n",
    "\n",
    "def another_function(f,number):\n",
    "    x = f(number)\n",
    "    return x"
   ]
  },
  {
   "cell_type": "code",
   "execution_count": 2,
   "id": "c84f2fbb-2cca-4989-8b2e-6e452f4e7e4a",
   "metadata": {},
   "outputs": [
    {
     "data": {
      "text/plain": [
       "14"
      ]
     },
     "execution_count": 2,
     "metadata": {},
     "output_type": "execute_result"
    }
   ],
   "source": [
    "plus_ten(4)"
   ]
  },
  {
   "cell_type": "code",
   "execution_count": 3,
   "id": "950a34e6-e936-47dd-9175-a7869eed1234",
   "metadata": {},
   "outputs": [
    {
     "data": {
      "text/plain": [
       "17"
      ]
     },
     "execution_count": 3,
     "metadata": {},
     "output_type": "execute_result"
    }
   ],
   "source": [
    "minus_ten(27)"
   ]
  },
  {
   "cell_type": "code",
   "execution_count": 4,
   "id": "515fce8a-4e62-4037-9988-ddb3d843e234",
   "metadata": {},
   "outputs": [
    {
     "data": {
      "text/plain": [
       "14"
      ]
     },
     "execution_count": 4,
     "metadata": {},
     "output_type": "execute_result"
    }
   ],
   "source": [
    "another_function(plus_ten,4)"
   ]
  },
  {
   "cell_type": "markdown",
   "id": "f9c853d2-a413-444a-871e-efe04b66b427",
   "metadata": {},
   "source": [
    "### Funciones anidadas\n",
    "- Es una función dentro de otra función\n",
    "- Ayuda a simplificar la lógica"
   ]
  },
  {
   "cell_type": "code",
   "execution_count": 8,
   "id": "ff5825f0-5fc6-4967-8229-ba8f0d367651",
   "metadata": {},
   "outputs": [],
   "source": [
    "def logger(func):\n",
    "    def log_func(*args):\n",
    "        print('Corriendo {} con los argumentos {}'.format(func.__name__,args))\n",
    "        print (func(*args))\n",
    "    return log_func\n",
    "def add(x,y):\n",
    "    return x+y\n",
    "def sub(x,y):\n",
    "    return x-y\n",
    "\n",
    "add_logger = logger(add)\n",
    "sub_logger = logger(sub)"
   ]
  },
  {
   "cell_type": "code",
   "execution_count": 9,
   "id": "a6f62daf-e05c-4ae8-b884-3beb77ad3e49",
   "metadata": {},
   "outputs": [
    {
     "data": {
      "text/plain": [
       "14"
      ]
     },
     "execution_count": 9,
     "metadata": {},
     "output_type": "execute_result"
    }
   ],
   "source": [
    "add(5,9)"
   ]
  },
  {
   "cell_type": "code",
   "execution_count": 10,
   "id": "d5ee8c88-51cc-4d7b-be2f-1caaff67e2a5",
   "metadata": {},
   "outputs": [
    {
     "name": "stdout",
     "output_type": "stream",
     "text": [
      "Corriendo add con los argumentos (5, 9)\n",
      "14\n"
     ]
    }
   ],
   "source": [
    "add_logger(5,9)"
   ]
  },
  {
   "cell_type": "markdown",
   "id": "bde63d5a-95e2-4dc0-8238-4eade489380a",
   "metadata": {},
   "source": [
    "### Función dir"
   ]
  },
  {
   "cell_type": "code",
   "execution_count": 11,
   "id": "b592113a-7d2b-43cc-9332-fef9364b49a9",
   "metadata": {},
   "outputs": [
    {
     "data": {
      "text/plain": [
       "['__annotations__',\n",
       " '__builtins__',\n",
       " '__call__',\n",
       " '__class__',\n",
       " '__closure__',\n",
       " '__code__',\n",
       " '__defaults__',\n",
       " '__delattr__',\n",
       " '__dict__',\n",
       " '__dir__',\n",
       " '__doc__',\n",
       " '__eq__',\n",
       " '__format__',\n",
       " '__ge__',\n",
       " '__get__',\n",
       " '__getattribute__',\n",
       " '__getstate__',\n",
       " '__globals__',\n",
       " '__gt__',\n",
       " '__hash__',\n",
       " '__init__',\n",
       " '__init_subclass__',\n",
       " '__kwdefaults__',\n",
       " '__le__',\n",
       " '__lt__',\n",
       " '__module__',\n",
       " '__name__',\n",
       " '__ne__',\n",
       " '__new__',\n",
       " '__qualname__',\n",
       " '__reduce__',\n",
       " '__reduce_ex__',\n",
       " '__repr__',\n",
       " '__setattr__',\n",
       " '__sizeof__',\n",
       " '__str__',\n",
       " '__subclasshook__',\n",
       " '__type_params__']"
      ]
     },
     "execution_count": 11,
     "metadata": {},
     "output_type": "execute_result"
    }
   ],
   "source": [
    "dir(add)"
   ]
  },
  {
   "cell_type": "code",
   "execution_count": 12,
   "id": "9d0777b0-31f8-456c-8309-5a304007dd5a",
   "metadata": {},
   "outputs": [
    {
     "data": {
      "text/plain": [
       "'__main__'"
      ]
     },
     "execution_count": 12,
     "metadata": {},
     "output_type": "execute_result"
    }
   ],
   "source": [
    "add.__module__"
   ]
  },
  {
   "cell_type": "code",
   "execution_count": 13,
   "id": "950b1718-8523-4684-a653-9945fb17394d",
   "metadata": {},
   "outputs": [
    {
     "data": {
      "text/plain": [
       "['__class__',\n",
       " '__class_getitem__',\n",
       " '__contains__',\n",
       " '__delattr__',\n",
       " '__delitem__',\n",
       " '__dir__',\n",
       " '__doc__',\n",
       " '__eq__',\n",
       " '__format__',\n",
       " '__ge__',\n",
       " '__getattribute__',\n",
       " '__getitem__',\n",
       " '__getstate__',\n",
       " '__gt__',\n",
       " '__hash__',\n",
       " '__init__',\n",
       " '__init_subclass__',\n",
       " '__ior__',\n",
       " '__iter__',\n",
       " '__le__',\n",
       " '__len__',\n",
       " '__lt__',\n",
       " '__ne__',\n",
       " '__new__',\n",
       " '__or__',\n",
       " '__reduce__',\n",
       " '__reduce_ex__',\n",
       " '__repr__',\n",
       " '__reversed__',\n",
       " '__ror__',\n",
       " '__setattr__',\n",
       " '__setitem__',\n",
       " '__sizeof__',\n",
       " '__str__',\n",
       " '__subclasshook__',\n",
       " 'clear',\n",
       " 'copy',\n",
       " 'fromkeys',\n",
       " 'get',\n",
       " 'items',\n",
       " 'keys',\n",
       " 'pop',\n",
       " 'popitem',\n",
       " 'setdefault',\n",
       " 'update',\n",
       " 'values']"
      ]
     },
     "execution_count": 13,
     "metadata": {},
     "output_type": "execute_result"
    }
   ],
   "source": [
    "dict = {\n",
    "    \"a\":100,\n",
    "    \"b\":200,\n",
    "    \"c\":300\n",
    "}\n",
    "dir(dict)"
   ]
  },
  {
   "cell_type": "code",
   "execution_count": 18,
   "id": "44e57e47-a724-441f-b988-e976e6a4e323",
   "metadata": {},
   "outputs": [
    {
     "name": "stdout",
     "output_type": "stream",
     "text": [
      "dict_values([100, 200, 300])\n"
     ]
    }
   ],
   "source": [
    "print(dict.values())"
   ]
  },
  {
   "cell_type": "code",
   "execution_count": null,
   "id": "ea94095b-785c-4122-a017-0f2daf8da787",
   "metadata": {},
   "outputs": [],
   "source": [
    "lista = [102,9984,289,12,39]\n",
    "dir(lista)"
   ]
  },
  {
   "cell_type": "code",
   "execution_count": 27,
   "id": "b590c260-3667-4337-a174-59e235a308d7",
   "metadata": {},
   "outputs": [
    {
     "name": "stdout",
     "output_type": "stream",
     "text": [
      "['ConnectTimeout', 'ConnectionError', 'DependencyWarning', 'FileModeWarning', 'HTTPError', 'JSONDecodeError', 'NullHandler', 'PreparedRequest', 'ReadTimeout', 'Request', 'RequestException', 'RequestsDependencyWarning', 'Response', 'Session', 'Timeout', 'TooManyRedirects', 'URLRequired', '__author__', '__author_email__', '__build__', '__builtins__', '__cached__', '__cake__', '__copyright__', '__description__', '__doc__', '__file__', '__license__', '__loader__', '__name__', '__package__', '__path__', '__spec__', '__title__', '__url__', '__version__', '_check_cryptography', '_internal_utils', 'adapters', 'api', 'auth', 'certs', 'chardet_version', 'charset_normalizer_version', 'check_compatibility', 'codes', 'compat', 'cookies', 'delete', 'exceptions', 'get', 'head', 'hooks', 'logging', 'models', 'options', 'packages', 'patch', 'post', 'put', 'request', 'session', 'sessions', 'ssl', 'status_codes', 'structures', 'urllib3', 'utils', 'warnings']\n"
     ]
    }
   ],
   "source": [
    "import requests\n",
    "print(dir(requests))"
   ]
  },
  {
   "cell_type": "markdown",
   "id": "60017a42-4e66-4bdb-b08c-d232af9bb517",
   "metadata": {},
   "source": [
    " ### Función format"
   ]
  },
  {
   "cell_type": "code",
   "execution_count": 32,
   "id": "2ac2ddda-1944-48a3-a22c-def0b23153d0",
   "metadata": {},
   "outputs": [
    {
     "name": "stdout",
     "output_type": "stream",
     "text": [
      "El valor de la variable num es 10 y es de tipo <class 'int'>\n"
     ]
    }
   ],
   "source": [
    "num = 10\n",
    "print('El valor de la variable num es {} y es de tipo {}'.format(num,type(num)))"
   ]
  },
  {
   "cell_type": "code",
   "execution_count": 33,
   "id": "9a80ea68-910b-4bf2-8dd9-f278e36ff733",
   "metadata": {},
   "outputs": [],
   "source": [
    "### Función enumerate"
   ]
  },
  {
   "cell_type": "code",
   "execution_count": 34,
   "id": "2488fb92-5e5a-4189-9a61-c62310c5772d",
   "metadata": {},
   "outputs": [
    {
     "name": "stdout",
     "output_type": "stream",
     "text": [
      "El lenguaje pyton tiene el índice 0\n",
      "El lenguaje java tiene el índice 1\n",
      "El lenguaje C tiene el índice 2\n",
      "El lenguaje C++ tiene el índice 3\n",
      "El lenguaje Scala tiene el índice 4\n"
     ]
    }
   ],
   "source": [
    "lenguajes = ['pyton','java','C','C++','Scala']\n",
    "for i,lenguaje in enumerate(lenguajes):\n",
    "    print('El lenguaje {} tiene el índice {}'.format(lenguaje,i))"
   ]
  },
  {
   "cell_type": "code",
   "execution_count": 35,
   "id": "30a34d14-6ade-4c65-a834-32ff3d19ed6e",
   "metadata": {},
   "outputs": [
    {
     "name": "stdout",
     "output_type": "stream",
     "text": [
      "El lenguaje pyton tiene el índice 1\n",
      "El lenguaje java tiene el índice 2\n",
      "El lenguaje C tiene el índice 3\n",
      "El lenguaje C++ tiene el índice 4\n",
      "El lenguaje Scala tiene el índice 5\n"
     ]
    }
   ],
   "source": [
    "for i,lenguaje in enumerate(lenguajes,start=1):\n",
    "    print('El lenguaje {} tiene el índice {}'.format(lenguaje,i))"
   ]
  },
  {
   "cell_type": "markdown",
   "id": "8d4c2a4d-bad6-459c-8663-2b8109db7a4c",
   "metadata": {},
   "source": [
    "### Funciones lambda\n",
    "- Es una función sin anónima (sin nombre)\n",
    "- Puede recibir cualquier número de parametros pero solo puede tener una expresión\n",
    "- \"lambda\" es una palabra clave en Python y representa una función anónima dentro de otra función\n",
    "- La ventaja principal es usarla en combinación con built-in functions como map o filter\n",
    "- La función es regresada como valor por otra función"
   ]
  },
  {
   "cell_type": "code",
   "execution_count": 47,
   "id": "ab8bc857-2e17-45ee-8cc2-54a7cb2e5f65",
   "metadata": {},
   "outputs": [],
   "source": [
    "suma = lambda num:num+10"
   ]
  },
  {
   "cell_type": "code",
   "execution_count": 48,
   "id": "c43624a7-ca02-47f9-8742-2dd5c336a28f",
   "metadata": {},
   "outputs": [
    {
     "data": {
      "text/plain": [
       "20"
      ]
     },
     "execution_count": 48,
     "metadata": {},
     "output_type": "execute_result"
    }
   ],
   "source": [
    "suma(10)"
   ]
  },
  {
   "cell_type": "code",
   "execution_count": 49,
   "id": "304a46ed-ac5f-4625-b9e6-a1de440b6d24",
   "metadata": {},
   "outputs": [
    {
     "data": {
      "text/plain": [
       "-80"
      ]
     },
     "execution_count": 49,
     "metadata": {},
     "output_type": "execute_result"
    }
   ],
   "source": [
    "suma(-90)"
   ]
  },
  {
   "cell_type": "code",
   "execution_count": 50,
   "id": "bb825d60-e777-4b93-b2d4-7b1fbce32f54",
   "metadata": {},
   "outputs": [],
   "source": [
    "lista = [10.89,20,56,39,21,-10]\n",
    "resultado = map(suma,lista)"
   ]
  },
  {
   "cell_type": "code",
   "execution_count": 51,
   "id": "62877b8b-017c-4553-88a7-1257a8fe060e",
   "metadata": {},
   "outputs": [
    {
     "name": "stdout",
     "output_type": "stream",
     "text": [
      "[20.89, 30, 66, 49, 31, 0]\n"
     ]
    }
   ],
   "source": [
    "print(list(resultado))"
   ]
  },
  {
   "cell_type": "code",
   "execution_count": null,
   "id": "b68fa0d6-f570-4248-a6e1-d76fd52acc43",
   "metadata": {},
   "outputs": [],
   "source": []
  }
 ],
 "metadata": {
  "kernelspec": {
   "display_name": "Python 3 (ipykernel)",
   "language": "python",
   "name": "python3"
  },
  "language_info": {
   "codemirror_mode": {
    "name": "ipython",
    "version": 3
   },
   "file_extension": ".py",
   "mimetype": "text/x-python",
   "name": "python",
   "nbconvert_exporter": "python",
   "pygments_lexer": "ipython3",
   "version": "3.12.1"
  }
 },
 "nbformat": 4,
 "nbformat_minor": 5
}
