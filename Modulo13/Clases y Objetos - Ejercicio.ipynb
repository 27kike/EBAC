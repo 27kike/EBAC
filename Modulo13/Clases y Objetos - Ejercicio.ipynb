{
 "cells": [
  {
   "cell_type": "code",
   "execution_count": 4,
   "id": "683f821c-1fbf-4058-8d4e-858b5e2c8196",
   "metadata": {},
   "outputs": [],
   "source": [
    "articulos = {\n",
    "    'Camisa':200,\n",
    "    'Gorra':120,\n",
    "    'Monitor':5000,\n",
    "    'Xbox':3500,\n",
    "    'Celular':1200,\n",
    "    'Laptop':9000\n",
    "}\n",
    "articulosDisponibles = {\n",
    "    'Mouse':90,\n",
    "    'Ipad':1200,\n",
    "    'Cargador':67,\n",
    "    'Cable USB':10,\n",
    "    'Tenis':600,\n",
    "    'Mochila':230\n",
    "}\n",
    "class Utilidades:\n",
    "    articulo = ''\n",
    "    def __init__(self,articulos = '',articulosDisp = ''):\n",
    "        self.articulos = articulos\n",
    "        self.articulosDisp = articulosDisp\n",
    "        \n",
    "    def mostrarArticulos(self,carrito = 1):\n",
    "        if carrito:\n",
    "            print('Mostrando los articulos de tu carrito\\n\\n')\n",
    "            for indice, articulo in enumerate(self.articulos,start = 1):\n",
    "                print('{}).- {}'.format(indice,articulo))\n",
    "        else:\n",
    "            print('Mostrando los articulos disponibles\\n\\n')\n",
    "            for indice, articulo in enumerate(self.articulosDisp,start = 1):\n",
    "                print('{}).- {}'.format(indice,articulo))\n",
    "\n",
    "    def quitarArticulo(self):\n",
    "        articulo = input('¿Que articulo quieres eliminar?: ')\n",
    "        try:\n",
    "            del articulos[articulo]\n",
    "        except KeyError as e:\n",
    "            print('El articulo {} no existe en tu carrito.'.format(e))\n",
    "        else:\n",
    "            print('El articulo {} se elimino correctamente.'.format(articulo))\n",
    "\n",
    "    def agregarArticulo(self):\n",
    "        self.mostrarArticulos(0)\n",
    "        self.mostrarArticulos(1)\n",
    "        articulo = input('¿Que articulo quieres agregar?')\n",
    "        try:\n",
    "            self.articulos[articulo] = self.articulosDisp[articulo]\n",
    "        except KeyError as e:\n",
    "            print('Error al agregar el articulo: {}.'.format(e))\n",
    "        else:\n",
    "            print('El articulo: {} se agrego correctamente.'.format(articulo))\n",
    "\n",
    "class Carrito(Utilidades):\n",
    "    totalPago = 0\n",
    "    def __init__(self,articulos = '',articulosDisp = ''):\n",
    "        super().__init__(articulos,articulosDisp)\n",
    "\n",
    "    def total(self):\n",
    "        totalPago = sum(precio for precio in self.articulos.values())\n",
    "        print('El pago total es: {} pesos'.format(totalPago))"
   ]
  },
  {
   "cell_type": "code",
   "execution_count": 5,
   "id": "7eaf40f4-1e15-41d3-b6d8-ba9076c6dbe6",
   "metadata": {},
   "outputs": [],
   "source": [
    "carrito = Carrito(articulos,articulosDisponibles)"
   ]
  },
  {
   "cell_type": "code",
   "execution_count": 7,
   "id": "b5912cd5-8544-4795-bdca-6dbb71f83311",
   "metadata": {},
   "outputs": [
    {
     "data": {
      "text/plain": [
       "['__class__',\n",
       " '__delattr__',\n",
       " '__dict__',\n",
       " '__dir__',\n",
       " '__doc__',\n",
       " '__eq__',\n",
       " '__format__',\n",
       " '__ge__',\n",
       " '__getattribute__',\n",
       " '__getstate__',\n",
       " '__gt__',\n",
       " '__hash__',\n",
       " '__init__',\n",
       " '__init_subclass__',\n",
       " '__le__',\n",
       " '__lt__',\n",
       " '__module__',\n",
       " '__ne__',\n",
       " '__new__',\n",
       " '__reduce__',\n",
       " '__reduce_ex__',\n",
       " '__repr__',\n",
       " '__setattr__',\n",
       " '__sizeof__',\n",
       " '__str__',\n",
       " '__subclasshook__',\n",
       " '__weakref__',\n",
       " 'agregarArticulo',\n",
       " 'articulo',\n",
       " 'articulos',\n",
       " 'articulosDisp',\n",
       " 'mostrarArticulos',\n",
       " 'quitarArticulo',\n",
       " 'total',\n",
       " 'totalPago']"
      ]
     },
     "execution_count": 7,
     "metadata": {},
     "output_type": "execute_result"
    }
   ],
   "source": [
    "dir(carrito)"
   ]
  },
  {
   "cell_type": "code",
   "execution_count": 8,
   "id": "713d9bd5-b3e5-4724-acb5-c4590c5a426f",
   "metadata": {},
   "outputs": [
    {
     "name": "stdout",
     "output_type": "stream",
     "text": [
      "Mostrando los articulos de tu carrito\n",
      "\n",
      "\n",
      "1).- Camisa\n",
      "2).- Gorra\n",
      "3).- Monitor\n",
      "4).- Xbox\n",
      "5).- Celular\n",
      "6).- Laptop\n"
     ]
    }
   ],
   "source": [
    "carrito.mostrarArticulos()"
   ]
  },
  {
   "cell_type": "code",
   "execution_count": 9,
   "id": "91ba91e6-66e3-4856-9932-5aa4a3889f6a",
   "metadata": {},
   "outputs": [
    {
     "name": "stdout",
     "output_type": "stream",
     "text": [
      "Mostrando los articulos disponibles\n",
      "\n",
      "\n",
      "1).- Mouse\n",
      "2).- Ipad\n",
      "3).- Cargador\n",
      "4).- Cable USB\n",
      "5).- Tenis\n",
      "6).- Mochila\n",
      "Mostrando los articulos de tu carrito\n",
      "\n",
      "\n",
      "1).- Camisa\n",
      "2).- Gorra\n",
      "3).- Monitor\n",
      "4).- Xbox\n",
      "5).- Celular\n",
      "6).- Laptop\n"
     ]
    },
    {
     "name": "stdin",
     "output_type": "stream",
     "text": [
      "¿Que articulo quieres agregar? Cable USB\n"
     ]
    },
    {
     "name": "stdout",
     "output_type": "stream",
     "text": [
      "El articulo: Cable USB se agrego correctamente.\n"
     ]
    }
   ],
   "source": [
    "carrito.agregarArticulo()"
   ]
  },
  {
   "cell_type": "code",
   "execution_count": 10,
   "id": "441e2be8-0558-484b-83bd-cd0fb12eb0f8",
   "metadata": {},
   "outputs": [
    {
     "name": "stdin",
     "output_type": "stream",
     "text": [
      "¿Que articulo quieres eliminar?:  Xbox\n"
     ]
    },
    {
     "name": "stdout",
     "output_type": "stream",
     "text": [
      "El articulo Xbox se elimino correctamente.\n"
     ]
    }
   ],
   "source": [
    "carrito.quitarArticulo()"
   ]
  },
  {
   "cell_type": "code",
   "execution_count": 11,
   "id": "384734f2-615c-4203-9e12-f5ec48842b7c",
   "metadata": {},
   "outputs": [
    {
     "name": "stdout",
     "output_type": "stream",
     "text": [
      "Mostrando los articulos de tu carrito\n",
      "\n",
      "\n",
      "1).- Camisa\n",
      "2).- Gorra\n",
      "3).- Monitor\n",
      "4).- Celular\n",
      "5).- Laptop\n",
      "6).- Cable USB\n"
     ]
    }
   ],
   "source": [
    "carrito.mostrarArticulos()"
   ]
  },
  {
   "cell_type": "code",
   "execution_count": 12,
   "id": "b1c4f200-79d7-41da-8b8b-9ccc91875902",
   "metadata": {},
   "outputs": [
    {
     "name": "stdout",
     "output_type": "stream",
     "text": [
      "El pago total es: 15530 pesos\n"
     ]
    }
   ],
   "source": [
    "carrito.total()"
   ]
  },
  {
   "cell_type": "code",
   "execution_count": null,
   "id": "2c1277ca-984b-4fe0-b8e2-30f1c1bb5a3e",
   "metadata": {},
   "outputs": [],
   "source": []
  }
 ],
 "metadata": {
  "kernelspec": {
   "display_name": "Python 3 (ipykernel)",
   "language": "python",
   "name": "python3"
  },
  "language_info": {
   "codemirror_mode": {
    "name": "ipython",
    "version": 3
   },
   "file_extension": ".py",
   "mimetype": "text/x-python",
   "name": "python",
   "nbconvert_exporter": "python",
   "pygments_lexer": "ipython3",
   "version": "3.12.1"
  }
 },
 "nbformat": 4,
 "nbformat_minor": 5
}
