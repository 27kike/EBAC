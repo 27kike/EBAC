{
 "cells": [
  {
   "cell_type": "markdown",
   "id": "a0d64f54-c9d5-41d6-a9a0-441c6e687b5a",
   "metadata": {},
   "source": [
    "# Introducción\n",
    "\n",
    "Imagina un carro\n",
    "\n",
    "Carro - Objeto\n",
    "Modelo de carro - Clase"
   ]
  },
  {
   "cell_type": "code",
   "execution_count": 1,
   "id": "c54d57ea-68cf-4c9e-b29c-a618c8198633",
   "metadata": {},
   "outputs": [],
   "source": [
    "class Car:\n",
    "    #Atributos\n",
    "    make = 'Tesla'\n",
    "    model = 'Model 3'\n",
    "    year = '2022'\n",
    "    #Metodos\n",
    "    def turn_on():\n",
    "        pass\n",
    "    def turn_off():\n",
    "        pass"
   ]
  },
  {
   "cell_type": "markdown",
   "id": "8b4e6808-202f-4f97-9607-d2935bf23fd3",
   "metadata": {},
   "source": [
    "Entonces las clases son como moldes\n",
    "\n",
    "De tal forma que puedes usar ese mismo molde para crear muchos objetos\n",
    "\n",
    "Clases - Molde de objeto\n",
    "Objeto/instancia - Una agrupación de métodos y atributos"
   ]
  },
  {
   "cell_type": "code",
   "execution_count": 2,
   "id": "c2b94192-aad5-4b0d-93f7-8cb3bf0cdbc5",
   "metadata": {},
   "outputs": [],
   "source": [
    "car1 = Car()"
   ]
  },
  {
   "cell_type": "code",
   "execution_count": 3,
   "id": "7768bfcb-df77-4f3f-ab46-5daaaba2a22d",
   "metadata": {},
   "outputs": [
    {
     "data": {
      "text/plain": [
       "['__class__',\n",
       " '__delattr__',\n",
       " '__dict__',\n",
       " '__dir__',\n",
       " '__doc__',\n",
       " '__eq__',\n",
       " '__format__',\n",
       " '__ge__',\n",
       " '__getattribute__',\n",
       " '__getstate__',\n",
       " '__gt__',\n",
       " '__hash__',\n",
       " '__init__',\n",
       " '__init_subclass__',\n",
       " '__le__',\n",
       " '__lt__',\n",
       " '__module__',\n",
       " '__ne__',\n",
       " '__new__',\n",
       " '__reduce__',\n",
       " '__reduce_ex__',\n",
       " '__repr__',\n",
       " '__setattr__',\n",
       " '__sizeof__',\n",
       " '__str__',\n",
       " '__subclasshook__',\n",
       " '__weakref__',\n",
       " 'make',\n",
       " 'model',\n",
       " 'turn_off',\n",
       " 'turn_on',\n",
       " 'year']"
      ]
     },
     "execution_count": 3,
     "metadata": {},
     "output_type": "execute_result"
    }
   ],
   "source": [
    "dir(car1)"
   ]
  },
  {
   "cell_type": "markdown",
   "id": "1192becc-9f97-4608-b77c-e1174df912dd",
   "metadata": {},
   "source": [
    "# Creando clases"
   ]
  },
  {
   "cell_type": "code",
   "execution_count": 7,
   "id": "d6c12e79-56de-40fe-8251-69feb524ac5b",
   "metadata": {},
   "outputs": [],
   "source": [
    "class Car:\n",
    "    def __init__(self, make, model, year): #Constructor\n",
    "        self.make = make\n",
    "        self.model = model\n",
    "        self.year = year\n",
    "        print('Se creo una instancia de la clase exitosamente')\n",
    "\n",
    "    def atributos(self):\n",
    "        print('Marca: ',self.make)\n",
    "        print('Modelo: ',self.model)\n",
    "        print('Año: ',self.year)"
   ]
  },
  {
   "cell_type": "markdown",
   "id": "19cd9f62-32e7-441d-a5bd-ee2dd6bfeaee",
   "metadata": {},
   "source": [
    "# Creando Objetos"
   ]
  },
  {
   "cell_type": "code",
   "execution_count": 8,
   "id": "4a974b66-f186-4992-a01c-257eb634de8e",
   "metadata": {},
   "outputs": [
    {
     "name": "stdout",
     "output_type": "stream",
     "text": [
      "Se creo una instancia de la clase exitosamente\n",
      "Marca:  Nissan\n",
      "Modelo:  March\n",
      "Año:  2023\n"
     ]
    }
   ],
   "source": [
    "car1 = Car('Nissan','March','2023')\n",
    "car1.atributos()"
   ]
  },
  {
   "cell_type": "markdown",
   "id": "17893e9f-6332-44b8-a11f-8f934df5a27c",
   "metadata": {},
   "source": [
    "# Accediendo a los atributos"
   ]
  },
  {
   "cell_type": "code",
   "execution_count": 10,
   "id": "6335204c-161b-4a0e-a0f3-51c7ec93e516",
   "metadata": {},
   "outputs": [
    {
     "name": "stdout",
     "output_type": "stream",
     "text": [
      "Se creo una instancia de la clase exitosamente\n",
      "Marca:  Nissan\n",
      "Modelo:  Versa\n",
      "Año:  2023\n"
     ]
    }
   ],
   "source": [
    "car2 = Car('Nissan','Versa','2023')\n",
    "car2.atributos()"
   ]
  },
  {
   "cell_type": "code",
   "execution_count": 11,
   "id": "03a865e9-3194-4f80-b35b-1d23c6692847",
   "metadata": {},
   "outputs": [
    {
     "name": "stdout",
     "output_type": "stream",
     "text": [
      "Nissan\n"
     ]
    }
   ],
   "source": [
    "print(car2.make)"
   ]
  },
  {
   "cell_type": "code",
   "execution_count": 12,
   "id": "07718cf7-89f1-4e55-ae97-5b6d4821cdb3",
   "metadata": {},
   "outputs": [
    {
     "name": "stdout",
     "output_type": "stream",
     "text": [
      "2023\n"
     ]
    }
   ],
   "source": [
    "print(car2.year)"
   ]
  },
  {
   "cell_type": "code",
   "execution_count": 13,
   "id": "0fb7e9b5-0e58-4f57-a643-5c5c47de4694",
   "metadata": {},
   "outputs": [
    {
     "name": "stdout",
     "output_type": "stream",
     "text": [
      "Versa\n"
     ]
    }
   ],
   "source": [
    "print(car2.model)"
   ]
  },
  {
   "cell_type": "markdown",
   "id": "fc5ae611-27cd-4799-b813-6814b677b26b",
   "metadata": {},
   "source": [
    "# Variables de clase"
   ]
  },
  {
   "cell_type": "code",
   "execution_count": 14,
   "id": "c1e657d7-2335-4ce9-a1fc-22dd8bd0013b",
   "metadata": {},
   "outputs": [],
   "source": [
    "class Car:\n",
    "    opus = 0\n",
    "    def __init__(self, make, model, year): #Constructor\n",
    "        Car.opus += 1\n",
    "        self.make = make\n",
    "        self.model = model\n",
    "        self.year = year\n",
    "        print('Se creo una instancia de la clase exitosamente')\n",
    "\n",
    "    def atributos(self):\n",
    "        print('Marca: ',self.make)\n",
    "        print('Modelo: ',self.model)\n",
    "        print('Año: ',self.year)"
   ]
  },
  {
   "cell_type": "code",
   "execution_count": 15,
   "id": "446aefa7-f19a-4cbf-8222-2339b64fc2d6",
   "metadata": {},
   "outputs": [
    {
     "name": "stdout",
     "output_type": "stream",
     "text": [
      "Se creo una instancia de la clase exitosamente\n",
      "Marca:  Nissan\n",
      "Modelo:  March\n",
      "Año:  2023\n"
     ]
    }
   ],
   "source": [
    "car1 = Car('Nissan','March','2023')\n",
    "car1.atributos()"
   ]
  },
  {
   "cell_type": "code",
   "execution_count": 16,
   "id": "529048f0-ae7e-4fb7-abf6-83e99e46e156",
   "metadata": {},
   "outputs": [
    {
     "name": "stdout",
     "output_type": "stream",
     "text": [
      "Se creo una instancia de la clase exitosamente\n",
      "Marca:  Nissan\n",
      "Modelo:  Versa\n",
      "Año:  2023\n"
     ]
    }
   ],
   "source": [
    "car2 = Car('Nissan','Versa','2023')\n",
    "car2.atributos()"
   ]
  },
  {
   "cell_type": "code",
   "execution_count": 18,
   "id": "81611fe5-7f8f-44d0-9ce3-6f8050e635d1",
   "metadata": {},
   "outputs": [
    {
     "name": "stdout",
     "output_type": "stream",
     "text": [
      "Se creo una instancia de la clase exitosamente\n",
      "Marca:  Mazda\n",
      "Modelo:  Mazda 3\n",
      "Año:  2025\n"
     ]
    }
   ],
   "source": [
    "car3 = Car('Mazda','Mazda 3','2025')\n",
    "car3.atributos()"
   ]
  },
  {
   "cell_type": "code",
   "execution_count": 19,
   "id": "74801695-6b28-4510-a84a-8e1c4de2125f",
   "metadata": {},
   "outputs": [
    {
     "name": "stdout",
     "output_type": "stream",
     "text": [
      "Hay 3 opus creados\n"
     ]
    }
   ],
   "source": [
    "print('Hay {} opus creados'.format(Car.opus))"
   ]
  },
  {
   "cell_type": "markdown",
   "id": "ae855cb1-85c3-4e68-957a-30cbbde3c1fc",
   "metadata": {},
   "source": [
    "# Garbage Collection"
   ]
  },
  {
   "cell_type": "code",
   "execution_count": 20,
   "id": "3d37b648-139e-47ae-8a7d-a54d8d3293cf",
   "metadata": {},
   "outputs": [],
   "source": [
    "class Car:\n",
    "    opus = 0\n",
    "    def __init__(self, make, model, year): #Constructor\n",
    "        Car.opus += 1\n",
    "        self.make = make\n",
    "        self.model = model\n",
    "        self.year = year\n",
    "        print('Se creo una instancia de la clase exitosamente')\n",
    "\n",
    "    def atributos(self):\n",
    "        print('Marca: ',self.make)\n",
    "        print('Modelo: ',self.model)\n",
    "        print('Año: ',self.year)\n",
    "\n",
    "    def __del__(self):\n",
    "        Car.opus -= 1"
   ]
  },
  {
   "cell_type": "code",
   "execution_count": 22,
   "id": "667294bd-13c1-44ec-bbb3-01ed54eb2bc7",
   "metadata": {},
   "outputs": [
    {
     "name": "stdout",
     "output_type": "stream",
     "text": [
      "Se creo una instancia de la clase exitosamente\n",
      "Marca:  Nissan\n",
      "Modelo:  March\n",
      "Año:  2023\n",
      "Se creo una instancia de la clase exitosamente\n",
      "Marca:  Nissan\n",
      "Modelo:  Versa\n",
      "Año:  2023\n",
      "Se creo una instancia de la clase exitosamente\n",
      "Marca:  Mazda\n",
      "Modelo:  Mazda 3\n",
      "Año:  2025\n"
     ]
    }
   ],
   "source": [
    "car1 = Car('Nissan','March','2023')\n",
    "car1.atributos()\n",
    "car2 = Car('Nissan','Versa','2023')\n",
    "car2.atributos()\n",
    "car3 = Car('Mazda','Mazda 3','2025')\n",
    "car3.atributos()"
   ]
  },
  {
   "cell_type": "code",
   "execution_count": 23,
   "id": "0ccbc270-bbea-47f7-986a-2caa78fb2c22",
   "metadata": {},
   "outputs": [
    {
     "name": "stdout",
     "output_type": "stream",
     "text": [
      "Hay 3 carros creados\n"
     ]
    }
   ],
   "source": [
    "print('Hay {} carros creados'.format(Car.opus))"
   ]
  },
  {
   "cell_type": "code",
   "execution_count": 24,
   "id": "fb956a5b-77dc-468c-bf03-a23921667ddf",
   "metadata": {},
   "outputs": [],
   "source": [
    "del car3"
   ]
  },
  {
   "cell_type": "code",
   "execution_count": 25,
   "id": "02011c21-020f-41d7-903d-653d97595a65",
   "metadata": {},
   "outputs": [
    {
     "name": "stdout",
     "output_type": "stream",
     "text": [
      "Hay 2 carros creados\n"
     ]
    }
   ],
   "source": [
    "print('Hay {} carros creados'.format(Car.opus))"
   ]
  },
  {
   "cell_type": "markdown",
   "id": "b8a1e4d7-8efb-484f-b035-899e34cf3bad",
   "metadata": {},
   "source": [
    "# Herencia"
   ]
  },
  {
   "cell_type": "code",
   "execution_count": 39,
   "id": "f5e40b1a-7f2e-4fd9-8967-dc01af082c15",
   "metadata": {},
   "outputs": [],
   "source": [
    "class Padre:\n",
    "    atributoPadre = 'Soy atributo de la clase padre'\n",
    "    def __init__(self):\n",
    "        print('Iniciando la clase padre')\n",
    "    def metodoPadre(self):\n",
    "        print('Usando metodo padre')\n",
    "\n",
    "class Hijo(Padre):\n",
    "    atributoHijo = 'Soy atributo de la clase hijo'\n",
    "    def __init__(self):\n",
    "        print('Iniciando la clase hijo')\n",
    "    def metodoHijo(self):\n",
    "        print('Usando metodo hijo')\n",
    "\n",
    "class Nieta(Hijo):\n",
    "    atibutoNieta = 'Soy atibuto de la clasae nieta'\n",
    "    def __init__(self):\n",
    "        print('Iniciando la clase nieta')\n",
    "    def metodoNieta(self):\n",
    "        print('Usando metodo nieta')"
   ]
  },
  {
   "cell_type": "code",
   "execution_count": 31,
   "id": "223a9ba1-fa72-43f3-9cff-16e5737148bb",
   "metadata": {},
   "outputs": [
    {
     "name": "stdout",
     "output_type": "stream",
     "text": [
      "Iniciando la clase padre\n",
      "Soy atributo de la clase padre\n",
      "Usando metodo padre\n"
     ]
    }
   ],
   "source": [
    "padre = Padre()\n",
    "print(padre.atributoPadre)\n",
    "padre.metodoPadre()"
   ]
  },
  {
   "cell_type": "code",
   "execution_count": 33,
   "id": "a760522c-55c7-46a0-84f4-a74de09d9e9f",
   "metadata": {},
   "outputs": [
    {
     "name": "stdout",
     "output_type": "stream",
     "text": [
      "Iniciando la clase hijo\n",
      "Soy atributo de la clase padre\n",
      "Usando metodo padre\n",
      "Soy atributo de la clase hijo\n",
      "Usando metodo hijo\n"
     ]
    }
   ],
   "source": [
    "hijo = Hijo()\n",
    "print(hijo.atributoPadre)\n",
    "hijo.metodoPadre()\n",
    "\n",
    "print(hijo.atributoHijo)\n",
    "hijo.metodoHijo()"
   ]
  },
  {
   "cell_type": "code",
   "execution_count": 41,
   "id": "2598d7ce-5541-46d1-bc1f-dd1a4227c2d6",
   "metadata": {},
   "outputs": [
    {
     "name": "stdout",
     "output_type": "stream",
     "text": [
      "Iniciando la clase nieta\n",
      "Soy atributo de la clase padre\n",
      "Usando metodo padre\n",
      "\n",
      "\n",
      "Soy atributo de la clase hijo\n",
      "Usando metodo hijo\n",
      "\n",
      "\n",
      "Soy atibuto de la clasae nieta\n",
      "Usando metodo nieta\n"
     ]
    }
   ],
   "source": [
    "nieta = Nieta()\n",
    "print(nieta.atributoPadre)\n",
    "nieta.metodoPadre()\n",
    "print('\\n')\n",
    "print(nieta.atributoHijo)\n",
    "nieta.metodoHijo()\n",
    "print('\\n')\n",
    "print(nieta.atibutoNieta)\n",
    "nieta.metodoNieta()"
   ]
  }
 ],
 "metadata": {
  "kernelspec": {
   "display_name": "Python 3 (ipykernel)",
   "language": "python",
   "name": "python3"
  },
  "language_info": {
   "codemirror_mode": {
    "name": "ipython",
    "version": 3
   },
   "file_extension": ".py",
   "mimetype": "text/x-python",
   "name": "python",
   "nbconvert_exporter": "python",
   "pygments_lexer": "ipython3",
   "version": "3.12.1"
  }
 },
 "nbformat": 4,
 "nbformat_minor": 5
}
