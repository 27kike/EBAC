{
 "cells": [
  {
   "cell_type": "markdown",
   "id": "d681f35d",
   "metadata": {},
   "source": [
    "# Sets"
   ]
  },
  {
   "cell_type": "code",
   "execution_count": 8,
   "id": "3e80e5b3",
   "metadata": {},
   "outputs": [
    {
     "name": "stdout",
     "output_type": "stream",
     "text": [
      "<class 'set'>\n",
      "1\n",
      "{1}\n"
     ]
    }
   ],
   "source": [
    "mySet = set()\n",
    "mySet.add(1)\n",
    "print(type(mySet))\n",
    "print(len(mySet))\n",
    "print(mySet)"
   ]
  },
  {
   "cell_type": "code",
   "execution_count": 10,
   "id": "9111aff2",
   "metadata": {},
   "outputs": [
    {
     "name": "stdout",
     "output_type": "stream",
     "text": [
      "<class 'set'>\n",
      "4\n",
      "{1, 2, 3, 'python'}\n"
     ]
    }
   ],
   "source": [
    "mySet.update((2,3,\"python\"))\n",
    "print(type(mySet))\n",
    "print(len(mySet)) \n",
    "print(mySet)"
   ]
  },
  {
   "cell_type": "code",
   "execution_count": 11,
   "id": "544f46e9",
   "metadata": {},
   "outputs": [
    {
     "name": "stdout",
     "output_type": "stream",
     "text": [
      "<class 'set'>\n",
      "4\n",
      "{1, 2, 3, 'python'}\n"
     ]
    }
   ],
   "source": [
    "mySet.add(1)\n",
    "mySet.add(1)\n",
    "mySet.add(1)\n",
    "mySet.add(2)\n",
    "mySet.add(2)\n",
    "print(type(mySet))\n",
    "print(len(mySet)) \n",
    "print(mySet)"
   ]
  },
  {
   "cell_type": "code",
   "execution_count": 1,
   "id": "16c0abee",
   "metadata": {},
   "outputs": [
    {
     "name": "stdout",
     "output_type": "stream",
     "text": [
      "<class 'set'>\n",
      "1\n",
      "{1}\n"
     ]
    }
   ],
   "source": [
    "mySet = set()\n",
    "print(type(mySet))\n",
    "print(len(mySet)) \n",
    "print(mySet)"
   ]
  },
  {
   "cell_type": "markdown",
   "id": "b45aeb4a",
   "metadata": {},
   "source": [
    "### Métodos de sets"
   ]
  },
  {
   "cell_type": "markdown",
   "id": "3a26daa1",
   "metadata": {},
   "source": [
    "## add\n",
    "Sirve para agregar un elemento al set"
   ]
  },
  {
   "cell_type": "code",
   "execution_count": 5,
   "id": "11e15df8",
   "metadata": {},
   "outputs": [
    {
     "name": "stdout",
     "output_type": "stream",
     "text": [
      "<class 'set'>\n",
      "0\n",
      "set() \n",
      "\n",
      "<class 'set'>\n",
      "2\n",
      "{1, 2}\n"
     ]
    }
   ],
   "source": [
    "mySet = set()\n",
    "\n",
    "print(type(mySet))\n",
    "print(len(mySet)) \n",
    "print(mySet,\"\\n\")\n",
    "\n",
    "mySet.add(1)\n",
    "mySet.add(2)\n",
    "\n",
    "print(type(mySet))\n",
    "print(len(mySet)) \n",
    "print(mySet)"
   ]
  },
  {
   "cell_type": "markdown",
   "id": "ab831211",
   "metadata": {},
   "source": [
    "### clear\n",
    "Remueve todos los elementos del set"
   ]
  },
  {
   "cell_type": "code",
   "execution_count": 7,
   "id": "a30aed22",
   "metadata": {},
   "outputs": [
    {
     "name": "stdout",
     "output_type": "stream",
     "text": [
      "<class 'set'>\n",
      "2\n",
      "{1, 2} \n",
      "\n",
      "<class 'set'>\n",
      "0\n",
      "set()\n"
     ]
    }
   ],
   "source": [
    "print(type(mySet))\n",
    "print(len(mySet)) \n",
    "print(mySet,\"\\n\")\n",
    "\n",
    "mySet.clear()\n",
    "\n",
    "print(type(mySet))\n",
    "print(len(mySet)) \n",
    "print(mySet)"
   ]
  },
  {
   "cell_type": "markdown",
   "id": "68c094fd",
   "metadata": {},
   "source": [
    "### copy\n",
    "Copia los elemetos en un nuevo set"
   ]
  },
  {
   "cell_type": "code",
   "execution_count": 9,
   "id": "aa23a70b",
   "metadata": {},
   "outputs": [
    {
     "name": "stdout",
     "output_type": "stream",
     "text": [
      "<class 'set'>\n",
      "6\n",
      "{1, 2, 3, 4, 5, 6} \n",
      "\n",
      "<class 'set'>\n",
      "6\n",
      "{1, 2, 3, 4, 5, 6} \n",
      "\n"
     ]
    }
   ],
   "source": [
    "mySet = {1,2,3,4,5,6}\n",
    "mySet2 = mySet.copy()\n",
    "\n",
    "print(type(mySet))\n",
    "print(len(mySet)) \n",
    "print(mySet,\"\\n\")\n",
    "\n",
    "print(type(mySet2))\n",
    "print(len(mySet2)) \n",
    "print(mySet2,\"\\n\")"
   ]
  },
  {
   "cell_type": "markdown",
   "id": "f0c31a31",
   "metadata": {},
   "source": [
    "### difference\n",
    "Obtinene los valores presentes en el primer set y faltantes en el segundo set"
   ]
  },
  {
   "cell_type": "code",
   "execution_count": 12,
   "id": "f338d689",
   "metadata": {},
   "outputs": [
    {
     "name": "stdout",
     "output_type": "stream",
     "text": [
      "{0, 8, 3, 6}\n",
      "{2, 10, 7}\n"
     ]
    }
   ],
   "source": [
    "set1 = {1,3,4,8,6,0}\n",
    "set2 = {1,2,4,10,7}\n",
    "\n",
    "#Valores que hay en el set1 pero que no estan en set2\n",
    "print(set1.difference(set2))\n",
    "\n",
    "#Valores que hay en el set2 pero que no estan en set1\n",
    "print(set2.difference(set1))"
   ]
  },
  {
   "cell_type": "markdown",
   "id": "90a48b5f",
   "metadata": {},
   "source": [
    "### difference_update\n",
    "Conserva sólo los valores diferentes en el set solicitado y el que es mandado como parámetro"
   ]
  },
  {
   "cell_type": "code",
   "execution_count": 14,
   "id": "72c59a67",
   "metadata": {},
   "outputs": [
    {
     "name": "stdout",
     "output_type": "stream",
     "text": [
      "{0, 3, 6, 8}\n"
     ]
    }
   ],
   "source": [
    "set1 = {1,3,4,8,6,0}\n",
    "set2 = {1,2,4,10,7}\n",
    "set1.difference_update(set2)\n",
    "print(set1)"
   ]
  },
  {
   "cell_type": "code",
   "execution_count": 15,
   "id": "7e40ad44",
   "metadata": {},
   "outputs": [
    {
     "name": "stdout",
     "output_type": "stream",
     "text": [
      "{1, 2, 4, 7, 10}\n"
     ]
    }
   ],
   "source": [
    "set2.difference_update(set1)\n",
    "print(set2)"
   ]
  },
  {
   "cell_type": "markdown",
   "id": "af10dfbf",
   "metadata": {},
   "source": [
    "### discard\n",
    "Elimina un elemento del set si está presente"
   ]
  },
  {
   "cell_type": "code",
   "execution_count": 16,
   "id": "1990d6c2",
   "metadata": {},
   "outputs": [
    {
     "name": "stdout",
     "output_type": "stream",
     "text": [
      "{0, 1, 3, 4, 6, 8} \n",
      "\n",
      "{1, 3, 4, 6, 8}\n"
     ]
    }
   ],
   "source": [
    "set1 = {1,3,4,8,6,0}\n",
    "print(set1, \"\\n\")\n",
    "\n",
    "#No es importante que el elemento esté presente\n",
    "set1.discard(0)\n",
    "\n",
    "print(set1)"
   ]
  },
  {
   "cell_type": "markdown",
   "id": "470bd19a",
   "metadata": {},
   "source": [
    "### intersection\n",
    "Obtine los valores en común en dos set"
   ]
  },
  {
   "cell_type": "code",
   "execution_count": 17,
   "id": "8a8187c2",
   "metadata": {},
   "outputs": [
    {
     "name": "stdout",
     "output_type": "stream",
     "text": [
      "{2, 3, 4, 5, 6}\n"
     ]
    }
   ],
   "source": [
    "set1 = {2,3,4,5,6}\n",
    "set2 = {1,2,3,4,5,6}\n",
    "print(set1.intersection(set2))"
   ]
  },
  {
   "cell_type": "markdown",
   "id": "74301dd6",
   "metadata": {},
   "source": [
    "### intersection_update\n",
    "Obtine los valores en común y los asigna al set que llama el método"
   ]
  },
  {
   "cell_type": "code",
   "execution_count": 22,
   "id": "04017b4d",
   "metadata": {},
   "outputs": [
    {
     "name": "stdout",
     "output_type": "stream",
     "text": [
      "{2, 3, 4, 5, 6}\n"
     ]
    }
   ],
   "source": [
    "set1 = {2,3,4,5,6,10,33,25,-12,9}\n",
    "set2 = {1,2,3,4,5,6}\n",
    "set1.intersection_update(set2)\n",
    "print(set1)"
   ]
  },
  {
   "cell_type": "markdown",
   "id": "d27561cc",
   "metadata": {},
   "source": [
    "### isdisjoint\n",
    "True: Si no hay valores compartidos por ambos sets\n",
    "\n",
    "False: Si hay por lo menos un valor compartido por ambos sets"
   ]
  },
  {
   "cell_type": "code",
   "execution_count": 23,
   "id": "f2579f11",
   "metadata": {},
   "outputs": [
    {
     "name": "stdout",
     "output_type": "stream",
     "text": [
      "False\n"
     ]
    }
   ],
   "source": [
    "set1 = {0,-1}\n",
    "set2 = {1,2,3,4,5,6}\n",
    "\n",
    "print(set1.isdisjoint(set2))"
   ]
  },
  {
   "cell_type": "code",
   "execution_count": 24,
   "id": "306532b9",
   "metadata": {},
   "outputs": [
    {
     "name": "stdout",
     "output_type": "stream",
     "text": [
      "True\n"
     ]
    }
   ],
   "source": [
    "set1 = {0,-1}\n",
    "set2 = {1,2,3,4,5,6}\n",
    "\n",
    "print(set1.isdisjoint(set2))"
   ]
  },
  {
   "cell_type": "markdown",
   "id": "00fc1acc",
   "metadata": {},
   "source": [
    "### issubset\n",
    "True: Si todos los valores del set llamado están en el set pasado como parámetro"
   ]
  },
  {
   "cell_type": "code",
   "execution_count": 25,
   "id": "73ed367d",
   "metadata": {},
   "outputs": [
    {
     "name": "stdout",
     "output_type": "stream",
     "text": [
      "True\n"
     ]
    }
   ],
   "source": [
    "set1 = {1,8}\n",
    "set2 = {1,2,8}\n",
    "print(set1.issubset(set2))"
   ]
  },
  {
   "cell_type": "code",
   "execution_count": 27,
   "id": "3a0d72dd",
   "metadata": {},
   "outputs": [
    {
     "name": "stdout",
     "output_type": "stream",
     "text": [
      "False\n"
     ]
    }
   ],
   "source": [
    "set1 = {1,8,9}\n",
    "set2 = {1,2,8}\n",
    "print(set1.issubset(set2))"
   ]
  },
  {
   "cell_type": "markdown",
   "id": "22ca3495",
   "metadata": {},
   "source": [
    "### issuperset\n",
    "Opuesto a issubset\n",
    "\n",
    "Analiza si todos los valores del set pasado como parámetro están en el set llamado"
   ]
  },
  {
   "cell_type": "code",
   "execution_count": 28,
   "id": "36654991",
   "metadata": {},
   "outputs": [
    {
     "name": "stdout",
     "output_type": "stream",
     "text": [
      "True\n"
     ]
    }
   ],
   "source": [
    "set1 = {1,8}\n",
    "set2 = {1,2,8}\n",
    "\n",
    "print(set2.issuperset(set1))"
   ]
  },
  {
   "cell_type": "markdown",
   "id": "32900d35",
   "metadata": {},
   "source": [
    "### pop\n",
    "Elimina el primer elemento del set"
   ]
  },
  {
   "cell_type": "code",
   "execution_count": 29,
   "id": "3de140fc",
   "metadata": {},
   "outputs": [
    {
     "name": "stdout",
     "output_type": "stream",
     "text": [
      "8\n"
     ]
    }
   ],
   "source": [
    "set2 = {1,2,8}\n",
    "print(set2.pop())"
   ]
  },
  {
   "cell_type": "code",
   "execution_count": 30,
   "id": "f8771d95",
   "metadata": {},
   "outputs": [
    {
     "name": "stdout",
     "output_type": "stream",
     "text": [
      "1\n"
     ]
    }
   ],
   "source": [
    "print(set2.pop())"
   ]
  },
  {
   "cell_type": "code",
   "execution_count": 31,
   "id": "bb1ee76c",
   "metadata": {},
   "outputs": [
    {
     "name": "stdout",
     "output_type": "stream",
     "text": [
      "2\n"
     ]
    }
   ],
   "source": [
    "print(set2.pop())"
   ]
  },
  {
   "cell_type": "code",
   "execution_count": 32,
   "id": "11b46eb3",
   "metadata": {},
   "outputs": [
    {
     "ename": "KeyError",
     "evalue": "'pop from an empty set'",
     "output_type": "error",
     "traceback": [
      "\u001b[0;31m---------------------------------------------------------------------------\u001b[0m",
      "\u001b[0;31mKeyError\u001b[0m                                  Traceback (most recent call last)",
      "Cell \u001b[0;32mIn[32], line 1\u001b[0m\n\u001b[0;32m----> 1\u001b[0m \u001b[38;5;28mprint\u001b[39m(set2\u001b[38;5;241m.\u001b[39mpop())\n",
      "\u001b[0;31mKeyError\u001b[0m: 'pop from an empty set'"
     ]
    }
   ],
   "source": [
    "#Si el set está vacio da error\n",
    "print(set2.pop())"
   ]
  },
  {
   "cell_type": "markdown",
   "id": "6e5b0322",
   "metadata": {},
   "source": [
    "### remove\n",
    "Elimina el elemento como parámetro, sino se encuentrá dará error"
   ]
  },
  {
   "cell_type": "code",
   "execution_count": 35,
   "id": "e9ae4ed4",
   "metadata": {},
   "outputs": [
    {
     "name": "stdout",
     "output_type": "stream",
     "text": [
      "{8, 1}\n"
     ]
    }
   ],
   "source": [
    "set2 = {1,2,8}\n",
    "set2.remove(2)\n",
    "print(set2)"
   ]
  },
  {
   "cell_type": "code",
   "execution_count": 36,
   "id": "e1327755",
   "metadata": {},
   "outputs": [
    {
     "ename": "KeyError",
     "evalue": "9",
     "output_type": "error",
     "traceback": [
      "\u001b[0;31m---------------------------------------------------------------------------\u001b[0m",
      "\u001b[0;31mKeyError\u001b[0m                                  Traceback (most recent call last)",
      "Cell \u001b[0;32mIn[36], line 1\u001b[0m\n\u001b[0;32m----> 1\u001b[0m set2\u001b[38;5;241m.\u001b[39mremove(\u001b[38;5;241m9\u001b[39m)\n\u001b[1;32m      2\u001b[0m \u001b[38;5;28mprint\u001b[39m(set2)\n",
      "\u001b[0;31mKeyError\u001b[0m: 9"
     ]
    }
   ],
   "source": [
    "set2.remove(9)\n",
    "print(set2)"
   ]
  },
  {
   "cell_type": "markdown",
   "id": "6d437637",
   "metadata": {},
   "source": [
    "### union\n",
    "Combina 2 sets"
   ]
  },
  {
   "cell_type": "code",
   "execution_count": 37,
   "id": "f5129d1d",
   "metadata": {},
   "outputs": [
    {
     "name": "stdout",
     "output_type": "stream",
     "text": [
      "{1, 2, 3, 4, 6, 7}\n"
     ]
    }
   ],
   "source": [
    "set1 = {2,4,6}\n",
    "set2 = {1,3,7}\n",
    "set3 = set1.union(set2)\n",
    "print(set3)"
   ]
  },
  {
   "cell_type": "markdown",
   "id": "5262521f",
   "metadata": {},
   "source": [
    "### update\n",
    "añade los valores del set pasado como parámetro al set llamado"
   ]
  },
  {
   "cell_type": "code",
   "execution_count": 38,
   "id": "8626fb94",
   "metadata": {},
   "outputs": [
    {
     "name": "stdout",
     "output_type": "stream",
     "text": [
      "{1, 2, 3, 4, 6, 7}\n"
     ]
    }
   ],
   "source": [
    "set1 = {2,4,6}\n",
    "set2 = {1,3,7}\n",
    "set1.update(set2)\n",
    "print(set1)"
   ]
  },
  {
   "cell_type": "markdown",
   "id": "1af52ddf",
   "metadata": {},
   "source": [
    "### symmetric_difference\n",
    "Obtiene las diferencias en ambos sets"
   ]
  },
  {
   "cell_type": "code",
   "execution_count": 40,
   "id": "bb177a71",
   "metadata": {},
   "outputs": [
    {
     "name": "stdout",
     "output_type": "stream",
     "text": [
      "{1, 2, 3, 4, 6, 7}\n"
     ]
    }
   ],
   "source": [
    "set1 = {2,4,6}\n",
    "set2 = {1,3,7}\n",
    "\n",
    "print(set1.symmetric_difference(set2))"
   ]
  },
  {
   "cell_type": "markdown",
   "id": "884cd602",
   "metadata": {},
   "source": [
    "### symmetric_difference_update\n",
    "Obtiene las diferencias de ambos sets y asigna los valores al set llamado"
   ]
  },
  {
   "cell_type": "code",
   "execution_count": 41,
   "id": "6be23d62",
   "metadata": {},
   "outputs": [
    {
     "name": "stdout",
     "output_type": "stream",
     "text": [
      "{1, 2, 3, 4, 6, 7}\n"
     ]
    }
   ],
   "source": [
    "set1 = {2,4,6}\n",
    "set2 = {1,3,7}\n",
    "\n",
    "set1.symmetric_difference_update(set2)\n",
    "print(set1)"
   ]
  },
  {
   "cell_type": "markdown",
   "id": "4c7a2dd5",
   "metadata": {},
   "source": [
    "# Conversión de Sets"
   ]
  },
  {
   "cell_type": "markdown",
   "id": "82a8f784",
   "metadata": {},
   "source": [
    "## String a set"
   ]
  },
  {
   "cell_type": "code",
   "execution_count": 1,
   "id": "51e85bf6",
   "metadata": {},
   "outputs": [
    {
     "name": "stdout",
     "output_type": "stream",
     "text": [
      "Backend Python\n",
      "set()\n",
      "{'B', 'n', 't', 'y', 'k', 'e', 'h', 'd', ' ', 'P', 'o', 'a', 'c'}\n"
     ]
    }
   ],
   "source": [
    "frase = 'Backend Python'\n",
    "set1 = set()\n",
    "\n",
    "print(frase)\n",
    "print(set1)\n",
    "\n",
    "set1 = set(frase)\n",
    "print(set1)"
   ]
  },
  {
   "cell_type": "markdown",
   "id": "44d8c14c",
   "metadata": {},
   "source": [
    "## lista a set"
   ]
  },
  {
   "cell_type": "code",
   "execution_count": 2,
   "id": "e51b7ef4",
   "metadata": {},
   "outputs": [
    {
     "name": "stdout",
     "output_type": "stream",
     "text": [
      "[1, 2, 2, 3, 3, 3, 4, 4, 4, 4, 5, 5, 5, 5, 5]\n",
      "set()\n",
      "{1, 2, 3, 4, 5}\n"
     ]
    }
   ],
   "source": [
    "lista = [1,2,2,3,3,3,4,4,4,4,5,5,5,5,5]\n",
    "set1 = set()\n",
    "\n",
    "print(lista)\n",
    "print(set1)\n",
    "\n",
    "set1 = set(lista)\n",
    "print(set1)"
   ]
  },
  {
   "cell_type": "markdown",
   "id": "d9e3fbda",
   "metadata": {},
   "source": [
    "## tupla a set"
   ]
  },
  {
   "cell_type": "code",
   "execution_count": 3,
   "id": "73b0b427",
   "metadata": {},
   "outputs": [
    {
     "name": "stdout",
     "output_type": "stream",
     "text": [
      "(1, 2, 2, 3, 3, 3, 4, 4, 4, 4, 5, 5, 5, 5, 5)\n",
      "set()\n",
      "{1, 2, 3, 4, 5}\n"
     ]
    }
   ],
   "source": [
    "tupla = 1,2,2,3,3,3,4,4,4,4,5,5,5,5,5\n",
    "set1 = set()\n",
    "\n",
    "print(tupla)\n",
    "print(set1)\n",
    "\n",
    "set1 = set(tupla)\n",
    "print(set1)"
   ]
  },
  {
   "cell_type": "markdown",
   "id": "8e1e5595",
   "metadata": {},
   "source": [
    "## set a string"
   ]
  },
  {
   "cell_type": "code",
   "execution_count": 8,
   "id": "1ab96dfd",
   "metadata": {},
   "outputs": [
    {
     "name": "stdout",
     "output_type": "stream",
     "text": [
      "{'B', 't', 'n', 'y', 'k', 'e', 'h', 'd', ' ', 'P', 'o', 'a', 'c'}\n",
      "\n",
      "Btnykehd Poac\n"
     ]
    }
   ],
   "source": [
    "set1 = {'B', 'n', 't', 'y', 'k', 'e', 'h', 'd', ' ', 'P', 'o', 'a', 'c'}\n",
    "string = ''\n",
    "\n",
    "print(set1)\n",
    "print(string)\n",
    "\n",
    "string = \"\".join(set1)\n",
    "print(string)\n"
   ]
  },
  {
   "cell_type": "markdown",
   "id": "c720e686",
   "metadata": {},
   "source": [
    "## set a lista"
   ]
  },
  {
   "cell_type": "code",
   "execution_count": 9,
   "id": "feafd6ec",
   "metadata": {},
   "outputs": [
    {
     "name": "stdout",
     "output_type": "stream",
     "text": [
      "{1, 2, 3, 4, 5}\n",
      "[]\n",
      "[1, 2, 3, 4, 5]\n"
     ]
    }
   ],
   "source": [
    "set1 = {1, 2, 3, 4, 5}\n",
    "lista = []\n",
    "\n",
    "print(set1)\n",
    "print(lista)\n",
    "\n",
    "lista = list(set1)\n",
    "print(lista)"
   ]
  },
  {
   "cell_type": "markdown",
   "id": "2685f65d",
   "metadata": {},
   "source": [
    "## set a tupla"
   ]
  },
  {
   "cell_type": "code",
   "execution_count": 10,
   "id": "c57c9b44",
   "metadata": {},
   "outputs": [
    {
     "name": "stdout",
     "output_type": "stream",
     "text": [
      "{1, 2, 3, 4, 5}\n",
      "()\n",
      "(1, 2, 3, 4, 5)\n"
     ]
    }
   ],
   "source": [
    "set1 = {1, 2, 3, 4, 5}\n",
    "tupla = ()\n",
    "\n",
    "print(set1)\n",
    "print(tupla)\n",
    "\n",
    "tupla = tuple(set1)\n",
    "print(tupla)"
   ]
  }
 ],
 "metadata": {
  "kernelspec": {
   "display_name": "Python 3 (ipykernel)",
   "language": "python",
   "name": "python3"
  },
  "language_info": {
   "codemirror_mode": {
    "name": "ipython",
    "version": 3
   },
   "file_extension": ".py",
   "mimetype": "text/x-python",
   "name": "python",
   "nbconvert_exporter": "python",
   "pygments_lexer": "ipython3",
   "version": "3.11.4"
  }
 },
 "nbformat": 4,
 "nbformat_minor": 5
}
