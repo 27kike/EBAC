{
 "cells": [
  {
   "cell_type": "code",
   "execution_count": 2,
   "id": "a7d71ec7",
   "metadata": {},
   "outputs": [
    {
     "name": "stdout",
     "output_type": "stream",
     "text": [
      "{'BB6B', 'DDD9', 'C77C', 'D2DD', '1A11', '00BB', '0C0C', '4A4A', '9BBB', 'BB99', '11BB', '8BB8', 'AA11', 'B7BB', 'A55A', '6BB6', '9B9B', '55A5', '9DD9', 'AAA2', 'DDD6', '555A', 'C666', 'B7B7', '99AA', 'BB00', '5BB5', 'D9D9', '5A5A', '7B7B', 'B222', '666D', '44D4', 'C222', '1CC1', 'D11D', '4DDD', 'A4A4', 'AA77', 'AAA1', '2A22', '7C77', '888B', 'D5DD', '9AAA', '8888', 'CC0C', 'A0A0', '3CC3', 'AA1A', 'C1C1', 'BB3B', 'BBB3', 'D2D2', '7CCC', '0D00', 'D444', 'C5C5', '1A1A', '66A6', 'DD00', 'C33C', 'D1D1', '4A44', '666B', '7C7C', '4CC4', '777D', '2B22', '88C8', 'C88C', 'A00A', '66B6', 'BB11', '6C66', '33B3', '55CC', '6DD6', 'BBB8', 'B999', 'AAAA', '6BBB', '99DD', 'D777', '3CCC', 'CC66', 'D333', 'DD11', '0D0D', '0000', '33BB', 'D00D', 'C4CC', '3AAA', '999C', '22B2', 'D7D7', 'B4BB', '3333', 'D66D', '4BB4', 'D77D', '77C7', 'C2CC', 'AAA6', 'B888', 'D99D', 'DD9D', 'D55D', 'C9C9', 'AA44', 'B55B', '00CC', 'AA99', '7DD7', '55D5', '2C2C', 'A11A', '7BBB', '77CC', '55B5', 'B8BB', 'A666', 'D22D', 'C0C0', '88AA', 'A2AA', 'D0DD', 'AA6A', '3C33', '000B', 'CCCC', 'C888', 'A5AA', 'B00B', '7A7A', '4BBB', '9DDD', 'C111', 'BB2B', '888D', 'A444', '2AAA', 'AAA7', 'AA00', '1BBB', 'C000', '999D', 'DD3D', '3BB3', 'BB55', '5D55', '22AA', 'B5B5', 'A4AA', '4CCC', '6B66', '11C1', '1AAA', '9B99', 'D111', 'DD8D', 'A0AA', '66DD', 'AA0A', 'AA4A', 'DD66', '1C11', '2DDD', 'D6D6', 'A777', '8AAA', 'A44A', '444C', 'B5BB', 'BBB5', 'A222', 'D88D', 'D999', 'C555', '5BBB', '00B0', '2D22', '0B00', 'A000', 'AA5A', 'BB66', '0AAA', '3DDD', '5CCC', '0BB0', '4D44', 'A6A6', '1CCC', 'B2B2', '1B1B', '3B33', '999B', '99CC', 'BB1B', '888A', '88BB', 'BB8B', '00DD', 'C3CC', 'CCC1', '88D8', '5DD5', '44B4', '333D', '5555', '11B1', 'DD55', '333C', 'B11B', '4B44', '5D5D', '5A55', 'DDD1', '88CC', 'D33D', 'C2C2', 'B33B', '00D0', 'AA3A', 'B3BB', 'B1BB', '7AA7', 'D888', '44BB', '2222', 'B3B3', '0B0B', 'BB22', 'C55C', '6D66', '44C4', '5AA5', 'A999', '44DD', 'DD22', '666A', '2CC2', 'C0CC', 'A3AA', '0BBB', 'CC3C', 'B333', 'BB0B', 'CC77', 'DDD0', 'A88A', 'B111', 'D000', 'D7DD', '7CC7', '3A33', '11D1', 'A7AA', 'B2BB', 'C999', '9D99', 'AAA4', '33AA', 'BB77', 'C7C7', '1C1C', 'CC8C', '8BBB', '444D', 'B9BB', '8DDD', 'CC5C', '4444', '11AA', 'CC9C', '99C9', '2BB2', 'CC2C', 'A111', 'C11C', '6666', 'CC88', '99D9', 'B0B0', 'B99B', 'DDD4', '2AA2', 'C7CC', '11DD', 'A99A', '8B88', 'CCC6', 'A6AA', '9D9D', '88B8', 'A66A', 'B44B', 'BBB0', 'CC44', '7D77', '22CC', '44CC', '33CC', 'BBB6', 'AA88', 'D1DD', 'B9B9', 'CC99', 'DD88', 'BB88', '44A4', '8AA8', '00AA', '1D11', '1B11', 'D4D4', 'BB7B', '1BB1', 'BBBB', 'BB5B', '22BB', 'BB44', '6CCC', 'CCC3', 'DD99', 'A1A1', '333B', '3D33', 'BB9B', '7B77', '3AA3', 'B6BB', 'A22A', 'B8B8', '6DDD', '3BBB', '66C6', '5C5C', '777B', '6B6B', 'D44D', '0DD0', 'B444', '4DD4', '9AA9', 'CC00', '6CC6', '33DD', '7AAA', 'CC22', 'A5A5', 'BB4B', '4AA4', '999A', '0DDD', '8D88', '2BBB', 'B66B', 'C333', '99A9', '77B7', '99B9', '1111', '8CC8', 'CC4C', '4B4B', 'DD5D', '7D7D', 'CC33', 'C4C4', '2D2D', 'BBB1', 'C3C3', '77A7', '1AA1', '777C', '66CC', 'DD0D', 'C00C', '666C', 'A9A9', '2DD2', 'AAA5', '3B3B', '55BB', 'DD44', 'C5CC', 'AA66', 'CC7C', 'BBB7', '88A8', 'BBB9', '77AA', 'C6CC', 'C777', '0A00', 'B4B4', 'DD2D', '7BB7', 'B000', '5CC5', '33C3', 'AAA9', '111D', 'AA33', '3C3C', 'C8CC', '222A', 'A8AA', '22D2', '111B', 'A3A3', 'C8C8', '4AAA', '6D6D', 'AA22', '33A3', 'B666', '0A0A', 'D8D8', '8D8D', 'A1AA', '555C', 'C6C6', 'D4DD', 'A333', 'D8DD', '000A', '9C99', 'A555', '7A77', '9A9A', 'B0BB', 'C444', '3A3A', 'AA8A', '555B', '5B55', '66D6', '55AA', 'C22C', 'DDD7', 'B1B1', 'D666', 'DD7D', '6A6A', 'A2A2', 'CC55', 'D5D5', 'D3D3', '8CCC', '22C2', 'D3DD', '0C00', 'BBB4', '0CCC', '5DDD', 'D222', '33D3', '55C5', 'CCC4', 'DDD3', 'BB33', 'AA7A', 'C99C', '111A', '777A', 'B77B', '222D', 'BBB2', '6A66', '3D3D', 'AA2A', 'CCC5', 'CC6C', '9BB9', '11A1', '6C6C', '4C4C', '444B', 'CCC0', '444A', '8DD8', 'A7A7', 'D6DD', 'CC11', '66AA', '5B5B', '5C55', '000C', 'CCC7', '9CC9', '555D', 'B555', 'A8A8', 'CCC8', 'AAA0', 'CC1C', '9999', 'A888', '111C', '88DD', 'B6B6', 'DDDD', 'DDD5', 'A9AA', '222C', 'A77A', '1DDD', '77DD', '8C8C', '44AA', '222B', 'AAA8', '2A2A', '8C88', 'DD4D', '9CCC', '8B8B', 'AA9A', '6AAA', '0AA0', '22A2', '9A99', '4D4D', 'A33A', 'B88B', '2CCC', '888C', '55DD', '6AA6', 'DD1D', 'D555', '0CC0', 'CCC9', 'DD6D', 'DD77', '00A0', '00C0', '22DD', 'C9CC', '8A88', '8A8A', '2B2B', '11CC', '000D', '5AAA', '2C22', 'CCC2', 'AA55', '1DD1', 'D9DD', 'DDD8', '99BB', 'C44C', '9C9C', 'DD33', 'C1CC', 'B22B', 'C66C', 'AAA3', '3DD3', 'B777', '7DDD', '77BB', '7777', '77D7', 'D0D0', '66BB', 'DDD2', '1D1D', '4C44', '333A'}\n"
     ]
    }
   ],
   "source": [
    "numbers = ['0', '1', '2', '3', '4', '5', '6', '7', '8', '9']\n",
    "letters = ['A', 'B', 'C', 'D']\n",
    "unique_combinations = set() \n",
    "for number in numbers:    \n",
    "    for letter in letters:        \n",
    "        unique_combinations.add(\"{}{}{}{}\".format(number,number,number,number))        \n",
    "        unique_combinations.add(\"{}{}{}{}\".format(number,number,number,letter))        \n",
    "        unique_combinations.add(\"{}{}{}{}\".format(number,number,letter,number))        \n",
    "        unique_combinations.add(\"{}{}{}{}\".format(number,number,letter,letter))        \n",
    "        unique_combinations.add(\"{}{}{}{}\".format(number,letter,number,number))        \n",
    "        unique_combinations.add(\"{}{}{}{}\".format(number,letter,number,letter))        \n",
    "        unique_combinations.add(\"{}{}{}{}\".format(number,letter,letter,number))        \n",
    "        unique_combinations.add(\"{}{}{}{}\".format(number,letter,letter,letter)) \n",
    "        unique_combinations.add(\"{}{}{}{}\".format(letter,number,number,number))        \n",
    "        unique_combinations.add(\"{}{}{}{}\".format(letter,number,number,letter))        \n",
    "        unique_combinations.add(\"{}{}{}{}\".format(letter,number,letter,number))        \n",
    "        unique_combinations.add(\"{}{}{}{}\".format(letter,number,letter,letter))        \n",
    "        unique_combinations.add(\"{}{}{}{}\".format(letter,letter,number,number))        \n",
    "        unique_combinations.add(\"{}{}{}{}\".format(letter,letter,number,letter))        \n",
    "        unique_combinations.add(\"{}{}{}{}\".format(letter,letter,letter,number))        \n",
    "        unique_combinations.add(\"{}{}{}{}\".format(letter,letter,letter,letter))\n",
    "print(unique_combinations)"
   ]
  },
  {
   "cell_type": "code",
   "execution_count": null,
   "id": "d9cccbfd",
   "metadata": {},
   "outputs": [],
   "source": []
  }
 ],
 "metadata": {
  "kernelspec": {
   "display_name": "Python 3 (ipykernel)",
   "language": "python",
   "name": "python3"
  },
  "language_info": {
   "codemirror_mode": {
    "name": "ipython",
    "version": 3
   },
   "file_extension": ".py",
   "mimetype": "text/x-python",
   "name": "python",
   "nbconvert_exporter": "python",
   "pygments_lexer": "ipython3",
   "version": "3.11.4"
  }
 },
 "nbformat": 4,
 "nbformat_minor": 5
}
